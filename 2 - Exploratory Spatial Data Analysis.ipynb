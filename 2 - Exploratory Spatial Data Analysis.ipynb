{
 "cells": [
  {
   "cell_type": "code",
   "execution_count": 1,
   "metadata": {},
   "outputs": [],
   "source": [
    "import numpy as np\n",
    "import pandas as pd\n",
    "import geopandas as gpd\n",
    "import matplotlib.pyplot as plt\n",
    "\n",
    "import os"
   ]
  },
  {
   "cell_type": "markdown",
   "metadata": {},
   "source": [
    "## Geographical Data"
   ]
  },
  {
   "cell_type": "code",
   "execution_count": 2,
   "metadata": {},
   "outputs": [
    {
     "data": {
      "text/plain": [
       "['Roads in ARMM (OSM 2019)', 'SchoolsARMMDEPED2017']"
      ]
     },
     "execution_count": 2,
     "metadata": {},
     "output_type": "execute_result"
    }
   ],
   "source": [
    "GEODATA_PATH = 'data/geodata/'\n",
    "os.listdir(GEODATA_PATH)"
   ]
  },
  {
   "cell_type": "code",
   "execution_count": 3,
   "metadata": {},
   "outputs": [
    {
     "data": {
      "text/html": [
       "<div>\n",
       "<style scoped>\n",
       "    .dataframe tbody tr th:only-of-type {\n",
       "        vertical-align: middle;\n",
       "    }\n",
       "\n",
       "    .dataframe tbody tr th {\n",
       "        vertical-align: top;\n",
       "    }\n",
       "\n",
       "    .dataframe thead th {\n",
       "        text-align: right;\n",
       "    }\n",
       "</style>\n",
       "<table border=\"1\" class=\"dataframe\">\n",
       "  <thead>\n",
       "    <tr style=\"text-align: right;\">\n",
       "      <th></th>\n",
       "      <th>osm_id</th>\n",
       "      <th>code</th>\n",
       "      <th>fclass</th>\n",
       "      <th>name</th>\n",
       "      <th>ref</th>\n",
       "      <th>oneway</th>\n",
       "      <th>maxspeed</th>\n",
       "      <th>layer</th>\n",
       "      <th>bridge</th>\n",
       "      <th>tunnel</th>\n",
       "      <th>geometry</th>\n",
       "    </tr>\n",
       "  </thead>\n",
       "  <tbody>\n",
       "    <tr>\n",
       "      <th>0</th>\n",
       "      <td>210935215</td>\n",
       "      <td>5113</td>\n",
       "      <td>primary</td>\n",
       "      <td>None</td>\n",
       "      <td>None</td>\n",
       "      <td>B</td>\n",
       "      <td>0</td>\n",
       "      <td>0</td>\n",
       "      <td>F</td>\n",
       "      <td>F</td>\n",
       "      <td>LINESTRING (122.27089 6.64083, 122.27119 6.640...</td>\n",
       "    </tr>\n",
       "    <tr>\n",
       "      <th>1</th>\n",
       "      <td>210935219</td>\n",
       "      <td>5113</td>\n",
       "      <td>primary</td>\n",
       "      <td>None</td>\n",
       "      <td>None</td>\n",
       "      <td>B</td>\n",
       "      <td>0</td>\n",
       "      <td>0</td>\n",
       "      <td>F</td>\n",
       "      <td>F</td>\n",
       "      <td>LINESTRING (122.11945 6.50060, 122.11907 6.501...</td>\n",
       "    </tr>\n",
       "    <tr>\n",
       "      <th>2</th>\n",
       "      <td>210935220</td>\n",
       "      <td>5142</td>\n",
       "      <td>track</td>\n",
       "      <td>None</td>\n",
       "      <td>None</td>\n",
       "      <td>B</td>\n",
       "      <td>0</td>\n",
       "      <td>0</td>\n",
       "      <td>F</td>\n",
       "      <td>F</td>\n",
       "      <td>LINESTRING (122.14195 6.63450, 122.14231 6.634...</td>\n",
       "    </tr>\n",
       "    <tr>\n",
       "      <th>3</th>\n",
       "      <td>210935221</td>\n",
       "      <td>5142</td>\n",
       "      <td>track</td>\n",
       "      <td>None</td>\n",
       "      <td>None</td>\n",
       "      <td>B</td>\n",
       "      <td>0</td>\n",
       "      <td>0</td>\n",
       "      <td>F</td>\n",
       "      <td>F</td>\n",
       "      <td>LINESTRING (122.16074 6.63023, 122.16049 6.629...</td>\n",
       "    </tr>\n",
       "    <tr>\n",
       "      <th>4</th>\n",
       "      <td>210935223</td>\n",
       "      <td>5142</td>\n",
       "      <td>track</td>\n",
       "      <td>None</td>\n",
       "      <td>None</td>\n",
       "      <td>B</td>\n",
       "      <td>0</td>\n",
       "      <td>0</td>\n",
       "      <td>F</td>\n",
       "      <td>F</td>\n",
       "      <td>LINESTRING (122.22433 6.65494, 122.22405 6.655...</td>\n",
       "    </tr>\n",
       "  </tbody>\n",
       "</table>\n",
       "</div>"
      ],
      "text/plain": [
       "      osm_id  code   fclass  name   ref oneway  maxspeed  layer bridge tunnel  \\\n",
       "0  210935215  5113  primary  None  None      B         0      0      F      F   \n",
       "1  210935219  5113  primary  None  None      B         0      0      F      F   \n",
       "2  210935220  5142    track  None  None      B         0      0      F      F   \n",
       "3  210935221  5142    track  None  None      B         0      0      F      F   \n",
       "4  210935223  5142    track  None  None      B         0      0      F      F   \n",
       "\n",
       "                                            geometry  \n",
       "0  LINESTRING (122.27089 6.64083, 122.27119 6.640...  \n",
       "1  LINESTRING (122.11945 6.50060, 122.11907 6.501...  \n",
       "2  LINESTRING (122.14195 6.63450, 122.14231 6.634...  \n",
       "3  LINESTRING (122.16074 6.63023, 122.16049 6.629...  \n",
       "4  LINESTRING (122.22433 6.65494, 122.22405 6.655...  "
      ]
     },
     "execution_count": 3,
     "metadata": {},
     "output_type": "execute_result"
    }
   ],
   "source": [
    "roads_geodata = gpd.read_file(GEODATA_PATH+'Roads in ARMM (OSM 2019)/InfraRoadsARMMOSM2019.shp')\n",
    "roads_geodata.head()"
   ]
  },
  {
   "cell_type": "code",
   "execution_count": 4,
   "metadata": {},
   "outputs": [
    {
     "data": {
      "text/html": [
       "<div>\n",
       "<style scoped>\n",
       "    .dataframe tbody tr th:only-of-type {\n",
       "        vertical-align: middle;\n",
       "    }\n",
       "\n",
       "    .dataframe tbody tr th {\n",
       "        vertical-align: top;\n",
       "    }\n",
       "\n",
       "    .dataframe thead th {\n",
       "        text-align: right;\n",
       "    }\n",
       "</style>\n",
       "<table border=\"1\" class=\"dataframe\">\n",
       "  <thead>\n",
       "    <tr style=\"text-align: right;\">\n",
       "      <th></th>\n",
       "      <th>code</th>\n",
       "      <th>maxspeed</th>\n",
       "      <th>layer</th>\n",
       "    </tr>\n",
       "  </thead>\n",
       "  <tbody>\n",
       "    <tr>\n",
       "      <th>count</th>\n",
       "      <td>6573.000000</td>\n",
       "      <td>6573.000000</td>\n",
       "      <td>6573.000000</td>\n",
       "    </tr>\n",
       "    <tr>\n",
       "      <th>mean</th>\n",
       "      <td>5125.432375</td>\n",
       "      <td>0.896090</td>\n",
       "      <td>0.033622</td>\n",
       "    </tr>\n",
       "    <tr>\n",
       "      <th>std</th>\n",
       "      <td>11.113406</td>\n",
       "      <td>8.284191</td>\n",
       "      <td>0.180269</td>\n",
       "    </tr>\n",
       "    <tr>\n",
       "      <th>min</th>\n",
       "      <td>5112.000000</td>\n",
       "      <td>0.000000</td>\n",
       "      <td>0.000000</td>\n",
       "    </tr>\n",
       "    <tr>\n",
       "      <th>25%</th>\n",
       "      <td>5121.000000</td>\n",
       "      <td>0.000000</td>\n",
       "      <td>0.000000</td>\n",
       "    </tr>\n",
       "    <tr>\n",
       "      <th>50%</th>\n",
       "      <td>5122.000000</td>\n",
       "      <td>0.000000</td>\n",
       "      <td>0.000000</td>\n",
       "    </tr>\n",
       "    <tr>\n",
       "      <th>75%</th>\n",
       "      <td>5122.000000</td>\n",
       "      <td>0.000000</td>\n",
       "      <td>0.000000</td>\n",
       "    </tr>\n",
       "    <tr>\n",
       "      <th>max</th>\n",
       "      <td>5199.000000</td>\n",
       "      <td>100.000000</td>\n",
       "      <td>1.000000</td>\n",
       "    </tr>\n",
       "  </tbody>\n",
       "</table>\n",
       "</div>"
      ],
      "text/plain": [
       "              code     maxspeed        layer\n",
       "count  6573.000000  6573.000000  6573.000000\n",
       "mean   5125.432375     0.896090     0.033622\n",
       "std      11.113406     8.284191     0.180269\n",
       "min    5112.000000     0.000000     0.000000\n",
       "25%    5121.000000     0.000000     0.000000\n",
       "50%    5122.000000     0.000000     0.000000\n",
       "75%    5122.000000     0.000000     0.000000\n",
       "max    5199.000000   100.000000     1.000000"
      ]
     },
     "execution_count": 4,
     "metadata": {},
     "output_type": "execute_result"
    }
   ],
   "source": [
    "roads_geodata.describe()"
   ]
  },
  {
   "cell_type": "code",
   "execution_count": 5,
   "metadata": {},
   "outputs": [
    {
     "data": {
      "text/plain": [
       "osm_id         0\n",
       "code           0\n",
       "fclass         0\n",
       "name        6191\n",
       "ref         6390\n",
       "oneway         0\n",
       "maxspeed       0\n",
       "layer          0\n",
       "bridge         0\n",
       "tunnel         0\n",
       "geometry       0\n",
       "dtype: int64"
      ]
     },
     "execution_count": 5,
     "metadata": {},
     "output_type": "execute_result"
    }
   ],
   "source": [
    "roads_geodata.isna().sum()"
   ]
  },
  {
   "cell_type": "code",
   "execution_count": 6,
   "metadata": {},
   "outputs": [
    {
     "data": {
      "image/png": "[encoded data removed]",
      "text/plain": [
       "<Figure size 864x864 with 1 Axes>"
      ]
     },
     "metadata": {
      "needs_background": "light"
     },
     "output_type": "display_data"
    }
   ],
   "source": [
    "f, ax = plt.subplots(1, figsize=(12, 12))\n",
    "ax = roads_geodata.plot(column=\"code\", ax=ax)\n",
    "plt.show()"
   ]
  },
  {
   "cell_type": "code",
   "execution_count": 7,
   "metadata": {},
   "outputs": [
    {
     "data": {
      "text/html": [
       "<div>\n",
       "<style scoped>\n",
       "    .dataframe tbody tr th:only-of-type {\n",
       "        vertical-align: middle;\n",
       "    }\n",
       "\n",
       "    .dataframe tbody tr th {\n",
       "        vertical-align: top;\n",
       "    }\n",
       "\n",
       "    .dataframe thead th {\n",
       "        text-align: right;\n",
       "    }\n",
       "</style>\n",
       "<table border=\"1\" class=\"dataframe\">\n",
       "  <thead>\n",
       "    <tr style=\"text-align: right;\">\n",
       "      <th></th>\n",
       "      <th>SCH_ID</th>\n",
       "      <th>SCH_NAME</th>\n",
       "      <th>SCH_CAT</th>\n",
       "      <th>SCH_TYPE</th>\n",
       "      <th>LAT</th>\n",
       "      <th>LONG</th>\n",
       "      <th>BARANGAY</th>\n",
       "      <th>MUNNAME</th>\n",
       "      <th>PROV</th>\n",
       "      <th>PSGC_MUNI</th>\n",
       "      <th>PSGC_BRGY</th>\n",
       "      <th>PSGC_PROV</th>\n",
       "      <th>geometry</th>\n",
       "    </tr>\n",
       "  </thead>\n",
       "  <tbody>\n",
       "    <tr>\n",
       "      <th>0</th>\n",
       "      <td>133049</td>\n",
       "      <td>Abong-Abong ES</td>\n",
       "      <td>ES</td>\n",
       "      <td>Public</td>\n",
       "      <td>6.507703</td>\n",
       "      <td>121.910937</td>\n",
       "      <td>Abong-Abong</td>\n",
       "      <td>Maluso</td>\n",
       "      <td>BASILAN</td>\n",
       "      <td>PH150704000</td>\n",
       "      <td>PH150704001</td>\n",
       "      <td>PH150700000</td>\n",
       "      <td>POINT (121.91094 6.50770)</td>\n",
       "    </tr>\n",
       "    <tr>\n",
       "      <th>1</th>\n",
       "      <td>215015</td>\n",
       "      <td>Akbar ES</td>\n",
       "      <td>ES</td>\n",
       "      <td>Public</td>\n",
       "      <td>6.664125</td>\n",
       "      <td>122.195725</td>\n",
       "      <td>Upper Bato-Bato</td>\n",
       "      <td>Akbar</td>\n",
       "      <td>BASILAN</td>\n",
       "      <td>PH150708000</td>\n",
       "      <td>PH150708008</td>\n",
       "      <td>PH150700000</td>\n",
       "      <td>POINT (122.19572 6.66413)</td>\n",
       "    </tr>\n",
       "    <tr>\n",
       "      <th>2</th>\n",
       "      <td>133154</td>\n",
       "      <td>Amaloy ES</td>\n",
       "      <td>ES</td>\n",
       "      <td>Public</td>\n",
       "      <td>6.443614</td>\n",
       "      <td>122.126717</td>\n",
       "      <td>Amaloy</td>\n",
       "      <td>Ungkaya Pukan</td>\n",
       "      <td>BASILAN</td>\n",
       "      <td>PH150711000</td>\n",
       "      <td>PH150711001</td>\n",
       "      <td>PH150700000</td>\n",
       "      <td>POINT (122.12672 6.44361)</td>\n",
       "    </tr>\n",
       "    <tr>\n",
       "      <th>3</th>\n",
       "      <td>133023</td>\n",
       "      <td>Atong-Atong ES</td>\n",
       "      <td>ES</td>\n",
       "      <td>Public</td>\n",
       "      <td>6.660000</td>\n",
       "      <td>121.899633</td>\n",
       "      <td>Atong-Atong</td>\n",
       "      <td>Lantawan</td>\n",
       "      <td>BASILAN</td>\n",
       "      <td>PH150703000</td>\n",
       "      <td>PH150703001</td>\n",
       "      <td>PH150700000</td>\n",
       "      <td>POINT (121.89963 6.66000)</td>\n",
       "    </tr>\n",
       "    <tr>\n",
       "      <th>4</th>\n",
       "      <td>133081</td>\n",
       "      <td>Babag ES</td>\n",
       "      <td>ES</td>\n",
       "      <td>Public</td>\n",
       "      <td>6.342007</td>\n",
       "      <td>121.954045</td>\n",
       "      <td>Babag (Babuan Island)</td>\n",
       "      <td>Tabuan-Lasa</td>\n",
       "      <td>BASILAN</td>\n",
       "      <td>PH150713000</td>\n",
       "      <td>PH150713001</td>\n",
       "      <td>PH150700000</td>\n",
       "      <td>POINT (121.95404 6.34201)</td>\n",
       "    </tr>\n",
       "  </tbody>\n",
       "</table>\n",
       "</div>"
      ],
      "text/plain": [
       "   SCH_ID        SCH_NAME SCH_CAT SCH_TYPE       LAT        LONG  \\\n",
       "0  133049  Abong-Abong ES      ES   Public  6.507703  121.910937   \n",
       "1  215015        Akbar ES      ES   Public  6.664125  122.195725   \n",
       "2  133154       Amaloy ES      ES   Public  6.443614  122.126717   \n",
       "3  133023  Atong-Atong ES      ES   Public  6.660000  121.899633   \n",
       "4  133081        Babag ES      ES   Public  6.342007  121.954045   \n",
       "\n",
       "                BARANGAY        MUNNAME     PROV    PSGC_MUNI    PSGC_BRGY  \\\n",
       "0            Abong-Abong         Maluso  BASILAN  PH150704000  PH150704001   \n",
       "1        Upper Bato-Bato          Akbar  BASILAN  PH150708000  PH150708008   \n",
       "2                 Amaloy  Ungkaya Pukan  BASILAN  PH150711000  PH150711001   \n",
       "3            Atong-Atong       Lantawan  BASILAN  PH150703000  PH150703001   \n",
       "4  Babag (Babuan Island)    Tabuan-Lasa  BASILAN  PH150713000  PH150713001   \n",
       "\n",
       "     PSGC_PROV                   geometry  \n",
       "0  PH150700000  POINT (121.91094 6.50770)  \n",
       "1  PH150700000  POINT (122.19572 6.66413)  \n",
       "2  PH150700000  POINT (122.12672 6.44361)  \n",
       "3  PH150700000  POINT (121.89963 6.66000)  \n",
       "4  PH150700000  POINT (121.95404 6.34201)  "
      ]
     },
     "execution_count": 7,
     "metadata": {},
     "output_type": "execute_result"
    }
   ],
   "source": [
    "schools_geodata = gpd.read_file(GEODATA_PATH+'SchoolsARMMDEPED2017/SchoolsARMMDEPED2017.shp')\n",
    "schools_geodata.head()"
   ]
  },
  {
   "cell_type": "code",
   "execution_count": 8,
   "metadata": {},
   "outputs": [
    {
     "data": {
      "text/html": [
       "<div>\n",
       "<style scoped>\n",
       "    .dataframe tbody tr th:only-of-type {\n",
       "        vertical-align: middle;\n",
       "    }\n",
       "\n",
       "    .dataframe tbody tr th {\n",
       "        vertical-align: top;\n",
       "    }\n",
       "\n",
       "    .dataframe thead th {\n",
       "        text-align: right;\n",
       "    }\n",
       "</style>\n",
       "<table border=\"1\" class=\"dataframe\">\n",
       "  <thead>\n",
       "    <tr style=\"text-align: right;\">\n",
       "      <th></th>\n",
       "      <th>SCH_ID</th>\n",
       "      <th>LAT</th>\n",
       "      <th>LONG</th>\n",
       "    </tr>\n",
       "  </thead>\n",
       "  <tbody>\n",
       "    <tr>\n",
       "      <th>count</th>\n",
       "      <td>2711.000000</td>\n",
       "      <td>2539.000000</td>\n",
       "      <td>2539.000000</td>\n",
       "    </tr>\n",
       "    <tr>\n",
       "      <th>mean</th>\n",
       "      <td>203773.028403</td>\n",
       "      <td>6.875545</td>\n",
       "      <td>123.004048</td>\n",
       "    </tr>\n",
       "    <tr>\n",
       "      <th>std</th>\n",
       "      <td>113530.265986</td>\n",
       "      <td>0.935225</td>\n",
       "      <td>1.741595</td>\n",
       "    </tr>\n",
       "    <tr>\n",
       "      <th>min</th>\n",
       "      <td>100804.000000</td>\n",
       "      <td>4.641594</td>\n",
       "      <td>118.311000</td>\n",
       "    </tr>\n",
       "    <tr>\n",
       "      <th>25%</th>\n",
       "      <td>133752.000000</td>\n",
       "      <td>6.052737</td>\n",
       "      <td>121.143735</td>\n",
       "    </tr>\n",
       "    <tr>\n",
       "      <th>50%</th>\n",
       "      <td>134504.000000</td>\n",
       "      <td>7.010479</td>\n",
       "      <td>124.149102</td>\n",
       "    </tr>\n",
       "    <tr>\n",
       "      <th>75%</th>\n",
       "      <td>217771.500000</td>\n",
       "      <td>7.780703</td>\n",
       "      <td>124.325308</td>\n",
       "    </tr>\n",
       "    <tr>\n",
       "      <th>max</th>\n",
       "      <td>800161.000000</td>\n",
       "      <td>8.092139</td>\n",
       "      <td>124.958000</td>\n",
       "    </tr>\n",
       "  </tbody>\n",
       "</table>\n",
       "</div>"
      ],
      "text/plain": [
       "              SCH_ID          LAT         LONG\n",
       "count    2711.000000  2539.000000  2539.000000\n",
       "mean   203773.028403     6.875545   123.004048\n",
       "std    113530.265986     0.935225     1.741595\n",
       "min    100804.000000     4.641594   118.311000\n",
       "25%    133752.000000     6.052737   121.143735\n",
       "50%    134504.000000     7.010479   124.149102\n",
       "75%    217771.500000     7.780703   124.325308\n",
       "max    800161.000000     8.092139   124.958000"
      ]
     },
     "execution_count": 8,
     "metadata": {},
     "output_type": "execute_result"
    }
   ],
   "source": [
    "schools_geodata.describe()"
   ]
  },
  {
   "cell_type": "code",
   "execution_count": 9,
   "metadata": {},
   "outputs": [
    {
     "data": {
      "text/plain": [
       "SCH_ID         0\n",
       "SCH_NAME       0\n",
       "SCH_CAT        0\n",
       "SCH_TYPE       0\n",
       "LAT          172\n",
       "LONG         172\n",
       "BARANGAY       0\n",
       "MUNNAME        0\n",
       "PROV           0\n",
       "PSGC_MUNI      0\n",
       "PSGC_BRGY      0\n",
       "PSGC_PROV      0\n",
       "geometry       0\n",
       "dtype: int64"
      ]
     },
     "execution_count": 9,
     "metadata": {},
     "output_type": "execute_result"
    }
   ],
   "source": [
    "schools_geodata.isna().sum()"
   ]
  },
  {
   "cell_type": "code",
   "execution_count": 10,
   "metadata": {},
   "outputs": [
    {
     "data": {
      "image/png": "[encoded data removed]",
      "text/plain": [
       "<Figure size 864x864 with 1 Axes>"
      ]
     },
     "metadata": {
      "needs_background": "light"
     },
     "output_type": "display_data"
    }
   ],
   "source": [
    "f, ax = plt.subplots(1, figsize=(12, 12))\n",
    "ax = schools_geodata.dropna().plot(column=\"PROV\", ax=ax)\n",
    "plt.show()"
   ]
  }
 ],
 "metadata": {
  "kernelspec": {
   "display_name": "Python 3",
   "language": "python",
   "name": "python3"
  },
  "language_info": {
   "codemirror_mode": {
    "name": "ipython",
    "version": 3
   },
   "file_extension": ".py",
   "mimetype": "text/x-python",
   "name": "python",
   "nbconvert_exporter": "python",
   "pygments_lexer": "ipython3",
   "version": "3.6.8"
  }
 },
 "nbformat": 4,
 "nbformat_minor": 4
}
