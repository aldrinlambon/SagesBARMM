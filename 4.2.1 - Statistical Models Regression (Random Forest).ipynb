{
 "cells": [
  {
   "cell_type": "code",
   "execution_count": 1,
   "id": "suspended-colorado",
   "metadata": {},
   "outputs": [],
   "source": [
    "import pandas as pd\n",
    "import numpy as np\n",
    "\n",
    "import os\n",
    "import random\n",
    "\n",
    "from numpy.random import seed\n",
    "\n",
    "from keras.layers.experimental import preprocessing\n",
    "from keras.models import Sequential\n",
    "from keras.layers import Dense\n",
    "from keras import backend as K\n",
    "\n",
    "from sklearn.metrics import r2_score\n",
    "from sklearn.model_selection import train_test_split\n",
    "from sklearn.metrics import accuracy_score\n",
    "\n",
    "import tensorflow as tf\n",
    "\n",
    "import matplotlib.pyplot as plt\n",
    "%matplotlib inline\n",
    "\n",
    "from sklearn.model_selection import cross_val_score, GridSearchCV\n",
    "from sklearn.ensemble import RandomForestRegressor\n",
    "from sklearn.preprocessing import MinMaxScaler"
   ]
  },
  {
   "cell_type": "code",
   "execution_count": 39,
   "id": "dominican-knock",
   "metadata": {},
   "outputs": [],
   "source": [
    "OUTPUT_PATH = './Data/output/'\n",
    "MODEL_OUTPUT_PATH = './Data/Output/Statistical Model Output/'"
   ]
  },
  {
   "cell_type": "markdown",
   "id": "surgical-atlantic",
   "metadata": {},
   "source": [
    "### Import dataset"
   ]
  },
  {
   "cell_type": "code",
   "execution_count": 3,
   "id": "lonely-conditions",
   "metadata": {},
   "outputs": [
    {
     "data": {
      "text/plain": [
       "2482"
      ]
     },
     "execution_count": 3,
     "metadata": {},
     "output_type": "execute_result"
    }
   ],
   "source": [
    "dataset_raw = pd.read_csv(OUTPUT_PATH + 'CleanData_Population_Schools_SDGs.csv')\n",
    "dataset_raw['No_of_Schools'] = dataset_raw['SCH_TYPE_PRIVATE'] + dataset_raw['SCH_TYPE_PUBLIC'] + dataset_raw['SCH_TYPE_SUC']\n",
    "len(dataset_raw)"
   ]
  },
  {
   "cell_type": "code",
   "execution_count": 4,
   "id": "unlimited-census",
   "metadata": {},
   "outputs": [
    {
     "data": {
      "text/plain": [
       "1756"
      ]
     },
     "execution_count": 4,
     "metadata": {},
     "output_type": "execute_result"
    }
   ],
   "source": [
    "dataset = dataset_raw.dropna().reset_index()\n",
    "len(dataset)"
   ]
  },
  {
   "cell_type": "markdown",
   "id": "several-newspaper",
   "metadata": {},
   "source": [
    "### Preprocess data"
   ]
  },
  {
   "cell_type": "code",
   "execution_count": 5,
   "id": "portuguese-saver",
   "metadata": {},
   "outputs": [],
   "source": [
    "SDG = dataset.iloc[:,85:]\n",
    "SDG['PSGC_BRGY'] = dataset['PSGC_BRGY']"
   ]
  },
  {
   "cell_type": "markdown",
   "id": "general-postage",
   "metadata": {},
   "source": [
    "#### 1. Elementary"
   ]
  },
  {
   "cell_type": "code",
   "execution_count": 6,
   "id": "suited-anniversary",
   "metadata": {},
   "outputs": [
    {
     "data": {
      "text/plain": [
       "1756"
      ]
     },
     "execution_count": 6,
     "metadata": {},
     "output_type": "execute_result"
    }
   ],
   "source": [
    "data_elem = SDG.copy()\n",
    "data_elem['NUM_SCHOOLS'] = dataset['SCH_CAT_CES'] + dataset['SCH_CAT_ES'] + dataset['SCH_CAT_PS'] + dataset['SCH_CAT_PES']\n",
    "data_elem['ELEM_POPN'] = dataset['both_age_6_to_12']\n",
    "len(data_elem)"
   ]
  },
  {
   "cell_type": "code",
   "execution_count": 7,
   "id": "sapphire-grove",
   "metadata": {},
   "outputs": [
    {
     "data": {
      "text/plain": [
       "1703"
      ]
     },
     "execution_count": 7,
     "metadata": {},
     "output_type": "execute_result"
    }
   ],
   "source": [
    "zero_schools_elem = data_elem[data_elem['NUM_SCHOOLS'] == 0]\n",
    "data_elem = data_elem[data_elem['NUM_SCHOOLS'] != 0]\n",
    "data_elem = data_elem.drop(['PSGC_BRGY'], axis=1)\n",
    "len(data_elem)"
   ]
  },
  {
   "cell_type": "markdown",
   "id": "ancient-alcohol",
   "metadata": {},
   "source": [
    "#### 2. High School"
   ]
  },
  {
   "cell_type": "code",
   "execution_count": 8,
   "id": "printable-involvement",
   "metadata": {},
   "outputs": [
    {
     "data": {
      "text/plain": [
       "1756"
      ]
     },
     "execution_count": 8,
     "metadata": {},
     "output_type": "execute_result"
    }
   ],
   "source": [
    "data_hs = SDG.copy()\n",
    "data_hs['NUM_SCHOOLS'] = dataset['SCH_CAT_JHS'] + dataset['SCH_CAT_SHS'] + dataset['SCH_CAT_PJHS'] + dataset['SCH_CAT_PSHS']\n",
    "data_hs['HS_POPN'] = dataset['both_age_13_to_16']\n",
    "len(data_hs)"
   ]
  },
  {
   "cell_type": "code",
   "execution_count": 9,
   "id": "hispanic-valley",
   "metadata": {},
   "outputs": [
    {
     "data": {
      "text/plain": [
       "366"
      ]
     },
     "execution_count": 9,
     "metadata": {},
     "output_type": "execute_result"
    }
   ],
   "source": [
    "zero_schools_hs = data_hs[data_hs['NUM_SCHOOLS'] == 0]\n",
    "data_hs = data_hs[data_hs['NUM_SCHOOLS'] != 0]\n",
    "data_hs = data_hs.drop(['PSGC_BRGY'], axis=1)\n",
    "len(data_hs)"
   ]
  },
  {
   "cell_type": "markdown",
   "id": "domestic-footwear",
   "metadata": {},
   "source": [
    "### Modelling"
   ]
  },
  {
   "cell_type": "code",
   "execution_count": 27,
   "id": "furnished-bracelet",
   "metadata": {},
   "outputs": [],
   "source": [
    "def rfr_model(data, feature):\n",
    "    training_data, testing_data = train_test_split(data, test_size=0.2, random_state=42)\n",
    "    X_train = training_data.drop(['NUM_SCHOOLS'], axis=1)\n",
    "    y_train = training_data['NUM_SCHOOLS']\n",
    "\n",
    "    X_test = testing_data.drop(['NUM_SCHOOLS'], axis=1)\n",
    "    y_test = testing_data['NUM_SCHOOLS']\n",
    "    \n",
    "    if feature != 'all':\n",
    "        X_train = X_train[[feature]]\n",
    "        X_test = X_test[[feature]]\n",
    "    # Perform Grid-Search\n",
    "    gsc = GridSearchCV(\n",
    "        estimator=RandomForestRegressor(),\n",
    "        param_grid={\n",
    "            'max_depth': range(3,7),\n",
    "            'n_estimators': (10, 50, 100, 1000),\n",
    "        },\n",
    "        cv=5, scoring='neg_mean_squared_error', verbose=0, n_jobs=-1)\n",
    "    \n",
    "    grid_result = gsc.fit(X_train, y_train)\n",
    "    best_params = grid_result.best_params_\n",
    "    \n",
    "    rfr = RandomForestRegressor(max_depth=best_params[\"max_depth\"], n_estimators=best_params[\"n_estimators\"],                               random_state=False, verbose=False)\n",
    "    rfr.fit(X_train,y_train)\n",
    "\n",
    "    y_pred = rfr.predict(X_test)\n",
    "    y_pred_round = np.round(y_pred)\n",
    "    acc = accuracy_score(y_pred_round, y_test)\n",
    "    print('Model accuracy:', acc)\n",
    "    \n",
    "    return rfr"
   ]
  },
  {
   "cell_type": "code",
   "execution_count": 28,
   "id": "deadly-bahamas",
   "metadata": {},
   "outputs": [],
   "source": [
    "def predict(model, X_predict):\n",
    "    y_pred_null = model.predict(X_predict)\n",
    "    return np.round(y_pred_null)"
   ]
  },
  {
   "cell_type": "code",
   "execution_count": 29,
   "id": "impressed-tower",
   "metadata": {},
   "outputs": [
    {
     "data": {
      "text/plain": [
       "726"
      ]
     },
     "execution_count": 29,
     "metadata": {},
     "output_type": "execute_result"
    }
   ],
   "source": [
    "dataset_null = dataset_raw[dataset_raw.isnull().any(axis=1)]\n",
    "len(dataset_null)"
   ]
  },
  {
   "cell_type": "code",
   "execution_count": 36,
   "id": "colored-pulse",
   "metadata": {},
   "outputs": [],
   "source": [
    "def save_prediction(model, level,feature):\n",
    "    X_predict_1 = dataset_null.copy()\n",
    "    X_predict_1 = X_predict_1.iloc[:, 84:]\n",
    "    if level == 'elem':\n",
    "        X_predict_1['ELEM_POPN'] = dataset_null['both_age_6_to_12']\n",
    "        _zero_schools = zero_schools_elem.copy()\n",
    "    elif level == 'hs':\n",
    "        X_predict_1['HS_POPN'] = dataset_null['both_age_13_to_16']\n",
    "        _zero_schools = zero_schools_hs.copy()\n",
    "        \n",
    "    X_predict_2 = _zero_schools.drop(['NUM_SCHOOLS','PSGC_BRGY'], axis=1)\n",
    "        \n",
    "    if feature == 'all':\n",
    "        X_predict_1['Pred_school_num'] = predict(model, X_predict_1)\n",
    "        X_predict_2['Pred_school_num'] = predict(model, X_predict_2)\n",
    "    else:\n",
    "        X_predict_1 = X_predict_1[[feature]]\n",
    "        X_predict_2 = X_predict_2[[feature]]\n",
    "        X_predict_1['Pred_school_num'] = predict(model, X_predict_1)\n",
    "        X_predict_2['Pred_school_num'] = predict(model, X_predict_2)\n",
    "        \n",
    "    X_predict_1['PSGC_BRGY'] = dataset_null['PSGC_BRGY']\n",
    "    X_predict_2['PSGC_BRGY'] = _zero_schools['PSGC_BRGY']\n",
    "    \n",
    "    predicted_df = pd.concat([X_predict_1, X_predict_2])\n",
    "    \n",
    "    print('Number of barangays predicted:', len(predicted_df))\n",
    "    return predicted_df"
   ]
  },
  {
   "cell_type": "code",
   "execution_count": 38,
   "id": "provincial-university",
   "metadata": {},
   "outputs": [
    {
     "name": "stdout",
     "output_type": "stream",
     "text": [
      "Model accuracy: 0.7976539589442815\n",
      "Number of barangays predicted: 779\n"
     ]
    }
   ],
   "source": [
    "elem_model = rfr_model(data_elem, 'ELEM_POPN')\n",
    "elem_df_pop = save_prediction(elem_model, 'elem', 'ELEM_POPN')\n",
    "elem_df_pop.to_csv(MODEL_OUTPUT_PATH + 'Model_RF_Output_Elem_pop.csv', index=False)"
   ]
  },
  {
   "cell_type": "code",
   "execution_count": 37,
   "id": "marine-typing",
   "metadata": {},
   "outputs": [
    {
     "name": "stdout",
     "output_type": "stream",
     "text": [
      "Model accuracy: 0.8513513513513513\n",
      "Number of barangays predicted: 2116\n"
     ]
    }
   ],
   "source": [
    "hs_model = rfr_model(data_hs, 'HS_POPN')\n",
    "hs_df_pop = save_prediction(hs_model, 'hs', 'HS_POPN')\n",
    "hs_df_pop.to_csv(MODEL_OUTPUT_PATH + 'Model_RF_Output_HS_pop.csv', index=False)"
   ]
  },
  {
   "cell_type": "code",
   "execution_count": null,
   "id": "reported-wallpaper",
   "metadata": {},
   "outputs": [],
   "source": []
  }
 ],
 "metadata": {
  "kernelspec": {
   "display_name": "Python 3",
   "language": "python",
   "name": "python3"
  },
  "language_info": {
   "codemirror_mode": {
    "name": "ipython",
    "version": 3
   },
   "file_extension": ".py",
   "mimetype": "text/x-python",
   "name": "python",
   "nbconvert_exporter": "python",
   "pygments_lexer": "ipython3",
   "version": "3.8.7"
  }
 },
 "nbformat": 4,
 "nbformat_minor": 5
}
