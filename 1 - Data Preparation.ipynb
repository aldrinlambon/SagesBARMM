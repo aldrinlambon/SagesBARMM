{
 "cells": [
  {
   "cell_type": "code",
   "execution_count": 1,
   "metadata": {},
   "outputs": [],
   "source": [
    "import numpy as np\n",
    "import pandas as pd\n",
    "import matplotlib.pyplot as plt\n",
    "\n",
    "import geopandas as gpd\n",
    "from shapely.ops import nearest_points\n",
    "\n",
    "import warnings\n",
    "warnings.filterwarnings(\"ignore\")\n",
    "\n",
    "import os\n",
    "GEODATA_PATH = 'data/geodata/'\n",
    "TABULAR_PATH = 'data/tabular/'\n",
    "data_files = os.listdir(TABULAR_PATH)"
   ]
  },
  {
   "cell_type": "code",
   "execution_count": 2,
   "metadata": {},
   "outputs": [],
   "source": [
    "def get_sex_age_cols(sex=\"bot\",min_age=7,max_age=25):\n",
    "    sex_single_age_cols = [col for col in population_df.columns if (col.replace('und_','').replace('and_ove_','').split(\"_\")[-2:][0]==sex)]\n",
    "    student_age_cols = [col for col in sex_single_age_cols if (int(col.split(\"_\")[-1])>=min_age) \\\n",
    "                        & (int(col.split(\"_\")[-1])<=max_age)]\n",
    "    return student_age_cols\n",
    "\n",
    "def get_number_of_roads(PSGC):\n",
    "    cond = brgys_geodata[\"Bgy_Code\"]==PSGC\n",
    "    index = brgys_geodata[cond].index[0]\n",
    "    road_intersects = roads_geodata[\"geometry\"].intersects(brgys_geodata.loc[index,\"geometry\"])\n",
    "    return sum(road_intersects)\n",
    "\n",
    "def get_nearest_school(brgy_code):\n",
    "    cond = brgys_geodata[\"Bgy_Code\"]==brgy_code\n",
    "    pt1 = brgys_geodata[cond].geometry.centroid.values[0]\n",
    "    type(pt1)\n",
    "    pts = schools_geodata.geometry.unary_union\n",
    "    nearest = schools_geodata.geometry == nearest_points(pt1, pts)[1]\n",
    "    return schools_geodata[nearest].SCH_ID.values[0]\n",
    "\n",
    "def get_nearest_school_distance(brgy_code,school_code):\n",
    "    cond = brgys_geodata[\"Bgy_Code\"]==brgy_code\n",
    "    pt1 = brgys_geodata[cond].geometry.centroid.values[0]\n",
    "    cond = schools_geodata[\"SCH_ID\"]==school_code\n",
    "    pt2 = schools_geodata.loc[cond,'geometry'].values[0]\n",
    "    return pt1.distance(pt2)"
   ]
  },
  {
   "cell_type": "code",
   "execution_count": 3,
   "metadata": {},
   "outputs": [
    {
     "name": "stdout",
     "output_type": "stream",
     "text": [
      "population_df (2482, 288)\n",
      "population_age_groups_df (2482, 52)\n",
      "schools_df (1570, 2)\n",
      "schools_meta_df (1570, 14)\n",
      "education_df (2482, 66)\n",
      "source_light_df (2490, 3)\n",
      "source_drinking_water_df (2490, 3)\n",
      "sdg_df (2490, 5)\n",
      "education_sdg_df (2482, 70)\n"
     ]
    }
   ],
   "source": [
    "population_df = pd.read_excel(TABULAR_PATH+'Population 2010, 2015 ARMM,BCT.xlsx')\n",
    "cond = population_df['PSGC_REGI']=='PH150000000'\n",
    "population_df=population_df[cond].reset_index(drop=True)\n",
    "print(\"population_df\",population_df.shape)\n",
    "\n",
    "population_age_groups_df = population_df[[\"PSGC_BRGY\"]]\n",
    "\n",
    "age_range=5\n",
    "for age in range(0,81,age_range):\n",
    "    min_age = age\n",
    "    max_age = age+age_range-1\n",
    "    \n",
    "    both_age_cols = get_sex_age_cols(sex=\"bot\",min_age=min_age,max_age=max_age)\n",
    "    male_age_cols = get_sex_age_cols(sex=\"mal\",min_age=min_age,max_age=max_age)\n",
    "    female_age_cols = get_sex_age_cols(sex=\"fem\",min_age=min_age,max_age=max_age)\n",
    "    \n",
    "    both_col = 'both_age_{}_to_{}'.format(min_age,max_age)\n",
    "    male_col = 'male_age_{}_to_{}'.format(min_age,max_age)\n",
    "    female_col = 'female_age_{}_to_{}'.format(min_age,max_age)\n",
    "    \n",
    "    age_groups = population_df[both_age_cols+male_age_cols+female_age_cols]\n",
    "    age_groups[both_col] = age_groups.loc[:,both_age_cols].sum(axis=1)\n",
    "    age_groups[male_col] = age_groups.loc[:,male_age_cols].sum(axis=1)\n",
    "    age_groups[female_col] = age_groups.loc[:,female_age_cols].sum(axis=1)\n",
    "\n",
    "    age_groups.drop(columns=both_age_cols+male_age_cols+female_age_cols,inplace=True)\n",
    "    \n",
    "    population_age_groups_df = pd.concat([population_age_groups_df,age_groups],axis=1)\n",
    "    del age_groups\n",
    "\n",
    "print(\"population_age_groups_df\",population_age_groups_df.shape)\n",
    "\n",
    "schools_df = pd.read_excel(TABULAR_PATH+'Number of schools per brgy.xlsx',usecols=[\"PSGC_BRGY\",\"Number of School\"])\n",
    "schools_df.rename(columns={'Number of School':'No_of_Schools'},inplace=True)\n",
    "print(\"schools_df\",schools_df.shape)\n",
    "\n",
    "schools_meta_df = pd.read_excel(TABULAR_PATH+'SchoolsDepEd2017.xlsx',usecols=[\"PSGC_BRGY\",\"SCH_CAT\",\"SCH_TYPE\"])\n",
    "schools_meta_df[\"SCH_TYPE\"] = schools_meta_df[\"SCH_TYPE\"].str.strip().str.upper()\n",
    "schools_meta_df = pd.get_dummies(schools_meta_df, columns=[\"SCH_TYPE\",\"SCH_CAT\"])\n",
    "schools_meta_df = schools_meta_df.groupby(\"PSGC_BRGY\",as_index=False).sum()\n",
    "print('schools_meta_df',schools_meta_df.shape)\n",
    "\n",
    "education_df = pd.merge(population_age_groups_df,schools_df,on=\"PSGC_BRGY\",how=\"left\")\n",
    "education_df = pd.merge(education_df,schools_meta_df,on=\"PSGC_BRGY\",how=\"left\")\n",
    "print(\"education_df\",education_df.shape)\n",
    "\n",
    "source_light_df = pd.read_excel(TABULAR_PATH+'Number of Households by Kind of Fuel for Lighting (ARMM 2015) Brgy.xlsx')\n",
    "source_light_df[\"Perc_Households_Electricity_Light\"] = \\\n",
    "            source_light_df[\"Electricity\"]/source_light_df[\"Number of HH\"]\n",
    "source_light_df[\"Perc_Households_Kerosene_Gass_Light\"] = \\\n",
    "            source_light_df[\"Kerosene (Gaas)\"]/source_light_df[\"Number of HH\"]\n",
    "source_light_df = source_light_df[[\"PSGC\",\"Perc_Households_Electricity_Light\",\"Perc_Households_Kerosene_Gass_Light\"]]\n",
    "print(\"source_light_df\",source_light_df.shape)\n",
    "\n",
    "source_drinking_water_df = pd.read_excel(TABULAR_PATH+'Main Source of Water Supply for Drinking (ARMM 2015) Brgy.xlsx')\n",
    "source_drinking_water_df[\"Perc_Households_Drinking_Owned_Faucet\"] = \\\n",
    "            source_drinking_water_df[\"Own use faucet community water system\"]/source_drinking_water_df[\"Number of Households\"]\n",
    "source_drinking_water_df[\"Perc_Households_Drinking_Shared_Faucet\"] = \\\n",
    "            source_drinking_water_df[\"Shared faucet community water system\"]/source_drinking_water_df[\"Number of Households\"]\n",
    "source_drinking_water_df = source_drinking_water_df[[\"PSGC\",\"Perc_Households_Drinking_Owned_Faucet\",\"Perc_Households_Drinking_Shared_Faucet\"]]\n",
    "print(\"source_drinking_water_df\",source_drinking_water_df.shape)\n",
    "\n",
    "sdg_df = pd.merge(source_light_df,source_drinking_water_df,on=\"PSGC\",how=\"left\")\n",
    "print(\"sdg_df\",sdg_df.shape)\n",
    "\n",
    "education_sdg_df = pd.merge(education_df,sdg_df,left_on=\"PSGC_BRGY\",right_on=\"PSGC\",how=\"left\")\n",
    "education_sdg_df.drop(columns=\"PSGC\",inplace=True)\n",
    "print(\"education_sdg_df\",education_sdg_df.shape)"
   ]
  },
  {
   "cell_type": "code",
   "execution_count": null,
   "metadata": {},
   "outputs": [
    {
     "name": "stdout",
     "output_type": "stream",
     "text": [
      "brgys_geodata (2489, 2)\n",
      "roads_geodata (6573, 2)\n",
      "schools_geodata (2711, 2)\n"
     ]
    }
   ],
   "source": [
    "brgys_geodata = gpd.read_file(GEODATA_PATH+'AdministrativeBoundariesBARMMBarangays20190206PSA2016/AdministrativeBoundariesBARMMBarangays20190206PSA2016.shp')\n",
    "cond = brgys_geodata['Reg_Code']=='PH150000000'\n",
    "brgys_geodata=brgys_geodata[cond].reset_index(drop=True)\n",
    "brgys_geodata = brgys_geodata.to_crs(\"EPSG:4326\")\n",
    "brgys_geodata = brgys_geodata[[\"Bgy_Code\",\"geometry\"]]\n",
    "print(\"brgys_geodata\",brgys_geodata.shape)\n",
    "\n",
    "roads_geodata = gpd.read_file(GEODATA_PATH+'InfraRoadsARMMOSM2019/InfraRoadsARMMOSM2019.shp')\n",
    "roads_geodata = roads_geodata[[\"osm_id\",\"geometry\"]]\n",
    "print(\"roads_geodata\",roads_geodata.shape)\n",
    "\n",
    "schools_geodata = gpd.read_file(GEODATA_PATH+'SchoolsARMMDEPED2017/SchoolsARMMDEPED2017.shp')\n",
    "schools_geodata = schools_geodata[[\"SCH_ID\",\"geometry\"]]\n",
    "print(\"schools_geodata\",schools_geodata.shape)\n",
    "\n",
    "education_sdg_df[\"number_of_roads\"] = education_sdg_df[\"PSGC_BRGY\"].apply(get_number_of_roads)\n",
    "\n",
    "print(\"education_sdg_df + geoinfo\",education_sdg_df.shape)"
   ]
  },
  {
   "cell_type": "code",
   "execution_count": null,
   "metadata": {
    "scrolled": false
   },
   "outputs": [],
   "source": [
    "with pd.option_context(\"display.max_rows\",None):\n",
    "    display(education_sdg_df.head().T)"
   ]
  },
  {
   "cell_type": "code",
   "execution_count": null,
   "metadata": {},
   "outputs": [],
   "source": [
    "education_sdg_df.to_csv('./data/output/Population_Schools_SDGs_Clean.csv')"
   ]
  }
 ],
 "metadata": {
  "kernelspec": {
   "display_name": "Python 3",
   "language": "python",
   "name": "python3"
  },
  "language_info": {
   "codemirror_mode": {
    "name": "ipython",
    "version": 3
   },
   "file_extension": ".py",
   "mimetype": "text/x-python",
   "name": "python",
   "nbconvert_exporter": "python",
   "pygments_lexer": "ipython3",
   "version": "3.8.7"
  }
 },
 "nbformat": 4,
 "nbformat_minor": 4
}
