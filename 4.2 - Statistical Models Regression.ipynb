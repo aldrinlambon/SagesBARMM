{
 "cells": [
  {
   "cell_type": "code",
   "execution_count": 1,
   "id": "suspended-colorado",
   "metadata": {},
   "outputs": [],
   "source": [
    "import pandas as pd\n",
    "import numpy as np\n",
    "\n",
    "import os\n",
    "import random\n",
    "\n",
    "from numpy.random import seed\n",
    "\n",
    "from keras.layers.experimental import preprocessing\n",
    "from keras.models import Sequential\n",
    "from keras.layers import Dense\n",
    "from keras import backend as K\n",
    "\n",
    "from sklearn.metrics import r2_score\n",
    "from sklearn.model_selection import train_test_split\n",
    "from sklearn.metrics import accuracy_score\n",
    "\n",
    "import tensorflow as tf\n",
    "\n",
    "import matplotlib.pyplot as plt\n",
    "%matplotlib inline"
   ]
  },
  {
   "cell_type": "code",
   "execution_count": 2,
   "id": "fluid-mustang",
   "metadata": {},
   "outputs": [],
   "source": [
    "# For reproducible results\n",
    "seed_value = 1\n",
    "os.environ['PYTHONHASHSEED'] = str(seed_value)\n",
    "\n",
    "random.seed(seed_value)\n",
    "\n",
    "np.random.seed(seed_value)\n",
    "\n",
    "tf.random.set_seed(seed_value)\n",
    "\n",
    "session_conf = tf.compat.v1.ConfigProto(intra_op_parallelism_threads=1, inter_op_parallelism_threads=1)\n",
    "sess = tf.compat.v1.Session(graph=tf.compat.v1.get_default_graph(), config=session_conf)\n",
    "tf.compat.v1.keras.backend.set_session(sess)"
   ]
  },
  {
   "cell_type": "code",
   "execution_count": 3,
   "id": "dominican-knock",
   "metadata": {},
   "outputs": [],
   "source": [
    "OUTPUT_PATH = './Data/output/'"
   ]
  },
  {
   "cell_type": "markdown",
   "id": "surgical-atlantic",
   "metadata": {},
   "source": [
    "### Import dataset"
   ]
  },
  {
   "cell_type": "code",
   "execution_count": 4,
   "id": "lonely-conditions",
   "metadata": {},
   "outputs": [
    {
     "data": {
      "text/plain": [
       "2482"
      ]
     },
     "execution_count": 4,
     "metadata": {},
     "output_type": "execute_result"
    }
   ],
   "source": [
    "dataset_raw = pd.read_csv(OUTPUT_PATH + 'CleanData_Population_Schools_SDGs.csv')\n",
    "dataset_raw['No_of_Schools'] = dataset_raw['SCH_TYPE_PRIVATE'] + dataset_raw['SCH_TYPE_PUBLIC'] + dataset_raw['SCH_TYPE_SUC']\n",
    "len(dataset_raw)"
   ]
  },
  {
   "cell_type": "code",
   "execution_count": 5,
   "id": "extra-territory",
   "metadata": {},
   "outputs": [
    {
     "data": {
      "text/plain": [
       "1756"
      ]
     },
     "execution_count": 5,
     "metadata": {},
     "output_type": "execute_result"
    }
   ],
   "source": [
    "dataset = dataset_raw.dropna()\n",
    "len(dataset)"
   ]
  },
  {
   "cell_type": "markdown",
   "id": "several-newspaper",
   "metadata": {},
   "source": [
    "### Preprocess data"
   ]
  },
  {
   "cell_type": "code",
   "execution_count": 6,
   "id": "portuguese-saver",
   "metadata": {},
   "outputs": [],
   "source": [
    "SDG = dataset.iloc[:,84:]\n",
    "SDG['PSGC_BRGY'] = dataset['PSGC_BRGY']"
   ]
  },
  {
   "cell_type": "markdown",
   "id": "general-postage",
   "metadata": {},
   "source": [
    "#### 1. Elementary"
   ]
  },
  {
   "cell_type": "code",
   "execution_count": 7,
   "id": "suited-anniversary",
   "metadata": {},
   "outputs": [
    {
     "data": {
      "text/plain": [
       "1756"
      ]
     },
     "execution_count": 7,
     "metadata": {},
     "output_type": "execute_result"
    }
   ],
   "source": [
    "data_elem = SDG.copy()\n",
    "data_elem['NUM_SCHOOLS'] = dataset['SCH_CAT_CES'] + dataset['SCH_CAT_ES'] + dataset['SCH_CAT_PS'] + dataset['SCH_CAT_PES']\n",
    "data_elem['ELEM_POPN'] = dataset['both_age_6_to_12']\n",
    "len(data_elem)"
   ]
  },
  {
   "cell_type": "code",
   "execution_count": 8,
   "id": "metropolitan-fields",
   "metadata": {},
   "outputs": [
    {
     "data": {
      "text/plain": [
       "1703"
      ]
     },
     "execution_count": 8,
     "metadata": {},
     "output_type": "execute_result"
    }
   ],
   "source": [
    "zero_schools_elem = data_elem[data_elem['NUM_SCHOOLS'] == 0]\n",
    "data_elem = data_elem[data_elem['NUM_SCHOOLS'] != 0]\n",
    "data_elem = data_elem.drop(['PSGC_BRGY'], axis=1)\n",
    "len(data_elem)"
   ]
  },
  {
   "cell_type": "markdown",
   "id": "ancient-alcohol",
   "metadata": {},
   "source": [
    "#### 2. High School"
   ]
  },
  {
   "cell_type": "code",
   "execution_count": 9,
   "id": "printable-involvement",
   "metadata": {},
   "outputs": [
    {
     "data": {
      "text/plain": [
       "1756"
      ]
     },
     "execution_count": 9,
     "metadata": {},
     "output_type": "execute_result"
    }
   ],
   "source": [
    "data_hs = SDG.copy()\n",
    "data_hs['NUM_SCHOOLS'] = dataset['SCH_CAT_JHS'] + dataset['SCH_CAT_SHS'] + dataset['SCH_CAT_PJHS'] + dataset['SCH_CAT_PSHS']\n",
    "data_hs['HS_POPN'] = dataset['both_age_13_to_16']\n",
    "len(data_hs)"
   ]
  },
  {
   "cell_type": "code",
   "execution_count": 10,
   "id": "respected-calculation",
   "metadata": {},
   "outputs": [
    {
     "data": {
      "text/plain": [
       "366"
      ]
     },
     "execution_count": 10,
     "metadata": {},
     "output_type": "execute_result"
    }
   ],
   "source": [
    "zero_schools_hs = data_hs[data_hs['NUM_SCHOOLS'] == 0]\n",
    "data_hs = data_hs[data_hs['NUM_SCHOOLS'] != 0]\n",
    "data_hs = data_hs.drop(['PSGC_BRGY'], axis=1)\n",
    "len(data_hs)"
   ]
  },
  {
   "cell_type": "markdown",
   "id": "resident-advocate",
   "metadata": {},
   "source": [
    "#### 3. Merged Elem and High School\n",
    "For feature selection"
   ]
  },
  {
   "cell_type": "code",
   "execution_count": 11,
   "id": "designed-investigator",
   "metadata": {},
   "outputs": [],
   "source": [
    "data_merged = pd.read_csv(OUTPUT_PATH + 'CleanData_clustering.csv')\n",
    "data_merged = data_merged.dropna()"
   ]
  },
  {
   "cell_type": "markdown",
   "id": "resistant-peeing",
   "metadata": {},
   "source": [
    "### Modelling"
   ]
  },
  {
   "cell_type": "code",
   "execution_count": 12,
   "id": "chinese-bicycle",
   "metadata": {},
   "outputs": [],
   "source": [
    "training_data, testing_data = train_test_split(data_hs, test_size=0.2, random_state=42)"
   ]
  },
  {
   "cell_type": "code",
   "execution_count": 13,
   "id": "dress-martin",
   "metadata": {},
   "outputs": [],
   "source": [
    "X_train = training_data.drop(['NUM_SCHOOLS'], axis=1)\n",
    "y_train = training_data['NUM_SCHOOLS']\n",
    "\n",
    "X_test = testing_data.drop(['NUM_SCHOOLS'], axis=1)\n",
    "y_test = testing_data['NUM_SCHOOLS']"
   ]
  },
  {
   "cell_type": "code",
   "execution_count": 14,
   "id": "stuffed-texture",
   "metadata": {},
   "outputs": [],
   "source": [
    "normalizer = preprocessing.Normalization()\n",
    "normalizer.adapt(np.array(X_train))"
   ]
  },
  {
   "cell_type": "code",
   "execution_count": 15,
   "id": "destroyed-worker",
   "metadata": {},
   "outputs": [],
   "source": [
    "def base_model():\n",
    "    np.random.seed(1)\n",
    "    model = Sequential()\n",
    "    model.add(normalizer)\n",
    "    model.add(Dense(4, input_dim=2, activation='relu'))\n",
    "    model.add(Dense(4, activation='relu'))\n",
    "    model.add(Dense(1, activation='linear'))\n",
    "    model.compile(loss='mse', optimizer='adam')\n",
    "#     model.add(Dense(20, activation='tanh', input_dim=5, kernel_initializer='uniform'))\n",
    "#     model.add(Dense(1, activation='linear', kernel_initializer='uniform'))\n",
    "    \n",
    "    model.compile(loss='mse', optimizer='adam')\n",
    "    return model"
   ]
  },
  {
   "cell_type": "code",
   "execution_count": 17,
   "id": "sound-lawyer",
   "metadata": {},
   "outputs": [
    {
     "name": "stdout",
     "output_type": "stream",
     "text": [
      "Epoch 1/200\n",
      "24/24 [==============================] - 1s 22ms/step - loss: 1.6115 - val_loss: 1.2852\n",
      "Epoch 2/200\n",
      "24/24 [==============================] - 0s 4ms/step - loss: 1.1776 - val_loss: 1.1219\n",
      "Epoch 3/200\n",
      "24/24 [==============================] - 0s 5ms/step - loss: 1.1113 - val_loss: 0.9525\n",
      "Epoch 4/200\n",
      "24/24 [==============================] - 0s 5ms/step - loss: 0.8881 - val_loss: 0.7909\n",
      "Epoch 5/200\n",
      "24/24 [==============================] - 0s 5ms/step - loss: 0.8715 - val_loss: 0.6511\n",
      "Epoch 6/200\n",
      "24/24 [==============================] - 0s 5ms/step - loss: 0.6628 - val_loss: 0.5464\n",
      "Epoch 7/200\n",
      "24/24 [==============================] - 0s 4ms/step - loss: 0.5122 - val_loss: 0.4729\n",
      "Epoch 8/200\n",
      "24/24 [==============================] - 0s 5ms/step - loss: 0.5189 - val_loss: 0.4251\n",
      "Epoch 9/200\n",
      "24/24 [==============================] - 0s 5ms/step - loss: 0.4413 - val_loss: 0.3918\n",
      "Epoch 10/200\n",
      "24/24 [==============================] - 0s 5ms/step - loss: 0.3327 - val_loss: 0.3667\n",
      "Epoch 11/200\n",
      "24/24 [==============================] - 0s 5ms/step - loss: 0.5146 - val_loss: 0.3461\n",
      "Epoch 12/200\n",
      "24/24 [==============================] - 0s 5ms/step - loss: 0.3697 - val_loss: 0.3311\n",
      "Epoch 13/200\n",
      "24/24 [==============================] - 0s 5ms/step - loss: 0.3627 - val_loss: 0.3181\n",
      "Epoch 14/200\n",
      "24/24 [==============================] - 0s 5ms/step - loss: 0.3643 - val_loss: 0.3064\n",
      "Epoch 15/200\n",
      "24/24 [==============================] - 0s 5ms/step - loss: 0.3681 - val_loss: 0.2969\n",
      "Epoch 16/200\n",
      "24/24 [==============================] - 0s 5ms/step - loss: 0.2368 - val_loss: 0.2868\n",
      "Epoch 17/200\n",
      "24/24 [==============================] - 0s 5ms/step - loss: 0.3019 - val_loss: 0.2758\n",
      "Epoch 18/200\n",
      "24/24 [==============================] - 0s 5ms/step - loss: 0.3325 - val_loss: 0.2662\n",
      "Epoch 19/200\n",
      "24/24 [==============================] - 0s 4ms/step - loss: 0.3509 - val_loss: 0.2576\n",
      "Epoch 20/200\n",
      "24/24 [==============================] - 0s 5ms/step - loss: 0.2542 - val_loss: 0.2470\n",
      "Epoch 21/200\n",
      "24/24 [==============================] - 0s 4ms/step - loss: 0.2653 - val_loss: 0.2408\n",
      "Epoch 22/200\n",
      "24/24 [==============================] - 0s 5ms/step - loss: 0.2169 - val_loss: 0.2328\n",
      "Epoch 23/200\n",
      "24/24 [==============================] - 0s 8ms/step - loss: 0.2283 - val_loss: 0.2269\n",
      "Epoch 24/200\n",
      "24/24 [==============================] - 0s 4ms/step - loss: 0.2564 - val_loss: 0.2212\n",
      "Epoch 25/200\n",
      "24/24 [==============================] - 0s 5ms/step - loss: 0.2465 - val_loss: 0.2173\n",
      "Epoch 26/200\n",
      "24/24 [==============================] - 0s 5ms/step - loss: 0.1634 - val_loss: 0.2137\n",
      "Epoch 27/200\n",
      "24/24 [==============================] - 0s 5ms/step - loss: 0.1751 - val_loss: 0.2068\n",
      "Epoch 28/200\n",
      "24/24 [==============================] - 0s 4ms/step - loss: 0.2677 - val_loss: 0.2033\n",
      "Epoch 29/200\n",
      "24/24 [==============================] - 0s 5ms/step - loss: 0.1827 - val_loss: 0.2015\n",
      "Epoch 30/200\n",
      "24/24 [==============================] - 0s 5ms/step - loss: 0.1961 - val_loss: 0.1987\n",
      "Epoch 31/200\n",
      "24/24 [==============================] - 0s 5ms/step - loss: 0.2951 - val_loss: 0.1968\n",
      "Epoch 32/200\n",
      "24/24 [==============================] - 0s 5ms/step - loss: 0.2604 - val_loss: 0.1945\n",
      "Epoch 33/200\n",
      "24/24 [==============================] - 0s 5ms/step - loss: 0.2056 - val_loss: 0.1931\n",
      "Epoch 34/200\n",
      "24/24 [==============================] - 0s 5ms/step - loss: 0.2144 - val_loss: 0.1916\n",
      "Epoch 35/200\n",
      "24/24 [==============================] - 0s 5ms/step - loss: 0.2204 - val_loss: 0.1895\n",
      "Epoch 36/200\n",
      "24/24 [==============================] - 0s 5ms/step - loss: 0.1600 - val_loss: 0.1881\n",
      "Epoch 37/200\n",
      "24/24 [==============================] - 0s 5ms/step - loss: 0.2499 - val_loss: 0.1862\n",
      "Epoch 38/200\n",
      "24/24 [==============================] - 0s 5ms/step - loss: 0.1646 - val_loss: 0.1847\n",
      "Epoch 39/200\n",
      "24/24 [==============================] - 0s 4ms/step - loss: 0.1614 - val_loss: 0.1831\n",
      "Epoch 40/200\n",
      "24/24 [==============================] - 0s 3ms/step - loss: 0.2109 - val_loss: 0.1825\n",
      "Epoch 41/200\n",
      "24/24 [==============================] - 0s 5ms/step - loss: 0.2028 - val_loss: 0.1848\n",
      "Epoch 42/200\n",
      "24/24 [==============================] - 0s 5ms/step - loss: 0.1768 - val_loss: 0.1839\n",
      "Epoch 43/200\n",
      "24/24 [==============================] - 0s 5ms/step - loss: 0.2045 - val_loss: 0.1829\n",
      "Epoch 44/200\n",
      "24/24 [==============================] - 0s 5ms/step - loss: 0.2451 - val_loss: 0.1832\n",
      "Epoch 45/200\n",
      "24/24 [==============================] - 0s 5ms/step - loss: 0.2234 - val_loss: 0.1816\n",
      "Epoch 46/200\n",
      "24/24 [==============================] - 0s 5ms/step - loss: 0.2089 - val_loss: 0.1817\n",
      "Epoch 47/200\n",
      "24/24 [==============================] - 0s 5ms/step - loss: 0.1970 - val_loss: 0.1810\n",
      "Epoch 48/200\n",
      "24/24 [==============================] - 0s 5ms/step - loss: 0.1470 - val_loss: 0.1794\n",
      "Epoch 49/200\n",
      "24/24 [==============================] - 0s 5ms/step - loss: 0.1816 - val_loss: 0.1789\n",
      "Epoch 50/200\n",
      "24/24 [==============================] - 0s 5ms/step - loss: 0.1509 - val_loss: 0.1792\n",
      "Epoch 51/200\n",
      "24/24 [==============================] - 0s 5ms/step - loss: 0.1501 - val_loss: 0.1781\n",
      "Epoch 52/200\n",
      "24/24 [==============================] - 0s 5ms/step - loss: 0.1919 - val_loss: 0.1783\n",
      "Epoch 53/200\n",
      "24/24 [==============================] - 0s 5ms/step - loss: 0.1939 - val_loss: 0.1785\n",
      "Epoch 54/200\n",
      "24/24 [==============================] - 0s 5ms/step - loss: 0.2272 - val_loss: 0.1784\n",
      "Epoch 55/200\n",
      "24/24 [==============================] - 0s 5ms/step - loss: 0.1215 - val_loss: 0.1762\n",
      "Epoch 56/200\n",
      "24/24 [==============================] - 0s 5ms/step - loss: 0.1611 - val_loss: 0.1766\n",
      "Epoch 57/200\n",
      "24/24 [==============================] - 0s 5ms/step - loss: 0.2085 - val_loss: 0.1775\n",
      "Epoch 58/200\n",
      "24/24 [==============================] - 0s 5ms/step - loss: 0.1591 - val_loss: 0.1780\n",
      "Epoch 59/200\n",
      "24/24 [==============================] - 0s 5ms/step - loss: 0.1490 - val_loss: 0.1758\n",
      "Epoch 60/200\n",
      "24/24 [==============================] - 0s 5ms/step - loss: 0.1821 - val_loss: 0.1751\n",
      "Epoch 61/200\n",
      "24/24 [==============================] - 0s 5ms/step - loss: 0.1739 - val_loss: 0.1747\n",
      "Epoch 62/200\n",
      "24/24 [==============================] - 0s 5ms/step - loss: 0.1513 - val_loss: 0.1800\n",
      "Epoch 63/200\n",
      "24/24 [==============================] - 0s 5ms/step - loss: 0.1725 - val_loss: 0.1782\n",
      "Epoch 64/200\n",
      "24/24 [==============================] - 0s 5ms/step - loss: 0.1978 - val_loss: 0.1765\n",
      "Epoch 65/200\n",
      "24/24 [==============================] - 0s 4ms/step - loss: 0.1181 - val_loss: 0.1751\n",
      "Epoch 66/200\n",
      "24/24 [==============================] - 0s 5ms/step - loss: 0.1907 - val_loss: 0.1761\n",
      "Epoch 67/200\n",
      "24/24 [==============================] - 0s 5ms/step - loss: 0.1370 - val_loss: 0.1753\n",
      "Epoch 68/200\n",
      "24/24 [==============================] - 0s 5ms/step - loss: 0.1877 - val_loss: 0.1759\n",
      "Epoch 69/200\n",
      "24/24 [==============================] - 0s 5ms/step - loss: 0.2011 - val_loss: 0.1754\n",
      "Epoch 70/200\n",
      "24/24 [==============================] - 0s 5ms/step - loss: 0.1533 - val_loss: 0.1744\n",
      "Epoch 71/200\n",
      "24/24 [==============================] - 0s 5ms/step - loss: 0.1376 - val_loss: 0.1754\n",
      "Epoch 72/200\n",
      "24/24 [==============================] - 0s 5ms/step - loss: 0.1284 - val_loss: 0.1747\n",
      "Epoch 73/200\n",
      "24/24 [==============================] - 0s 5ms/step - loss: 0.1462 - val_loss: 0.1744\n",
      "Epoch 74/200\n",
      "24/24 [==============================] - 0s 5ms/step - loss: 0.2184 - val_loss: 0.1748\n",
      "Epoch 75/200\n",
      "24/24 [==============================] - 0s 5ms/step - loss: 0.1443 - val_loss: 0.1755\n",
      "Epoch 76/200\n",
      "24/24 [==============================] - 0s 5ms/step - loss: 0.1647 - val_loss: 0.1750\n",
      "Epoch 77/200\n",
      "24/24 [==============================] - 0s 5ms/step - loss: 0.1537 - val_loss: 0.1760\n",
      "Epoch 78/200\n",
      "24/24 [==============================] - 0s 5ms/step - loss: 0.1670 - val_loss: 0.1747\n",
      "Epoch 79/200\n",
      "24/24 [==============================] - 0s 5ms/step - loss: 0.1927 - val_loss: 0.1737\n",
      "Epoch 80/200\n",
      "24/24 [==============================] - 0s 5ms/step - loss: 0.1109 - val_loss: 0.1722\n",
      "Epoch 81/200\n",
      "24/24 [==============================] - 0s 5ms/step - loss: 0.1593 - val_loss: 0.1782\n",
      "Epoch 82/200\n",
      "24/24 [==============================] - 0s 5ms/step - loss: 0.1292 - val_loss: 0.1751\n",
      "Epoch 83/200\n"
     ]
    },
    {
     "name": "stdout",
     "output_type": "stream",
     "text": [
      "24/24 [==============================] - 0s 5ms/step - loss: 0.1352 - val_loss: 0.1777\n",
      "Epoch 84/200\n",
      "24/24 [==============================] - 0s 5ms/step - loss: 0.1425 - val_loss: 0.1754\n",
      "Epoch 85/200\n",
      "24/24 [==============================] - 0s 5ms/step - loss: 0.2189 - val_loss: 0.1753\n",
      "Epoch 86/200\n",
      "24/24 [==============================] - 0s 5ms/step - loss: 0.1401 - val_loss: 0.1751\n",
      "Epoch 87/200\n",
      "24/24 [==============================] - 0s 5ms/step - loss: 0.2810 - val_loss: 0.1772\n",
      "Epoch 88/200\n",
      "24/24 [==============================] - 0s 6ms/step - loss: 0.1870 - val_loss: 0.1766\n",
      "Epoch 89/200\n",
      "24/24 [==============================] - 0s 5ms/step - loss: 0.1355 - val_loss: 0.1760\n",
      "Epoch 90/200\n",
      "24/24 [==============================] - 0s 5ms/step - loss: 0.1965 - val_loss: 0.1763\n",
      "Epoch 91/200\n",
      "24/24 [==============================] - 0s 5ms/step - loss: 0.1765 - val_loss: 0.1773\n",
      "Epoch 92/200\n",
      "24/24 [==============================] - 0s 5ms/step - loss: 0.1372 - val_loss: 0.1753\n",
      "Epoch 93/200\n",
      "24/24 [==============================] - 0s 7ms/step - loss: 0.1261 - val_loss: 0.1773\n",
      "Epoch 94/200\n",
      "24/24 [==============================] - 0s 4ms/step - loss: 0.1436 - val_loss: 0.1767\n",
      "Epoch 95/200\n",
      "24/24 [==============================] - 0s 4ms/step - loss: 0.1562 - val_loss: 0.1785\n",
      "Epoch 96/200\n",
      "24/24 [==============================] - 0s 5ms/step - loss: 0.1646 - val_loss: 0.1784\n",
      "Epoch 97/200\n",
      "24/24 [==============================] - 0s 4ms/step - loss: 0.1935 - val_loss: 0.1791\n",
      "Epoch 98/200\n",
      "24/24 [==============================] - 0s 5ms/step - loss: 0.1085 - val_loss: 0.1775\n",
      "Epoch 99/200\n",
      "24/24 [==============================] - 0s 5ms/step - loss: 0.1770 - val_loss: 0.1801\n",
      "Epoch 100/200\n",
      "24/24 [==============================] - 0s 4ms/step - loss: 0.1474 - val_loss: 0.1786\n",
      "Epoch 101/200\n",
      "24/24 [==============================] - 0s 5ms/step - loss: 0.1300 - val_loss: 0.1784\n",
      "Epoch 102/200\n",
      "24/24 [==============================] - 0s 4ms/step - loss: 0.1728 - val_loss: 0.1793\n",
      "Epoch 103/200\n",
      "24/24 [==============================] - 0s 4ms/step - loss: 0.1740 - val_loss: 0.1796\n",
      "Epoch 104/200\n",
      "24/24 [==============================] - 0s 4ms/step - loss: 0.1603 - val_loss: 0.1788\n",
      "Epoch 105/200\n",
      "24/24 [==============================] - 0s 5ms/step - loss: 0.1315 - val_loss: 0.1799\n",
      "Epoch 106/200\n",
      "24/24 [==============================] - 0s 4ms/step - loss: 0.1979 - val_loss: 0.1807\n",
      "Epoch 107/200\n",
      "24/24 [==============================] - 0s 4ms/step - loss: 0.1271 - val_loss: 0.1788\n",
      "Epoch 108/200\n",
      "24/24 [==============================] - 0s 4ms/step - loss: 0.1258 - val_loss: 0.1793\n",
      "Epoch 109/200\n",
      "24/24 [==============================] - 0s 4ms/step - loss: 0.1045 - val_loss: 0.1798\n",
      "Epoch 110/200\n",
      "24/24 [==============================] - 0s 4ms/step - loss: 0.1323 - val_loss: 0.1806\n",
      "Epoch 111/200\n",
      "24/24 [==============================] - 0s 4ms/step - loss: 0.0949 - val_loss: 0.1793\n",
      "Epoch 112/200\n",
      "24/24 [==============================] - 0s 5ms/step - loss: 0.1212 - val_loss: 0.1807\n",
      "Epoch 113/200\n",
      "24/24 [==============================] - 0s 5ms/step - loss: 0.1183 - val_loss: 0.1816\n",
      "Epoch 114/200\n",
      "24/24 [==============================] - 0s 5ms/step - loss: 0.1586 - val_loss: 0.1821\n",
      "Epoch 115/200\n",
      "24/24 [==============================] - 0s 5ms/step - loss: 0.1402 - val_loss: 0.1824\n",
      "Epoch 116/200\n",
      "24/24 [==============================] - 0s 5ms/step - loss: 0.1355 - val_loss: 0.1821\n",
      "Epoch 117/200\n",
      "24/24 [==============================] - 0s 5ms/step - loss: 0.2390 - val_loss: 0.1827\n",
      "Epoch 118/200\n",
      "24/24 [==============================] - 0s 5ms/step - loss: 0.1247 - val_loss: 0.1816\n",
      "Epoch 119/200\n",
      "24/24 [==============================] - 0s 4ms/step - loss: 0.2132 - val_loss: 0.1824\n",
      "Epoch 120/200\n",
      "24/24 [==============================] - 0s 4ms/step - loss: 0.1440 - val_loss: 0.1806\n",
      "Epoch 121/200\n",
      "24/24 [==============================] - 0s 4ms/step - loss: 0.1677 - val_loss: 0.1823\n",
      "Epoch 122/200\n",
      "24/24 [==============================] - 0s 5ms/step - loss: 0.2064 - val_loss: 0.1806\n",
      "Epoch 123/200\n",
      "24/24 [==============================] - 0s 5ms/step - loss: 0.1346 - val_loss: 0.1831\n",
      "Epoch 124/200\n",
      "24/24 [==============================] - 0s 5ms/step - loss: 0.1776 - val_loss: 0.1815\n",
      "Epoch 125/200\n",
      "24/24 [==============================] - 0s 5ms/step - loss: 0.1719 - val_loss: 0.1799\n",
      "Epoch 126/200\n",
      "24/24 [==============================] - 0s 5ms/step - loss: 0.1845 - val_loss: 0.1826\n",
      "Epoch 127/200\n",
      "24/24 [==============================] - 0s 5ms/step - loss: 0.1630 - val_loss: 0.1810\n",
      "Epoch 128/200\n",
      "24/24 [==============================] - 0s 5ms/step - loss: 0.0962 - val_loss: 0.1834\n",
      "Epoch 129/200\n",
      "24/24 [==============================] - 0s 5ms/step - loss: 0.1536 - val_loss: 0.1795\n",
      "Epoch 130/200\n",
      "24/24 [==============================] - 0s 5ms/step - loss: 0.1036 - val_loss: 0.1808\n",
      "Epoch 131/200\n",
      "24/24 [==============================] - 0s 5ms/step - loss: 0.1882 - val_loss: 0.1817\n",
      "Epoch 132/200\n",
      "24/24 [==============================] - 0s 3ms/step - loss: 0.1619 - val_loss: 0.1808\n",
      "Epoch 133/200\n",
      "24/24 [==============================] - 0s 5ms/step - loss: 0.1247 - val_loss: 0.1827\n",
      "Epoch 134/200\n",
      "24/24 [==============================] - 0s 5ms/step - loss: 0.1019 - val_loss: 0.1811\n",
      "Epoch 135/200\n",
      "24/24 [==============================] - 0s 5ms/step - loss: 0.1632 - val_loss: 0.1853\n",
      "Epoch 136/200\n",
      "24/24 [==============================] - 0s 4ms/step - loss: 0.1629 - val_loss: 0.1854\n",
      "Epoch 137/200\n",
      "24/24 [==============================] - 0s 4ms/step - loss: 0.1176 - val_loss: 0.1858\n",
      "Epoch 138/200\n",
      "24/24 [==============================] - 0s 4ms/step - loss: 0.1017 - val_loss: 0.1878\n",
      "Epoch 139/200\n",
      "24/24 [==============================] - 0s 5ms/step - loss: 0.1141 - val_loss: 0.1886\n",
      "Epoch 140/200\n",
      "24/24 [==============================] - 0s 4ms/step - loss: 0.1513 - val_loss: 0.1863\n",
      "Epoch 141/200\n",
      "24/24 [==============================] - 0s 4ms/step - loss: 0.1814 - val_loss: 0.1887\n",
      "Epoch 142/200\n",
      "24/24 [==============================] - 0s 5ms/step - loss: 0.1364 - val_loss: 0.1866\n",
      "Epoch 143/200\n",
      "24/24 [==============================] - 0s 5ms/step - loss: 0.1081 - val_loss: 0.1881\n",
      "Epoch 144/200\n",
      "24/24 [==============================] - 0s 5ms/step - loss: 0.1336 - val_loss: 0.1888\n",
      "Epoch 145/200\n",
      "24/24 [==============================] - 0s 5ms/step - loss: 0.1785 - val_loss: 0.1895\n",
      "Epoch 146/200\n",
      "24/24 [==============================] - 0s 5ms/step - loss: 0.1420 - val_loss: 0.1834\n",
      "Epoch 147/200\n",
      "24/24 [==============================] - 0s 5ms/step - loss: 0.1656 - val_loss: 0.1849\n",
      "Epoch 148/200\n",
      "24/24 [==============================] - 0s 5ms/step - loss: 0.1162 - val_loss: 0.1862\n",
      "Epoch 149/200\n",
      "24/24 [==============================] - 0s 4ms/step - loss: 0.0942 - val_loss: 0.1852\n",
      "Epoch 150/200\n",
      "24/24 [==============================] - 0s 4ms/step - loss: 0.1118 - val_loss: 0.1851\n",
      "Epoch 151/200\n",
      "24/24 [==============================] - 0s 4ms/step - loss: 0.1588 - val_loss: 0.1903\n",
      "Epoch 152/200\n",
      "24/24 [==============================] - 0s 5ms/step - loss: 0.1061 - val_loss: 0.1868\n",
      "Epoch 153/200\n",
      "24/24 [==============================] - 0s 5ms/step - loss: 0.1340 - val_loss: 0.1895\n",
      "Epoch 154/200\n",
      "24/24 [==============================] - 0s 5ms/step - loss: 0.1330 - val_loss: 0.1886\n",
      "Epoch 155/200\n",
      "24/24 [==============================] - 0s 4ms/step - loss: 0.0894 - val_loss: 0.1907\n",
      "Epoch 156/200\n",
      "24/24 [==============================] - 0s 8ms/step - loss: 0.1615 - val_loss: 0.1891\n",
      "Epoch 157/200\n",
      "24/24 [==============================] - 0s 7ms/step - loss: 0.1372 - val_loss: 0.1910\n",
      "Epoch 158/200\n",
      "24/24 [==============================] - 0s 5ms/step - loss: 0.1720 - val_loss: 0.1904\n",
      "Epoch 159/200\n",
      "24/24 [==============================] - 0s 5ms/step - loss: 0.1168 - val_loss: 0.1884\n",
      "Epoch 160/200\n",
      "24/24 [==============================] - 0s 5ms/step - loss: 0.0864 - val_loss: 0.1900\n",
      "Epoch 161/200\n",
      "24/24 [==============================] - 0s 5ms/step - loss: 0.1267 - val_loss: 0.1917\n",
      "Epoch 162/200\n",
      "24/24 [==============================] - 0s 5ms/step - loss: 0.1249 - val_loss: 0.1933\n",
      "Epoch 163/200\n",
      "24/24 [==============================] - 0s 5ms/step - loss: 0.1093 - val_loss: 0.1915\n",
      "Epoch 164/200\n"
     ]
    },
    {
     "name": "stdout",
     "output_type": "stream",
     "text": [
      "24/24 [==============================] - 0s 5ms/step - loss: 0.1476 - val_loss: 0.1925\n",
      "Epoch 165/200\n",
      "24/24 [==============================] - 0s 5ms/step - loss: 0.0979 - val_loss: 0.1923\n",
      "Epoch 166/200\n",
      "24/24 [==============================] - 0s 5ms/step - loss: 0.0997 - val_loss: 0.1918\n",
      "Epoch 167/200\n",
      "24/24 [==============================] - 0s 5ms/step - loss: 0.1006 - val_loss: 0.1910\n",
      "Epoch 168/200\n",
      "24/24 [==============================] - 0s 5ms/step - loss: 0.1146 - val_loss: 0.1961\n",
      "Epoch 169/200\n",
      "24/24 [==============================] - 0s 4ms/step - loss: 0.1374 - val_loss: 0.1919\n",
      "Epoch 170/200\n",
      "24/24 [==============================] - 0s 4ms/step - loss: 0.1306 - val_loss: 0.1951\n",
      "Epoch 171/200\n",
      "24/24 [==============================] - 0s 5ms/step - loss: 0.1293 - val_loss: 0.1908\n",
      "Epoch 172/200\n",
      "24/24 [==============================] - 0s 5ms/step - loss: 0.0884 - val_loss: 0.1928\n",
      "Epoch 173/200\n",
      "24/24 [==============================] - 0s 5ms/step - loss: 0.0973 - val_loss: 0.1952\n",
      "Epoch 174/200\n",
      "24/24 [==============================] - 0s 5ms/step - loss: 0.0961 - val_loss: 0.1961\n",
      "Epoch 175/200\n",
      "24/24 [==============================] - 0s 5ms/step - loss: 0.1249 - val_loss: 0.1960\n",
      "Epoch 176/200\n",
      "24/24 [==============================] - 0s 4ms/step - loss: 0.1020 - val_loss: 0.1956\n"
     ]
    }
   ],
   "source": [
    "model = base_model()\n",
    "EPOCHS = 200\n",
    "BATCH_SIZE = 10\n",
    "\n",
    "\n",
    "callback = tf.keras.callbacks.EarlyStopping(monitor='loss', patience=3)\n",
    "\n",
    "history = model.fit(X_train, \n",
    "                    y_train, \n",
    "                    epochs=EPOCHS, \n",
    "                    batch_size=BATCH_SIZE,\n",
    "                    validation_split=0.2,\n",
    "                    callbacks=callback)"
   ]
  },
  {
   "cell_type": "code",
   "execution_count": 18,
   "id": "confidential-proceeding",
   "metadata": {},
   "outputs": [
    {
     "data": {
      "text/html": [
       "<div>\n",
       "<style scoped>\n",
       "    .dataframe tbody tr th:only-of-type {\n",
       "        vertical-align: middle;\n",
       "    }\n",
       "\n",
       "    .dataframe tbody tr th {\n",
       "        vertical-align: top;\n",
       "    }\n",
       "\n",
       "    .dataframe thead th {\n",
       "        text-align: right;\n",
       "    }\n",
       "</style>\n",
       "<table border=\"1\" class=\"dataframe\">\n",
       "  <thead>\n",
       "    <tr style=\"text-align: right;\">\n",
       "      <th></th>\n",
       "      <th>loss</th>\n",
       "      <th>val_loss</th>\n",
       "      <th>epoch</th>\n",
       "    </tr>\n",
       "  </thead>\n",
       "  <tbody>\n",
       "    <tr>\n",
       "      <th>171</th>\n",
       "      <td>0.118703</td>\n",
       "      <td>0.192849</td>\n",
       "      <td>171</td>\n",
       "    </tr>\n",
       "    <tr>\n",
       "      <th>172</th>\n",
       "      <td>0.117529</td>\n",
       "      <td>0.195204</td>\n",
       "      <td>172</td>\n",
       "    </tr>\n",
       "    <tr>\n",
       "      <th>173</th>\n",
       "      <td>0.117881</td>\n",
       "      <td>0.196096</td>\n",
       "      <td>173</td>\n",
       "    </tr>\n",
       "    <tr>\n",
       "      <th>174</th>\n",
       "      <td>0.118612</td>\n",
       "      <td>0.196026</td>\n",
       "      <td>174</td>\n",
       "    </tr>\n",
       "    <tr>\n",
       "      <th>175</th>\n",
       "      <td>0.117880</td>\n",
       "      <td>0.195640</td>\n",
       "      <td>175</td>\n",
       "    </tr>\n",
       "  </tbody>\n",
       "</table>\n",
       "</div>"
      ],
      "text/plain": [
       "         loss  val_loss  epoch\n",
       "171  0.118703  0.192849    171\n",
       "172  0.117529  0.195204    172\n",
       "173  0.117881  0.196096    173\n",
       "174  0.118612  0.196026    174\n",
       "175  0.117880  0.195640    175"
      ]
     },
     "execution_count": 18,
     "metadata": {},
     "output_type": "execute_result"
    }
   ],
   "source": [
    "hist = pd.DataFrame(history.history)\n",
    "hist['epoch'] = history.epoch\n",
    "hist.tail()"
   ]
  },
  {
   "cell_type": "code",
   "execution_count": 19,
   "id": "provincial-eligibility",
   "metadata": {},
   "outputs": [],
   "source": [
    "def plot_loss(history):\n",
    "    plt.plot(history.history['loss'], label='loss')\n",
    "    plt.plot(history.history['val_loss'], label='val_loss')\n",
    "    plt.xlabel('Epoch')\n",
    "    plt.ylabel('Error')\n",
    "    plt.legend()\n",
    "    plt.grid(True)"
   ]
  },
  {
   "cell_type": "code",
   "execution_count": 20,
   "id": "english-harvest",
   "metadata": {},
   "outputs": [
    {
     "data": {
      "image/png": "[encoded data removed]",
      "text/plain": [
       "<Figure size 432x288 with 1 Axes>"
      ]
     },
     "metadata": {
      "needs_background": "light"
     },
     "output_type": "display_data"
    }
   ],
   "source": [
    "plot_loss(history)"
   ]
  },
  {
   "cell_type": "code",
   "execution_count": 21,
   "id": "rough-strain",
   "metadata": {},
   "outputs": [],
   "source": [
    "y_pred = model.predict(X_test)"
   ]
  },
  {
   "cell_type": "code",
   "execution_count": 22,
   "id": "applied-nightmare",
   "metadata": {},
   "outputs": [],
   "source": [
    "y_pred_round = np.round(y_pred)"
   ]
  },
  {
   "cell_type": "code",
   "execution_count": 23,
   "id": "closed-bidding",
   "metadata": {},
   "outputs": [
    {
     "data": {
      "text/plain": [
       "0.7837837837837838"
      ]
     },
     "execution_count": 23,
     "metadata": {},
     "output_type": "execute_result"
    }
   ],
   "source": [
    "accuracy_score(y_test, y_pred_round)"
   ]
  },
  {
   "cell_type": "code",
   "execution_count": 24,
   "id": "accurate-yugoslavia",
   "metadata": {},
   "outputs": [],
   "source": [
    "# model.save(OUTPUT_PATH + 'Model_NN_HS')"
   ]
  },
  {
   "cell_type": "markdown",
   "id": "executive-steal",
   "metadata": {},
   "source": [
    "### PREDICT BRGY WITHOUT SCHOOL"
   ]
  },
  {
   "cell_type": "code",
   "execution_count": 25,
   "id": "ignored-rebate",
   "metadata": {},
   "outputs": [],
   "source": [
    "def predict(X_predict):\n",
    "    y_pred_null = model.predict(X_predict)\n",
    "    X_predict['Pred_school_num'] = np.round(y_pred_null)\n",
    "    X_predict['PSGC_BRGY'] = dataset_null['PSGC_BRGY']\n",
    "    return X_predict"
   ]
  },
  {
   "cell_type": "code",
   "execution_count": 26,
   "id": "blind-catalog",
   "metadata": {},
   "outputs": [
    {
     "data": {
      "text/plain": [
       "726"
      ]
     },
     "execution_count": 26,
     "metadata": {},
     "output_type": "execute_result"
    }
   ],
   "source": [
    "dataset_null = dataset_raw[dataset_raw.isnull().any(axis=1)]\n",
    "len(dataset_null)"
   ]
  },
  {
   "cell_type": "code",
   "execution_count": 27,
   "id": "accepted-manitoba",
   "metadata": {},
   "outputs": [],
   "source": [
    "X_predict = dataset_null.iloc[:,84:]\n",
    "X_predict['HS_POPN'] = dataset_null['both_age_13_to_16']"
   ]
  },
  {
   "cell_type": "code",
   "execution_count": 28,
   "id": "assured-intelligence",
   "metadata": {},
   "outputs": [],
   "source": [
    "pred_1 = predict(X_predict)\n",
    "pred_1['PSGC_BRGY'] = dataset_null['PSGC_BRGY']"
   ]
  },
  {
   "cell_type": "code",
   "execution_count": 29,
   "id": "conditional-communications",
   "metadata": {},
   "outputs": [],
   "source": [
    "zero_schools = zero_schools_hs.drop(['NUM_SCHOOLS','PSGC_BRGY'], axis=1)"
   ]
  },
  {
   "cell_type": "code",
   "execution_count": 30,
   "id": "funded-elements",
   "metadata": {},
   "outputs": [],
   "source": [
    "pred_2 = predict(zero_schools)\n",
    "pred_2['PSGC_BRGY'] = zero_schools_hs['PSGC_BRGY']"
   ]
  },
  {
   "cell_type": "code",
   "execution_count": 31,
   "id": "laughing-racing",
   "metadata": {},
   "outputs": [],
   "source": [
    "predicted_df = pd.concat([pred_1, pred_2])"
   ]
  },
  {
   "cell_type": "code",
   "execution_count": 32,
   "id": "second-fiber",
   "metadata": {},
   "outputs": [
    {
     "data": {
      "text/plain": [
       "2116"
      ]
     },
     "execution_count": 32,
     "metadata": {},
     "output_type": "execute_result"
    }
   ],
   "source": [
    "len(predicted_df)"
   ]
  },
  {
   "cell_type": "code",
   "execution_count": 33,
   "id": "thrown-luther",
   "metadata": {},
   "outputs": [],
   "source": [
    "predicted_df.to_csv(OUTPUT_PATH + 'Model_NN_Output_HS.csv', index=False)"
   ]
  },
  {
   "cell_type": "markdown",
   "id": "electronic-halloween",
   "metadata": {},
   "source": [
    "### FEATURE IMPORTANCE"
   ]
  },
  {
   "cell_type": "code",
   "execution_count": 44,
   "id": "fossil-diesel",
   "metadata": {},
   "outputs": [],
   "source": [
    "from sklearn.model_selection import cross_val_score, KFold\n",
    "from keras.wrappers.scikit_learn import KerasRegressor\n",
    "\n",
    "import eli5\n",
    "from eli5.sklearn import PermutationImportance"
   ]
  },
  {
   "cell_type": "code",
   "execution_count": 45,
   "id": "equipped-wrong",
   "metadata": {},
   "outputs": [],
   "source": [
    "estimator = KerasRegressor(build_fn=base_model, nb_epoch=EPOCHS, \n",
    "                    batch_size=BATCH_SIZE,\n",
    "                    validation_split=0.2)\n",
    "kfold = KFold(n_splits=10, random_state=1, shuffle=True)"
   ]
  },
  {
   "cell_type": "code",
   "execution_count": 46,
   "id": "distinct-bubble",
   "metadata": {},
   "outputs": [
    {
     "name": "stdout",
     "output_type": "stream",
     "text": [
      "86/86 [==============================] - 0s 2ms/step - loss: 1.3437 - val_loss: 1.7324\n",
      "12/12 [==============================] - 0s 726us/step - loss: 2.0495\n",
      "86/86 [==============================] - 1s 2ms/step - loss: 2.1970 - val_loss: 2.3246\n",
      "12/12 [==============================] - 0s 725us/step - loss: 2.1009\n",
      "86/86 [==============================] - 0s 2ms/step - loss: 1.7074 - val_loss: 1.9402\n",
      "12/12 [==============================] - 0s 727us/step - loss: 0.6817\n",
      "86/86 [==============================] - 1s 3ms/step - loss: 3.5042 - val_loss: 3.2673\n",
      "12/12 [==============================] - 0s 833us/step - loss: 2.2905\n",
      "86/86 [==============================] - 1s 3ms/step - loss: 3.7226 - val_loss: 2.6015\n",
      "12/12 [==============================] - 0s 816us/step - loss: 2.4457\n",
      "86/86 [==============================] - 1s 2ms/step - loss: 2.2199 - val_loss: 2.5232\n",
      "12/12 [==============================] - 0s 635us/step - loss: 1.4800\n",
      "86/86 [==============================] - 0s 2ms/step - loss: 1.5039 - val_loss: 1.9081\n",
      "12/12 [==============================] - 0s 771us/step - loss: 1.2693\n",
      "86/86 [==============================] - 0s 2ms/step - loss: 1.9496 - val_loss: 1.9957\n",
      "12/12 [==============================] - 0s 803us/step - loss: 3.0299\n",
      "86/86 [==============================] - 0s 2ms/step - loss: 2.3190 - val_loss: 2.4584\n",
      "12/12 [==============================] - 0s 773us/step - loss: 1.3681\n",
      "86/86 [==============================] - 0s 2ms/step - loss: 2.3020 - val_loss: 2.2919\n",
      "12/12 [==============================] - 0s 816us/step - loss: 1.4270\n"
     ]
    }
   ],
   "source": [
    "results = cross_val_score(estimator, X_train, y_train, cv=kfold)"
   ]
  },
  {
   "cell_type": "code",
   "execution_count": 47,
   "id": "mature-chuck",
   "metadata": {},
   "outputs": [
    {
     "name": "stdout",
     "output_type": "stream",
     "text": [
      "Results: -1.81 (0.65) MSE\n"
     ]
    }
   ],
   "source": [
    "print(\"Results: %.2f (%.2f) MSE\" % (results.mean(), results.std()))"
   ]
  },
  {
   "cell_type": "code",
   "execution_count": 48,
   "id": "leading-passport",
   "metadata": {
    "scrolled": true
   },
   "outputs": [
    {
     "name": "stdout",
     "output_type": "stream",
     "text": [
      "96/96 [==============================] - 0s 2ms/step - loss: 5.1113 - val_loss: 4.3918\n"
     ]
    },
    {
     "data": {
      "text/plain": [
       "<tensorflow.python.keras.callbacks.History at 0x1e74c611940>"
      ]
     },
     "execution_count": 48,
     "metadata": {},
     "output_type": "execute_result"
    }
   ],
   "source": [
    "estimator.fit(X_train, y_train)"
   ]
  },
  {
   "cell_type": "code",
   "execution_count": 49,
   "id": "synthetic-student",
   "metadata": {},
   "outputs": [
    {
     "name": "stdout",
     "output_type": "stream",
     "text": [
      "119/119 [==============================] - 0s 846us/step - loss: 3.6346\n",
      "119/119 [==============================] - 0s 850us/step - loss: 3.6733\n",
      "119/119 [==============================] - 0s 843us/step - loss: 3.6249\n",
      "119/119 [==============================] - 0s 872us/step - loss: 3.6812\n",
      "119/119 [==============================] - 0s 886us/step - loss: 3.6248\n",
      "119/119 [==============================] - 0s 882us/step - loss: 3.6818\n",
      "119/119 [==============================] - 0s 1ms/step - loss: 3.5983\n",
      "119/119 [==============================] - 0s 923us/step - loss: 3.7890\n",
      "119/119 [==============================] - 0s 871us/step - loss: 3.6512\n",
      "119/119 [==============================] - 0s 886us/step - loss: 3.6205\n",
      "119/119 [==============================] - 0s 892us/step - loss: 3.6964\n",
      "119/119 [==============================] - 0s 868us/step - loss: 3.7467\n",
      "119/119 [==============================] - 0s 913us/step - loss: 3.6988\n",
      "119/119 [==============================] - 0s 887us/step - loss: 3.7061\n",
      "119/119 [==============================] - 0s 881us/step - loss: 3.6384\n",
      "119/119 [==============================] - 0s 869us/step - loss: 3.7314\n",
      "119/119 [==============================] - 0s 848us/step - loss: 3.6328\n",
      "119/119 [==============================] - 0s 902us/step - loss: 3.6542\n",
      "119/119 [==============================] - 0s 876us/step - loss: 3.6369\n",
      "119/119 [==============================] - 0s 919us/step - loss: 3.6759\n",
      "119/119 [==============================] - 0s 855us/step - loss: 3.6885\n",
      "119/119 [==============================] - 0s 866us/step - loss: 3.6237\n",
      "119/119 [==============================] - 0s 895us/step - loss: 3.6884\n",
      "119/119 [==============================] - 0s 949us/step - loss: 3.6289\n",
      "119/119 [==============================] - 0s 941us/step - loss: 3.6835\n",
      "119/119 [==============================] - 0s 956us/step - loss: 3.6226\n",
      "119/119 [==============================] - 0s 1ms/step - loss: 3.7446\n",
      "119/119 [==============================] - 0s 979us/step - loss: 3.6577\n",
      "119/119 [==============================] - 0s 1ms/step - loss: 3.6289\n",
      "119/119 [==============================] - 0s 989us/step - loss: 3.6963\n",
      "119/119 [==============================] - 0s 954us/step - loss: 3.7075\n",
      "119/119 [==============================] - 0s 1ms/step - loss: 3.6571\n",
      "119/119 [==============================] - 0s 1ms/step - loss: 3.6789\n",
      "119/119 [==============================] - 0s 1ms/step - loss: 3.6506\n",
      "119/119 [==============================] - 0s 976us/step - loss: 3.7057\n",
      "119/119 [==============================] - 0s 961us/step - loss: 3.6162\n",
      "119/119 [==============================] - 0s 1ms/step - loss: 3.6441\n",
      "119/119 [==============================] - 0s 1ms/step - loss: 3.6337\n",
      "119/119 [==============================] - 0s 1ms/step - loss: 3.6913\n",
      "119/119 [==============================] - 0s 1ms/step - loss: 3.7016\n",
      "119/119 [==============================] - 0s 1ms/step - loss: 3.6247\n",
      "119/119 [==============================] - 0s 996us/step - loss: 3.7195\n",
      "119/119 [==============================] - 0s 1ms/step - loss: 3.6400\n",
      "119/119 [==============================] - 0s 950us/step - loss: 3.6660\n",
      "119/119 [==============================] - 0s 1ms/step - loss: 3.6097\n",
      "119/119 [==============================] - 0s 952us/step - loss: 3.7593\n",
      "119/119 [==============================] - 0s 978us/step - loss: 3.6503\n",
      "119/119 [==============================] - 0s 993us/step - loss: 3.6126\n",
      "119/119 [==============================] - 0s 998us/step - loss: 3.6804\n",
      "119/119 [==============================] - 0s 1ms/step - loss: 3.6996\n",
      "119/119 [==============================] - 0s 1ms/step - loss: 3.6803\n",
      "119/119 [==============================] - 0s 1ms/step - loss: 3.6950\n",
      "119/119 [==============================] - 0s 1ms/step - loss: 3.6205\n",
      "119/119 [==============================] - 0s 1ms/step - loss: 3.7264\n",
      "119/119 [==============================] - 0s 1ms/step - loss: 3.6555\n",
      "119/119 [==============================] - 0s 1ms/step - loss: 3.6511\n",
      "119/119 [==============================] - 0s 1ms/step - loss: 3.6325\n",
      "119/119 [==============================] - 0s 1ms/step - loss: 3.6801\n",
      "119/119 [==============================] - 0s 991us/step - loss: 3.6992\n",
      "119/119 [==============================] - 0s 1ms/step - loss: 3.6298\n",
      "119/119 [==============================] - 0s 1ms/step - loss: 3.6849\n",
      "119/119 [==============================] - 0s 997us/step - loss: 3.6299\n",
      "119/119 [==============================] - 0s 1ms/step - loss: 3.6640\n",
      "119/119 [==============================] - 0s 1ms/step - loss: 3.6133\n",
      "119/119 [==============================] - 0s 1ms/step - loss: 3.7135\n",
      "119/119 [==============================] - 0s 1ms/step - loss: 3.6430\n",
      "119/119 [==============================] - 0s 1ms/step - loss: 3.6180\n",
      "119/119 [==============================] - 0s 1ms/step - loss: 3.7043\n",
      "119/119 [==============================] - 0s 1ms/step - loss: 3.7109\n",
      "119/119 [==============================] - 0s 1ms/step - loss: 3.6811\n",
      "119/119 [==============================] - 0s 1ms/step - loss: 3.6909\n",
      "119/119 [==============================] - 0s 1ms/step - loss: 3.6333\n",
      "119/119 [==============================] - 0s 1ms/step - loss: 3.6978\n",
      "119/119 [==============================] - 0s 974us/step - loss: 3.6479\n",
      "119/119 [==============================] - 0s 956us/step - loss: 3.6721\n",
      "119/119 [==============================] - 0s 1ms/step - loss: 3.6235\n",
      "119/119 [==============================] - 0s 1ms/step - loss: 3.6795\n",
      "119/119 [==============================] - 0s 1ms/step - loss: 3.6817\n",
      "119/119 [==============================] - 0s 992us/step - loss: 3.6223\n",
      "119/119 [==============================] - 0s 1ms/step - loss: 3.7151\n",
      "119/119 [==============================] - 0s 1ms/step - loss: 3.6307\n",
      "119/119 [==============================] - 0s 1ms/step - loss: 3.6851\n",
      "119/119 [==============================] - 0s 1ms/step - loss: 3.6362\n",
      "119/119 [==============================] - 0s 1ms/step - loss: 3.7321\n",
      "119/119 [==============================] - 0s 1ms/step - loss: 3.6611\n",
      "119/119 [==============================] - 0s 1ms/step - loss: 3.6182\n",
      "119/119 [==============================] - 0s 1ms/step - loss: 3.6925\n",
      "119/119 [==============================] - 0s 1ms/step - loss: 3.7238\n",
      "119/119 [==============================] - 0s 1ms/step - loss: 3.6743\n",
      "119/119 [==============================] - 0s 1ms/step - loss: 3.6798\n",
      "119/119 [==============================] - 0s 1ms/step - loss: 3.6372\n",
      "119/119 [==============================] - 0s 1ms/step - loss: 3.7158\n",
      "119/119 [==============================] - 0s 1ms/step - loss: 3.6424\n",
      "119/119 [==============================] - 0s 1ms/step - loss: 3.6415\n",
      "119/119 [==============================] - 0s 1ms/step - loss: 3.6437\n",
      "119/119 [==============================] - 0s 999us/step - loss: 3.6782\n"
     ]
    },
    {
     "data": {
      "text/html": [
       "\n",
       "    <style>\n",
       "    table.eli5-weights tr:hover {\n",
       "        filter: brightness(85%);\n",
       "    }\n",
       "</style>\n",
       "\n",
       "\n",
       "\n",
       "    \n",
       "\n",
       "    \n",
       "\n",
       "    \n",
       "\n",
       "    \n",
       "\n",
       "    \n",
       "\n",
       "    \n",
       "\n",
       "\n",
       "    \n",
       "\n",
       "    \n",
       "\n",
       "    \n",
       "\n",
       "    \n",
       "\n",
       "    \n",
       "\n",
       "    \n",
       "\n",
       "\n",
       "    \n",
       "\n",
       "    \n",
       "\n",
       "    \n",
       "\n",
       "    \n",
       "\n",
       "    \n",
       "        <table class=\"eli5-weights eli5-feature-importances\" style=\"border-collapse: collapse; border: none; margin-top: 0em; table-layout: auto;\">\n",
       "    <thead>\n",
       "    <tr style=\"border: none;\">\n",
       "        <th style=\"padding: 0 1em 0 0.5em; text-align: right; border: none;\">Weight</th>\n",
       "        <th style=\"padding: 0 0.5em 0 0.5em; text-align: left; border: none;\">Feature</th>\n",
       "    </tr>\n",
       "    </thead>\n",
       "    <tbody>\n",
       "    \n",
       "        <tr style=\"background-color: hsl(120, 100.00%, 80.00%); border: none;\">\n",
       "            <td style=\"padding: 0 1em 0 0.5em; text-align: right; border: none;\">\n",
       "                0.1131\n",
       "                \n",
       "                    &plusmn; 0.0511\n",
       "                \n",
       "            </td>\n",
       "            <td style=\"padding: 0 0.5em 0 0.5em; text-align: left; border: none;\">\n",
       "                SDG_Type_Building_Single_Pct\n",
       "            </td>\n",
       "        </tr>\n",
       "    \n",
       "        <tr style=\"background-color: hsl(120, 100.00%, 83.89%); border: none;\">\n",
       "            <td style=\"padding: 0 1em 0 0.5em; text-align: right; border: none;\">\n",
       "                0.0831\n",
       "                \n",
       "                    &plusmn; 0.0330\n",
       "                \n",
       "            </td>\n",
       "            <td style=\"padding: 0 0.5em 0 0.5em; text-align: left; border: none;\">\n",
       "                SDG_Type_Worker_Cle\n",
       "            </td>\n",
       "        </tr>\n",
       "    \n",
       "        <tr style=\"background-color: hsl(120, 100.00%, 84.19%); border: none;\">\n",
       "            <td style=\"padding: 0 1em 0 0.5em; text-align: right; border: none;\">\n",
       "                0.0808\n",
       "                \n",
       "                    &plusmn; 0.0250\n",
       "                \n",
       "            </td>\n",
       "            <td style=\"padding: 0 0.5em 0 0.5em; text-align: left; border: none;\">\n",
       "                SDG_Type_Worker_Pla\n",
       "            </td>\n",
       "        </tr>\n",
       "    \n",
       "        <tr style=\"background-color: hsl(120, 100.00%, 86.69%); border: none;\">\n",
       "            <td style=\"padding: 0 1em 0 0.5em; text-align: right; border: none;\">\n",
       "                0.0632\n",
       "                \n",
       "                    &plusmn; 0.0323\n",
       "                \n",
       "            </td>\n",
       "            <td style=\"padding: 0 0.5em 0 0.5em; text-align: left; border: none;\">\n",
       "                SDG_Households_Drinking_Owned_Faucet_Pct\n",
       "            </td>\n",
       "        </tr>\n",
       "    \n",
       "        <tr style=\"background-color: hsl(120, 100.00%, 87.27%); border: none;\">\n",
       "            <td style=\"padding: 0 1em 0 0.5em; text-align: right; border: none;\">\n",
       "                0.0593\n",
       "                \n",
       "                    &plusmn; 0.0156\n",
       "                \n",
       "            </td>\n",
       "            <td style=\"padding: 0 0.5em 0 0.5em; text-align: left; border: none;\">\n",
       "                SDG_Type_Worker_Tec\n",
       "            </td>\n",
       "        </tr>\n",
       "    \n",
       "        <tr style=\"background-color: hsl(120, 100.00%, 87.84%); border: none;\">\n",
       "            <td style=\"padding: 0 1em 0 0.5em; text-align: right; border: none;\">\n",
       "                0.0555\n",
       "                \n",
       "                    &plusmn; 0.0203\n",
       "                \n",
       "            </td>\n",
       "            <td style=\"padding: 0 0.5em 0 0.5em; text-align: left; border: none;\">\n",
       "                SDG_Type_Worker_Ski\n",
       "            </td>\n",
       "        </tr>\n",
       "    \n",
       "        <tr style=\"background-color: hsl(120, 100.00%, 88.04%); border: none;\">\n",
       "            <td style=\"padding: 0 1em 0 0.5em; text-align: right; border: none;\">\n",
       "                0.0542\n",
       "                \n",
       "                    &plusmn; 0.0212\n",
       "                \n",
       "            </td>\n",
       "            <td style=\"padding: 0 0.5em 0 0.5em; text-align: left; border: none;\">\n",
       "                SDG_Households_Electricity_Light_Pct\n",
       "            </td>\n",
       "        </tr>\n",
       "    \n",
       "        <tr style=\"background-color: hsl(120, 100.00%, 89.28%); border: none;\">\n",
       "            <td style=\"padding: 0 1em 0 0.5em; text-align: right; border: none;\">\n",
       "                0.0464\n",
       "                \n",
       "                    &plusmn; 0.0107\n",
       "                \n",
       "            </td>\n",
       "            <td style=\"padding: 0 0.5em 0 0.5em; text-align: left; border: none;\">\n",
       "                ELEM_POPN\n",
       "            </td>\n",
       "        </tr>\n",
       "    \n",
       "        <tr style=\"background-color: hsl(120, 100.00%, 89.72%); border: none;\">\n",
       "            <td style=\"padding: 0 1em 0 0.5em; text-align: right; border: none;\">\n",
       "                0.0437\n",
       "                \n",
       "                    &plusmn; 0.0268\n",
       "                \n",
       "            </td>\n",
       "            <td style=\"padding: 0 0.5em 0 0.5em; text-align: left; border: none;\">\n",
       "                SDG_Type_Worker_Ser\n",
       "            </td>\n",
       "        </tr>\n",
       "    \n",
       "        <tr style=\"background-color: hsl(120, 100.00%, 90.09%); border: none;\">\n",
       "            <td style=\"padding: 0 1em 0 0.5em; text-align: right; border: none;\">\n",
       "                0.0415\n",
       "                \n",
       "                    &plusmn; 0.0182\n",
       "                \n",
       "            </td>\n",
       "            <td style=\"padding: 0 0.5em 0 0.5em; text-align: left; border: none;\">\n",
       "                SDG_Households_Construction_Material_Concrete_Pct\n",
       "            </td>\n",
       "        </tr>\n",
       "    \n",
       "        <tr style=\"background-color: hsl(120, 100.00%, 94.46%); border: none;\">\n",
       "            <td style=\"padding: 0 1em 0 0.5em; text-align: right; border: none;\">\n",
       "                0.0181\n",
       "                \n",
       "                    &plusmn; 0.0126\n",
       "                \n",
       "            </td>\n",
       "            <td style=\"padding: 0 0.5em 0 0.5em; text-align: left; border: none;\">\n",
       "                SDG_Type_Worker_Man\n",
       "            </td>\n",
       "        </tr>\n",
       "    \n",
       "        <tr style=\"background-color: hsl(120, 100.00%, 94.48%); border: none;\">\n",
       "            <td style=\"padding: 0 1em 0 0.5em; text-align: right; border: none;\">\n",
       "                0.0180\n",
       "                \n",
       "                    &plusmn; 0.0215\n",
       "                \n",
       "            </td>\n",
       "            <td style=\"padding: 0 0.5em 0 0.5em; text-align: left; border: none;\">\n",
       "                SDG_Type_Worker_Arm\n",
       "            </td>\n",
       "        </tr>\n",
       "    \n",
       "        <tr style=\"background-color: hsl(120, 100.00%, 97.96%); border: none;\">\n",
       "            <td style=\"padding: 0 1em 0 0.5em; text-align: right; border: none;\">\n",
       "                0.0043\n",
       "                \n",
       "                    &plusmn; 0.0272\n",
       "                \n",
       "            </td>\n",
       "            <td style=\"padding: 0 0.5em 0 0.5em; text-align: left; border: none;\">\n",
       "                SDG_Type_Worker_Ele\n",
       "            </td>\n",
       "        </tr>\n",
       "    \n",
       "        <tr style=\"background-color: hsl(120, 100.00%, 99.09%); border: none;\">\n",
       "            <td style=\"padding: 0 1em 0 0.5em; text-align: right; border: none;\">\n",
       "                0.0014\n",
       "                \n",
       "                    &plusmn; 0.0194\n",
       "                \n",
       "            </td>\n",
       "            <td style=\"padding: 0 0.5em 0 0.5em; text-align: left; border: none;\">\n",
       "                SDG_Type_Worker_Cra\n",
       "            </td>\n",
       "        </tr>\n",
       "    \n",
       "        <tr style=\"background-color: hsl(0, 100.00%, 99.53%); border: none;\">\n",
       "            <td style=\"padding: 0 1em 0 0.5em; text-align: right; border: none;\">\n",
       "                -0.0005\n",
       "                \n",
       "                    &plusmn; 0.0131\n",
       "                \n",
       "            </td>\n",
       "            <td style=\"padding: 0 0.5em 0 0.5em; text-align: left; border: none;\">\n",
       "                SDG_less_than_54_sqft\n",
       "            </td>\n",
       "        </tr>\n",
       "    \n",
       "        <tr style=\"background-color: hsl(0, 100.00%, 98.16%); border: none;\">\n",
       "            <td style=\"padding: 0 1em 0 0.5em; text-align: right; border: none;\">\n",
       "                -0.0037\n",
       "                \n",
       "                    &plusmn; 0.0100\n",
       "                \n",
       "            </td>\n",
       "            <td style=\"padding: 0 0.5em 0 0.5em; text-align: left; border: none;\">\n",
       "                SDG_Households_Drinking_Shared_Faucet_Pct\n",
       "            </td>\n",
       "        </tr>\n",
       "    \n",
       "        <tr style=\"background-color: hsl(0, 100.00%, 96.46%); border: none;\">\n",
       "            <td style=\"padding: 0 1em 0 0.5em; text-align: right; border: none;\">\n",
       "                -0.0095\n",
       "                \n",
       "                    &plusmn; 0.0051\n",
       "                \n",
       "            </td>\n",
       "            <td style=\"padding: 0 0.5em 0 0.5em; text-align: left; border: none;\">\n",
       "                SDG_Households_Kerosene_Gass_Light_Pct\n",
       "            </td>\n",
       "        </tr>\n",
       "    \n",
       "        <tr style=\"background-color: hsl(0, 100.00%, 95.15%); border: none;\">\n",
       "            <td style=\"padding: 0 1em 0 0.5em; text-align: right; border: none;\">\n",
       "                -0.0150\n",
       "                \n",
       "                    &plusmn; 0.0106\n",
       "                \n",
       "            </td>\n",
       "            <td style=\"padding: 0 0.5em 0 0.5em; text-align: left; border: none;\">\n",
       "                SDG_Type_Worker_Pro\n",
       "            </td>\n",
       "        </tr>\n",
       "    \n",
       "        <tr style=\"background-color: hsl(0, 100.00%, 94.35%); border: none;\">\n",
       "            <td style=\"padding: 0 1em 0 0.5em; text-align: right; border: none;\">\n",
       "                -0.0186\n",
       "                \n",
       "                    &plusmn; 0.0255\n",
       "                \n",
       "            </td>\n",
       "            <td style=\"padding: 0 0.5em 0 0.5em; text-align: left; border: none;\">\n",
       "                SDG_Building_Tenure_Type_Owned_Pct\n",
       "            </td>\n",
       "        </tr>\n",
       "    \n",
       "    \n",
       "    </tbody>\n",
       "</table>\n",
       "    \n",
       "\n",
       "    \n",
       "\n",
       "\n",
       "    \n",
       "\n",
       "    \n",
       "\n",
       "    \n",
       "\n",
       "    \n",
       "\n",
       "    \n",
       "\n",
       "    \n",
       "\n",
       "\n",
       "\n"
      ],
      "text/plain": [
       "<IPython.core.display.HTML object>"
      ]
     },
     "execution_count": 49,
     "metadata": {},
     "output_type": "execute_result"
    }
   ],
   "source": [
    "perm = PermutationImportance(estimator, random_state=1).fit(X_train, y_train)\n",
    "eli5.show_weights(perm, feature_names = X_train.columns.tolist())"
   ]
  },
  {
   "cell_type": "code",
   "execution_count": 54,
   "id": "blank-possession",
   "metadata": {},
   "outputs": [
    {
     "data": {
      "text/html": [
       "<div>\n",
       "<style scoped>\n",
       "    .dataframe tbody tr th:only-of-type {\n",
       "        vertical-align: middle;\n",
       "    }\n",
       "\n",
       "    .dataframe tbody tr th {\n",
       "        vertical-align: top;\n",
       "    }\n",
       "\n",
       "    .dataframe thead th {\n",
       "        text-align: right;\n",
       "    }\n",
       "</style>\n",
       "<table border=\"1\" class=\"dataframe\">\n",
       "  <thead>\n",
       "    <tr style=\"text-align: right;\">\n",
       "      <th></th>\n",
       "      <th>SDG_Households_Electricity_Light_Pct</th>\n",
       "      <th>SDG_Households_Kerosene_Gass_Light_Pct</th>\n",
       "      <th>SDG_Households_Drinking_Owned_Faucet_Pct</th>\n",
       "      <th>SDG_Households_Drinking_Shared_Faucet_Pct</th>\n",
       "      <th>SDG_Households_Construction_Material_Concrete_Pct</th>\n",
       "      <th>SDG_Building_Tenure_Type_Owned_Pct</th>\n",
       "      <th>SDG_Type_Building_Single_Pct</th>\n",
       "      <th>SDG_Type_Worker_Man</th>\n",
       "      <th>SDG_Type_Worker_Pro</th>\n",
       "      <th>SDG_Type_Worker_Tec</th>\n",
       "      <th>...</th>\n",
       "      <th>SDG_Type_Worker_Ser</th>\n",
       "      <th>SDG_Type_Worker_Ski</th>\n",
       "      <th>SDG_Type_Worker_Cra</th>\n",
       "      <th>SDG_Type_Worker_Pla</th>\n",
       "      <th>SDG_Type_Worker_Ele</th>\n",
       "      <th>SDG_Type_Worker_Arm</th>\n",
       "      <th>SDG_less_than_54_sqft</th>\n",
       "      <th>PSGC_BRGY</th>\n",
       "      <th>NUM_SCHOOLS</th>\n",
       "      <th>ELEM_POPN</th>\n",
       "    </tr>\n",
       "  </thead>\n",
       "  <tbody>\n",
       "  </tbody>\n",
       "</table>\n",
       "<p>0 rows × 21 columns</p>\n",
       "</div>"
      ],
      "text/plain": [
       "Empty DataFrame\n",
       "Columns: [SDG_Households_Electricity_Light_Pct, SDG_Households_Kerosene_Gass_Light_Pct, SDG_Households_Drinking_Owned_Faucet_Pct, SDG_Households_Drinking_Shared_Faucet_Pct, SDG_Households_Construction_Material_Concrete_Pct, SDG_Building_Tenure_Type_Owned_Pct, SDG_Type_Building_Single_Pct, SDG_Type_Worker_Man, SDG_Type_Worker_Pro, SDG_Type_Worker_Tec, SDG_Type_Worker_Cle, SDG_Type_Worker_Ser, SDG_Type_Worker_Ski, SDG_Type_Worker_Cra, SDG_Type_Worker_Pla, SDG_Type_Worker_Ele, SDG_Type_Worker_Arm, SDG_less_than_54_sqft, PSGC_BRGY, NUM_SCHOOLS, ELEM_POPN]\n",
       "Index: []\n",
       "\n",
       "[0 rows x 21 columns]"
      ]
     },
     "execution_count": 54,
     "metadata": {},
     "output_type": "execute_result"
    }
   ],
   "source": [
    "zero_schools_elem[zero_schools_elem['PSGC_BRGY']== 'PH153812019']"
   ]
  },
  {
   "cell_type": "code",
   "execution_count": null,
   "id": "bound-strain",
   "metadata": {},
   "outputs": [],
   "source": []
  }
 ],
 "metadata": {
  "kernelspec": {
   "display_name": "Python 3",
   "language": "python",
   "name": "python3"
  },
  "language_info": {
   "codemirror_mode": {
    "name": "ipython",
    "version": 3
   },
   "file_extension": ".py",
   "mimetype": "text/x-python",
   "name": "python",
   "nbconvert_exporter": "python",
   "pygments_lexer": "ipython3",
   "version": "3.8.7"
  }
 },
 "nbformat": 4,
 "nbformat_minor": 5
}
