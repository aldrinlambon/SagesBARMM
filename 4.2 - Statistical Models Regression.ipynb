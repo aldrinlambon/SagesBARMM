{
 "cells": [
  {
   "cell_type": "code",
   "execution_count": 1,
   "id": "suspended-colorado",
   "metadata": {},
   "outputs": [],
   "source": [
    "import pandas as pd\n",
    "import numpy as np\n",
    "\n",
    "import os\n",
    "import random\n",
    "\n",
    "from numpy.random import seed\n",
    "\n",
    "from keras.layers.experimental import preprocessing\n",
    "from keras.models import Sequential\n",
    "from keras.layers import Dense\n",
    "from keras import backend as K\n",
    "\n",
    "from sklearn.metrics import r2_score\n",
    "from sklearn.model_selection import train_test_split\n",
    "from sklearn.metrics import accuracy_score\n",
    "\n",
    "import tensorflow as tf\n",
    "\n",
    "import matplotlib.pyplot as plt\n",
    "%matplotlib inline"
   ]
  },
  {
   "cell_type": "code",
   "execution_count": 2,
   "id": "later-return",
   "metadata": {},
   "outputs": [],
   "source": [
    "# For reproducible results\n",
    "seed_value = 1\n",
    "os.environ['PYTHONHASHSEED'] = str(seed_value)\n",
    "\n",
    "random.seed(seed_value)\n",
    "\n",
    "np.random.seed(seed_value)\n",
    "\n",
    "tf.random.set_seed(seed_value)\n",
    "\n",
    "session_conf = tf.compat.v1.ConfigProto(intra_op_parallelism_threads=1, inter_op_parallelism_threads=1)\n",
    "sess = tf.compat.v1.Session(graph=tf.compat.v1.get_default_graph(), config=session_conf)\n",
    "tf.compat.v1.keras.backend.set_session(sess)"
   ]
  },
  {
   "cell_type": "code",
   "execution_count": 3,
   "id": "dominican-knock",
   "metadata": {},
   "outputs": [],
   "source": [
    "OUTPUT_PATH = './Data/output/'"
   ]
  },
  {
   "cell_type": "markdown",
   "id": "surgical-atlantic",
   "metadata": {},
   "source": [
    "### Import dataset"
   ]
  },
  {
   "cell_type": "code",
   "execution_count": 4,
   "id": "lonely-conditions",
   "metadata": {},
   "outputs": [
    {
     "data": {
      "text/plain": [
       "2482"
      ]
     },
     "execution_count": 4,
     "metadata": {},
     "output_type": "execute_result"
    }
   ],
   "source": [
    "dataset_raw = pd.read_csv(OUTPUT_PATH + 'CleanData_Population_Schools_SDGs.csv')\n",
    "dataset_raw['No_of_Schools'] = dataset_raw['SCH_TYPE_PRIVATE'] + dataset_raw['SCH_TYPE_PUBLIC'] + dataset_raw['SCH_TYPE_SUC']\n",
    "len(dataset_raw)"
   ]
  },
  {
   "cell_type": "code",
   "execution_count": 5,
   "id": "unlimited-census",
   "metadata": {},
   "outputs": [
    {
     "data": {
      "text/plain": [
       "1756"
      ]
     },
     "execution_count": 5,
     "metadata": {},
     "output_type": "execute_result"
    }
   ],
   "source": [
    "dataset = dataset_raw.dropna().reset_index()\n",
    "len(dataset)"
   ]
  },
  {
   "cell_type": "markdown",
   "id": "several-newspaper",
   "metadata": {},
   "source": [
    "### Preprocess data"
   ]
  },
  {
   "cell_type": "code",
   "execution_count": 6,
   "id": "portuguese-saver",
   "metadata": {},
   "outputs": [],
   "source": [
    "SDG = dataset.iloc[:,85:]\n",
    "SDG['PSGC_BRGY'] = dataset['PSGC_BRGY']"
   ]
  },
  {
   "cell_type": "markdown",
   "id": "general-postage",
   "metadata": {},
   "source": [
    "#### 1. Elementary"
   ]
  },
  {
   "cell_type": "code",
   "execution_count": 7,
   "id": "suited-anniversary",
   "metadata": {},
   "outputs": [
    {
     "data": {
      "text/plain": [
       "1756"
      ]
     },
     "execution_count": 7,
     "metadata": {},
     "output_type": "execute_result"
    }
   ],
   "source": [
    "data_elem = SDG.copy()\n",
    "data_elem['NUM_SCHOOLS'] = dataset['SCH_CAT_CES'] + dataset['SCH_CAT_ES'] + dataset['SCH_CAT_PS'] + dataset['SCH_CAT_PES']\n",
    "data_elem['ELEM_POPN'] = dataset['both_age_6_to_12']\n",
    "len(data_elem)"
   ]
  },
  {
   "cell_type": "code",
   "execution_count": 8,
   "id": "sapphire-grove",
   "metadata": {},
   "outputs": [
    {
     "data": {
      "text/plain": [
       "1703"
      ]
     },
     "execution_count": 8,
     "metadata": {},
     "output_type": "execute_result"
    }
   ],
   "source": [
    "zero_schools_elem = data_elem[data_elem['NUM_SCHOOLS'] == 0]\n",
    "data_elem = data_elem[data_elem['NUM_SCHOOLS'] != 0]\n",
    "data_elem = data_elem.drop(['PSGC_BRGY'], axis=1)\n",
    "len(data_elem)"
   ]
  },
  {
   "cell_type": "markdown",
   "id": "ancient-alcohol",
   "metadata": {},
   "source": [
    "#### 2. High School"
   ]
  },
  {
   "cell_type": "code",
   "execution_count": 9,
   "id": "printable-involvement",
   "metadata": {},
   "outputs": [
    {
     "data": {
      "text/plain": [
       "1756"
      ]
     },
     "execution_count": 9,
     "metadata": {},
     "output_type": "execute_result"
    }
   ],
   "source": [
    "data_hs = SDG.copy()\n",
    "data_hs['NUM_SCHOOLS'] = dataset['SCH_CAT_JHS'] + dataset['SCH_CAT_SHS'] + dataset['SCH_CAT_PJHS'] + dataset['SCH_CAT_PSHS']\n",
    "data_hs['HS_POPN'] = dataset['both_age_13_to_16']\n",
    "len(data_hs)"
   ]
  },
  {
   "cell_type": "code",
   "execution_count": 10,
   "id": "hispanic-valley",
   "metadata": {},
   "outputs": [
    {
     "data": {
      "text/plain": [
       "366"
      ]
     },
     "execution_count": 10,
     "metadata": {},
     "output_type": "execute_result"
    }
   ],
   "source": [
    "zero_schools_hs = data_hs[data_hs['NUM_SCHOOLS'] == 0]\n",
    "data_hs = data_hs[data_hs['NUM_SCHOOLS'] != 0]\n",
    "data_hs = data_hs.drop(['PSGC_BRGY'], axis=1)\n",
    "len(data_hs)"
   ]
  },
  {
   "cell_type": "markdown",
   "id": "domestic-footwear",
   "metadata": {},
   "source": [
    "### Modelling"
   ]
  },
  {
   "cell_type": "code",
   "execution_count": 11,
   "id": "present-jesus",
   "metadata": {},
   "outputs": [],
   "source": [
    "def base_model(normalizer):\n",
    "    np.random.seed(1)\n",
    "    model = Sequential()\n",
    "    model.add(normalizer)\n",
    "    model.add(Dense(4, input_dim=1, activation='relu'))\n",
    "    model.add(Dense(4, activation='relu'))\n",
    "    model.add(Dense(1, activation='linear'))\n",
    "\n",
    "    model.compile(loss='mse', optimizer='adam')\n",
    "\n",
    "    return model"
   ]
  },
  {
   "cell_type": "code",
   "execution_count": 12,
   "id": "intimate-pointer",
   "metadata": {},
   "outputs": [],
   "source": [
    "def plot_loss(history):\n",
    "    plt.plot(history.history['loss'], label='loss')\n",
    "    plt.plot(history.history['val_loss'], label='val_loss')\n",
    "    plt.xlabel('Epoch')\n",
    "    plt.ylabel('Error')\n",
    "    plt.legend()\n",
    "    plt.grid(True)"
   ]
  },
  {
   "cell_type": "code",
   "execution_count": 13,
   "id": "persistent-locator",
   "metadata": {},
   "outputs": [],
   "source": [
    "def model_data(data, feature='all'):\n",
    "    # Paramaters: data = data to be used\n",
    "    #             features =  all if dimension of X_train > 1. If X_train dimension == 1, specify column name\n",
    "    training_data, testing_data = train_test_split(data, test_size=0.2, random_state=42)\n",
    "    X_train = training_data.drop(['NUM_SCHOOLS'], axis=1)\n",
    "    y_train = training_data['NUM_SCHOOLS']\n",
    "\n",
    "    X_test = testing_data.drop(['NUM_SCHOOLS'], axis=1)\n",
    "    y_test = testing_data['NUM_SCHOOLS']\n",
    "    \n",
    "    if feature == 'all':\n",
    "        normalizer = preprocessing.Normalization()\n",
    "        normalizer.adapt(np.array(X_train))\n",
    "    else:\n",
    "        X_train = X_train[[feature]]\n",
    "        X_test = X_test[[feature]]\n",
    "        normalizer = preprocessing.Normalization(input_shape=[1,])\n",
    "        normalizer.adapt(np.array(X_train[feature]))\n",
    "    \n",
    "    model = base_model(normalizer)\n",
    "    EPOCHS = 200\n",
    "    BATCH_SIZE = 10\n",
    "\n",
    "\n",
    "    callback = tf.keras.callbacks.EarlyStopping(monitor='loss', patience=3)\n",
    "\n",
    "    history = model.fit(X_train, \n",
    "                        y_train, \n",
    "                        epochs=EPOCHS, \n",
    "                        batch_size=BATCH_SIZE,\n",
    "                        validation_split=0.2,\n",
    "                        callbacks=callback,\n",
    "                        verbose=False)\n",
    "    hist = pd.DataFrame(history.history)\n",
    "    hist['epoch'] = history.epoch\n",
    "    hist.tail()\n",
    "    \n",
    "    plot_loss(history)\n",
    "    \n",
    "    y_pred = model.predict(X_test)\n",
    "    y_pred_round = np.round(y_pred)\n",
    "    acc = accuracy_score(y_test, y_pred_round)\n",
    "    \n",
    "    print('Model accuracy:', acc)\n",
    "    \n",
    "    return model"
   ]
  },
  {
   "cell_type": "code",
   "execution_count": 14,
   "id": "distinct-electricity",
   "metadata": {},
   "outputs": [],
   "source": [
    "def predict(model, X_predict):\n",
    "    y_pred_null = model.predict(X_predict)\n",
    "    return np.round(y_pred_null)"
   ]
  },
  {
   "cell_type": "code",
   "execution_count": 15,
   "id": "answering-maryland",
   "metadata": {},
   "outputs": [
    {
     "data": {
      "text/plain": [
       "726"
      ]
     },
     "execution_count": 15,
     "metadata": {},
     "output_type": "execute_result"
    }
   ],
   "source": [
    "dataset_null = dataset_raw[dataset_raw.isnull().any(axis=1)]\n",
    "len(dataset_null)"
   ]
  },
  {
   "cell_type": "code",
   "execution_count": 16,
   "id": "current-seeker",
   "metadata": {},
   "outputs": [],
   "source": [
    "def save_prediction(model, level, feature='all'):\n",
    "    X_predict_1 = dataset_null.copy()\n",
    "    X_predict_1 = X_predict_1.iloc[:, 84:]\n",
    "    if level == 'elem':\n",
    "        X_predict_1['ELEM_POPN'] = dataset_null['both_age_6_to_12']\n",
    "        _zero_schools = zero_schools_elem.copy()\n",
    "    elif level == 'hs':\n",
    "        X_predict_1['HS_POPN'] = dataset_null['both_age_13_to_16']\n",
    "        _zero_schools = zero_schools_hs.copy()\n",
    "        \n",
    "    X_predict_2 = _zero_schools.drop(['NUM_SCHOOLS','PSGC_BRGY'], axis=1)\n",
    "        \n",
    "    if feature == 'all':\n",
    "        X_predict_1['Pred_school_num'] = predict(model, X_predict_1)\n",
    "        X_predict_2['Pred_school_num'] = predict(model, X_predict_2)\n",
    "    else:\n",
    "        X_predict_1 = X_predict_1[[feature]]\n",
    "        X_predict_2 = X_predict_2[[feature]]\n",
    "        X_predict_1['Pred_school_num'] = predict(model, X_predict_1[feature])\n",
    "        X_predict_2['Pred_school_num'] = predict(model, X_predict_2[feature])\n",
    "        \n",
    "    X_predict_1['PSGC_BRGY'] = dataset_null['PSGC_BRGY']\n",
    "    X_predict_2['PSGC_BRGY'] = _zero_schools['PSGC_BRGY']\n",
    "    \n",
    "    predicted_df = pd.concat([X_predict_1, X_predict_2])\n",
    "    \n",
    "    print('Number of barangays predicted:', len(predicted_df))\n",
    "    return predicted_df"
   ]
  },
  {
   "cell_type": "code",
   "execution_count": 17,
   "id": "timely-pharmacy",
   "metadata": {},
   "outputs": [
    {
     "name": "stdout",
     "output_type": "stream",
     "text": [
      "Model accuracy: 0.782991202346041\n",
      "Number of barangays predicted: 779\n"
     ]
    },
    {
     "data": {
      "image/png": "[encoded data removed]",
      "text/plain": [
       "<Figure size 432x288 with 1 Axes>"
      ]
     },
     "metadata": {
      "needs_background": "light"
     },
     "output_type": "display_data"
    }
   ],
   "source": [
    "elem_model = model_data(data_elem, 'ELEM_POPN')\n",
    "elem_df_pop = save_prediction(elem_model, 'elem', 'ELEM_POPN')\n",
    "# elem_df_pop.to_csv(OUTPUT_PATH + 'Model_NN_Output_Elem_pop.csv', index=False)"
   ]
  },
  {
   "cell_type": "code",
   "execution_count": 18,
   "id": "grateful-programmer",
   "metadata": {},
   "outputs": [
    {
     "name": "stdout",
     "output_type": "stream",
     "text": [
      "Model accuracy: 0.7536656891495601\n",
      "Number of barangays predicted: 779\n"
     ]
    },
    {
     "data": {
      "image/png": "[encoded data removed]",
      "text/plain": [
       "<Figure size 432x288 with 1 Axes>"
      ]
     },
     "metadata": {
      "needs_background": "light"
     },
     "output_type": "display_data"
    }
   ],
   "source": [
    "elem_model = model_data(data_elem, 'all')\n",
    "elem_df = save_prediction(elem_model, 'elem', 'all')\n",
    "# elem_df.to_csv(OUTPUT_PATH + 'Model_NN_Output_Elem.csv', index=False)"
   ]
  },
  {
   "cell_type": "code",
   "execution_count": 19,
   "id": "chinese-bicycle",
   "metadata": {},
   "outputs": [
    {
     "name": "stdout",
     "output_type": "stream",
     "text": [
      "Model accuracy: 0.8378378378378378\n",
      "Number of barangays predicted: 2116\n"
     ]
    },
    {
     "data": {
      "image/png": "[encoded data removed]",
      "text/plain": [
       "<Figure size 432x288 with 1 Axes>"
      ]
     },
     "metadata": {
      "needs_background": "light"
     },
     "output_type": "display_data"
    }
   ],
   "source": [
    "hs_model = model_data(data_hs, 'HS_POPN')\n",
    "hs_df_pop = save_prediction(hs_model, 'hs', 'HS_POPN')\n",
    "# hs_df_pop.to_csv(OUTPUT_PATH + 'Model_NN_Output_HS_pop.csv', index=False)"
   ]
  },
  {
   "cell_type": "code",
   "execution_count": 20,
   "id": "dress-martin",
   "metadata": {},
   "outputs": [
    {
     "name": "stdout",
     "output_type": "stream",
     "text": [
      "Model accuracy: 0.7702702702702703\n",
      "Number of barangays predicted: 2116\n"
     ]
    },
    {
     "data": {
      "image/png": "[encoded data removed]",
      "text/plain": [
       "<Figure size 432x288 with 1 Axes>"
      ]
     },
     "metadata": {
      "needs_background": "light"
     },
     "output_type": "display_data"
    }
   ],
   "source": [
    "hs_model = model_data(data_hs, 'all')\n",
    "hs_df = save_prediction(hs_model, 'hs', 'all')\n",
    "# hs_df.to_csv(OUTPUT_PATH + 'Model_NN_Output_HS.csv', index=False)"
   ]
  }
 ],
 "metadata": {
  "kernelspec": {
   "display_name": "Python 3",
   "language": "python",
   "name": "python3"
  },
  "language_info": {
   "codemirror_mode": {
    "name": "ipython",
    "version": 3
   },
   "file_extension": ".py",
   "mimetype": "text/x-python",
   "name": "python",
   "nbconvert_exporter": "python",
   "pygments_lexer": "ipython3",
   "version": "3.8.7"
  }
 },
 "nbformat": 4,
 "nbformat_minor": 5
}
