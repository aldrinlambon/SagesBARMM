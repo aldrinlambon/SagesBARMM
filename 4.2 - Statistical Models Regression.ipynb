{
 "cells": [
  {
   "cell_type": "code",
   "execution_count": 270,
   "id": "suspended-colorado",
   "metadata": {},
   "outputs": [],
   "source": [
    "import pandas as pd\n",
    "import numpy as np\n",
    "\n",
    "import os\n",
    "import random\n",
    "\n",
    "from numpy.random import seed\n",
    "\n",
    "from keras.layers.experimental import preprocessing\n",
    "from keras.models import Sequential\n",
    "from keras.layers import Dense\n",
    "from keras import backend as K\n",
    "\n",
    "from sklearn.metrics import r2_score\n",
    "from sklearn.model_selection import train_test_split\n",
    "from sklearn.metrics import accuracy_score\n",
    "\n",
    "import tensorflow as tf\n",
    "\n",
    "import matplotlib.pyplot as plt\n",
    "%matplotlib inline"
   ]
  },
  {
   "cell_type": "code",
   "execution_count": 308,
   "id": "needed-launch",
   "metadata": {},
   "outputs": [],
   "source": [
    "# For reproducible results\n",
    "seed_value = 1\n",
    "os.environ['PYTHONHASHSEED'] = str(seed_value)\n",
    "\n",
    "random.seed(seed_value)\n",
    "\n",
    "np.random.seed(seed_value)\n",
    "\n",
    "tf.random.set_seed(seed_value)\n",
    "\n",
    "session_conf = tf.compat.v1.ConfigProto(intra_op_parallelism_threads=1, inter_op_parallelism_threads=1)\n",
    "sess = tf.compat.v1.Session(graph=tf.compat.v1.get_default_graph(), config=session_conf)\n",
    "tf.compat.v1.keras.backend.set_session(sess)"
   ]
  },
  {
   "cell_type": "code",
   "execution_count": null,
   "id": "honey-batman",
   "metadata": {},
   "outputs": [],
   "source": []
  },
  {
   "cell_type": "code",
   "execution_count": 2,
   "id": "dominican-knock",
   "metadata": {},
   "outputs": [],
   "source": [
    "OUTPUT_PATH = './Data/output/'"
   ]
  },
  {
   "cell_type": "markdown",
   "id": "surgical-atlantic",
   "metadata": {},
   "source": [
    "### Import dataset"
   ]
  },
  {
   "cell_type": "code",
   "execution_count": 99,
   "id": "lonely-conditions",
   "metadata": {},
   "outputs": [
    {
     "data": {
      "text/html": [
       "<div>\n",
       "<style scoped>\n",
       "    .dataframe tbody tr th:only-of-type {\n",
       "        vertical-align: middle;\n",
       "    }\n",
       "\n",
       "    .dataframe tbody tr th {\n",
       "        vertical-align: top;\n",
       "    }\n",
       "\n",
       "    .dataframe thead th {\n",
       "        text-align: right;\n",
       "    }\n",
       "</style>\n",
       "<table border=\"1\" class=\"dataframe\">\n",
       "  <thead>\n",
       "    <tr style=\"text-align: right;\">\n",
       "      <th></th>\n",
       "      <th>PSGC_BRGY</th>\n",
       "      <th>both_age_0_to_4</th>\n",
       "      <th>male_age_0_to_4</th>\n",
       "      <th>female_age_0_to_4</th>\n",
       "      <th>both_age_5_to_9</th>\n",
       "      <th>male_age_5_to_9</th>\n",
       "      <th>female_age_5_to_9</th>\n",
       "      <th>both_age_10_to_14</th>\n",
       "      <th>male_age_10_to_14</th>\n",
       "      <th>female_age_10_to_14</th>\n",
       "      <th>...</th>\n",
       "      <th>SDG_Type_Worker_Pro</th>\n",
       "      <th>SDG_Type_Worker_Tec</th>\n",
       "      <th>SDG_Type_Worker_Cle</th>\n",
       "      <th>SDG_Type_Worker_Ser</th>\n",
       "      <th>SDG_Type_Worker_Ski</th>\n",
       "      <th>SDG_Type_Worker_Cra</th>\n",
       "      <th>SDG_Type_Worker_Pla</th>\n",
       "      <th>SDG_Type_Worker_Ele</th>\n",
       "      <th>SDG_Type_Worker_Arm</th>\n",
       "      <th>SDG_less_than_54_sqft</th>\n",
       "    </tr>\n",
       "  </thead>\n",
       "  <tbody>\n",
       "    <tr>\n",
       "      <th>0</th>\n",
       "      <td>PH150702001</td>\n",
       "      <td>88.0</td>\n",
       "      <td>54.0</td>\n",
       "      <td>34.0</td>\n",
       "      <td>79.0</td>\n",
       "      <td>35.0</td>\n",
       "      <td>44.0</td>\n",
       "      <td>73.0</td>\n",
       "      <td>42.0</td>\n",
       "      <td>31.0</td>\n",
       "      <td>...</td>\n",
       "      <td>0.042654</td>\n",
       "      <td>0.014218</td>\n",
       "      <td>0.085308</td>\n",
       "      <td>0.208531</td>\n",
       "      <td>0.507109</td>\n",
       "      <td>0.033175</td>\n",
       "      <td>0.014218</td>\n",
       "      <td>0.052133</td>\n",
       "      <td>0.023697</td>\n",
       "      <td>0.275449</td>\n",
       "    </tr>\n",
       "    <tr>\n",
       "      <th>1</th>\n",
       "      <td>PH150702002</td>\n",
       "      <td>210.0</td>\n",
       "      <td>100.0</td>\n",
       "      <td>110.0</td>\n",
       "      <td>161.0</td>\n",
       "      <td>77.0</td>\n",
       "      <td>84.0</td>\n",
       "      <td>133.0</td>\n",
       "      <td>69.0</td>\n",
       "      <td>64.0</td>\n",
       "      <td>...</td>\n",
       "      <td>0.047619</td>\n",
       "      <td>0.002976</td>\n",
       "      <td>0.011905</td>\n",
       "      <td>0.047619</td>\n",
       "      <td>0.529762</td>\n",
       "      <td>0.053571</td>\n",
       "      <td>0.119048</td>\n",
       "      <td>0.113095</td>\n",
       "      <td>0.000000</td>\n",
       "      <td>0.287554</td>\n",
       "    </tr>\n",
       "    <tr>\n",
       "      <th>3</th>\n",
       "      <td>PH150702005</td>\n",
       "      <td>277.0</td>\n",
       "      <td>152.0</td>\n",
       "      <td>125.0</td>\n",
       "      <td>305.0</td>\n",
       "      <td>159.0</td>\n",
       "      <td>146.0</td>\n",
       "      <td>269.0</td>\n",
       "      <td>155.0</td>\n",
       "      <td>114.0</td>\n",
       "      <td>...</td>\n",
       "      <td>0.051637</td>\n",
       "      <td>0.021411</td>\n",
       "      <td>0.040302</td>\n",
       "      <td>0.070529</td>\n",
       "      <td>0.488665</td>\n",
       "      <td>0.032746</td>\n",
       "      <td>0.059194</td>\n",
       "      <td>0.164987</td>\n",
       "      <td>0.011335</td>\n",
       "      <td>0.002092</td>\n",
       "    </tr>\n",
       "    <tr>\n",
       "      <th>4</th>\n",
       "      <td>PH150702006</td>\n",
       "      <td>352.0</td>\n",
       "      <td>146.0</td>\n",
       "      <td>206.0</td>\n",
       "      <td>354.0</td>\n",
       "      <td>201.0</td>\n",
       "      <td>153.0</td>\n",
       "      <td>398.0</td>\n",
       "      <td>217.0</td>\n",
       "      <td>181.0</td>\n",
       "      <td>...</td>\n",
       "      <td>0.016966</td>\n",
       "      <td>0.002994</td>\n",
       "      <td>0.023952</td>\n",
       "      <td>0.106786</td>\n",
       "      <td>0.525948</td>\n",
       "      <td>0.019960</td>\n",
       "      <td>0.048902</td>\n",
       "      <td>0.171657</td>\n",
       "      <td>0.004990</td>\n",
       "      <td>0.061657</td>\n",
       "    </tr>\n",
       "    <tr>\n",
       "      <th>5</th>\n",
       "      <td>PH150702007</td>\n",
       "      <td>270.0</td>\n",
       "      <td>140.0</td>\n",
       "      <td>130.0</td>\n",
       "      <td>236.0</td>\n",
       "      <td>114.0</td>\n",
       "      <td>122.0</td>\n",
       "      <td>220.0</td>\n",
       "      <td>121.0</td>\n",
       "      <td>99.0</td>\n",
       "      <td>...</td>\n",
       "      <td>0.026316</td>\n",
       "      <td>0.011696</td>\n",
       "      <td>0.023392</td>\n",
       "      <td>0.084795</td>\n",
       "      <td>0.494152</td>\n",
       "      <td>0.081871</td>\n",
       "      <td>0.125731</td>\n",
       "      <td>0.096491</td>\n",
       "      <td>0.010234</td>\n",
       "      <td>0.391509</td>\n",
       "    </tr>\n",
       "  </tbody>\n",
       "</table>\n",
       "<p>5 rows × 102 columns</p>\n",
       "</div>"
      ],
      "text/plain": [
       "     PSGC_BRGY  both_age_0_to_4  male_age_0_to_4  female_age_0_to_4  \\\n",
       "0  PH150702001             88.0             54.0               34.0   \n",
       "1  PH150702002            210.0            100.0              110.0   \n",
       "3  PH150702005            277.0            152.0              125.0   \n",
       "4  PH150702006            352.0            146.0              206.0   \n",
       "5  PH150702007            270.0            140.0              130.0   \n",
       "\n",
       "   both_age_5_to_9  male_age_5_to_9  female_age_5_to_9  both_age_10_to_14  \\\n",
       "0             79.0             35.0               44.0               73.0   \n",
       "1            161.0             77.0               84.0              133.0   \n",
       "3            305.0            159.0              146.0              269.0   \n",
       "4            354.0            201.0              153.0              398.0   \n",
       "5            236.0            114.0              122.0              220.0   \n",
       "\n",
       "   male_age_10_to_14  female_age_10_to_14  ...  SDG_Type_Worker_Pro  \\\n",
       "0               42.0                 31.0  ...             0.042654   \n",
       "1               69.0                 64.0  ...             0.047619   \n",
       "3              155.0                114.0  ...             0.051637   \n",
       "4              217.0                181.0  ...             0.016966   \n",
       "5              121.0                 99.0  ...             0.026316   \n",
       "\n",
       "   SDG_Type_Worker_Tec  SDG_Type_Worker_Cle  SDG_Type_Worker_Ser  \\\n",
       "0             0.014218             0.085308             0.208531   \n",
       "1             0.002976             0.011905             0.047619   \n",
       "3             0.021411             0.040302             0.070529   \n",
       "4             0.002994             0.023952             0.106786   \n",
       "5             0.011696             0.023392             0.084795   \n",
       "\n",
       "   SDG_Type_Worker_Ski  SDG_Type_Worker_Cra  SDG_Type_Worker_Pla  \\\n",
       "0             0.507109             0.033175             0.014218   \n",
       "1             0.529762             0.053571             0.119048   \n",
       "3             0.488665             0.032746             0.059194   \n",
       "4             0.525948             0.019960             0.048902   \n",
       "5             0.494152             0.081871             0.125731   \n",
       "\n",
       "   SDG_Type_Worker_Ele  SDG_Type_Worker_Arm  SDG_less_than_54_sqft  \n",
       "0             0.052133             0.023697               0.275449  \n",
       "1             0.113095             0.000000               0.287554  \n",
       "3             0.164987             0.011335               0.002092  \n",
       "4             0.171657             0.004990               0.061657  \n",
       "5             0.096491             0.010234               0.391509  \n",
       "\n",
       "[5 rows x 102 columns]"
      ]
     },
     "execution_count": 99,
     "metadata": {},
     "output_type": "execute_result"
    }
   ],
   "source": [
    "dataset_raw = pd.read_csv(OUTPUT_PATH + 'CleanData_Population_Schools_SDGs.csv')\n",
    "dataset = dataset_raw.dropna()\n",
    "dataset.head()"
   ]
  },
  {
   "cell_type": "markdown",
   "id": "several-newspaper",
   "metadata": {},
   "source": [
    "### Preprocess data"
   ]
  },
  {
   "cell_type": "code",
   "execution_count": 4,
   "id": "portuguese-saver",
   "metadata": {},
   "outputs": [],
   "source": [
    "SDG = dataset.iloc[:,84:]"
   ]
  },
  {
   "cell_type": "markdown",
   "id": "general-postage",
   "metadata": {},
   "source": [
    "#### 1. Elementary"
   ]
  },
  {
   "cell_type": "code",
   "execution_count": 126,
   "id": "suited-anniversary",
   "metadata": {},
   "outputs": [
    {
     "data": {
      "text/plain": [
       "1529"
      ]
     },
     "execution_count": 126,
     "metadata": {},
     "output_type": "execute_result"
    }
   ],
   "source": [
    "data_elem = SDG.copy()\n",
    "data_elem['NUM_SCHOOLS'] = dataset['SCH_CAT_CES'] + dataset['SCH_CAT_ES'] + dataset['SCH_CAT_PS'] + dataset['SCH_CAT_PES']\n",
    "data_elem['ELEM_POPN'] = dataset['both_age_6_to_12']\n",
    "len(data_elem)"
   ]
  },
  {
   "cell_type": "code",
   "execution_count": 127,
   "id": "periodic-rhythm",
   "metadata": {},
   "outputs": [
    {
     "data": {
      "text/plain": [
       "1488"
      ]
     },
     "execution_count": 127,
     "metadata": {},
     "output_type": "execute_result"
    }
   ],
   "source": [
    "zero_schools_elem = data_elem[data_elem['NUM_SCHOOLS'] == 0]\n",
    "data_elem = data_elem[data_elem['NUM_SCHOOLS'] != 0]\n",
    "len(data_elem)"
   ]
  },
  {
   "cell_type": "markdown",
   "id": "ancient-alcohol",
   "metadata": {},
   "source": [
    "#### 2. High School"
   ]
  },
  {
   "cell_type": "code",
   "execution_count": 150,
   "id": "printable-involvement",
   "metadata": {},
   "outputs": [
    {
     "data": {
      "text/plain": [
       "1529"
      ]
     },
     "execution_count": 150,
     "metadata": {},
     "output_type": "execute_result"
    }
   ],
   "source": [
    "data_hs = SDG.copy()\n",
    "data_hs['NUM_SCHOOLS'] = dataset['SCH_CAT_JHS'] + dataset['SCH_CAT_SHS'] + dataset['SCH_CAT_PJHS'] + dataset['SCH_CAT_PSHS']\n",
    "data_hs['HS_POPN'] = dataset['both_age_13_to_16']\n",
    "len(data_hs)"
   ]
  },
  {
   "cell_type": "code",
   "execution_count": 151,
   "id": "stock-congo",
   "metadata": {},
   "outputs": [
    {
     "data": {
      "text/plain": [
       "320"
      ]
     },
     "execution_count": 151,
     "metadata": {},
     "output_type": "execute_result"
    }
   ],
   "source": [
    "zero_schools_hs = data_hs[data_hs['NUM_SCHOOLS'] == 0]\n",
    "data_hs = data_hs[data_hs['NUM_SCHOOLS'] != 0]\n",
    "len(data_hs)"
   ]
  },
  {
   "cell_type": "markdown",
   "id": "sophisticated-plasma",
   "metadata": {},
   "source": [
    "#### 3. Merged Elem and High School\n",
    "For feature selection"
   ]
  },
  {
   "cell_type": "code",
   "execution_count": 200,
   "id": "wireless-services",
   "metadata": {},
   "outputs": [],
   "source": [
    "data_merged = pd.read_csv(OUTPUT_PATH + 'CleanData_clustering.csv')\n",
    "data_merged = data_merged.dropna()"
   ]
  },
  {
   "cell_type": "markdown",
   "id": "stopped-korean",
   "metadata": {},
   "source": [
    "### Modelling"
   ]
  },
  {
   "cell_type": "code",
   "execution_count": 383,
   "id": "chinese-bicycle",
   "metadata": {},
   "outputs": [],
   "source": [
    "training_data, testing_data = train_test_split(data_merged, test_size=0.2, random_state=42)"
   ]
  },
  {
   "cell_type": "code",
   "execution_count": 384,
   "id": "dress-martin",
   "metadata": {},
   "outputs": [],
   "source": [
    "X_train = training_data.drop(['NUM_SCHOOLS'], axis=1)\n",
    "y_train = training_data['NUM_SCHOOLS']\n",
    "\n",
    "X_test = testing_data.drop(['NUM_SCHOOLS'], axis=1)\n",
    "y_test = testing_data['NUM_SCHOOLS']"
   ]
  },
  {
   "cell_type": "code",
   "execution_count": 385,
   "id": "stuffed-texture",
   "metadata": {},
   "outputs": [],
   "source": [
    "normalizer = preprocessing.Normalization()\n",
    "normalizer.adapt(np.array(X_train))"
   ]
  },
  {
   "cell_type": "code",
   "execution_count": 386,
   "id": "destroyed-worker",
   "metadata": {},
   "outputs": [],
   "source": [
    "def base_model():\n",
    "    np.random.seed(1)\n",
    "    model = Sequential()\n",
    "    model.add(normalizer)\n",
    "    model.add(Dense(4, input_dim=2, activation='relu'))\n",
    "    model.add(Dense(4, activation='relu'))\n",
    "    model.add(Dense(1, activation='linear'))\n",
    "    model.compile(loss='mse', optimizer='adam')\n",
    "#     model.add(Dense(20, activation='tanh', input_dim=5, kernel_initializer='uniform'))\n",
    "#     model.add(Dense(1, activation='linear', kernel_initializer='uniform'))\n",
    "    \n",
    "    model.compile(loss='mse', optimizer='adam')\n",
    "    return model"
   ]
  },
  {
   "cell_type": "code",
   "execution_count": 387,
   "id": "sound-lawyer",
   "metadata": {},
   "outputs": [
    {
     "name": "stdout",
     "output_type": "stream",
     "text": [
      "Epoch 1/200\n",
      "98/98 [==============================] - 1s 2ms/step - loss: 7.4555 - val_loss: 5.9056\n",
      "Epoch 2/200\n",
      "98/98 [==============================] - 0s 1ms/step - loss: 5.4947 - val_loss: 4.4972\n",
      "Epoch 3/200\n",
      "98/98 [==============================] - 0s 1ms/step - loss: 4.5173 - val_loss: 3.4977\n",
      "Epoch 4/200\n",
      "98/98 [==============================] - 0s 1ms/step - loss: 3.3711 - val_loss: 2.6417\n",
      "Epoch 5/200\n",
      "98/98 [==============================] - 0s 1ms/step - loss: 2.1024 - val_loss: 2.0021\n",
      "Epoch 6/200\n",
      "98/98 [==============================] - 0s 1ms/step - loss: 2.3006 - val_loss: 1.6749\n",
      "Epoch 7/200\n",
      "98/98 [==============================] - 0s 1ms/step - loss: 2.1778 - val_loss: 1.5537\n",
      "Epoch 8/200\n",
      "98/98 [==============================] - 0s 1ms/step - loss: 1.6198 - val_loss: 1.4841\n",
      "Epoch 9/200\n",
      "98/98 [==============================] - 0s 1ms/step - loss: 2.0882 - val_loss: 1.4415\n",
      "Epoch 10/200\n",
      "98/98 [==============================] - 0s 1ms/step - loss: 1.6569 - val_loss: 1.4109\n",
      "Epoch 11/200\n",
      "98/98 [==============================] - 0s 1ms/step - loss: 1.3350 - val_loss: 1.3860\n",
      "Epoch 12/200\n",
      "98/98 [==============================] - 0s 1ms/step - loss: 1.7555 - val_loss: 1.3680\n",
      "Epoch 13/200\n",
      "98/98 [==============================] - 0s 1ms/step - loss: 1.4691 - val_loss: 1.3550\n",
      "Epoch 14/200\n",
      "98/98 [==============================] - 0s 1ms/step - loss: 1.6757 - val_loss: 1.3419\n",
      "Epoch 15/200\n",
      "98/98 [==============================] - 0s 1ms/step - loss: 1.7879 - val_loss: 1.3318\n",
      "Epoch 16/200\n",
      "98/98 [==============================] - 0s 1ms/step - loss: 1.6687 - val_loss: 1.3219\n",
      "Epoch 17/200\n",
      "98/98 [==============================] - 0s 1ms/step - loss: 1.4890 - val_loss: 1.3157\n",
      "Epoch 18/200\n",
      "98/98 [==============================] - 0s 1ms/step - loss: 1.4115 - val_loss: 1.3094\n",
      "Epoch 19/200\n",
      "98/98 [==============================] - 0s 1ms/step - loss: 1.5701 - val_loss: 1.3064\n",
      "Epoch 20/200\n",
      "98/98 [==============================] - 0s 1ms/step - loss: 1.5500 - val_loss: 1.3012\n",
      "Epoch 21/200\n",
      "98/98 [==============================] - 0s 1ms/step - loss: 1.4508 - val_loss: 1.2989\n",
      "Epoch 22/200\n",
      "98/98 [==============================] - 0s 1ms/step - loss: 1.3021 - val_loss: 1.2949\n",
      "Epoch 23/200\n",
      "98/98 [==============================] - 0s 1ms/step - loss: 1.7296 - val_loss: 1.2915\n",
      "Epoch 24/200\n",
      "98/98 [==============================] - 0s 1ms/step - loss: 1.7061 - val_loss: 1.2899\n",
      "Epoch 25/200\n",
      "98/98 [==============================] - 0s 1ms/step - loss: 1.6428 - val_loss: 1.2843\n",
      "Epoch 26/200\n",
      "98/98 [==============================] - 0s 1ms/step - loss: 1.6894 - val_loss: 1.2809\n",
      "Epoch 27/200\n",
      "98/98 [==============================] - 0s 1ms/step - loss: 1.5806 - val_loss: 1.2777\n",
      "Epoch 28/200\n",
      "98/98 [==============================] - 0s 1ms/step - loss: 1.3815 - val_loss: 1.2768\n",
      "Epoch 29/200\n",
      "98/98 [==============================] - 0s 1ms/step - loss: 1.7789 - val_loss: 1.2771\n",
      "Epoch 30/200\n",
      "98/98 [==============================] - 0s 1ms/step - loss: 1.5383 - val_loss: 1.2803\n",
      "Epoch 31/200\n",
      "98/98 [==============================] - 0s 1ms/step - loss: 1.3513 - val_loss: 1.2751\n",
      "Epoch 32/200\n",
      "98/98 [==============================] - 0s 1ms/step - loss: 1.6693 - val_loss: 1.2699\n",
      "Epoch 33/200\n",
      "98/98 [==============================] - 0s 1ms/step - loss: 1.2620 - val_loss: 1.2721\n",
      "Epoch 34/200\n",
      "98/98 [==============================] - 0s 1ms/step - loss: 1.8046 - val_loss: 1.2791\n",
      "Epoch 35/200\n",
      "98/98 [==============================] - 0s 1ms/step - loss: 1.3847 - val_loss: 1.2717\n",
      "Epoch 36/200\n",
      "98/98 [==============================] - 0s 1ms/step - loss: 2.0240 - val_loss: 1.2748\n",
      "Epoch 37/200\n",
      "98/98 [==============================] - 0s 1ms/step - loss: 1.3370 - val_loss: 1.2734\n",
      "Epoch 38/200\n",
      "98/98 [==============================] - 0s 1ms/step - loss: 1.6948 - val_loss: 1.2800\n",
      "Epoch 39/200\n",
      "98/98 [==============================] - 0s 1ms/step - loss: 1.4593 - val_loss: 1.2718\n",
      "Epoch 40/200\n",
      "98/98 [==============================] - 0s 1ms/step - loss: 1.5435 - val_loss: 1.2713\n",
      "Epoch 41/200\n",
      "98/98 [==============================] - 0s 1ms/step - loss: 1.2350 - val_loss: 1.2699\n",
      "Epoch 42/200\n",
      "98/98 [==============================] - 0s 1ms/step - loss: 1.3429 - val_loss: 1.2720\n",
      "Epoch 43/200\n",
      "98/98 [==============================] - 0s 1ms/step - loss: 1.3799 - val_loss: 1.2783\n",
      "Epoch 44/200\n",
      "98/98 [==============================] - 0s 1ms/step - loss: 1.6608 - val_loss: 1.2790\n",
      "Epoch 45/200\n",
      "98/98 [==============================] - 0s 1ms/step - loss: 1.2885 - val_loss: 1.2771\n",
      "Epoch 46/200\n",
      "98/98 [==============================] - 0s 1ms/step - loss: 1.3229 - val_loss: 1.2786\n",
      "Epoch 47/200\n",
      "98/98 [==============================] - 0s 1ms/step - loss: 1.2469 - val_loss: 1.2852\n",
      "Epoch 48/200\n",
      "98/98 [==============================] - 0s 1ms/step - loss: 1.2418 - val_loss: 1.2826\n",
      "Epoch 49/200\n",
      "98/98 [==============================] - 0s 1ms/step - loss: 1.4360 - val_loss: 1.2863\n",
      "Epoch 50/200\n",
      "98/98 [==============================] - 0s 1ms/step - loss: 1.2378 - val_loss: 1.2894\n",
      "Epoch 51/200\n",
      "98/98 [==============================] - 0s 1ms/step - loss: 1.2486 - val_loss: 1.2879\n",
      "Epoch 52/200\n",
      "98/98 [==============================] - 0s 1ms/step - loss: 1.4211 - val_loss: 1.2972\n",
      "Epoch 53/200\n",
      "98/98 [==============================] - 0s 1ms/step - loss: 1.3554 - val_loss: 1.3085\n",
      "Epoch 54/200\n",
      "98/98 [==============================] - 0s 2ms/step - loss: 1.4842 - val_loss: 1.3158\n",
      "Epoch 55/200\n",
      "98/98 [==============================] - 0s 1ms/step - loss: 1.2905 - val_loss: 1.3137\n",
      "Epoch 56/200\n",
      "98/98 [==============================] - 0s 1ms/step - loss: 1.2516 - val_loss: 1.3248\n",
      "Epoch 57/200\n",
      "98/98 [==============================] - 0s 1ms/step - loss: 1.2385 - val_loss: 1.3335\n",
      "Epoch 58/200\n",
      "98/98 [==============================] - 0s 1ms/step - loss: 1.2902 - val_loss: 1.3328\n",
      "Epoch 59/200\n",
      "98/98 [==============================] - 0s 1ms/step - loss: 1.2378 - val_loss: 1.3385\n",
      "Epoch 60/200\n",
      "98/98 [==============================] - 0s 1ms/step - loss: 1.2771 - val_loss: 1.3386\n",
      "Epoch 61/200\n",
      "98/98 [==============================] - 0s 2ms/step - loss: 1.4311 - val_loss: 1.3503\n",
      "Epoch 62/200\n",
      "98/98 [==============================] - 0s 2ms/step - loss: 1.4314 - val_loss: 1.3514\n",
      "Epoch 63/200\n",
      "98/98 [==============================] - 0s 1ms/step - loss: 1.2810 - val_loss: 1.3624\n",
      "Epoch 64/200\n",
      "98/98 [==============================] - 0s 1ms/step - loss: 1.2084 - val_loss: 1.3696\n",
      "Epoch 65/200\n",
      "98/98 [==============================] - 0s 1ms/step - loss: 1.1485 - val_loss: 1.3637\n",
      "Epoch 66/200\n",
      "98/98 [==============================] - 0s 1ms/step - loss: 1.5454 - val_loss: 1.3699\n",
      "Epoch 67/200\n",
      "98/98 [==============================] - 0s 1ms/step - loss: 1.7055 - val_loss: 1.3772\n",
      "Epoch 68/200\n",
      "98/98 [==============================] - 0s 1ms/step - loss: 1.1500 - val_loss: 1.3807\n",
      "Epoch 69/200\n",
      "98/98 [==============================] - 0s 1ms/step - loss: 1.2966 - val_loss: 1.3861\n",
      "Epoch 70/200\n",
      "98/98 [==============================] - 0s 1ms/step - loss: 1.4624 - val_loss: 1.3933\n",
      "Epoch 71/200\n",
      "98/98 [==============================] - 0s 1ms/step - loss: 1.2867 - val_loss: 1.3991\n",
      "Epoch 72/200\n",
      "98/98 [==============================] - 0s 1ms/step - loss: 1.6183 - val_loss: 1.3969\n",
      "Epoch 73/200\n",
      "98/98 [==============================] - 0s 1ms/step - loss: 1.2924 - val_loss: 1.4033\n",
      "Epoch 74/200\n",
      "98/98 [==============================] - 0s 1ms/step - loss: 1.6461 - val_loss: 1.4037\n",
      "Epoch 75/200\n",
      "98/98 [==============================] - 0s 1ms/step - loss: 1.2446 - val_loss: 1.4110\n",
      "Epoch 76/200\n",
      "98/98 [==============================] - 0s 1ms/step - loss: 1.1457 - val_loss: 1.4097\n",
      "Epoch 77/200\n",
      "98/98 [==============================] - 0s 1ms/step - loss: 1.4702 - val_loss: 1.4180\n",
      "Epoch 78/200\n",
      "98/98 [==============================] - 0s 1ms/step - loss: 1.2004 - val_loss: 1.4189\n",
      "Epoch 79/200\n",
      "98/98 [==============================] - 0s 1ms/step - loss: 1.1564 - val_loss: 1.4306\n",
      "Epoch 80/200\n",
      "98/98 [==============================] - 0s 1ms/step - loss: 1.2886 - val_loss: 1.4370\n",
      "Epoch 81/200\n",
      "98/98 [==============================] - 0s 1ms/step - loss: 1.4159 - val_loss: 1.4375\n",
      "Epoch 82/200\n",
      "98/98 [==============================] - 0s 1ms/step - loss: 1.1949 - val_loss: 1.4384\n",
      "Epoch 83/200\n"
     ]
    },
    {
     "name": "stdout",
     "output_type": "stream",
     "text": [
      "98/98 [==============================] - 0s 1ms/step - loss: 1.3855 - val_loss: 1.4393\n",
      "Epoch 84/200\n",
      "98/98 [==============================] - 0s 1ms/step - loss: 1.1223 - val_loss: 1.4496\n"
     ]
    }
   ],
   "source": [
    "model = base_model()\n",
    "EPOCHS = 200\n",
    "BATCH_SIZE = 10\n",
    "\n",
    "\n",
    "callback = tf.keras.callbacks.EarlyStopping(monitor='loss', patience=3)\n",
    "\n",
    "history = model.fit(X_train, \n",
    "                    y_train, \n",
    "                    epochs=EPOCHS, \n",
    "                    batch_size=BATCH_SIZE,\n",
    "                    validation_split=0.2,\n",
    "                    callbacks=callback)"
   ]
  },
  {
   "cell_type": "code",
   "execution_count": 388,
   "id": "confidential-proceeding",
   "metadata": {},
   "outputs": [
    {
     "data": {
      "text/html": [
       "<div>\n",
       "<style scoped>\n",
       "    .dataframe tbody tr th:only-of-type {\n",
       "        vertical-align: middle;\n",
       "    }\n",
       "\n",
       "    .dataframe tbody tr th {\n",
       "        vertical-align: top;\n",
       "    }\n",
       "\n",
       "    .dataframe thead th {\n",
       "        text-align: right;\n",
       "    }\n",
       "</style>\n",
       "<table border=\"1\" class=\"dataframe\">\n",
       "  <thead>\n",
       "    <tr style=\"text-align: right;\">\n",
       "      <th></th>\n",
       "      <th>loss</th>\n",
       "      <th>val_loss</th>\n",
       "      <th>epoch</th>\n",
       "    </tr>\n",
       "  </thead>\n",
       "  <tbody>\n",
       "    <tr>\n",
       "      <th>79</th>\n",
       "      <td>1.287200</td>\n",
       "      <td>1.437032</td>\n",
       "      <td>79</td>\n",
       "    </tr>\n",
       "    <tr>\n",
       "      <th>80</th>\n",
       "      <td>1.275839</td>\n",
       "      <td>1.437478</td>\n",
       "      <td>80</td>\n",
       "    </tr>\n",
       "    <tr>\n",
       "      <th>81</th>\n",
       "      <td>1.281929</td>\n",
       "      <td>1.438419</td>\n",
       "      <td>81</td>\n",
       "    </tr>\n",
       "    <tr>\n",
       "      <th>82</th>\n",
       "      <td>1.278554</td>\n",
       "      <td>1.439345</td>\n",
       "      <td>82</td>\n",
       "    </tr>\n",
       "    <tr>\n",
       "      <th>83</th>\n",
       "      <td>1.278461</td>\n",
       "      <td>1.449602</td>\n",
       "      <td>83</td>\n",
       "    </tr>\n",
       "  </tbody>\n",
       "</table>\n",
       "</div>"
      ],
      "text/plain": [
       "        loss  val_loss  epoch\n",
       "79  1.287200  1.437032     79\n",
       "80  1.275839  1.437478     80\n",
       "81  1.281929  1.438419     81\n",
       "82  1.278554  1.439345     82\n",
       "83  1.278461  1.449602     83"
      ]
     },
     "execution_count": 388,
     "metadata": {},
     "output_type": "execute_result"
    }
   ],
   "source": [
    "hist = pd.DataFrame(history.history)\n",
    "hist['epoch'] = history.epoch\n",
    "hist.tail()"
   ]
  },
  {
   "cell_type": "code",
   "execution_count": 389,
   "id": "provincial-eligibility",
   "metadata": {},
   "outputs": [],
   "source": [
    "def plot_loss(history):\n",
    "    plt.plot(history.history['loss'], label='loss')\n",
    "    plt.plot(history.history['val_loss'], label='val_loss')\n",
    "    plt.xlabel('Epoch')\n",
    "    plt.ylabel('Error')\n",
    "    plt.legend()\n",
    "    plt.grid(True)"
   ]
  },
  {
   "cell_type": "code",
   "execution_count": 390,
   "id": "english-harvest",
   "metadata": {},
   "outputs": [
    {
     "data": {
      "image/png": "[encoded data removed]",
      "text/plain": [
       "<Figure size 432x288 with 1 Axes>"
      ]
     },
     "metadata": {
      "needs_background": "light"
     },
     "output_type": "display_data"
    }
   ],
   "source": [
    "plot_loss(history)"
   ]
  },
  {
   "cell_type": "code",
   "execution_count": 391,
   "id": "rough-strain",
   "metadata": {},
   "outputs": [],
   "source": [
    "y_pred = model.predict(X_test)"
   ]
  },
  {
   "cell_type": "code",
   "execution_count": 392,
   "id": "applied-nightmare",
   "metadata": {},
   "outputs": [],
   "source": [
    "y_pred_round = np.round(y_pred)"
   ]
  },
  {
   "cell_type": "code",
   "execution_count": 393,
   "id": "closed-bidding",
   "metadata": {},
   "outputs": [
    {
     "data": {
      "text/plain": [
       "0.5"
      ]
     },
     "execution_count": 393,
     "metadata": {},
     "output_type": "execute_result"
    }
   ],
   "source": [
    "accuracy_score(y_test, y_pred_round)"
   ]
  },
  {
   "cell_type": "code",
   "execution_count": 394,
   "id": "accurate-yugoslavia",
   "metadata": {},
   "outputs": [],
   "source": [
    "# model.save(OUTPUT_PATH + 'Model_NN_HS')"
   ]
  },
  {
   "cell_type": "markdown",
   "id": "electronic-halloween",
   "metadata": {},
   "source": [
    "### FEATURE IMPORTANCE"
   ]
  },
  {
   "cell_type": "code",
   "execution_count": 395,
   "id": "fossil-diesel",
   "metadata": {},
   "outputs": [],
   "source": [
    "from sklearn.model_selection import cross_val_score, KFold\n",
    "from keras.wrappers.scikit_learn import KerasRegressor\n",
    "\n",
    "import eli5\n",
    "from eli5.sklearn import PermutationImportance"
   ]
  },
  {
   "cell_type": "code",
   "execution_count": 396,
   "id": "equipped-wrong",
   "metadata": {},
   "outputs": [],
   "source": [
    "estimator = KerasRegressor(build_fn=base_model, nb_epoch=EPOCHS, \n",
    "                    batch_size=BATCH_SIZE,\n",
    "                    validation_split=0.2)\n",
    "kfold = KFold(n_splits=10, random_state=1, shuffle=True)"
   ]
  },
  {
   "cell_type": "code",
   "execution_count": 397,
   "id": "distinct-bubble",
   "metadata": {},
   "outputs": [
    {
     "name": "stdout",
     "output_type": "stream",
     "text": [
      "88/88 [==============================] - 1s 3ms/step - loss: 6.1799 - val_loss: 3.9616\n",
      "13/13 [==============================] - 0s 1ms/step - loss: 2.0254\n",
      "88/88 [==============================] - 1s 3ms/step - loss: 3.9775 - val_loss: 3.6297\n",
      "13/13 [==============================] - 0s 1ms/step - loss: 4.9183\n",
      "88/88 [==============================] - 1s 3ms/step - loss: 3.6250 - val_loss: 2.5138\n",
      "13/13 [==============================] - 0s 998us/step - loss: 1.8560\n",
      "88/88 [==============================] - 1s 3ms/step - loss: 3.1852 - val_loss: 2.9188\n",
      "13/13 [==============================] - 0s 653us/step - loss: 3.1950\n",
      "88/88 [==============================] - 1s 2ms/step - loss: 4.8065 - val_loss: 4.0117\n",
      "13/13 [==============================] - 0s 650us/step - loss: 2.5158\n",
      "88/88 [==============================] - 1s 3ms/step - loss: 3.0354 - val_loss: 2.8322\n",
      "13/13 [==============================] - 0s 915us/step - loss: 2.8271\n",
      "88/88 [==============================] - 1s 3ms/step - loss: 6.9654 - val_loss: 4.9207\n",
      "13/13 [==============================] - 0s 665us/step - loss: 5.8296\n",
      "88/88 [==============================] - 1s 3ms/step - loss: 2.6825 - val_loss: 2.5252\n",
      "13/13 [==============================] - 0s 763us/step - loss: 3.3160\n",
      "88/88 [==============================] - 1s 3ms/step - loss: 4.5956 - val_loss: 3.9105\n",
      "13/13 [==============================] - 0s 662us/step - loss: 2.6695\n",
      "88/88 [==============================] - 1s 3ms/step - loss: 3.3965 - val_loss: 2.1140\n",
      "13/13 [==============================] - 0s 748us/step - loss: 2.8081\n"
     ]
    }
   ],
   "source": [
    "results = cross_val_score(estimator, X_train, y_train, cv=kfold)"
   ]
  },
  {
   "cell_type": "code",
   "execution_count": 398,
   "id": "mature-chuck",
   "metadata": {},
   "outputs": [
    {
     "name": "stdout",
     "output_type": "stream",
     "text": [
      "Results: -3.20 (1.19) MSE\n"
     ]
    }
   ],
   "source": [
    "print(\"Results: %.2f (%.2f) MSE\" % (results.mean(), results.std()))"
   ]
  },
  {
   "cell_type": "code",
   "execution_count": 399,
   "id": "leading-passport",
   "metadata": {
    "scrolled": true
   },
   "outputs": [
    {
     "name": "stdout",
     "output_type": "stream",
     "text": [
      "98/98 [==============================] - 1s 4ms/step - loss: 4.0202 - val_loss: 4.0530\n"
     ]
    },
    {
     "data": {
      "text/plain": [
       "<tensorflow.python.keras.callbacks.History at 0x194ae8d4040>"
      ]
     },
     "execution_count": 399,
     "metadata": {},
     "output_type": "execute_result"
    }
   ],
   "source": [
    "estimator.fit(X_train, y_train)"
   ]
  },
  {
   "cell_type": "code",
   "execution_count": 400,
   "id": "synthetic-student",
   "metadata": {},
   "outputs": [
    {
     "name": "stdout",
     "output_type": "stream",
     "text": [
      "123/123 [==============================] - 0s 731us/step - loss: 3.8258\n",
      "123/123 [==============================] - 0s 685us/step - loss: 3.8738\n",
      "123/123 [==============================] - 0s 641us/step - loss: 3.8247\n",
      "123/123 [==============================] - 0s 616us/step - loss: 3.8448\n",
      "123/123 [==============================] - 0s 632us/step - loss: 3.8547\n",
      "123/123 [==============================] - 0s 639us/step - loss: 3.8708\n",
      "123/123 [==============================] - 0s 585us/step - loss: 3.8003\n",
      "123/123 [==============================] - 0s 607us/step - loss: 3.7927\n",
      "123/123 [==============================] - 0s 664us/step - loss: 3.8740\n",
      "123/123 [==============================] - 0s 649us/step - loss: 3.7343\n",
      "123/123 [==============================] - 0s 648us/step - loss: 3.9359\n",
      "123/123 [==============================] - 0s 579us/step - loss: 3.8453\n",
      "123/123 [==============================] - 0s 576us/step - loss: 4.0156\n",
      "123/123 [==============================] - 0s 594us/step - loss: 3.7841\n",
      "123/123 [==============================] - 0s 658us/step - loss: 3.8202\n",
      "123/123 [==============================] - 0s 716us/step - loss: 3.8448\n",
      "123/123 [==============================] - 0s 579us/step - loss: 3.7680\n",
      "123/123 [==============================] - 0s 608us/step - loss: 3.7554\n",
      "123/123 [==============================] - 0s 563us/step - loss: 3.8390\n",
      "123/123 [==============================] - 0s 620us/step - loss: 3.8159\n",
      "123/123 [==============================] - 0s 565us/step - loss: 3.8845\n",
      "123/123 [==============================] - 0s 575us/step - loss: 3.8506\n",
      "123/123 [==============================] - 0s 593us/step - loss: 3.8539\n",
      "123/123 [==============================] - 0s 573us/step - loss: 3.8632\n",
      "123/123 [==============================] - 0s 564us/step - loss: 3.8668\n",
      "123/123 [==============================] - 0s 554us/step - loss: 3.7995\n",
      "123/123 [==============================] - 0s 547us/step - loss: 3.8149\n",
      "123/123 [==============================] - 0s 540us/step - loss: 3.9019\n",
      "123/123 [==============================] - 0s 559us/step - loss: 3.7589\n",
      "123/123 [==============================] - 0s 680us/step - loss: 3.9238\n",
      "123/123 [==============================] - 0s 633us/step - loss: 3.8332\n",
      "123/123 [==============================] - 0s 602us/step - loss: 4.0804\n",
      "123/123 [==============================] - 0s 575us/step - loss: 3.7612\n",
      "123/123 [==============================] - 0s 596us/step - loss: 3.8122\n",
      "123/123 [==============================] - 0s 538us/step - loss: 3.8210\n",
      "123/123 [==============================] - 0s 626us/step - loss: 3.7741\n",
      "123/123 [==============================] - 0s 562us/step - loss: 3.7623\n",
      "123/123 [==============================] - 0s 556us/step - loss: 3.8377\n",
      "123/123 [==============================] - 0s 626us/step - loss: 3.8194\n",
      "123/123 [==============================] - 0s 606us/step - loss: 3.9100\n",
      "123/123 [==============================] - 0s 543us/step - loss: 3.8652\n",
      "123/123 [==============================] - 0s 543us/step - loss: 3.8490\n",
      "123/123 [==============================] - 0s 551us/step - loss: 3.8090\n",
      "123/123 [==============================] - 0s 644us/step - loss: 3.8594\n",
      "123/123 [==============================] - 0s 590us/step - loss: 3.7700\n",
      "123/123 [==============================] - 0s 555us/step - loss: 3.8133\n",
      "123/123 [==============================] - 0s 574us/step - loss: 3.8700\n",
      "123/123 [==============================] - 0s 596us/step - loss: 3.7059\n",
      "123/123 [==============================] - 0s 529us/step - loss: 3.9093\n",
      "123/123 [==============================] - 0s 562us/step - loss: 3.8479\n",
      "123/123 [==============================] - 0s 581us/step - loss: 4.0677\n",
      "123/123 [==============================] - 0s 752us/step - loss: 3.7466\n",
      "123/123 [==============================] - 0s 592us/step - loss: 3.8251\n",
      "123/123 [==============================] - 0s 575us/step - loss: 3.8291\n",
      "123/123 [==============================] - 0s 578us/step - loss: 3.7916\n",
      "123/123 [==============================] - 0s 566us/step - loss: 3.7769\n",
      "123/123 [==============================] - 0s 589us/step - loss: 3.8354\n",
      "123/123 [==============================] - 0s 547us/step - loss: 3.8418\n",
      "123/123 [==============================] - 0s 553us/step - loss: 3.8820\n",
      "123/123 [==============================] - 0s 608us/step - loss: 3.8331\n",
      "123/123 [==============================] - 0s 571us/step - loss: 3.8358\n",
      "123/123 [==============================] - 0s 634us/step - loss: 3.7959\n",
      "123/123 [==============================] - 0s 842us/step - loss: 3.8677\n",
      "123/123 [==============================] - 0s 842us/step - loss: 3.7679\n",
      "123/123 [==============================] - 0s 875us/step - loss: 3.7925\n",
      "123/123 [==============================] - 0s 809us/step - loss: 3.8979\n",
      "123/123 [==============================] - 0s 1ms/step - loss: 3.7327\n",
      "123/123 [==============================] - 0s 1ms/step - loss: 3.8937\n",
      "123/123 [==============================] - 0s 1ms/step - loss: 3.8390\n",
      "123/123 [==============================] - 0s 973us/step - loss: 3.9879\n",
      "123/123 [==============================] - 0s 922us/step - loss: 3.7786\n",
      "123/123 [==============================] - 0s 822us/step - loss: 3.8121\n",
      "123/123 [==============================] - 0s 746us/step - loss: 3.8492\n",
      "123/123 [==============================] - 0s 686us/step - loss: 3.7681\n",
      "123/123 [==============================] - 0s 661us/step - loss: 3.7618\n",
      "123/123 [==============================] - 0s 629us/step - loss: 3.8362\n",
      "123/123 [==============================] - 0s 662us/step - loss: 3.8402\n",
      "123/123 [==============================] - 0s 570us/step - loss: 3.8945\n",
      "123/123 [==============================] - 0s 620us/step - loss: 3.8253\n",
      "123/123 [==============================] - 0s 564us/step - loss: 3.8454\n",
      "123/123 [==============================] - 0s 582us/step - loss: 3.8607\n",
      "123/123 [==============================] - 0s 520us/step - loss: 3.8339\n",
      "123/123 [==============================] - 0s 568us/step - loss: 3.7933\n",
      "123/123 [==============================] - 0s 535us/step - loss: 3.8112\n",
      "123/123 [==============================] - 0s 559us/step - loss: 3.8791\n",
      "123/123 [==============================] - 0s 587us/step - loss: 3.7304\n",
      "123/123 [==============================] - 0s 571us/step - loss: 3.8727\n",
      "123/123 [==============================] - 0s 552us/step - loss: 3.8524\n",
      "123/123 [==============================] - 0s 550us/step - loss: 4.0404\n",
      "123/123 [==============================] - 0s 547us/step - loss: 3.7727\n",
      "123/123 [==============================] - 0s 577us/step - loss: 3.8100\n",
      "123/123 [==============================] - 0s 556us/step - loss: 3.8346\n",
      "123/123 [==============================] - 0s 624us/step - loss: 3.7506\n",
      "123/123 [==============================] - 0s 586us/step - loss: 3.8019\n",
      "123/123 [==============================] - 0s 562us/step - loss: 3.8374\n",
      "123/123 [==============================] - 0s 543us/step - loss: 3.8249\n"
     ]
    },
    {
     "data": {
      "text/html": [
       "\n",
       "    <style>\n",
       "    table.eli5-weights tr:hover {\n",
       "        filter: brightness(85%);\n",
       "    }\n",
       "</style>\n",
       "\n",
       "\n",
       "\n",
       "    \n",
       "\n",
       "    \n",
       "\n",
       "    \n",
       "\n",
       "    \n",
       "\n",
       "    \n",
       "\n",
       "    \n",
       "\n",
       "\n",
       "    \n",
       "\n",
       "    \n",
       "\n",
       "    \n",
       "\n",
       "    \n",
       "\n",
       "    \n",
       "\n",
       "    \n",
       "\n",
       "\n",
       "    \n",
       "\n",
       "    \n",
       "\n",
       "    \n",
       "\n",
       "    \n",
       "\n",
       "    \n",
       "        <table class=\"eli5-weights eli5-feature-importances\" style=\"border-collapse: collapse; border: none; margin-top: 0em; table-layout: auto;\">\n",
       "    <thead>\n",
       "    <tr style=\"border: none;\">\n",
       "        <th style=\"padding: 0 1em 0 0.5em; text-align: right; border: none;\">Weight</th>\n",
       "        <th style=\"padding: 0 0.5em 0 0.5em; text-align: left; border: none;\">Feature</th>\n",
       "    </tr>\n",
       "    </thead>\n",
       "    <tbody>\n",
       "    \n",
       "        <tr style=\"background-color: hsl(120, 100.00%, 80.00%); border: none;\">\n",
       "            <td style=\"padding: 0 1em 0 0.5em; text-align: right; border: none;\">\n",
       "                0.2126\n",
       "                \n",
       "                    &plusmn; 0.0675\n",
       "                \n",
       "            </td>\n",
       "            <td style=\"padding: 0 0.5em 0 0.5em; text-align: left; border: none;\">\n",
       "                SDG_Type_Worker_Ser\n",
       "            </td>\n",
       "        </tr>\n",
       "    \n",
       "        <tr style=\"background-color: hsl(120, 100.00%, 89.80%); border: none;\">\n",
       "            <td style=\"padding: 0 1em 0 0.5em; text-align: right; border: none;\">\n",
       "                0.0813\n",
       "                \n",
       "                    &plusmn; 0.0445\n",
       "                \n",
       "            </td>\n",
       "            <td style=\"padding: 0 0.5em 0 0.5em; text-align: left; border: none;\">\n",
       "                SDG_Type_Worker_Tec\n",
       "            </td>\n",
       "        </tr>\n",
       "    \n",
       "        <tr style=\"background-color: hsl(120, 100.00%, 91.45%); border: none;\">\n",
       "            <td style=\"padding: 0 1em 0 0.5em; text-align: right; border: none;\">\n",
       "                0.0632\n",
       "                \n",
       "                    &plusmn; 0.0248\n",
       "                \n",
       "            </td>\n",
       "            <td style=\"padding: 0 0.5em 0 0.5em; text-align: left; border: none;\">\n",
       "                SDG_Households_Electricity_Light_Pct\n",
       "            </td>\n",
       "        </tr>\n",
       "    \n",
       "        <tr style=\"background-color: hsl(120, 100.00%, 91.87%); border: none;\">\n",
       "            <td style=\"padding: 0 1em 0 0.5em; text-align: right; border: none;\">\n",
       "                0.0588\n",
       "                \n",
       "                    &plusmn; 0.0258\n",
       "                \n",
       "            </td>\n",
       "            <td style=\"padding: 0 0.5em 0 0.5em; text-align: left; border: none;\">\n",
       "                SDG_Type_Worker_Man\n",
       "            </td>\n",
       "        </tr>\n",
       "    \n",
       "        <tr style=\"background-color: hsl(120, 100.00%, 94.46%); border: none;\">\n",
       "            <td style=\"padding: 0 1em 0 0.5em; text-align: right; border: none;\">\n",
       "                0.0339\n",
       "                \n",
       "                    &plusmn; 0.0269\n",
       "                \n",
       "            </td>\n",
       "            <td style=\"padding: 0 0.5em 0 0.5em; text-align: left; border: none;\">\n",
       "                SDG_Households_Construction_Material_Concrete_Pct\n",
       "            </td>\n",
       "        </tr>\n",
       "    \n",
       "        <tr style=\"background-color: hsl(120, 100.00%, 96.18%); border: none;\">\n",
       "            <td style=\"padding: 0 1em 0 0.5em; text-align: right; border: none;\">\n",
       "                0.0200\n",
       "                \n",
       "                    &plusmn; 0.0119\n",
       "                \n",
       "            </td>\n",
       "            <td style=\"padding: 0 0.5em 0 0.5em; text-align: left; border: none;\">\n",
       "                SDG_Households_Drinking_Owned_Faucet_Pct\n",
       "            </td>\n",
       "        </tr>\n",
       "    \n",
       "        <tr style=\"background-color: hsl(120, 100.00%, 96.48%); border: none;\">\n",
       "            <td style=\"padding: 0 1em 0 0.5em; text-align: right; border: none;\">\n",
       "                0.0178\n",
       "                \n",
       "                    &plusmn; 0.0135\n",
       "                \n",
       "            </td>\n",
       "            <td style=\"padding: 0 0.5em 0 0.5em; text-align: left; border: none;\">\n",
       "                SDG_Type_Worker_Cle\n",
       "            </td>\n",
       "        </tr>\n",
       "    \n",
       "        <tr style=\"background-color: hsl(120, 100.00%, 97.02%); border: none;\">\n",
       "            <td style=\"padding: 0 1em 0 0.5em; text-align: right; border: none;\">\n",
       "                0.0140\n",
       "                \n",
       "                    &plusmn; 0.0316\n",
       "                \n",
       "            </td>\n",
       "            <td style=\"padding: 0 0.5em 0 0.5em; text-align: left; border: none;\">\n",
       "                SDG_Households_Kerosene_Gass_Light_Pct\n",
       "            </td>\n",
       "        </tr>\n",
       "    \n",
       "        <tr style=\"background-color: hsl(120, 100.00%, 97.43%); border: none;\">\n",
       "            <td style=\"padding: 0 1em 0 0.5em; text-align: right; border: none;\">\n",
       "                0.0114\n",
       "                \n",
       "                    &plusmn; 0.0025\n",
       "                \n",
       "            </td>\n",
       "            <td style=\"padding: 0 0.5em 0 0.5em; text-align: left; border: none;\">\n",
       "                SDG_less_than_54_sqft\n",
       "            </td>\n",
       "        </tr>\n",
       "    \n",
       "        <tr style=\"background-color: hsl(120, 100.00%, 97.50%); border: none;\">\n",
       "            <td style=\"padding: 0 1em 0 0.5em; text-align: right; border: none;\">\n",
       "                0.0109\n",
       "                \n",
       "                    &plusmn; 0.0568\n",
       "                \n",
       "            </td>\n",
       "            <td style=\"padding: 0 0.5em 0 0.5em; text-align: left; border: none;\">\n",
       "                SDG_Households_Drinking_Shared_Faucet_Pct\n",
       "            </td>\n",
       "        </tr>\n",
       "    \n",
       "        <tr style=\"background-color: hsl(120, 100.00%, 97.65%); border: none;\">\n",
       "            <td style=\"padding: 0 1em 0 0.5em; text-align: right; border: none;\">\n",
       "                0.0100\n",
       "                \n",
       "                    &plusmn; 0.0205\n",
       "                \n",
       "            </td>\n",
       "            <td style=\"padding: 0 0.5em 0 0.5em; text-align: left; border: none;\">\n",
       "                SDG_Type_Worker_Pla\n",
       "            </td>\n",
       "        </tr>\n",
       "    \n",
       "        <tr style=\"background-color: hsl(120, 100.00%, 99.07%); border: none;\">\n",
       "            <td style=\"padding: 0 1em 0 0.5em; text-align: right; border: none;\">\n",
       "                0.0027\n",
       "                \n",
       "                    &plusmn; 0.0214\n",
       "                \n",
       "            </td>\n",
       "            <td style=\"padding: 0 0.5em 0 0.5em; text-align: left; border: none;\">\n",
       "                STUD_POPN\n",
       "            </td>\n",
       "        </tr>\n",
       "    \n",
       "        <tr style=\"background-color: hsl(0, 100.00%, 97.67%); border: none;\">\n",
       "            <td style=\"padding: 0 1em 0 0.5em; text-align: right; border: none;\">\n",
       "                -0.0099\n",
       "                \n",
       "                    &plusmn; 0.0115\n",
       "                \n",
       "            </td>\n",
       "            <td style=\"padding: 0 0.5em 0 0.5em; text-align: left; border: none;\">\n",
       "                SDG_Type_Worker_Cra\n",
       "            </td>\n",
       "        </tr>\n",
       "    \n",
       "        <tr style=\"background-color: hsl(0, 100.00%, 96.06%); border: none;\">\n",
       "            <td style=\"padding: 0 1em 0 0.5em; text-align: right; border: none;\">\n",
       "                -0.0209\n",
       "                \n",
       "                    &plusmn; 0.0202\n",
       "                \n",
       "            </td>\n",
       "            <td style=\"padding: 0 0.5em 0 0.5em; text-align: left; border: none;\">\n",
       "                SDG_Type_Building_Single_Pct\n",
       "            </td>\n",
       "        </tr>\n",
       "    \n",
       "        <tr style=\"background-color: hsl(0, 100.00%, 93.83%); border: none;\">\n",
       "            <td style=\"padding: 0 1em 0 0.5em; text-align: right; border: none;\">\n",
       "                -0.0396\n",
       "                \n",
       "                    &plusmn; 0.0286\n",
       "                \n",
       "            </td>\n",
       "            <td style=\"padding: 0 0.5em 0 0.5em; text-align: left; border: none;\">\n",
       "                SDG_Building_Tenure_Type_Owned_Pct\n",
       "            </td>\n",
       "        </tr>\n",
       "    \n",
       "        <tr style=\"background-color: hsl(0, 100.00%, 92.32%); border: none;\">\n",
       "            <td style=\"padding: 0 1em 0 0.5em; text-align: right; border: none;\">\n",
       "                -0.0541\n",
       "                \n",
       "                    &plusmn; 0.0334\n",
       "                \n",
       "            </td>\n",
       "            <td style=\"padding: 0 0.5em 0 0.5em; text-align: left; border: none;\">\n",
       "                SDG_Type_Worker_Arm\n",
       "            </td>\n",
       "        </tr>\n",
       "    \n",
       "        <tr style=\"background-color: hsl(0, 100.00%, 92.21%); border: none;\">\n",
       "            <td style=\"padding: 0 1em 0 0.5em; text-align: right; border: none;\">\n",
       "                -0.0553\n",
       "                \n",
       "                    &plusmn; 0.0263\n",
       "                \n",
       "            </td>\n",
       "            <td style=\"padding: 0 0.5em 0 0.5em; text-align: left; border: none;\">\n",
       "                SDG_Type_Worker_Ele\n",
       "            </td>\n",
       "        </tr>\n",
       "    \n",
       "        <tr style=\"background-color: hsl(0, 100.00%, 92.03%); border: none;\">\n",
       "            <td style=\"padding: 0 1em 0 0.5em; text-align: right; border: none;\">\n",
       "                -0.0571\n",
       "                \n",
       "                    &plusmn; 0.0268\n",
       "                \n",
       "            </td>\n",
       "            <td style=\"padding: 0 0.5em 0 0.5em; text-align: left; border: none;\">\n",
       "                SDG_Type_Worker_Ski\n",
       "            </td>\n",
       "        </tr>\n",
       "    \n",
       "        <tr style=\"background-color: hsl(0, 100.00%, 88.76%); border: none;\">\n",
       "            <td style=\"padding: 0 1em 0 0.5em; text-align: right; border: none;\">\n",
       "                -0.0934\n",
       "                \n",
       "                    &plusmn; 0.0336\n",
       "                \n",
       "            </td>\n",
       "            <td style=\"padding: 0 0.5em 0 0.5em; text-align: left; border: none;\">\n",
       "                SDG_Type_Worker_Pro\n",
       "            </td>\n",
       "        </tr>\n",
       "    \n",
       "    \n",
       "    </tbody>\n",
       "</table>\n",
       "    \n",
       "\n",
       "    \n",
       "\n",
       "\n",
       "    \n",
       "\n",
       "    \n",
       "\n",
       "    \n",
       "\n",
       "    \n",
       "\n",
       "    \n",
       "\n",
       "    \n",
       "\n",
       "\n",
       "\n"
      ],
      "text/plain": [
       "<IPython.core.display.HTML object>"
      ]
     },
     "execution_count": 400,
     "metadata": {},
     "output_type": "execute_result"
    }
   ],
   "source": [
    "perm = PermutationImportance(estimator, random_state=1).fit(X_train, y_train)\n",
    "eli5.show_weights(perm, feature_names = X_train.columns.tolist())"
   ]
  },
  {
   "cell_type": "markdown",
   "id": "international-knowing",
   "metadata": {},
   "source": [
    "### PREDICT BRGY WITHOUT SCHOOL"
   ]
  },
  {
   "cell_type": "code",
   "execution_count": 170,
   "id": "demographic-sleep",
   "metadata": {},
   "outputs": [
    {
     "data": {
      "text/plain": [
       "953"
      ]
     },
     "execution_count": 170,
     "metadata": {},
     "output_type": "execute_result"
    }
   ],
   "source": [
    "dataset_null = dataset_raw[dataset_raw.isnull().any(axis=1)]\n",
    "len(dataset_null)"
   ]
  },
  {
   "cell_type": "code",
   "execution_count": 171,
   "id": "tropical-economics",
   "metadata": {},
   "outputs": [],
   "source": [
    "X_predict = dataset_null.iloc[:,84:]\n",
    "X_predict['ELEM_POPN'] = dataset_null['both_age_6_to_12']"
   ]
  },
  {
   "cell_type": "code",
   "execution_count": 172,
   "id": "abandoned-allergy",
   "metadata": {},
   "outputs": [],
   "source": [
    "def predict(X_predict):\n",
    "    y_pred_null = model.predict(X_predict)\n",
    "    X_predict['Pred_school_num'] = np.round(y_pred_null)\n",
    "    X_predict['PSGC_BRGY'] = dataset_null['PSGC_BRGY']\n",
    "    return X_predict"
   ]
  },
  {
   "cell_type": "code",
   "execution_count": 173,
   "id": "stuck-settle",
   "metadata": {},
   "outputs": [],
   "source": [
    "pred_df_1 = predict(X_predict)"
   ]
  },
  {
   "cell_type": "code",
   "execution_count": 174,
   "id": "looking-analyst",
   "metadata": {},
   "outputs": [],
   "source": [
    "# replace \n",
    "zero_schools = zero_schools_hs.drop(['NUM_SCHOOLS'], axis=1)\n",
    "pred_df_2 = predict(zero_schools)"
   ]
  },
  {
   "cell_type": "code",
   "execution_count": 175,
   "id": "universal-respondent",
   "metadata": {},
   "outputs": [],
   "source": [
    "predicted_df = pd.concat([pred_df_1, pred_df_2])"
   ]
  },
  {
   "cell_type": "code",
   "execution_count": 176,
   "id": "established-continent",
   "metadata": {},
   "outputs": [
    {
     "data": {
      "text/plain": [
       "2162"
      ]
     },
     "execution_count": 176,
     "metadata": {},
     "output_type": "execute_result"
    }
   ],
   "source": [
    "len(predicted_df)"
   ]
  },
  {
   "cell_type": "code",
   "execution_count": 177,
   "id": "twelve-checklist",
   "metadata": {},
   "outputs": [],
   "source": [
    "predicted_df.to_csv(OUTPUT_PATH + 'Model_NN_Output_HS.csv', index=False)"
   ]
  },
  {
   "cell_type": "code",
   "execution_count": null,
   "id": "minute-personal",
   "metadata": {},
   "outputs": [],
   "source": []
  }
 ],
 "metadata": {
  "kernelspec": {
   "display_name": "Python 3",
   "language": "python",
   "name": "python3"
  },
  "language_info": {
   "codemirror_mode": {
    "name": "ipython",
    "version": 3
   },
   "file_extension": ".py",
   "mimetype": "text/x-python",
   "name": "python",
   "nbconvert_exporter": "python",
   "pygments_lexer": "ipython3",
   "version": "3.8.7"
  }
 },
 "nbformat": 4,
 "nbformat_minor": 5
}
