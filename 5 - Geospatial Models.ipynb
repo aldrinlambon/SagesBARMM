{
 "cells": [
  {
   "cell_type": "code",
   "execution_count": 1,
   "metadata": {},
   "outputs": [],
   "source": [
    "import warnings\n",
    "warnings.filterwarnings('ignore')\n",
    "\n",
    "import pandas as pd\n",
    "import geopandas as gpd\n",
    "import matplotlib.pyplot as plt\n",
    "\n",
    "import pysal as ps\n",
    "import pysal.lib.weights as weights\n",
    "import pysal.lib.cg as cg\n",
    "import access\n",
    "\n",
    "from sklearn.preprocessing import MinMaxScaler\n",
    "\n",
    "from geopy.distance import distance,geodesic\n",
    "import aceso\n",
    "\n",
    "GEODATA_PATH = 'data/geodata/'\n",
    "OUTPUT_PATH = 'data/output/'"
   ]
  },
  {
   "cell_type": "code",
   "execution_count": 2,
   "metadata": {},
   "outputs": [],
   "source": [
    "def get_coord_via_PSGC(psgc,df,psgc_col=\"Bgy_Code\",coord_col=\"centroid\"):\n",
    "    cond = df[psgc_col].str.contains(psgc)\n",
    "    lon = df.loc[cond,coord_col].x.values[0]\n",
    "    lat = df.loc[cond,coord_col].y.values[0]\n",
    "    return (lat,lon)\n",
    "\n",
    "def to_coord_tuple(point):\n",
    "    lon = point.x\n",
    "    lat = point.y\n",
    "    return (lat,lon)\n",
    "\n",
    "def get_PSGC_via_index(index,df,col):\n",
    "    return df.loc[index,col]\n",
    "\n",
    "def get_coord_values_in(index,df,col):\n",
    "    lon = df.loc[index,col].x\n",
    "    lat = df.loc[index,col].y\n",
    "    return (lat,lon)\n",
    "\n",
    "def get_km_dist_two_coord_series(coords1,coords2):\n",
    "    dists = []\n",
    "    for coord1,coord2 in zip(coords1,coords2):\n",
    "        dists.append(geodesic(coord1,coord2).km)\n",
    "    return dists"
   ]
  },
  {
   "cell_type": "code",
   "execution_count": 3,
   "metadata": {},
   "outputs": [
    {
     "name": "stdout",
     "output_type": "stream",
     "text": [
      "brgys_geodata (2489, 10)\n",
      "schools_geodata (2533, 13)\n"
     ]
    }
   ],
   "source": [
    "crs_constant = \"EPSG:4326\"\n",
    "\n",
    "brgys_geodata = gpd.read_file(GEODATA_PATH+'AdministrativeBoundariesBARMMBarangays20190206PSA2016/AdministrativeBoundariesBARMMBarangays20190206PSA2016.shp')\n",
    "brgys_geodata = brgys_geodata.to_crs(crs_constant)\n",
    "\n",
    "cond = brgys_geodata['Reg_Code']=='PH150000000'\n",
    "brgys_geodata=brgys_geodata[cond].reset_index(drop=True)\n",
    "\n",
    "brgys_geodata[\"centroid\"] = brgys_geodata[\"geometry\"].centroid\n",
    "print(\"brgys_geodata\",brgys_geodata.shape)\n",
    "\n",
    "schools_geodata = gpd.read_file(OUTPUT_PATH+'SchoolsDepEd2017_Geodata_Clean/SchoolsDepEd2017_Geodata_Clean.shp')\n",
    "schools_geodata = schools_geodata.to_crs(crs_constant)\n",
    "schools_geodata.dropna(subset=[\"PSGC_BRGY\"],inplace=True)\n",
    "\n",
    "cond = (schools_geodata[\"geometry\"].x>0) &(schools_geodata[\"geometry\"].y>0)\n",
    "schools_geodata = schools_geodata[cond].reset_index(drop=True)\n",
    "print(\"schools_geodata\",schools_geodata.shape)"
   ]
  },
  {
   "cell_type": "code",
   "execution_count": 4,
   "metadata": {},
   "outputs": [
    {
     "name": "stdout",
     "output_type": "stream",
     "text": [
      "pop_brgy (2482, 2)\n",
      "brgys (2489, 4)\n",
      "schools (2533, 4)\n"
     ]
    }
   ],
   "source": [
    "pop_brgy = pd.read_csv(OUTPUT_PATH+\"CleanData_Population_Schools_SDGs.csv\")\n",
    "pop_brgy = pop_brgy[[\"PSGC_BRGY\",\"both_age_6_to_16\"]]\n",
    "print(\"pop_brgy\",pop_brgy.shape)\n",
    "\n",
    "brgys = brgys_geodata[[\"Bgy_Code\",\"Pro_Name\",\"geometry\"]]\n",
    "brgys = pd.merge(brgys,pop_brgy,left_on=\"Bgy_Code\",right_on=\"PSGC_BRGY\",how=\"left\")\n",
    "brgys = brgys[[\"PSGC_BRGY\",\"Pro_Name\",\"geometry\",\"both_age_6_to_16\"]]\n",
    "print(\"brgys\",brgys.shape)\n",
    "\n",
    "schools = schools_geodata[[\"SCH_ID\",\"PSGC_BRGY\",\"PROV\",\"geometry\"]]\n",
    "schools.dropna(subset=[\"PSGC_BRGY\"],inplace=True)\n",
    "print(\"schools\",schools.shape)"
   ]
  },
  {
   "cell_type": "code",
   "execution_count": 5,
   "metadata": {
    "scrolled": false
   },
   "outputs": [],
   "source": [
    "# for province in brgys_geodata['Pro_Name'].unique():\n",
    "#     cond1 = brgys_geodata['Pro_Name']==province\n",
    "#     base = brgys_geodata[cond1].plot(figsize=(10,10),edgecolor='k')\n",
    "#     brgys_geodata.loc[cond1,\"centroid\"].plot(ax=base,color=\"white\")\n",
    "    \n",
    "#     cond2 = schools_geodata['PROV']==province\n",
    "#     schools_geodata[cond2].plot(ax=base,color=\"Yellow\",markersize = 5)\n",
    "    \n",
    "#     plt.title(province)\n",
    "#     base.set_facecolor('grey');"
   ]
  },
  {
   "cell_type": "code",
   "execution_count": 6,
   "metadata": {},
   "outputs": [],
   "source": [
    "# for province in brgys['Pro_Name'].unique():\n",
    "#     cond1 = brgys['Pro_Name']==province\n",
    "#     base = brgys[cond1].plot(figsize=(10,10),column=\"both_age_6_to_16\",edgecolor='k',\n",
    "#                       vmin = brgys['both_age_6_to_16'].quantile(0.05), vmax = brgys['both_age_6_to_16'].quantile(0.95)\n",
    "#                      )\n",
    "#     cond2 = schools['PROV']==province\n",
    "#     schools[cond2].plot(ax=base,color=\"Yellow\",markersize = 5)\n",
    "#     plt.title(province)\n",
    "#     base.set_facecolor('grey');"
   ]
  },
  {
   "cell_type": "code",
   "execution_count": 7,
   "metadata": {},
   "outputs": [],
   "source": [
    "def generate_brgy_source_target_df(brgy_neighbors):\n",
    "    brgy_source_targets = pd.DataFrame()\n",
    "    for source,targets in brgy_neighbors.items():\n",
    "        if(len(targets)==0):\n",
    "            targets=[source]\n",
    "        brgy = {\"source_index\":source,\"target_index\":targets}\n",
    "        brgy_source_targets = brgy_source_targets.append(pd.DataFrame(brgy))\n",
    "    brgy_source_targets[\"source_PSGC\"] = brgy_source_targets[\"source_index\"]\\\n",
    "                                            .apply(get_PSGC_via_index,df=brgys_geodata,col=\"Bgy_Code\")\n",
    "    brgy_source_targets[\"target_PSGC\"] = brgy_source_targets[\"target_index\"]\\\n",
    "                                            .apply(get_PSGC_via_index,df=brgys_geodata,col=\"Bgy_Code\")\n",
    "    brgy_source_targets[\"source_coords\"] = brgy_source_targets[\"source_index\"]\\\n",
    "                                            .apply(get_coord_values_in,df=brgys_geodata,col=\"centroid\")\n",
    "    print(\"brgy_source_targets\",brgy_source_targets.shape)\n",
    "    return brgy_source_targets\n",
    "\n",
    "def generate_psgc_search_df(brgy_source_targets):\n",
    "    psgc_search_df = brgy_source_targets.groupby(\"source_PSGC\",as_index=False)[\"target_PSGC\"].apply(lambda x: \"%s\" % '|'.join(x))\n",
    "    cond = psgc_search_df[\"source_PSGC\"]==psgc_search_df[\"target_PSGC\"]\n",
    "    psgc_search_df.loc[~cond,\"target_PSGC\"] = psgc_search_df.loc[~cond,\"source_PSGC\"]+\"|\"+psgc_search_df.loc[~cond,\"target_PSGC\"]\n",
    "    print(\"psgc_search_df\",psgc_search_df.shape)\n",
    "    return psgc_search_df\n",
    "\n",
    "\n",
    "def generate_school_source_target_df(psgc_search_df):\n",
    "    school_source_targets = pd.DataFrame()\n",
    "    no_schools_source = []\n",
    "    for source,targets in psgc_search_df.values:\n",
    "        cond = schools[\"PSGC_BRGY\"].str.contains(targets)\n",
    "\n",
    "        if (sum(cond))==0:\n",
    "            no_schools_source.append(source)\n",
    "            continue\n",
    "\n",
    "        _sub_df = schools[cond]\n",
    "        _sub_df[\"source_PSGC\"] = source\n",
    "        school_source_targets = school_source_targets.append(_sub_df)\n",
    "\n",
    "    print(len(no_schools_source),\"Brgys with No schools even in neighboring Brgys\")\n",
    "    school_source_targets = school_source_targets.reset_index(drop=True)\n",
    "    print(\"school_source_targets\",school_source_targets.shape)\n",
    "\n",
    "    school_source_targets[\"source_coords\"] = school_source_targets[\"source_PSGC\"]\\\n",
    "                                                .apply(get_coord_via_PSGC,df=brgys_geodata)\n",
    "\n",
    "    school_source_targets[\"target_coords\"] = school_source_targets[\"geometry\"].apply(to_coord_tuple)\n",
    "\n",
    "    school_source_targets[\"km_distance\"] = get_km_dist_two_coord_series(school_source_targets[\"source_coords\"],\n",
    "                                                                        school_source_targets[\"target_coords\"])\n",
    "    print(\"school_source_targets\",school_source_targets.shape)\n",
    "    return school_source_targets\n",
    "\n",
    "def generate_distance_matrix(school_source_targets):\n",
    "    cols = [\"source_PSGC\",\"SCH_ID\",\"km_distance\"]\n",
    "    distance_matrix = school_source_targets[cols]\n",
    "    distance_matrix = distance_matrix.drop_duplicates().reset_index(drop=True)\n",
    "    distance_matrix[\"mins_travel_time\"] = 60 * distance_matrix[\"km_distance\"]/1 #km/hour\n",
    "    print(\"distance_matrix\",distance_matrix.shape)\n",
    "    return distance_matrix\n",
    "\n",
    "def generate_distance_demand_matrix(distance_matrix):\n",
    "    distance_demand_matrix = pd.DataFrame(columns=[\"PSGC_BRGY\"]+distance_matrix[\"SCH_ID\"].unique().tolist())\n",
    "    distance_demand_matrix[\"PSGC_BRGY\"]=brgys[\"PSGC_BRGY\"]\n",
    "    distance_demand_matrix = distance_demand_matrix.set_index(\"PSGC_BRGY\")\n",
    "\n",
    "    for index in range(len(distance_matrix)):\n",
    "        try:\n",
    "            distance_demand_matrix.loc[distance_matrix.loc[index,\"source_PSGC\"],\n",
    "                            distance_matrix.loc[index,\"SCH_ID\"]] = distance_matrix.loc[index,\"km_distance\"]\n",
    "        except:\n",
    "            continue\n",
    "#             print(distance_matrix.loc[index,\"source_PSGC\"],distance_matrix.loc[index,\"SCH_ID\"],distance_matrix.loc[index,\"km_distance\"])\n",
    "    \n",
    "    print(\"distance_demand_matrix\",distance_demand_matrix.shape)\n",
    "    \n",
    "    return distance_demand_matrix"
   ]
  },
  {
   "cell_type": "code",
   "execution_count": 8,
   "metadata": {},
   "outputs": [
    {
     "data": {
      "image/png": "[encoded data removed]",
      "text/plain": [
       "<Figure size 432x288 with 1 Axes>"
      ]
     },
     "metadata": {
      "needs_background": "light"
     },
     "output_type": "display_data"
    },
    {
     "data": {
      "image/png": "[encoded data removed]",
      "text/plain": [
       "<Figure size 432x288 with 1 Axes>"
      ]
     },
     "metadata": {
      "needs_background": "light"
     },
     "output_type": "display_data"
    },
    {
     "name": "stdout",
     "output_type": "stream",
     "text": [
      "Wall time: 9.57 s\n"
     ]
    }
   ],
   "source": [
    "%%time\n",
    "queen_spatial_weights = weights.contiguity.Queen.from_dataframe(brgys_geodata)\n",
    "pd.Series(queen_spatial_weights._cardinalities).plot.hist(bins=20)\n",
    "plt.show();\n",
    "\n",
    "knn_spatial_weights = weights.KNN.from_dataframe(brgys_geodata,k=8)\n",
    "pd.Series(knn_spatial_weights._cardinalities).plot.hist(bins=20)\n",
    "plt.show();"
   ]
  },
  {
   "cell_type": "code",
   "execution_count": 9,
   "metadata": {},
   "outputs": [
    {
     "data": {
      "image/png": "[encoded data removed]",
      "text/plain": [
       "<Figure size 432x288 with 1 Axes>"
      ]
     },
     "metadata": {
      "needs_background": "light"
     },
     "output_type": "display_data"
    },
    {
     "name": "stdout",
     "output_type": "stream",
     "text": [
      "Wall time: 24.5 s\n"
     ]
    }
   ],
   "source": [
    "%%time\n",
    "kernel_spatial_weights = weights.Kernel.from_dataframe(brgys_geodata,k=5,eps=0.1)\n",
    "pd.Series(kernel_spatial_weights._cardinalities).plot.hist(bins=20)\n",
    "plt.show();"
   ]
  },
  {
   "cell_type": "code",
   "execution_count": 10,
   "metadata": {},
   "outputs": [
    {
     "data": {
      "text/plain": [
       "(2489, 2)"
      ]
     },
     "execution_count": 10,
     "metadata": {},
     "output_type": "execute_result"
    }
   ],
   "source": [
    "access_scores_df = brgys[[\"PSGC_BRGY\",\"both_age_6_to_16\"]]\n",
    "access_scores_df.shape"
   ]
  },
  {
   "cell_type": "code",
   "execution_count": 11,
   "metadata": {},
   "outputs": [],
   "source": [
    "model = aceso.TwoStepFCA(radius=60.0)"
   ]
  },
  {
   "cell_type": "code",
   "execution_count": 12,
   "metadata": {},
   "outputs": [
    {
     "name": "stdout",
     "output_type": "stream",
     "text": [
      "brgy_source_targets (12910, 5)\n",
      "psgc_search_df (2489, 2)\n",
      "60 Brgys with No schools even in neighboring Brgys\n",
      "school_source_targets (15522, 5)\n",
      "school_source_targets (15522, 8)\n",
      "distance_matrix (15369, 4)\n",
      "distance_demand_matrix (2489, 2504)\n",
      "Wall time: 1min 2s\n"
     ]
    }
   ],
   "source": [
    "%%time\n",
    "\n",
    "brgy_neighbors = queen_spatial_weights.neighbors\n",
    "brgy_source_target_df = generate_brgy_source_target_df(brgy_neighbors)\n",
    "psgc_search_df = generate_psgc_search_df(brgy_source_target_df)\n",
    "school_source_target_df = generate_school_source_target_df(psgc_search_df)\n",
    "distance_matrix = generate_distance_matrix(school_source_target_df)\n",
    "distance_demand_matrix = generate_distance_demand_matrix(distance_matrix)\n",
    "\n",
    "access_scores_df[\"Access_Scores_Queen\"] = model.calculate_accessibility_scores(\n",
    "    distance_matrix=distance_demand_matrix,\n",
    "    demand_array=access_scores_df[\"both_age_6_to_16\"].values\n",
    ")"
   ]
  },
  {
   "cell_type": "code",
   "execution_count": 13,
   "metadata": {},
   "outputs": [
    {
     "name": "stdout",
     "output_type": "stream",
     "text": [
      "brgy_source_targets (19912, 5)\n",
      "psgc_search_df (2489, 2)\n",
      "27 Brgys with No schools even in neighboring Brgys\n",
      "school_source_targets (22654, 5)\n",
      "school_source_targets (22654, 8)\n",
      "distance_matrix (22368, 4)\n",
      "distance_demand_matrix (2489, 2504)\n",
      "Wall time: 1min 7s\n"
     ]
    }
   ],
   "source": [
    "%%time\n",
    "\n",
    "brgy_neighbors = knn_spatial_weights.neighbors\n",
    "brgy_source_target_df = generate_brgy_source_target_df(brgy_neighbors)\n",
    "psgc_search_df = generate_psgc_search_df(brgy_source_target_df)\n",
    "school_source_target_df = generate_school_source_target_df(psgc_search_df)\n",
    "distance_matrix = generate_distance_matrix(school_source_target_df)\n",
    "distance_demand_matrix = generate_distance_demand_matrix(distance_matrix)\n",
    "\n",
    "access_scores_df[\"Access_Scores_KNN\"] = model.calculate_accessibility_scores(\n",
    "    distance_matrix=distance_demand_matrix,\n",
    "    demand_array=access_scores_df[\"both_age_6_to_16\"].values\n",
    ")"
   ]
  },
  {
   "cell_type": "code",
   "execution_count": 14,
   "metadata": {},
   "outputs": [
    {
     "name": "stdout",
     "output_type": "stream",
     "text": [
      "brgy_source_targets (262721, 5)\n",
      "psgc_search_df (2489, 2)\n",
      "3 Brgys with No schools even in neighboring Brgys\n",
      "school_source_targets (210210, 5)\n",
      "school_source_targets (210210, 8)\n",
      "distance_matrix (207823, 4)\n",
      "distance_demand_matrix (2489, 2504)\n",
      "Wall time: 8min 28s\n"
     ]
    }
   ],
   "source": [
    "%%time\n",
    "\n",
    "brgy_neighbors = kernel_spatial_weights.neighbors\n",
    "brgy_source_target_df = generate_brgy_source_target_df(brgy_neighbors)\n",
    "psgc_search_df = generate_psgc_search_df(brgy_source_target_df)\n",
    "school_source_target_df = generate_school_source_target_df(psgc_search_df)\n",
    "distance_matrix = generate_distance_matrix(school_source_target_df)\n",
    "distance_demand_matrix = generate_distance_demand_matrix(distance_matrix)\n",
    "\n",
    "access_scores_df[\"Access_Scores_Kernel\"] = model.calculate_accessibility_scores(\n",
    "    distance_matrix=distance_demand_matrix,\n",
    "    demand_array=access_scores_df[\"both_age_6_to_16\"].values\n",
    ")"
   ]
  },
  {
   "cell_type": "code",
   "execution_count": 15,
   "metadata": {
    "scrolled": false
   },
   "outputs": [],
   "source": [
    "# _map = brgys[[\"PSGC_BRGY\",\"geometry\"]].set_index('PSGC_BRGY')\\\n",
    "#             .join(school_access_df.set_index('PSGC_BRGY'), how = \"inner\")\\\n",
    "#             .join(test_df.set_index('PSGC_BRGY'), how = \"inner\")\n",
    "# for province in _map['Pro_Name'].unique():\n",
    "#     cond1 = _map['Pro_Name']==province\n",
    "#     base = _map[cond1].plot('test_val', figsize = (10, 10), alpha = 1,edgecolor='k',cmap=\"RdYlGn\", legend=True,\n",
    "#                      vmin = _map.loc[cond1,'test_val'].quantile(0.05), vmax = _map.loc[cond1,'test_val'].quantile(0.95))\n",
    "#     cond2 = schools['PROV']==province\n",
    "#     schools[cond2].plot(ax=base,color=\"Yellow\",markersize = 5)\n",
    "#     plt.title(province)\n",
    "#     base.set_facecolor('grey');"
   ]
  },
  {
   "cell_type": "code",
   "execution_count": 16,
   "metadata": {
    "scrolled": false
   },
   "outputs": [],
   "source": [
    "# _map = brgys[[\"PSGC_BRGY\",\"geometry\"]].set_index('PSGC_BRGY')\\\n",
    "#             .join(school_access_df.set_index('PSGC_BRGY'), how = \"inner\")\\\n",
    "#             .join(test_df.set_index('PSGC_BRGY'), how = \"inner\")\n",
    "# for province in _map['Pro_Name'].unique():\n",
    "#     cond1 = _map['Pro_Name']==province\n",
    "#     base = _map[cond1].plot('test_val', figsize = (10, 10), alpha = 1,edgecolor='k',cmap=\"RdYlGn\", legend=True,\n",
    "#                      vmin = _map.loc[cond1,'test_val'].quantile(0.05), vmax = _map.loc[cond1,'test_val'].quantile(0.95))\n",
    "#     cond2 = schools['PROV']==province\n",
    "#     schools[cond2].plot(ax=base,color=\"Yellow\",markersize = 5)\n",
    "#     plt.title(province)\n",
    "#     base.set_facecolor('grey');"
   ]
  },
  {
   "cell_type": "code",
   "execution_count": 17,
   "metadata": {},
   "outputs": [
    {
     "data": {
      "text/html": [
       "<div>\n",
       "<style scoped>\n",
       "    .dataframe tbody tr th:only-of-type {\n",
       "        vertical-align: middle;\n",
       "    }\n",
       "\n",
       "    .dataframe tbody tr th {\n",
       "        vertical-align: top;\n",
       "    }\n",
       "\n",
       "    .dataframe thead th {\n",
       "        text-align: right;\n",
       "    }\n",
       "</style>\n",
       "<table border=\"1\" class=\"dataframe\">\n",
       "  <thead>\n",
       "    <tr style=\"text-align: right;\">\n",
       "      <th></th>\n",
       "      <th>PSGC_BRGY</th>\n",
       "      <th>both_age_6_to_16</th>\n",
       "      <th>Access_Scores_Queen</th>\n",
       "      <th>Access_Scores_KNN</th>\n",
       "      <th>Access_Scores_Kernel</th>\n",
       "    </tr>\n",
       "  </thead>\n",
       "  <tbody>\n",
       "    <tr>\n",
       "      <th>0</th>\n",
       "      <td>PH157001001</td>\n",
       "      <td>1610.0</td>\n",
       "      <td>0.153460</td>\n",
       "      <td>0.281729</td>\n",
       "      <td>0.308371</td>\n",
       "    </tr>\n",
       "    <tr>\n",
       "      <th>1</th>\n",
       "      <td>PH157001002</td>\n",
       "      <td>874.0</td>\n",
       "      <td>0.122840</td>\n",
       "      <td>0.117388</td>\n",
       "      <td>0.280048</td>\n",
       "    </tr>\n",
       "    <tr>\n",
       "      <th>2</th>\n",
       "      <td>PH157001003</td>\n",
       "      <td>1248.0</td>\n",
       "      <td>0.320153</td>\n",
       "      <td>0.257140</td>\n",
       "      <td>0.315830</td>\n",
       "    </tr>\n",
       "    <tr>\n",
       "      <th>3</th>\n",
       "      <td>PH157001004</td>\n",
       "      <td>525.0</td>\n",
       "      <td>0.155643</td>\n",
       "      <td>0.129364</td>\n",
       "      <td>0.194242</td>\n",
       "    </tr>\n",
       "    <tr>\n",
       "      <th>4</th>\n",
       "      <td>PH157001005</td>\n",
       "      <td>609.0</td>\n",
       "      <td>0.174893</td>\n",
       "      <td>0.204394</td>\n",
       "      <td>0.193732</td>\n",
       "    </tr>\n",
       "  </tbody>\n",
       "</table>\n",
       "</div>"
      ],
      "text/plain": [
       "     PSGC_BRGY  both_age_6_to_16  Access_Scores_Queen  Access_Scores_KNN  \\\n",
       "0  PH157001001            1610.0             0.153460           0.281729   \n",
       "1  PH157001002             874.0             0.122840           0.117388   \n",
       "2  PH157001003            1248.0             0.320153           0.257140   \n",
       "3  PH157001004             525.0             0.155643           0.129364   \n",
       "4  PH157001005             609.0             0.174893           0.204394   \n",
       "\n",
       "   Access_Scores_Kernel  \n",
       "0              0.308371  \n",
       "1              0.280048  \n",
       "2              0.315830  \n",
       "3              0.194242  \n",
       "4              0.193732  "
      ]
     },
     "execution_count": 17,
     "metadata": {},
     "output_type": "execute_result"
    }
   ],
   "source": [
    "minmax = MinMaxScaler()\n",
    "cols = [\"Access_Scores_Queen\",\"Access_Scores_KNN\",\"Access_Scores_Kernel\"]\n",
    "access_scores_df[cols] = minmax.fit_transform(access_scores_df[cols])\n",
    "access_scores_df.to_csv(OUTPUT_PATH+\"Model_Access_Scores_General.csv\",index=False)\n",
    "access_scores_df.head()"
   ]
  }
 ],
 "metadata": {
  "kernelspec": {
   "display_name": "Python 3",
   "language": "python",
   "name": "python3"
  },
  "language_info": {
   "codemirror_mode": {
    "name": "ipython",
    "version": 3
   },
   "file_extension": ".py",
   "mimetype": "text/x-python",
   "name": "python",
   "nbconvert_exporter": "python",
   "pygments_lexer": "ipython3",
   "version": "3.6.8"
  }
 },
 "nbformat": 4,
 "nbformat_minor": 4
}
