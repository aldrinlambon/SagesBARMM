{
 "cells": [
  {
   "cell_type": "code",
   "execution_count": 1,
   "metadata": {},
   "outputs": [
    {
     "data": {
      "text/plain": [
       "['Condition(State of Repair)oftheBuilding(ARMM, 2010)Brgy.xlsx',\n",
       " 'Construction Materials of the Roof (ARMM 2015)Brgy.xlsx',\n",
       " 'Construction Materials of the Walls(ARMM 2015).xlsx',\n",
       " 'Floor Area (ARMM, 2010) Brgy.xlsx',\n",
       " 'Household Population by Ethnicity (ARMM, 2010) Brgy.xlsx',\n",
       " 'Main Source of Water Supply for Cooking (ARMM 2015) Brgy.xlsx',\n",
       " 'Main Source of Water Supply for Drinking (ARMM 2015) Brgy.xlsx',\n",
       " 'Number of Households by Kind of Fuel for Lighting (ARMM 2015) Brgy.xlsx',\n",
       " 'Number of schools per brgy.xlsx',\n",
       " 'Population 2010, 2015 ARMM,BCT.xlsx',\n",
       " 'Tenure Status of the Lot (ARMM 2010) Brgy.xlsx',\n",
       " 'Type of Building (ARMM 2015) Brgy.xlsx',\n",
       " 'Year Built (ARMM 2010) Brgy.xlsx']"
      ]
     },
     "execution_count": 1,
     "metadata": {},
     "output_type": "execute_result"
    }
   ],
   "source": [
    "import numpy as np\n",
    "import pandas as pd\n",
    "import matplotlib.pyplot as plt\n",
    "import os\n",
    "\n",
    "import warnings\n",
    "warnings.filterwarnings(\"ignore\")\n",
    "\n",
    "TABULAR_PATH = 'data/tabular/'\n",
    "data_files = os.listdir(TABULAR_PATH)\n",
    "data_files"
   ]
  },
  {
   "cell_type": "code",
   "execution_count": 2,
   "metadata": {},
   "outputs": [],
   "source": [
    "population_df = pd.read_excel(TABULAR_PATH+'Population 2010, 2015 ARMM,BCT.xlsx')"
   ]
  },
  {
   "cell_type": "code",
   "execution_count": 3,
   "metadata": {},
   "outputs": [
    {
     "name": "stdout",
     "output_type": "stream",
     "text": [
      "(2721, 2)\n"
     ]
    },
    {
     "data": {
      "text/html": [
       "<div>\n",
       "<style scoped>\n",
       "    .dataframe tbody tr th:only-of-type {\n",
       "        vertical-align: middle;\n",
       "    }\n",
       "\n",
       "    .dataframe tbody tr th {\n",
       "        vertical-align: top;\n",
       "    }\n",
       "\n",
       "    .dataframe thead th {\n",
       "        text-align: right;\n",
       "    }\n",
       "</style>\n",
       "<table border=\"1\" class=\"dataframe\">\n",
       "  <thead>\n",
       "    <tr style=\"text-align: right;\">\n",
       "      <th></th>\n",
       "      <th>PSGC_BRGY</th>\n",
       "      <th>student_popn_age_7_to_25</th>\n",
       "    </tr>\n",
       "  </thead>\n",
       "  <tbody>\n",
       "    <tr>\n",
       "      <th>0</th>\n",
       "      <td>PH150702001</td>\n",
       "      <td>250.0</td>\n",
       "    </tr>\n",
       "    <tr>\n",
       "      <th>1</th>\n",
       "      <td>PH150702002</td>\n",
       "      <td>497.0</td>\n",
       "    </tr>\n",
       "    <tr>\n",
       "      <th>2</th>\n",
       "      <td>PH150702004</td>\n",
       "      <td>237.0</td>\n",
       "    </tr>\n",
       "    <tr>\n",
       "      <th>3</th>\n",
       "      <td>PH150702005</td>\n",
       "      <td>953.0</td>\n",
       "    </tr>\n",
       "    <tr>\n",
       "      <th>4</th>\n",
       "      <td>PH150702006</td>\n",
       "      <td>1277.0</td>\n",
       "    </tr>\n",
       "  </tbody>\n",
       "</table>\n",
       "</div>"
      ],
      "text/plain": [
       "     PSGC_BRGY  student_popn_age_7_to_25\n",
       "0  PH150702001                     250.0\n",
       "1  PH150702002                     497.0\n",
       "2  PH150702004                     237.0\n",
       "3  PH150702005                     953.0\n",
       "4  PH150702006                    1277.0"
      ]
     },
     "execution_count": 3,
     "metadata": {},
     "output_type": "execute_result"
    }
   ],
   "source": [
    "both_single_age_cols = [col for col in population_df.columns if (col.split(\"_\")[-2:][0]==\"bot\")]\n",
    "student_age_cols = [col for col in both_single_age_cols if (int(col.split(\"_\")[-1])>6) & (int(col.split(\"_\")[-1])<26)]\n",
    "\n",
    "student_population_df = population_df[[\"PSGC_BRGY\"]+student_age_cols]\n",
    "student_population_df[\"student_popn_age_7_to_25\"] = student_population_df.loc[:,student_age_cols].sum(axis=1)\n",
    "student_population_df.drop(columns=student_age_cols,inplace=True)\n",
    "print(student_population_df.shape)\n",
    "student_population_df.head()"
   ]
  },
  {
   "cell_type": "code",
   "execution_count": 4,
   "metadata": {},
   "outputs": [
    {
     "name": "stdout",
     "output_type": "stream",
     "text": [
      "(1570, 2)\n"
     ]
    },
    {
     "data": {
      "text/html": [
       "<div>\n",
       "<style scoped>\n",
       "    .dataframe tbody tr th:only-of-type {\n",
       "        vertical-align: middle;\n",
       "    }\n",
       "\n",
       "    .dataframe tbody tr th {\n",
       "        vertical-align: top;\n",
       "    }\n",
       "\n",
       "    .dataframe thead th {\n",
       "        text-align: right;\n",
       "    }\n",
       "</style>\n",
       "<table border=\"1\" class=\"dataframe\">\n",
       "  <thead>\n",
       "    <tr style=\"text-align: right;\">\n",
       "      <th></th>\n",
       "      <th>PSGC_BRGY</th>\n",
       "      <th>Number of School</th>\n",
       "    </tr>\n",
       "  </thead>\n",
       "  <tbody>\n",
       "    <tr>\n",
       "      <th>0</th>\n",
       "      <td>PH150702001</td>\n",
       "      <td>1</td>\n",
       "    </tr>\n",
       "    <tr>\n",
       "      <th>1</th>\n",
       "      <td>PH150702002</td>\n",
       "      <td>1</td>\n",
       "    </tr>\n",
       "    <tr>\n",
       "      <th>2</th>\n",
       "      <td>PH150702005</td>\n",
       "      <td>1</td>\n",
       "    </tr>\n",
       "    <tr>\n",
       "      <th>3</th>\n",
       "      <td>PH150702006</td>\n",
       "      <td>1</td>\n",
       "    </tr>\n",
       "    <tr>\n",
       "      <th>4</th>\n",
       "      <td>PH150702007</td>\n",
       "      <td>1</td>\n",
       "    </tr>\n",
       "  </tbody>\n",
       "</table>\n",
       "</div>"
      ],
      "text/plain": [
       "     PSGC_BRGY  Number of School\n",
       "0  PH150702001                 1\n",
       "1  PH150702002                 1\n",
       "2  PH150702005                 1\n",
       "3  PH150702006                 1\n",
       "4  PH150702007                 1"
      ]
     },
     "execution_count": 4,
     "metadata": {},
     "output_type": "execute_result"
    }
   ],
   "source": [
    "schools_df = pd.read_excel(TABULAR_PATH+'Number of schools per brgy.xlsx',usecols=[\"PSGC_BRGY\",\"Number of School\"])\n",
    "print(schools_df.shape)\n",
    "schools_df.head()"
   ]
  },
  {
   "cell_type": "code",
   "execution_count": 5,
   "metadata": {},
   "outputs": [
    {
     "name": "stdout",
     "output_type": "stream",
     "text": [
      "(2721, 3)\n"
     ]
    },
    {
     "data": {
      "text/html": [
       "<div>\n",
       "<style scoped>\n",
       "    .dataframe tbody tr th:only-of-type {\n",
       "        vertical-align: middle;\n",
       "    }\n",
       "\n",
       "    .dataframe tbody tr th {\n",
       "        vertical-align: top;\n",
       "    }\n",
       "\n",
       "    .dataframe thead th {\n",
       "        text-align: right;\n",
       "    }\n",
       "</style>\n",
       "<table border=\"1\" class=\"dataframe\">\n",
       "  <thead>\n",
       "    <tr style=\"text-align: right;\">\n",
       "      <th></th>\n",
       "      <th>PSGC_BRGY</th>\n",
       "      <th>student_popn_age_7_to_25</th>\n",
       "      <th>Number of School</th>\n",
       "    </tr>\n",
       "  </thead>\n",
       "  <tbody>\n",
       "    <tr>\n",
       "      <th>0</th>\n",
       "      <td>PH150702001</td>\n",
       "      <td>250.0</td>\n",
       "      <td>1.0</td>\n",
       "    </tr>\n",
       "    <tr>\n",
       "      <th>1</th>\n",
       "      <td>PH150702002</td>\n",
       "      <td>497.0</td>\n",
       "      <td>1.0</td>\n",
       "    </tr>\n",
       "    <tr>\n",
       "      <th>2</th>\n",
       "      <td>PH150702004</td>\n",
       "      <td>237.0</td>\n",
       "      <td>0.0</td>\n",
       "    </tr>\n",
       "    <tr>\n",
       "      <th>3</th>\n",
       "      <td>PH150702005</td>\n",
       "      <td>953.0</td>\n",
       "      <td>1.0</td>\n",
       "    </tr>\n",
       "    <tr>\n",
       "      <th>4</th>\n",
       "      <td>PH150702006</td>\n",
       "      <td>1277.0</td>\n",
       "      <td>1.0</td>\n",
       "    </tr>\n",
       "  </tbody>\n",
       "</table>\n",
       "</div>"
      ],
      "text/plain": [
       "     PSGC_BRGY  student_popn_age_7_to_25  Number of School\n",
       "0  PH150702001                     250.0               1.0\n",
       "1  PH150702002                     497.0               1.0\n",
       "2  PH150702004                     237.0               0.0\n",
       "3  PH150702005                     953.0               1.0\n",
       "4  PH150702006                    1277.0               1.0"
      ]
     },
     "execution_count": 5,
     "metadata": {},
     "output_type": "execute_result"
    }
   ],
   "source": [
    "education_df = pd.merge(student_population_df,schools_df,on=\"PSGC_BRGY\",how=\"left\")\n",
    "education_df.fillna(0,inplace=True)\n",
    "print(education_df.shape)\n",
    "education_df.head()"
   ]
  }
 ],
 "metadata": {
  "kernelspec": {
   "display_name": "Python 3",
   "language": "python",
   "name": "python3"
  },
  "language_info": {
   "codemirror_mode": {
    "name": "ipython",
    "version": 3
   },
   "file_extension": ".py",
   "mimetype": "text/x-python",
   "name": "python",
   "nbconvert_exporter": "python",
   "pygments_lexer": "ipython3",
   "version": "3.6.8"
  }
 },
 "nbformat": 4,
 "nbformat_minor": 4
}
