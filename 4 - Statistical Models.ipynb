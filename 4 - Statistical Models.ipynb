{
 "cells": [
  {
   "cell_type": "code",
   "execution_count": 1,
   "metadata": {},
   "outputs": [],
   "source": [
    "import pandas as pd\n",
    "import numpy as np\n",
    "\n",
    "from keras.layers.experimental import preprocessing\n",
    "from keras.models import Sequential\n",
    "from keras.layers import Dense\n",
    "\n",
    "from sklearn.metrics import r2_score\n",
    "from sklearn.model_selection import train_test_split\n",
    "\n",
    "import matplotlib.pyplot as plt\n",
    "%matplotlib inline"
   ]
  },
  {
   "cell_type": "markdown",
   "metadata": {},
   "source": [
    "## 1. IMPORT DATA"
   ]
  },
  {
   "cell_type": "code",
   "execution_count": 2,
   "metadata": {},
   "outputs": [
    {
     "data": {
      "text/html": [
       "<div>\n",
       "<style scoped>\n",
       "    .dataframe tbody tr th:only-of-type {\n",
       "        vertical-align: middle;\n",
       "    }\n",
       "\n",
       "    .dataframe tbody tr th {\n",
       "        vertical-align: top;\n",
       "    }\n",
       "\n",
       "    .dataframe thead th {\n",
       "        text-align: right;\n",
       "    }\n",
       "</style>\n",
       "<table border=\"1\" class=\"dataframe\">\n",
       "  <thead>\n",
       "    <tr style=\"text-align: right;\">\n",
       "      <th></th>\n",
       "      <th>PSGC_BRGY</th>\n",
       "      <th>both_age_0_to_4</th>\n",
       "      <th>male_age_0_to_4</th>\n",
       "      <th>female_age_0_to_4</th>\n",
       "      <th>both_age_5_to_9</th>\n",
       "      <th>male_age_5_to_9</th>\n",
       "      <th>female_age_5_to_9</th>\n",
       "      <th>both_age_10_to_14</th>\n",
       "      <th>male_age_10_to_14</th>\n",
       "      <th>female_age_10_to_14</th>\n",
       "      <th>...</th>\n",
       "      <th>SCH_CAT_PJHS</th>\n",
       "      <th>SCH_CAT_PS</th>\n",
       "      <th>SCH_CAT_PSHS</th>\n",
       "      <th>SCH_CAT_SHS</th>\n",
       "      <th>SCH_CAT_SUC</th>\n",
       "      <th>Perc_Households_Electricity_Light</th>\n",
       "      <th>Perc_Households_Kerosene_Gass_Light</th>\n",
       "      <th>Perc_Households_Drinking_Owned_Faucet</th>\n",
       "      <th>Perc_Households_Drinking_Shared_Faucet</th>\n",
       "      <th>number_of_roads</th>\n",
       "    </tr>\n",
       "  </thead>\n",
       "  <tbody>\n",
       "    <tr>\n",
       "      <th>0</th>\n",
       "      <td>PH150702001</td>\n",
       "      <td>88.0</td>\n",
       "      <td>54.0</td>\n",
       "      <td>34.0</td>\n",
       "      <td>79.0</td>\n",
       "      <td>35.0</td>\n",
       "      <td>44.0</td>\n",
       "      <td>73.0</td>\n",
       "      <td>42.0</td>\n",
       "      <td>31.0</td>\n",
       "      <td>...</td>\n",
       "      <td>0.0</td>\n",
       "      <td>0.0</td>\n",
       "      <td>0.0</td>\n",
       "      <td>0.0</td>\n",
       "      <td>0.0</td>\n",
       "      <td>0.656250</td>\n",
       "      <td>0.343750</td>\n",
       "      <td>0.050000</td>\n",
       "      <td>0.418750</td>\n",
       "      <td>0</td>\n",
       "    </tr>\n",
       "    <tr>\n",
       "      <th>1</th>\n",
       "      <td>PH150702002</td>\n",
       "      <td>210.0</td>\n",
       "      <td>100.0</td>\n",
       "      <td>110.0</td>\n",
       "      <td>161.0</td>\n",
       "      <td>77.0</td>\n",
       "      <td>84.0</td>\n",
       "      <td>133.0</td>\n",
       "      <td>69.0</td>\n",
       "      <td>64.0</td>\n",
       "      <td>...</td>\n",
       "      <td>0.0</td>\n",
       "      <td>0.0</td>\n",
       "      <td>0.0</td>\n",
       "      <td>0.0</td>\n",
       "      <td>0.0</td>\n",
       "      <td>0.792208</td>\n",
       "      <td>0.207792</td>\n",
       "      <td>0.051948</td>\n",
       "      <td>0.008658</td>\n",
       "      <td>1</td>\n",
       "    </tr>\n",
       "    <tr>\n",
       "      <th>3</th>\n",
       "      <td>PH150702005</td>\n",
       "      <td>277.0</td>\n",
       "      <td>152.0</td>\n",
       "      <td>125.0</td>\n",
       "      <td>305.0</td>\n",
       "      <td>159.0</td>\n",
       "      <td>146.0</td>\n",
       "      <td>269.0</td>\n",
       "      <td>155.0</td>\n",
       "      <td>114.0</td>\n",
       "      <td>...</td>\n",
       "      <td>0.0</td>\n",
       "      <td>0.0</td>\n",
       "      <td>0.0</td>\n",
       "      <td>0.0</td>\n",
       "      <td>0.0</td>\n",
       "      <td>0.870968</td>\n",
       "      <td>0.126728</td>\n",
       "      <td>0.099078</td>\n",
       "      <td>0.730415</td>\n",
       "      <td>5</td>\n",
       "    </tr>\n",
       "    <tr>\n",
       "      <th>4</th>\n",
       "      <td>PH150702006</td>\n",
       "      <td>352.0</td>\n",
       "      <td>146.0</td>\n",
       "      <td>206.0</td>\n",
       "      <td>354.0</td>\n",
       "      <td>201.0</td>\n",
       "      <td>153.0</td>\n",
       "      <td>398.0</td>\n",
       "      <td>217.0</td>\n",
       "      <td>181.0</td>\n",
       "      <td>...</td>\n",
       "      <td>0.0</td>\n",
       "      <td>0.0</td>\n",
       "      <td>0.0</td>\n",
       "      <td>0.0</td>\n",
       "      <td>0.0</td>\n",
       "      <td>0.719780</td>\n",
       "      <td>0.236264</td>\n",
       "      <td>0.001832</td>\n",
       "      <td>0.012821</td>\n",
       "      <td>4</td>\n",
       "    </tr>\n",
       "    <tr>\n",
       "      <th>5</th>\n",
       "      <td>PH150702007</td>\n",
       "      <td>270.0</td>\n",
       "      <td>140.0</td>\n",
       "      <td>130.0</td>\n",
       "      <td>236.0</td>\n",
       "      <td>114.0</td>\n",
       "      <td>122.0</td>\n",
       "      <td>220.0</td>\n",
       "      <td>121.0</td>\n",
       "      <td>99.0</td>\n",
       "      <td>...</td>\n",
       "      <td>0.0</td>\n",
       "      <td>0.0</td>\n",
       "      <td>0.0</td>\n",
       "      <td>0.0</td>\n",
       "      <td>0.0</td>\n",
       "      <td>0.831050</td>\n",
       "      <td>0.157534</td>\n",
       "      <td>0.287671</td>\n",
       "      <td>0.321918</td>\n",
       "      <td>14</td>\n",
       "    </tr>\n",
       "  </tbody>\n",
       "</table>\n",
       "<p>5 rows × 71 columns</p>\n",
       "</div>"
      ],
      "text/plain": [
       "     PSGC_BRGY  both_age_0_to_4  male_age_0_to_4  female_age_0_to_4  \\\n",
       "0  PH150702001             88.0             54.0               34.0   \n",
       "1  PH150702002            210.0            100.0              110.0   \n",
       "3  PH150702005            277.0            152.0              125.0   \n",
       "4  PH150702006            352.0            146.0              206.0   \n",
       "5  PH150702007            270.0            140.0              130.0   \n",
       "\n",
       "   both_age_5_to_9  male_age_5_to_9  female_age_5_to_9  both_age_10_to_14  \\\n",
       "0             79.0             35.0               44.0               73.0   \n",
       "1            161.0             77.0               84.0              133.0   \n",
       "3            305.0            159.0              146.0              269.0   \n",
       "4            354.0            201.0              153.0              398.0   \n",
       "5            236.0            114.0              122.0              220.0   \n",
       "\n",
       "   male_age_10_to_14  female_age_10_to_14  ...  SCH_CAT_PJHS  SCH_CAT_PS  \\\n",
       "0               42.0                 31.0  ...           0.0         0.0   \n",
       "1               69.0                 64.0  ...           0.0         0.0   \n",
       "3              155.0                114.0  ...           0.0         0.0   \n",
       "4              217.0                181.0  ...           0.0         0.0   \n",
       "5              121.0                 99.0  ...           0.0         0.0   \n",
       "\n",
       "   SCH_CAT_PSHS  SCH_CAT_SHS  SCH_CAT_SUC  Perc_Households_Electricity_Light  \\\n",
       "0           0.0          0.0          0.0                           0.656250   \n",
       "1           0.0          0.0          0.0                           0.792208   \n",
       "3           0.0          0.0          0.0                           0.870968   \n",
       "4           0.0          0.0          0.0                           0.719780   \n",
       "5           0.0          0.0          0.0                           0.831050   \n",
       "\n",
       "   Perc_Households_Kerosene_Gass_Light  Perc_Households_Drinking_Owned_Faucet  \\\n",
       "0                             0.343750                               0.050000   \n",
       "1                             0.207792                               0.051948   \n",
       "3                             0.126728                               0.099078   \n",
       "4                             0.236264                               0.001832   \n",
       "5                             0.157534                               0.287671   \n",
       "\n",
       "   Perc_Households_Drinking_Shared_Faucet  number_of_roads  \n",
       "0                                0.418750                0  \n",
       "1                                0.008658                1  \n",
       "3                                0.730415                5  \n",
       "4                                0.012821                4  \n",
       "5                                0.321918               14  \n",
       "\n",
       "[5 rows x 71 columns]"
      ]
     },
     "execution_count": 2,
     "metadata": {},
     "output_type": "execute_result"
    }
   ],
   "source": [
    "FILE_PATH = './Data/output/'\n",
    "\n",
    "sgd_df = pd.read_csv(FILE_PATH + 'Population_Schools_SDGs_Clean.csv', index_col=0)\n",
    "sgd_df = sgd_df.dropna()\n",
    "sgd_df.head()"
   ]
  },
  {
   "cell_type": "code",
   "execution_count": 3,
   "metadata": {},
   "outputs": [],
   "source": [
    "sgd_dataset = sgd_df.copy()\n",
    "\n",
    "columns = ['PSGC_BRGY', 'SCH_TYPE_PRIVATE','SCH_TYPE_PUBLIC','SCH_TYPE_SUC','SCH_CAT_CES',\n",
    "            'SCH_CAT_ES','SCH_CAT_JHS','SCH_CAT_MD','SCH_CAT_PES','SCH_CAT_PJHS','SCH_CAT_PS','SCH_CAT_PSHS','SCH_CAT_SHS',\n",
    "            'SCH_CAT_SUC','Perc_Households_Electricity_Light','Perc_Households_Kerosene_Gass_Light',\n",
    "            'Perc_Households_Drinking_Owned_Faucet','Perc_Households_Drinking_Shared_Faucet','number_of_roads']\n",
    "\n",
    "sgd_dataset = sgd_dataset[columns]"
   ]
  },
  {
   "cell_type": "code",
   "execution_count": 4,
   "metadata": {},
   "outputs": [
    {
     "data": {
      "text/html": [
       "<div>\n",
       "<style scoped>\n",
       "    .dataframe tbody tr th:only-of-type {\n",
       "        vertical-align: middle;\n",
       "    }\n",
       "\n",
       "    .dataframe tbody tr th {\n",
       "        vertical-align: top;\n",
       "    }\n",
       "\n",
       "    .dataframe thead th {\n",
       "        text-align: right;\n",
       "    }\n",
       "</style>\n",
       "<table border=\"1\" class=\"dataframe\">\n",
       "  <thead>\n",
       "    <tr style=\"text-align: right;\">\n",
       "      <th></th>\n",
       "      <th>PSGC_BRGY</th>\n",
       "      <th>elem_both_age</th>\n",
       "      <th>elem_mal_age</th>\n",
       "      <th>elem_fem_age</th>\n",
       "      <th>jhs_both_age</th>\n",
       "      <th>jhs_fem_age</th>\n",
       "      <th>jhs_mal_age</th>\n",
       "      <th>shs_both_age</th>\n",
       "      <th>shs_fem_age</th>\n",
       "      <th>shs_mal_age</th>\n",
       "      <th>col_both_age</th>\n",
       "      <th>col_fem_age</th>\n",
       "      <th>col_mal_age</th>\n",
       "    </tr>\n",
       "  </thead>\n",
       "  <tbody>\n",
       "    <tr>\n",
       "      <th>0</th>\n",
       "      <td>PH150702001</td>\n",
       "      <td>90.0</td>\n",
       "      <td>43.0</td>\n",
       "      <td>47.0</td>\n",
       "      <td>40.0</td>\n",
       "      <td>17.0</td>\n",
       "      <td>23.0</td>\n",
       "      <td>23.0</td>\n",
       "      <td>8.0</td>\n",
       "      <td>15.0</td>\n",
       "      <td>55.0</td>\n",
       "      <td>26.0</td>\n",
       "      <td>29.0</td>\n",
       "    </tr>\n",
       "    <tr>\n",
       "      <th>1</th>\n",
       "      <td>PH150702002</td>\n",
       "      <td>175.0</td>\n",
       "      <td>85.0</td>\n",
       "      <td>90.0</td>\n",
       "      <td>109.0</td>\n",
       "      <td>55.0</td>\n",
       "      <td>54.0</td>\n",
       "      <td>50.0</td>\n",
       "      <td>27.0</td>\n",
       "      <td>23.0</td>\n",
       "      <td>113.0</td>\n",
       "      <td>55.0</td>\n",
       "      <td>58.0</td>\n",
       "    </tr>\n",
       "    <tr>\n",
       "      <th>2</th>\n",
       "      <td>PH150702004</td>\n",
       "      <td>84.0</td>\n",
       "      <td>45.0</td>\n",
       "      <td>39.0</td>\n",
       "      <td>62.0</td>\n",
       "      <td>31.0</td>\n",
       "      <td>31.0</td>\n",
       "      <td>27.0</td>\n",
       "      <td>16.0</td>\n",
       "      <td>11.0</td>\n",
       "      <td>37.0</td>\n",
       "      <td>24.0</td>\n",
       "      <td>13.0</td>\n",
       "    </tr>\n",
       "    <tr>\n",
       "      <th>3</th>\n",
       "      <td>PH150702005</td>\n",
       "      <td>351.0</td>\n",
       "      <td>189.0</td>\n",
       "      <td>162.0</td>\n",
       "      <td>201.0</td>\n",
       "      <td>104.0</td>\n",
       "      <td>97.0</td>\n",
       "      <td>93.0</td>\n",
       "      <td>46.0</td>\n",
       "      <td>47.0</td>\n",
       "      <td>202.0</td>\n",
       "      <td>104.0</td>\n",
       "      <td>98.0</td>\n",
       "    </tr>\n",
       "    <tr>\n",
       "      <th>4</th>\n",
       "      <td>PH150702006</td>\n",
       "      <td>467.0</td>\n",
       "      <td>272.0</td>\n",
       "      <td>195.0</td>\n",
       "      <td>287.0</td>\n",
       "      <td>138.0</td>\n",
       "      <td>149.0</td>\n",
       "      <td>129.0</td>\n",
       "      <td>60.0</td>\n",
       "      <td>69.0</td>\n",
       "      <td>230.0</td>\n",
       "      <td>109.0</td>\n",
       "      <td>121.0</td>\n",
       "    </tr>\n",
       "  </tbody>\n",
       "</table>\n",
       "</div>"
      ],
      "text/plain": [
       "     PSGC_BRGY  elem_both_age  elem_mal_age  elem_fem_age  jhs_both_age  \\\n",
       "0  PH150702001           90.0          43.0          47.0          40.0   \n",
       "1  PH150702002          175.0          85.0          90.0         109.0   \n",
       "2  PH150702004           84.0          45.0          39.0          62.0   \n",
       "3  PH150702005          351.0         189.0         162.0         201.0   \n",
       "4  PH150702006          467.0         272.0         195.0         287.0   \n",
       "\n",
       "   jhs_fem_age  jhs_mal_age  shs_both_age  shs_fem_age  shs_mal_age  \\\n",
       "0         17.0         23.0          23.0          8.0         15.0   \n",
       "1         55.0         54.0          50.0         27.0         23.0   \n",
       "2         31.0         31.0          27.0         16.0         11.0   \n",
       "3        104.0         97.0          93.0         46.0         47.0   \n",
       "4        138.0        149.0         129.0         60.0         69.0   \n",
       "\n",
       "   col_both_age  col_fem_age  col_mal_age  \n",
       "0          55.0         26.0         29.0  \n",
       "1         113.0         55.0         58.0  \n",
       "2          37.0         24.0         13.0  \n",
       "3         202.0        104.0         98.0  \n",
       "4         230.0        109.0        121.0  "
      ]
     },
     "execution_count": 4,
     "metadata": {},
     "output_type": "execute_result"
    }
   ],
   "source": [
    "age_dataset = pd.read_csv(FILE_PATH + 'Age_per_level.csv')\n",
    "age_dataset = age_dataset.dropna()\n",
    "age_dataset.head()"
   ]
  },
  {
   "cell_type": "code",
   "execution_count": 5,
   "metadata": {},
   "outputs": [
    {
     "data": {
      "text/plain": [
       "1568"
      ]
     },
     "execution_count": 5,
     "metadata": {},
     "output_type": "execute_result"
    }
   ],
   "source": [
    "df = sgd_dataset.merge(age_dataset, on=['PSGC_BRGY'])\n",
    "len(df)"
   ]
  },
  {
   "cell_type": "code",
   "execution_count": 6,
   "metadata": {},
   "outputs": [
    {
     "data": {
      "text/html": [
       "<div>\n",
       "<style scoped>\n",
       "    .dataframe tbody tr th:only-of-type {\n",
       "        vertical-align: middle;\n",
       "    }\n",
       "\n",
       "    .dataframe tbody tr th {\n",
       "        vertical-align: top;\n",
       "    }\n",
       "\n",
       "    .dataframe thead th {\n",
       "        text-align: right;\n",
       "    }\n",
       "</style>\n",
       "<table border=\"1\" class=\"dataframe\">\n",
       "  <thead>\n",
       "    <tr style=\"text-align: right;\">\n",
       "      <th></th>\n",
       "      <th>PSGC_BRGY</th>\n",
       "      <th>SCH_TYPE_PRIVATE</th>\n",
       "      <th>SCH_TYPE_PUBLIC</th>\n",
       "      <th>SCH_TYPE_SUC</th>\n",
       "      <th>SCH_CAT_CES</th>\n",
       "      <th>SCH_CAT_ES</th>\n",
       "      <th>SCH_CAT_JHS</th>\n",
       "      <th>SCH_CAT_MD</th>\n",
       "      <th>SCH_CAT_PES</th>\n",
       "      <th>SCH_CAT_PJHS</th>\n",
       "      <th>...</th>\n",
       "      <th>elem_fem_age</th>\n",
       "      <th>jhs_both_age</th>\n",
       "      <th>jhs_fem_age</th>\n",
       "      <th>jhs_mal_age</th>\n",
       "      <th>shs_both_age</th>\n",
       "      <th>shs_fem_age</th>\n",
       "      <th>shs_mal_age</th>\n",
       "      <th>col_both_age</th>\n",
       "      <th>col_fem_age</th>\n",
       "      <th>col_mal_age</th>\n",
       "    </tr>\n",
       "  </thead>\n",
       "  <tbody>\n",
       "    <tr>\n",
       "      <th>0</th>\n",
       "      <td>PH150702001</td>\n",
       "      <td>0.0</td>\n",
       "      <td>1.0</td>\n",
       "      <td>0.0</td>\n",
       "      <td>0.0</td>\n",
       "      <td>1.0</td>\n",
       "      <td>0.0</td>\n",
       "      <td>0.0</td>\n",
       "      <td>0.0</td>\n",
       "      <td>0.0</td>\n",
       "      <td>...</td>\n",
       "      <td>47.0</td>\n",
       "      <td>40.0</td>\n",
       "      <td>17.0</td>\n",
       "      <td>23.0</td>\n",
       "      <td>23.0</td>\n",
       "      <td>8.0</td>\n",
       "      <td>15.0</td>\n",
       "      <td>55.0</td>\n",
       "      <td>26.0</td>\n",
       "      <td>29.0</td>\n",
       "    </tr>\n",
       "    <tr>\n",
       "      <th>1</th>\n",
       "      <td>PH150702002</td>\n",
       "      <td>0.0</td>\n",
       "      <td>1.0</td>\n",
       "      <td>0.0</td>\n",
       "      <td>0.0</td>\n",
       "      <td>1.0</td>\n",
       "      <td>0.0</td>\n",
       "      <td>0.0</td>\n",
       "      <td>0.0</td>\n",
       "      <td>0.0</td>\n",
       "      <td>...</td>\n",
       "      <td>90.0</td>\n",
       "      <td>109.0</td>\n",
       "      <td>55.0</td>\n",
       "      <td>54.0</td>\n",
       "      <td>50.0</td>\n",
       "      <td>27.0</td>\n",
       "      <td>23.0</td>\n",
       "      <td>113.0</td>\n",
       "      <td>55.0</td>\n",
       "      <td>58.0</td>\n",
       "    </tr>\n",
       "    <tr>\n",
       "      <th>2</th>\n",
       "      <td>PH150702005</td>\n",
       "      <td>0.0</td>\n",
       "      <td>1.0</td>\n",
       "      <td>0.0</td>\n",
       "      <td>0.0</td>\n",
       "      <td>1.0</td>\n",
       "      <td>0.0</td>\n",
       "      <td>0.0</td>\n",
       "      <td>0.0</td>\n",
       "      <td>0.0</td>\n",
       "      <td>...</td>\n",
       "      <td>162.0</td>\n",
       "      <td>201.0</td>\n",
       "      <td>104.0</td>\n",
       "      <td>97.0</td>\n",
       "      <td>93.0</td>\n",
       "      <td>46.0</td>\n",
       "      <td>47.0</td>\n",
       "      <td>202.0</td>\n",
       "      <td>104.0</td>\n",
       "      <td>98.0</td>\n",
       "    </tr>\n",
       "    <tr>\n",
       "      <th>3</th>\n",
       "      <td>PH150702006</td>\n",
       "      <td>0.0</td>\n",
       "      <td>1.0</td>\n",
       "      <td>0.0</td>\n",
       "      <td>0.0</td>\n",
       "      <td>1.0</td>\n",
       "      <td>0.0</td>\n",
       "      <td>0.0</td>\n",
       "      <td>0.0</td>\n",
       "      <td>0.0</td>\n",
       "      <td>...</td>\n",
       "      <td>195.0</td>\n",
       "      <td>287.0</td>\n",
       "      <td>138.0</td>\n",
       "      <td>149.0</td>\n",
       "      <td>129.0</td>\n",
       "      <td>60.0</td>\n",
       "      <td>69.0</td>\n",
       "      <td>230.0</td>\n",
       "      <td>109.0</td>\n",
       "      <td>121.0</td>\n",
       "    </tr>\n",
       "    <tr>\n",
       "      <th>4</th>\n",
       "      <td>PH150702007</td>\n",
       "      <td>0.0</td>\n",
       "      <td>1.0</td>\n",
       "      <td>0.0</td>\n",
       "      <td>0.0</td>\n",
       "      <td>1.0</td>\n",
       "      <td>0.0</td>\n",
       "      <td>0.0</td>\n",
       "      <td>0.0</td>\n",
       "      <td>0.0</td>\n",
       "      <td>...</td>\n",
       "      <td>128.0</td>\n",
       "      <td>185.0</td>\n",
       "      <td>80.0</td>\n",
       "      <td>105.0</td>\n",
       "      <td>83.0</td>\n",
       "      <td>37.0</td>\n",
       "      <td>46.0</td>\n",
       "      <td>154.0</td>\n",
       "      <td>78.0</td>\n",
       "      <td>76.0</td>\n",
       "    </tr>\n",
       "  </tbody>\n",
       "</table>\n",
       "<p>5 rows × 31 columns</p>\n",
       "</div>"
      ],
      "text/plain": [
       "     PSGC_BRGY  SCH_TYPE_PRIVATE  SCH_TYPE_PUBLIC  SCH_TYPE_SUC  SCH_CAT_CES  \\\n",
       "0  PH150702001               0.0              1.0           0.0          0.0   \n",
       "1  PH150702002               0.0              1.0           0.0          0.0   \n",
       "2  PH150702005               0.0              1.0           0.0          0.0   \n",
       "3  PH150702006               0.0              1.0           0.0          0.0   \n",
       "4  PH150702007               0.0              1.0           0.0          0.0   \n",
       "\n",
       "   SCH_CAT_ES  SCH_CAT_JHS  SCH_CAT_MD  SCH_CAT_PES  SCH_CAT_PJHS  ...  \\\n",
       "0         1.0          0.0         0.0          0.0           0.0  ...   \n",
       "1         1.0          0.0         0.0          0.0           0.0  ...   \n",
       "2         1.0          0.0         0.0          0.0           0.0  ...   \n",
       "3         1.0          0.0         0.0          0.0           0.0  ...   \n",
       "4         1.0          0.0         0.0          0.0           0.0  ...   \n",
       "\n",
       "   elem_fem_age  jhs_both_age  jhs_fem_age  jhs_mal_age  shs_both_age  \\\n",
       "0          47.0          40.0         17.0         23.0          23.0   \n",
       "1          90.0         109.0         55.0         54.0          50.0   \n",
       "2         162.0         201.0        104.0         97.0          93.0   \n",
       "3         195.0         287.0        138.0        149.0         129.0   \n",
       "4         128.0         185.0         80.0        105.0          83.0   \n",
       "\n",
       "   shs_fem_age  shs_mal_age  col_both_age  col_fem_age  col_mal_age  \n",
       "0          8.0         15.0          55.0         26.0         29.0  \n",
       "1         27.0         23.0         113.0         55.0         58.0  \n",
       "2         46.0         47.0         202.0        104.0         98.0  \n",
       "3         60.0         69.0         230.0        109.0        121.0  \n",
       "4         37.0         46.0         154.0         78.0         76.0  \n",
       "\n",
       "[5 rows x 31 columns]"
      ]
     },
     "execution_count": 6,
     "metadata": {},
     "output_type": "execute_result"
    }
   ],
   "source": [
    "df.head()"
   ]
  },
  {
   "cell_type": "markdown",
   "metadata": {},
   "source": [
    "## 2. EXPLORE DATA"
   ]
  },
  {
   "cell_type": "code",
   "execution_count": 7,
   "metadata": {},
   "outputs": [],
   "source": [
    "def subplot(x_list, y):\n",
    "    fig, ((ax1, ax2), (ax3, ax4)) = plt.subplots(2, 2)\n",
    "    axes = [ax1, ax2, ax3, ax4]\n",
    "    for i in range(len(x_list)):\n",
    "        axes[i].scatter(df[x_list[i]], y)\n",
    "        axes[i].set_title(x_list[i])\n",
    "    plt.tight_layout()"
   ]
  },
  {
   "cell_type": "markdown",
   "metadata": {},
   "source": [
    "Plot school number vs ratio of age and population"
   ]
  },
  {
   "cell_type": "markdown",
   "metadata": {},
   "source": [
    "### A. BARANGAY LEVEL"
   ]
  },
  {
   "cell_type": "code",
   "execution_count": 8,
   "metadata": {},
   "outputs": [],
   "source": [
    "X_elem = ['elem_both_age', 'elem_mal_age', 'elem_fem_age']\n",
    "X_jhs = ['jhs_both_age', 'jhs_mal_age', 'jhs_fem_age']\n",
    "X_shs = ['shs_both_age', 'shs_mal_age', 'shs_fem_age']\n",
    "X_col = ['col_both_age', 'col_mal_age', 'col_fem_age']"
   ]
  },
  {
   "cell_type": "markdown",
   "metadata": {},
   "source": [
    "#### 1) ELEMENTARY SCHOOLS"
   ]
  },
  {
   "cell_type": "code",
   "execution_count": 9,
   "metadata": {},
   "outputs": [
    {
     "data": {
      "image/png": "[encoded data removed]",
      "text/plain": [
       "<Figure size 432x288 with 4 Axes>"
      ]
     },
     "metadata": {
      "needs_background": "light"
     },
     "output_type": "display_data"
    }
   ],
   "source": [
    "# Central Elementary School\n",
    "subplot(X_elem, df['SCH_CAT_CES'])"
   ]
  },
  {
   "cell_type": "code",
   "execution_count": 10,
   "metadata": {},
   "outputs": [
    {
     "data": {
      "image/png": "[encoded data removed]",
      "text/plain": [
       "<Figure size 432x288 with 4 Axes>"
      ]
     },
     "metadata": {
      "needs_background": "light"
     },
     "output_type": "display_data"
    }
   ],
   "source": [
    "# Elementary School\n",
    "subplot(X_elem, df['SCH_CAT_ES'])"
   ]
  },
  {
   "cell_type": "code",
   "execution_count": 11,
   "metadata": {},
   "outputs": [
    {
     "data": {
      "image/png": "[encoded data removed]",
      "text/plain": [
       "<Figure size 432x288 with 4 Axes>"
      ]
     },
     "metadata": {
      "needs_background": "light"
     },
     "output_type": "display_data"
    }
   ],
   "source": [
    "# Primary School\n",
    "subplot(X_elem, df['SCH_CAT_PS'])"
   ]
  },
  {
   "cell_type": "markdown",
   "metadata": {},
   "source": [
    "CES, ES, and PS are all Public Elementary Schools"
   ]
  },
  {
   "cell_type": "code",
   "execution_count": 12,
   "metadata": {},
   "outputs": [],
   "source": [
    "df['PUB_ELEM_SCH'] = df['SCH_CAT_CES'] + df['SCH_CAT_ES'] + df['SCH_CAT_PS']"
   ]
  },
  {
   "cell_type": "code",
   "execution_count": 13,
   "metadata": {},
   "outputs": [
    {
     "data": {
      "image/png": "[encoded data removed]",
      "text/plain": [
       "<Figure size 432x288 with 4 Axes>"
      ]
     },
     "metadata": {
      "needs_background": "light"
     },
     "output_type": "display_data"
    }
   ],
   "source": [
    "subplot(X_elem, df['PUB_ELEM_SCH'])"
   ]
  },
  {
   "cell_type": "code",
   "execution_count": 14,
   "metadata": {},
   "outputs": [
    {
     "data": {
      "image/png": "[encoded data removed]",
      "text/plain": [
       "<Figure size 432x288 with 4 Axes>"
      ]
     },
     "metadata": {
      "needs_background": "light"
     },
     "output_type": "display_data"
    }
   ],
   "source": [
    "# Private Elementary School\n",
    "subplot(X_elem, df['SCH_CAT_PES'])"
   ]
  },
  {
   "cell_type": "code",
   "execution_count": 15,
   "metadata": {},
   "outputs": [],
   "source": [
    "df['ELEM_SCH'] = df['PUB_ELEM_SCH'] + df['SCH_CAT_PES']"
   ]
  },
  {
   "cell_type": "code",
   "execution_count": 16,
   "metadata": {},
   "outputs": [
    {
     "data": {
      "image/png": "[encoded data removed]",
      "text/plain": [
       "<Figure size 432x288 with 4 Axes>"
      ]
     },
     "metadata": {
      "needs_background": "light"
     },
     "output_type": "display_data"
    }
   ],
   "source": [
    "# All elementary schools\n",
    "subplot(X_elem, df['ELEM_SCH'])"
   ]
  },
  {
   "cell_type": "markdown",
   "metadata": {},
   "source": [
    "#### 2) JUNIOR HIGH SCHOOL"
   ]
  },
  {
   "cell_type": "code",
   "execution_count": 17,
   "metadata": {},
   "outputs": [
    {
     "data": {
      "image/png": "[encoded data removed]",
      "text/plain": [
       "<Figure size 432x288 with 4 Axes>"
      ]
     },
     "metadata": {
      "needs_background": "light"
     },
     "output_type": "display_data"
    }
   ],
   "source": [
    "# Public Junior High School\n",
    "subplot(X_jhs, df['SCH_CAT_JHS'])"
   ]
  },
  {
   "cell_type": "code",
   "execution_count": 18,
   "metadata": {},
   "outputs": [
    {
     "data": {
      "image/png": "[encoded data removed]",
      "text/plain": [
       "<Figure size 432x288 with 4 Axes>"
      ]
     },
     "metadata": {
      "needs_background": "light"
     },
     "output_type": "display_data"
    }
   ],
   "source": [
    "# Private Junior High School\n",
    "subplot(X_jhs, df['SCH_CAT_PJHS'])"
   ]
  },
  {
   "cell_type": "code",
   "execution_count": 19,
   "metadata": {},
   "outputs": [],
   "source": [
    "df['JHS_SCH'] = df['SCH_CAT_JHS'] + df['SCH_CAT_PJHS']"
   ]
  },
  {
   "cell_type": "code",
   "execution_count": 20,
   "metadata": {},
   "outputs": [
    {
     "data": {
      "image/png": "[encoded data removed]",
      "text/plain": [
       "<Figure size 432x288 with 4 Axes>"
      ]
     },
     "metadata": {
      "needs_background": "light"
     },
     "output_type": "display_data"
    }
   ],
   "source": [
    "# All JHS\n",
    "subplot(X_jhs, df['JHS_SCH'])"
   ]
  },
  {
   "cell_type": "markdown",
   "metadata": {},
   "source": [
    "#### 3) Senior High School"
   ]
  },
  {
   "cell_type": "code",
   "execution_count": 21,
   "metadata": {},
   "outputs": [
    {
     "data": {
      "image/png": "[encoded data removed]",
      "text/plain": [
       "<Figure size 432x288 with 4 Axes>"
      ]
     },
     "metadata": {
      "needs_background": "light"
     },
     "output_type": "display_data"
    }
   ],
   "source": [
    "# Public Senior High School\n",
    "subplot(X_shs, df['SCH_CAT_SHS'])"
   ]
  },
  {
   "cell_type": "code",
   "execution_count": 22,
   "metadata": {},
   "outputs": [
    {
     "data": {
      "image/png": "[encoded data removed]",
      "text/plain": [
       "<Figure size 432x288 with 4 Axes>"
      ]
     },
     "metadata": {
      "needs_background": "light"
     },
     "output_type": "display_data"
    }
   ],
   "source": [
    "# Private Senior High School\n",
    "subplot(X_shs, df['SCH_CAT_PSHS'])"
   ]
  },
  {
   "cell_type": "code",
   "execution_count": 23,
   "metadata": {},
   "outputs": [],
   "source": [
    "df['SHS_SCH'] = df['SCH_CAT_SHS'] + df['SCH_CAT_PSHS']"
   ]
  },
  {
   "cell_type": "code",
   "execution_count": 24,
   "metadata": {},
   "outputs": [
    {
     "data": {
      "image/png": "[encoded data removed]",
      "text/plain": [
       "<Figure size 432x288 with 4 Axes>"
      ]
     },
     "metadata": {
      "needs_background": "light"
     },
     "output_type": "display_data"
    }
   ],
   "source": [
    "# All SHS\n",
    "subplot(X_shs, df['SHS_SCH'])"
   ]
  },
  {
   "cell_type": "markdown",
   "metadata": {},
   "source": [
    "#### 4) SUC"
   ]
  },
  {
   "cell_type": "code",
   "execution_count": 25,
   "metadata": {},
   "outputs": [
    {
     "data": {
      "image/png": "[encoded data removed]",
      "text/plain": [
       "<Figure size 432x288 with 4 Axes>"
      ]
     },
     "metadata": {
      "needs_background": "light"
     },
     "output_type": "display_data"
    }
   ],
   "source": [
    "# SUC\n",
    "subplot(X_col, df['SCH_TYPE_SUC'])"
   ]
  },
  {
   "cell_type": "markdown",
   "metadata": {},
   "source": [
    "### B) MUNICIPAL LEVEL"
   ]
  },
  {
   "cell_type": "code",
   "execution_count": 26,
   "metadata": {},
   "outputs": [
    {
     "data": {
      "text/html": [
       "<div>\n",
       "<style scoped>\n",
       "    .dataframe tbody tr th:only-of-type {\n",
       "        vertical-align: middle;\n",
       "    }\n",
       "\n",
       "    .dataframe tbody tr th {\n",
       "        vertical-align: top;\n",
       "    }\n",
       "\n",
       "    .dataframe thead th {\n",
       "        text-align: right;\n",
       "    }\n",
       "</style>\n",
       "<table border=\"1\" class=\"dataframe\">\n",
       "  <thead>\n",
       "    <tr style=\"text-align: right;\">\n",
       "      <th></th>\n",
       "      <th>PROV</th>\n",
       "      <th>PSGC_PROV</th>\n",
       "      <th>CITY/MUNI</th>\n",
       "      <th>PSGC_CITY/MUNI</th>\n",
       "      <th>BRGY</th>\n",
       "      <th>PSGC_BRGY</th>\n",
       "      <th>Number of School</th>\n",
       "    </tr>\n",
       "  </thead>\n",
       "  <tbody>\n",
       "    <tr>\n",
       "      <th>0</th>\n",
       "      <td>BASILAN</td>\n",
       "      <td>PH150700000</td>\n",
       "      <td>CITY OF LAMITAN (Capital)</td>\n",
       "      <td>PH150702000</td>\n",
       "      <td>Arco</td>\n",
       "      <td>PH150702001</td>\n",
       "      <td>1</td>\n",
       "    </tr>\n",
       "    <tr>\n",
       "      <th>1</th>\n",
       "      <td>BASILAN</td>\n",
       "      <td>PH150700000</td>\n",
       "      <td>CITY OF LAMITAN (Capital)</td>\n",
       "      <td>PH150702000</td>\n",
       "      <td>Ba-as</td>\n",
       "      <td>PH150702002</td>\n",
       "      <td>1</td>\n",
       "    </tr>\n",
       "    <tr>\n",
       "      <th>2</th>\n",
       "      <td>BASILAN</td>\n",
       "      <td>PH150700000</td>\n",
       "      <td>CITY OF LAMITAN (Capital)</td>\n",
       "      <td>PH150702000</td>\n",
       "      <td>Balagtasan</td>\n",
       "      <td>PH150702005</td>\n",
       "      <td>1</td>\n",
       "    </tr>\n",
       "    <tr>\n",
       "      <th>3</th>\n",
       "      <td>BASILAN</td>\n",
       "      <td>PH150700000</td>\n",
       "      <td>CITY OF LAMITAN (Capital)</td>\n",
       "      <td>PH150702000</td>\n",
       "      <td>Balas</td>\n",
       "      <td>PH150702006</td>\n",
       "      <td>1</td>\n",
       "    </tr>\n",
       "    <tr>\n",
       "      <th>4</th>\n",
       "      <td>BASILAN</td>\n",
       "      <td>PH150700000</td>\n",
       "      <td>CITY OF LAMITAN (Capital)</td>\n",
       "      <td>PH150702000</td>\n",
       "      <td>Balobo</td>\n",
       "      <td>PH150702007</td>\n",
       "      <td>1</td>\n",
       "    </tr>\n",
       "  </tbody>\n",
       "</table>\n",
       "</div>"
      ],
      "text/plain": [
       "      PROV    PSGC_PROV                  CITY/MUNI PSGC_CITY/MUNI        BRGY  \\\n",
       "0  BASILAN  PH150700000  CITY OF LAMITAN (Capital)    PH150702000        Arco   \n",
       "1  BASILAN  PH150700000  CITY OF LAMITAN (Capital)    PH150702000       Ba-as   \n",
       "2  BASILAN  PH150700000  CITY OF LAMITAN (Capital)    PH150702000  Balagtasan   \n",
       "3  BASILAN  PH150700000  CITY OF LAMITAN (Capital)    PH150702000       Balas   \n",
       "4  BASILAN  PH150700000  CITY OF LAMITAN (Capital)    PH150702000      Balobo   \n",
       "\n",
       "     PSGC_BRGY  Number of School  \n",
       "0  PH150702001                 1  \n",
       "1  PH150702002                 1  \n",
       "2  PH150702005                 1  \n",
       "3  PH150702006                 1  \n",
       "4  PH150702007                 1  "
      ]
     },
     "execution_count": 26,
     "metadata": {},
     "output_type": "execute_result"
    }
   ],
   "source": [
    "df_muni = pd.read_excel('./Data/tabular/Number of schools per brgy.xlsx')\n",
    "df_muni.head()"
   ]
  },
  {
   "cell_type": "code",
   "execution_count": 27,
   "metadata": {},
   "outputs": [
    {
     "data": {
      "text/plain": [
       "PSGC_CITY/MUNI\n",
       "PH150702000    61\n",
       "PH150703000    25\n",
       "PH150704000    19\n",
       "PH150705000    37\n",
       "PH150706000    14\n",
       "               ..\n",
       "PH157007000    17\n",
       "PH157008000     4\n",
       "PH157009000    34\n",
       "PH157010000    30\n",
       "PH157011000    17\n",
       "Name: Number of School, Length: 118, dtype: int64"
      ]
     },
     "execution_count": 27,
     "metadata": {},
     "output_type": "execute_result"
    }
   ],
   "source": [
    "df_muni.groupby(['PSGC_CITY/MUNI'])['Number of School'].agg('sum')"
   ]
  },
  {
   "cell_type": "code",
   "execution_count": 31,
   "metadata": {},
   "outputs": [],
   "source": [
    "df_muni = df_muni.merge(df, on=['PSGC_BRGY'])"
   ]
  },
  {
   "cell_type": "code",
   "execution_count": 33,
   "metadata": {},
   "outputs": [
    {
     "data": {
      "text/html": [
       "<div>\n",
       "<style scoped>\n",
       "    .dataframe tbody tr th:only-of-type {\n",
       "        vertical-align: middle;\n",
       "    }\n",
       "\n",
       "    .dataframe tbody tr th {\n",
       "        vertical-align: top;\n",
       "    }\n",
       "\n",
       "    .dataframe thead th {\n",
       "        text-align: right;\n",
       "    }\n",
       "</style>\n",
       "<table border=\"1\" class=\"dataframe\">\n",
       "  <thead>\n",
       "    <tr style=\"text-align: right;\">\n",
       "      <th></th>\n",
       "      <th>Number of School</th>\n",
       "      <th>SCH_TYPE_PRIVATE_x</th>\n",
       "      <th>SCH_TYPE_PUBLIC_x</th>\n",
       "      <th>SCH_TYPE_SUC_x</th>\n",
       "      <th>SCH_CAT_CES_x</th>\n",
       "      <th>SCH_CAT_ES_x</th>\n",
       "      <th>SCH_CAT_JHS_x</th>\n",
       "      <th>SCH_CAT_MD_x</th>\n",
       "      <th>SCH_CAT_PES_x</th>\n",
       "      <th>SCH_CAT_PJHS_x</th>\n",
       "      <th>...</th>\n",
       "      <th>shs_both_age_y</th>\n",
       "      <th>shs_fem_age_y</th>\n",
       "      <th>shs_mal_age_y</th>\n",
       "      <th>col_both_age_y</th>\n",
       "      <th>col_fem_age_y</th>\n",
       "      <th>col_mal_age_y</th>\n",
       "      <th>PUB_ELEM_SCH_y</th>\n",
       "      <th>ELEM_SCH_y</th>\n",
       "      <th>JHS_SCH_y</th>\n",
       "      <th>SHS_SCH_y</th>\n",
       "    </tr>\n",
       "    <tr>\n",
       "      <th>PSGC_CITY/MUNI</th>\n",
       "      <th></th>\n",
       "      <th></th>\n",
       "      <th></th>\n",
       "      <th></th>\n",
       "      <th></th>\n",
       "      <th></th>\n",
       "      <th></th>\n",
       "      <th></th>\n",
       "      <th></th>\n",
       "      <th></th>\n",
       "      <th></th>\n",
       "      <th></th>\n",
       "      <th></th>\n",
       "      <th></th>\n",
       "      <th></th>\n",
       "      <th></th>\n",
       "      <th></th>\n",
       "      <th></th>\n",
       "      <th></th>\n",
       "      <th></th>\n",
       "      <th></th>\n",
       "    </tr>\n",
       "  </thead>\n",
       "  <tbody>\n",
       "    <tr>\n",
       "      <th>PH150702000</th>\n",
       "      <td>61</td>\n",
       "      <td>11.0</td>\n",
       "      <td>49.0</td>\n",
       "      <td>1.0</td>\n",
       "      <td>6.0</td>\n",
       "      <td>35.0</td>\n",
       "      <td>3.0</td>\n",
       "      <td>1.0</td>\n",
       "      <td>6.0</td>\n",
       "      <td>0.0</td>\n",
       "      <td>...</td>\n",
       "      <td>2906.0</td>\n",
       "      <td>1459.0</td>\n",
       "      <td>1447.0</td>\n",
       "      <td>5145.0</td>\n",
       "      <td>2612.0</td>\n",
       "      <td>2533.0</td>\n",
       "      <td>42.0</td>\n",
       "      <td>48.0</td>\n",
       "      <td>3.0</td>\n",
       "      <td>8.0</td>\n",
       "    </tr>\n",
       "    <tr>\n",
       "      <th>PH150703000</th>\n",
       "      <td>25</td>\n",
       "      <td>0.0</td>\n",
       "      <td>25.0</td>\n",
       "      <td>0.0</td>\n",
       "      <td>1.0</td>\n",
       "      <td>19.0</td>\n",
       "      <td>2.0</td>\n",
       "      <td>0.0</td>\n",
       "      <td>0.0</td>\n",
       "      <td>0.0</td>\n",
       "      <td>...</td>\n",
       "      <td>1014.0</td>\n",
       "      <td>496.0</td>\n",
       "      <td>518.0</td>\n",
       "      <td>1713.0</td>\n",
       "      <td>878.0</td>\n",
       "      <td>835.0</td>\n",
       "      <td>22.0</td>\n",
       "      <td>22.0</td>\n",
       "      <td>2.0</td>\n",
       "      <td>1.0</td>\n",
       "    </tr>\n",
       "    <tr>\n",
       "      <th>PH150704000</th>\n",
       "      <td>19</td>\n",
       "      <td>1.0</td>\n",
       "      <td>18.0</td>\n",
       "      <td>0.0</td>\n",
       "      <td>2.0</td>\n",
       "      <td>15.0</td>\n",
       "      <td>0.0</td>\n",
       "      <td>0.0</td>\n",
       "      <td>0.0</td>\n",
       "      <td>0.0</td>\n",
       "      <td>...</td>\n",
       "      <td>1353.0</td>\n",
       "      <td>699.0</td>\n",
       "      <td>654.0</td>\n",
       "      <td>2426.0</td>\n",
       "      <td>1251.0</td>\n",
       "      <td>1175.0</td>\n",
       "      <td>17.0</td>\n",
       "      <td>17.0</td>\n",
       "      <td>0.0</td>\n",
       "      <td>2.0</td>\n",
       "    </tr>\n",
       "    <tr>\n",
       "      <th>PH150705000</th>\n",
       "      <td>37</td>\n",
       "      <td>1.0</td>\n",
       "      <td>36.0</td>\n",
       "      <td>0.0</td>\n",
       "      <td>2.0</td>\n",
       "      <td>28.0</td>\n",
       "      <td>3.0</td>\n",
       "      <td>0.0</td>\n",
       "      <td>0.0</td>\n",
       "      <td>0.0</td>\n",
       "      <td>...</td>\n",
       "      <td>1516.0</td>\n",
       "      <td>752.0</td>\n",
       "      <td>764.0</td>\n",
       "      <td>2716.0</td>\n",
       "      <td>1432.0</td>\n",
       "      <td>1284.0</td>\n",
       "      <td>32.0</td>\n",
       "      <td>32.0</td>\n",
       "      <td>3.0</td>\n",
       "      <td>2.0</td>\n",
       "    </tr>\n",
       "    <tr>\n",
       "      <th>PH150706000</th>\n",
       "      <td>14</td>\n",
       "      <td>0.0</td>\n",
       "      <td>14.0</td>\n",
       "      <td>0.0</td>\n",
       "      <td>2.0</td>\n",
       "      <td>10.0</td>\n",
       "      <td>1.0</td>\n",
       "      <td>0.0</td>\n",
       "      <td>0.0</td>\n",
       "      <td>0.0</td>\n",
       "      <td>...</td>\n",
       "      <td>892.0</td>\n",
       "      <td>506.0</td>\n",
       "      <td>386.0</td>\n",
       "      <td>1544.0</td>\n",
       "      <td>831.0</td>\n",
       "      <td>713.0</td>\n",
       "      <td>12.0</td>\n",
       "      <td>12.0</td>\n",
       "      <td>1.0</td>\n",
       "      <td>1.0</td>\n",
       "    </tr>\n",
       "    <tr>\n",
       "      <th>...</th>\n",
       "      <td>...</td>\n",
       "      <td>...</td>\n",
       "      <td>...</td>\n",
       "      <td>...</td>\n",
       "      <td>...</td>\n",
       "      <td>...</td>\n",
       "      <td>...</td>\n",
       "      <td>...</td>\n",
       "      <td>...</td>\n",
       "      <td>...</td>\n",
       "      <td>...</td>\n",
       "      <td>...</td>\n",
       "      <td>...</td>\n",
       "      <td>...</td>\n",
       "      <td>...</td>\n",
       "      <td>...</td>\n",
       "      <td>...</td>\n",
       "      <td>...</td>\n",
       "      <td>...</td>\n",
       "      <td>...</td>\n",
       "      <td>...</td>\n",
       "    </tr>\n",
       "    <tr>\n",
       "      <th>PH157007000</th>\n",
       "      <td>17</td>\n",
       "      <td>0.0</td>\n",
       "      <td>16.0</td>\n",
       "      <td>1.0</td>\n",
       "      <td>2.0</td>\n",
       "      <td>5.0</td>\n",
       "      <td>0.0</td>\n",
       "      <td>0.0</td>\n",
       "      <td>0.0</td>\n",
       "      <td>0.0</td>\n",
       "      <td>...</td>\n",
       "      <td>642.0</td>\n",
       "      <td>332.0</td>\n",
       "      <td>310.0</td>\n",
       "      <td>1146.0</td>\n",
       "      <td>559.0</td>\n",
       "      <td>587.0</td>\n",
       "      <td>14.0</td>\n",
       "      <td>14.0</td>\n",
       "      <td>0.0</td>\n",
       "      <td>2.0</td>\n",
       "    </tr>\n",
       "    <tr>\n",
       "      <th>PH157008000</th>\n",
       "      <td>4</td>\n",
       "      <td>0.0</td>\n",
       "      <td>4.0</td>\n",
       "      <td>0.0</td>\n",
       "      <td>0.0</td>\n",
       "      <td>3.0</td>\n",
       "      <td>0.0</td>\n",
       "      <td>0.0</td>\n",
       "      <td>0.0</td>\n",
       "      <td>0.0</td>\n",
       "      <td>...</td>\n",
       "      <td>151.0</td>\n",
       "      <td>75.0</td>\n",
       "      <td>76.0</td>\n",
       "      <td>268.0</td>\n",
       "      <td>145.0</td>\n",
       "      <td>123.0</td>\n",
       "      <td>3.0</td>\n",
       "      <td>3.0</td>\n",
       "      <td>0.0</td>\n",
       "      <td>1.0</td>\n",
       "    </tr>\n",
       "    <tr>\n",
       "      <th>PH157009000</th>\n",
       "      <td>34</td>\n",
       "      <td>0.0</td>\n",
       "      <td>32.0</td>\n",
       "      <td>2.0</td>\n",
       "      <td>1.0</td>\n",
       "      <td>14.0</td>\n",
       "      <td>1.0</td>\n",
       "      <td>0.0</td>\n",
       "      <td>0.0</td>\n",
       "      <td>0.0</td>\n",
       "      <td>...</td>\n",
       "      <td>1274.0</td>\n",
       "      <td>617.0</td>\n",
       "      <td>657.0</td>\n",
       "      <td>2322.0</td>\n",
       "      <td>1151.0</td>\n",
       "      <td>1171.0</td>\n",
       "      <td>29.0</td>\n",
       "      <td>29.0</td>\n",
       "      <td>1.0</td>\n",
       "      <td>2.0</td>\n",
       "    </tr>\n",
       "    <tr>\n",
       "      <th>PH157010000</th>\n",
       "      <td>30</td>\n",
       "      <td>0.0</td>\n",
       "      <td>26.0</td>\n",
       "      <td>4.0</td>\n",
       "      <td>2.0</td>\n",
       "      <td>16.0</td>\n",
       "      <td>0.0</td>\n",
       "      <td>0.0</td>\n",
       "      <td>0.0</td>\n",
       "      <td>0.0</td>\n",
       "      <td>...</td>\n",
       "      <td>1032.0</td>\n",
       "      <td>533.0</td>\n",
       "      <td>499.0</td>\n",
       "      <td>2007.0</td>\n",
       "      <td>1011.0</td>\n",
       "      <td>996.0</td>\n",
       "      <td>24.0</td>\n",
       "      <td>24.0</td>\n",
       "      <td>0.0</td>\n",
       "      <td>2.0</td>\n",
       "    </tr>\n",
       "    <tr>\n",
       "      <th>PH157011000</th>\n",
       "      <td>17</td>\n",
       "      <td>0.0</td>\n",
       "      <td>14.0</td>\n",
       "      <td>3.0</td>\n",
       "      <td>1.0</td>\n",
       "      <td>10.0</td>\n",
       "      <td>2.0</td>\n",
       "      <td>0.0</td>\n",
       "      <td>0.0</td>\n",
       "      <td>0.0</td>\n",
       "      <td>...</td>\n",
       "      <td>955.0</td>\n",
       "      <td>499.0</td>\n",
       "      <td>456.0</td>\n",
       "      <td>1823.0</td>\n",
       "      <td>884.0</td>\n",
       "      <td>939.0</td>\n",
       "      <td>11.0</td>\n",
       "      <td>11.0</td>\n",
       "      <td>2.0</td>\n",
       "      <td>1.0</td>\n",
       "    </tr>\n",
       "  </tbody>\n",
       "</table>\n",
       "<p>118 rows × 69 columns</p>\n",
       "</div>"
      ],
      "text/plain": [
       "                Number of School  SCH_TYPE_PRIVATE_x  SCH_TYPE_PUBLIC_x  \\\n",
       "PSGC_CITY/MUNI                                                            \n",
       "PH150702000                   61                11.0               49.0   \n",
       "PH150703000                   25                 0.0               25.0   \n",
       "PH150704000                   19                 1.0               18.0   \n",
       "PH150705000                   37                 1.0               36.0   \n",
       "PH150706000                   14                 0.0               14.0   \n",
       "...                          ...                 ...                ...   \n",
       "PH157007000                   17                 0.0               16.0   \n",
       "PH157008000                    4                 0.0                4.0   \n",
       "PH157009000                   34                 0.0               32.0   \n",
       "PH157010000                   30                 0.0               26.0   \n",
       "PH157011000                   17                 0.0               14.0   \n",
       "\n",
       "                SCH_TYPE_SUC_x  SCH_CAT_CES_x  SCH_CAT_ES_x  SCH_CAT_JHS_x  \\\n",
       "PSGC_CITY/MUNI                                                               \n",
       "PH150702000                1.0            6.0          35.0            3.0   \n",
       "PH150703000                0.0            1.0          19.0            2.0   \n",
       "PH150704000                0.0            2.0          15.0            0.0   \n",
       "PH150705000                0.0            2.0          28.0            3.0   \n",
       "PH150706000                0.0            2.0          10.0            1.0   \n",
       "...                        ...            ...           ...            ...   \n",
       "PH157007000                1.0            2.0           5.0            0.0   \n",
       "PH157008000                0.0            0.0           3.0            0.0   \n",
       "PH157009000                2.0            1.0          14.0            1.0   \n",
       "PH157010000                4.0            2.0          16.0            0.0   \n",
       "PH157011000                3.0            1.0          10.0            2.0   \n",
       "\n",
       "                SCH_CAT_MD_x  SCH_CAT_PES_x  SCH_CAT_PJHS_x  ...  \\\n",
       "PSGC_CITY/MUNI                                               ...   \n",
       "PH150702000              1.0            6.0             0.0  ...   \n",
       "PH150703000              0.0            0.0             0.0  ...   \n",
       "PH150704000              0.0            0.0             0.0  ...   \n",
       "PH150705000              0.0            0.0             0.0  ...   \n",
       "PH150706000              0.0            0.0             0.0  ...   \n",
       "...                      ...            ...             ...  ...   \n",
       "PH157007000              0.0            0.0             0.0  ...   \n",
       "PH157008000              0.0            0.0             0.0  ...   \n",
       "PH157009000              0.0            0.0             0.0  ...   \n",
       "PH157010000              0.0            0.0             0.0  ...   \n",
       "PH157011000              0.0            0.0             0.0  ...   \n",
       "\n",
       "                shs_both_age_y  shs_fem_age_y  shs_mal_age_y  col_both_age_y  \\\n",
       "PSGC_CITY/MUNI                                                                 \n",
       "PH150702000             2906.0         1459.0         1447.0          5145.0   \n",
       "PH150703000             1014.0          496.0          518.0          1713.0   \n",
       "PH150704000             1353.0          699.0          654.0          2426.0   \n",
       "PH150705000             1516.0          752.0          764.0          2716.0   \n",
       "PH150706000              892.0          506.0          386.0          1544.0   \n",
       "...                        ...            ...            ...             ...   \n",
       "PH157007000              642.0          332.0          310.0          1146.0   \n",
       "PH157008000              151.0           75.0           76.0           268.0   \n",
       "PH157009000             1274.0          617.0          657.0          2322.0   \n",
       "PH157010000             1032.0          533.0          499.0          2007.0   \n",
       "PH157011000              955.0          499.0          456.0          1823.0   \n",
       "\n",
       "                col_fem_age_y  col_mal_age_y  PUB_ELEM_SCH_y  ELEM_SCH_y  \\\n",
       "PSGC_CITY/MUNI                                                             \n",
       "PH150702000            2612.0         2533.0            42.0        48.0   \n",
       "PH150703000             878.0          835.0            22.0        22.0   \n",
       "PH150704000            1251.0         1175.0            17.0        17.0   \n",
       "PH150705000            1432.0         1284.0            32.0        32.0   \n",
       "PH150706000             831.0          713.0            12.0        12.0   \n",
       "...                       ...            ...             ...         ...   \n",
       "PH157007000             559.0          587.0            14.0        14.0   \n",
       "PH157008000             145.0          123.0             3.0         3.0   \n",
       "PH157009000            1151.0         1171.0            29.0        29.0   \n",
       "PH157010000            1011.0          996.0            24.0        24.0   \n",
       "PH157011000             884.0          939.0            11.0        11.0   \n",
       "\n",
       "                JHS_SCH_y  SHS_SCH_y  \n",
       "PSGC_CITY/MUNI                        \n",
       "PH150702000           3.0        8.0  \n",
       "PH150703000           2.0        1.0  \n",
       "PH150704000           0.0        2.0  \n",
       "PH150705000           3.0        2.0  \n",
       "PH150706000           1.0        1.0  \n",
       "...                   ...        ...  \n",
       "PH157007000           0.0        2.0  \n",
       "PH157008000           0.0        1.0  \n",
       "PH157009000           1.0        2.0  \n",
       "PH157010000           0.0        2.0  \n",
       "PH157011000           2.0        1.0  \n",
       "\n",
       "[118 rows x 69 columns]"
      ]
     },
     "execution_count": 33,
     "metadata": {},
     "output_type": "execute_result"
    }
   ],
   "source": [
    "df_muni.groupby(['PSGC_CITY/MUNI']).agg('sum')"
   ]
  },
  {
   "cell_type": "code",
   "execution_count": 30,
   "metadata": {},
   "outputs": [
    {
     "ename": "KeyError",
     "evalue": "''",
     "output_type": "error",
     "traceback": [
      "\u001b[1;31m---------------------------------------------------------------------------\u001b[0m",
      "\u001b[1;31mKeyError\u001b[0m                                  Traceback (most recent call last)",
      "\u001b[1;32m~\\Documents\\BARMM Data Challenge\\SagesBARMM\\env\\lib\\site-packages\\pandas\\core\\indexes\\base.py\u001b[0m in \u001b[0;36mget_loc\u001b[1;34m(self, key, method, tolerance)\u001b[0m\n\u001b[0;32m   3079\u001b[0m             \u001b[1;32mtry\u001b[0m\u001b[1;33m:\u001b[0m\u001b[1;33m\u001b[0m\u001b[1;33m\u001b[0m\u001b[0m\n\u001b[1;32m-> 3080\u001b[1;33m                 \u001b[1;32mreturn\u001b[0m \u001b[0mself\u001b[0m\u001b[1;33m.\u001b[0m\u001b[0m_engine\u001b[0m\u001b[1;33m.\u001b[0m\u001b[0mget_loc\u001b[0m\u001b[1;33m(\u001b[0m\u001b[0mcasted_key\u001b[0m\u001b[1;33m)\u001b[0m\u001b[1;33m\u001b[0m\u001b[1;33m\u001b[0m\u001b[0m\n\u001b[0m\u001b[0;32m   3081\u001b[0m             \u001b[1;32mexcept\u001b[0m \u001b[0mKeyError\u001b[0m \u001b[1;32mas\u001b[0m \u001b[0merr\u001b[0m\u001b[1;33m:\u001b[0m\u001b[1;33m\u001b[0m\u001b[1;33m\u001b[0m\u001b[0m\n",
      "\u001b[1;32mpandas\\_libs\\index.pyx\u001b[0m in \u001b[0;36mpandas._libs.index.IndexEngine.get_loc\u001b[1;34m()\u001b[0m\n",
      "\u001b[1;32mpandas\\_libs\\index.pyx\u001b[0m in \u001b[0;36mpandas._libs.index.IndexEngine.get_loc\u001b[1;34m()\u001b[0m\n",
      "\u001b[1;32mpandas\\_libs\\hashtable_class_helper.pxi\u001b[0m in \u001b[0;36mpandas._libs.hashtable.PyObjectHashTable.get_item\u001b[1;34m()\u001b[0m\n",
      "\u001b[1;32mpandas\\_libs\\hashtable_class_helper.pxi\u001b[0m in \u001b[0;36mpandas._libs.hashtable.PyObjectHashTable.get_item\u001b[1;34m()\u001b[0m\n",
      "\u001b[1;31mKeyError\u001b[0m: ''",
      "\nThe above exception was the direct cause of the following exception:\n",
      "\u001b[1;31mKeyError\u001b[0m                                  Traceback (most recent call last)",
      "\u001b[1;32m<ipython-input-30-a2187b9ab793>\u001b[0m in \u001b[0;36m<module>\u001b[1;34m\u001b[0m\n\u001b[1;32m----> 1\u001b[1;33m \u001b[0mdf_muni\u001b[0m\u001b[1;33m[\u001b[0m\u001b[1;34m''\u001b[0m\u001b[1;33m]\u001b[0m\u001b[1;33m\u001b[0m\u001b[1;33m\u001b[0m\u001b[0m\n\u001b[0m",
      "\u001b[1;32m~\\Documents\\BARMM Data Challenge\\SagesBARMM\\env\\lib\\site-packages\\pandas\\core\\frame.py\u001b[0m in \u001b[0;36m__getitem__\u001b[1;34m(self, key)\u001b[0m\n\u001b[0;32m   3022\u001b[0m             \u001b[1;32mif\u001b[0m \u001b[0mself\u001b[0m\u001b[1;33m.\u001b[0m\u001b[0mcolumns\u001b[0m\u001b[1;33m.\u001b[0m\u001b[0mnlevels\u001b[0m \u001b[1;33m>\u001b[0m \u001b[1;36m1\u001b[0m\u001b[1;33m:\u001b[0m\u001b[1;33m\u001b[0m\u001b[1;33m\u001b[0m\u001b[0m\n\u001b[0;32m   3023\u001b[0m                 \u001b[1;32mreturn\u001b[0m \u001b[0mself\u001b[0m\u001b[1;33m.\u001b[0m\u001b[0m_getitem_multilevel\u001b[0m\u001b[1;33m(\u001b[0m\u001b[0mkey\u001b[0m\u001b[1;33m)\u001b[0m\u001b[1;33m\u001b[0m\u001b[1;33m\u001b[0m\u001b[0m\n\u001b[1;32m-> 3024\u001b[1;33m             \u001b[0mindexer\u001b[0m \u001b[1;33m=\u001b[0m \u001b[0mself\u001b[0m\u001b[1;33m.\u001b[0m\u001b[0mcolumns\u001b[0m\u001b[1;33m.\u001b[0m\u001b[0mget_loc\u001b[0m\u001b[1;33m(\u001b[0m\u001b[0mkey\u001b[0m\u001b[1;33m)\u001b[0m\u001b[1;33m\u001b[0m\u001b[1;33m\u001b[0m\u001b[0m\n\u001b[0m\u001b[0;32m   3025\u001b[0m             \u001b[1;32mif\u001b[0m \u001b[0mis_integer\u001b[0m\u001b[1;33m(\u001b[0m\u001b[0mindexer\u001b[0m\u001b[1;33m)\u001b[0m\u001b[1;33m:\u001b[0m\u001b[1;33m\u001b[0m\u001b[1;33m\u001b[0m\u001b[0m\n\u001b[0;32m   3026\u001b[0m                 \u001b[0mindexer\u001b[0m \u001b[1;33m=\u001b[0m \u001b[1;33m[\u001b[0m\u001b[0mindexer\u001b[0m\u001b[1;33m]\u001b[0m\u001b[1;33m\u001b[0m\u001b[1;33m\u001b[0m\u001b[0m\n",
      "\u001b[1;32m~\\Documents\\BARMM Data Challenge\\SagesBARMM\\env\\lib\\site-packages\\pandas\\core\\indexes\\base.py\u001b[0m in \u001b[0;36mget_loc\u001b[1;34m(self, key, method, tolerance)\u001b[0m\n\u001b[0;32m   3080\u001b[0m                 \u001b[1;32mreturn\u001b[0m \u001b[0mself\u001b[0m\u001b[1;33m.\u001b[0m\u001b[0m_engine\u001b[0m\u001b[1;33m.\u001b[0m\u001b[0mget_loc\u001b[0m\u001b[1;33m(\u001b[0m\u001b[0mcasted_key\u001b[0m\u001b[1;33m)\u001b[0m\u001b[1;33m\u001b[0m\u001b[1;33m\u001b[0m\u001b[0m\n\u001b[0;32m   3081\u001b[0m             \u001b[1;32mexcept\u001b[0m \u001b[0mKeyError\u001b[0m \u001b[1;32mas\u001b[0m \u001b[0merr\u001b[0m\u001b[1;33m:\u001b[0m\u001b[1;33m\u001b[0m\u001b[1;33m\u001b[0m\u001b[0m\n\u001b[1;32m-> 3082\u001b[1;33m                 \u001b[1;32mraise\u001b[0m \u001b[0mKeyError\u001b[0m\u001b[1;33m(\u001b[0m\u001b[0mkey\u001b[0m\u001b[1;33m)\u001b[0m \u001b[1;32mfrom\u001b[0m \u001b[0merr\u001b[0m\u001b[1;33m\u001b[0m\u001b[1;33m\u001b[0m\u001b[0m\n\u001b[0m\u001b[0;32m   3083\u001b[0m \u001b[1;33m\u001b[0m\u001b[0m\n\u001b[0;32m   3084\u001b[0m         \u001b[1;32mif\u001b[0m \u001b[0mtolerance\u001b[0m \u001b[1;32mis\u001b[0m \u001b[1;32mnot\u001b[0m \u001b[1;32mNone\u001b[0m\u001b[1;33m:\u001b[0m\u001b[1;33m\u001b[0m\u001b[1;33m\u001b[0m\u001b[0m\n",
      "\u001b[1;31mKeyError\u001b[0m: ''"
     ]
    }
   ],
   "source": [
    "df_muni['']"
   ]
  },
  {
   "cell_type": "code",
   "execution_count": null,
   "metadata": {},
   "outputs": [],
   "source": []
  },
  {
   "cell_type": "code",
   "execution_count": null,
   "metadata": {},
   "outputs": [],
   "source": []
  },
  {
   "cell_type": "code",
   "execution_count": null,
   "metadata": {},
   "outputs": [],
   "source": [
    "x_both = ['both_age_5_to_9', 'both_age_10_to_14', 'both_age_15_to_19', 'both_age_20_to_24']\n",
    "subplot(x_both)"
   ]
  },
  {
   "cell_type": "code",
   "execution_count": null,
   "metadata": {},
   "outputs": [],
   "source": [
    "x_male = ['male_age_5_to_9', 'male_age_10_to_14', 'male_age_15_to_19', 'male_age_20_to_24']\n",
    "subplot(x_male)"
   ]
  },
  {
   "cell_type": "code",
   "execution_count": null,
   "metadata": {},
   "outputs": [],
   "source": [
    "x_female = ['female_age_5_to_9', 'female_age_10_to_14', 'female_age_15_to_19', 'female_age_20_to_24']\n",
    "subplot(x_female)"
   ]
  },
  {
   "cell_type": "code",
   "execution_count": null,
   "metadata": {},
   "outputs": [],
   "source": [
    "x_sgd = ['Perc_Households_Electricity_Light', 'Perc_Households_Kerosene_Gass_Light', \n",
    "         'Perc_Households_Drinking_Owned_Faucet', 'Perc_Households_Drinking_Shared_Faucet']\n",
    "subplot(x_sgd)"
   ]
  },
  {
   "cell_type": "code",
   "execution_count": null,
   "metadata": {},
   "outputs": [],
   "source": [
    "plt.scatter(dataset['number_of_roads'], y)\n",
    "plt.title('Number of roads')\n",
    "plt.show()"
   ]
  },
  {
   "cell_type": "markdown",
   "metadata": {},
   "source": [
    "## 3. Preprocess data"
   ]
  },
  {
   "cell_type": "markdown",
   "metadata": {},
   "source": [
    "### Train test split"
   ]
  },
  {
   "cell_type": "code",
   "execution_count": null,
   "metadata": {},
   "outputs": [],
   "source": [
    "training_data, testing_data = train_test_split(dataset, test_size=0.2, random_state=42)"
   ]
  },
  {
   "cell_type": "code",
   "execution_count": null,
   "metadata": {},
   "outputs": [],
   "source": [
    "X_train = training_data.drop(['No_of_Schools'], axis=1)\n",
    "y_train = training_data['No_of_Schools']\n",
    "\n",
    "X_test = testing_data.drop(['No_of_Schools'], axis=1)\n",
    "y_test = testing_data['No_of_Schools']"
   ]
  },
  {
   "cell_type": "markdown",
   "metadata": {},
   "source": [
    "### Normalization"
   ]
  },
  {
   "cell_type": "code",
   "execution_count": null,
   "metadata": {},
   "outputs": [],
   "source": [
    "normalizer = preprocessing.Normalization()\n",
    "normalizer.adapt(np.array(X_train))"
   ]
  },
  {
   "cell_type": "markdown",
   "metadata": {},
   "source": [
    "### Feature Selection"
   ]
  },
  {
   "cell_type": "code",
   "execution_count": null,
   "metadata": {},
   "outputs": [],
   "source": [
    "min(df['elem_both_age'])"
   ]
  },
  {
   "cell_type": "code",
   "execution_count": null,
   "metadata": {},
   "outputs": [],
   "source": []
  },
  {
   "cell_type": "code",
   "execution_count": null,
   "metadata": {},
   "outputs": [],
   "source": []
  },
  {
   "cell_type": "code",
   "execution_count": null,
   "metadata": {},
   "outputs": [],
   "source": []
  },
  {
   "cell_type": "markdown",
   "metadata": {},
   "source": [
    "### Modelling"
   ]
  },
  {
   "cell_type": "code",
   "execution_count": null,
   "metadata": {},
   "outputs": [],
   "source": [
    "model = Sequential()\n",
    "model.add(normalizer)\n",
    "model.add(Dense(20, activation='tanh', input_dim=5, kernel_initializer='uniform'))\n",
    "model.add(Dense(1, activation='linear', kernel_initializer='uniform'))"
   ]
  },
  {
   "cell_type": "code",
   "execution_count": null,
   "metadata": {},
   "outputs": [],
   "source": [
    "model.compile(loss='mse', optimizer='adam', metrics=['mse'])"
   ]
  },
  {
   "cell_type": "code",
   "execution_count": null,
   "metadata": {},
   "outputs": [],
   "source": [
    "EPOCHS = 100\n",
    "BATCH_SIZE = 10\n",
    "history = model.fit(X_train, \n",
    "                    y_train, \n",
    "                    epochs=EPOCHS, \n",
    "                    batch_size=BATCH_SIZE,\n",
    "                    validation_split=0.2)"
   ]
  },
  {
   "cell_type": "markdown",
   "metadata": {},
   "source": [
    "## 4. Model evaluation"
   ]
  },
  {
   "cell_type": "code",
   "execution_count": null,
   "metadata": {},
   "outputs": [],
   "source": [
    "hist = pd.DataFrame(history.history)\n",
    "hist['epoch'] = history.epoch\n",
    "hist.tail()"
   ]
  },
  {
   "cell_type": "code",
   "execution_count": null,
   "metadata": {},
   "outputs": [],
   "source": [
    "def plot_loss(history):\n",
    "    plt.plot(history.history['loss'], label='loss')\n",
    "    plt.plot(history.history['val_loss'], label='val_loss')\n",
    "    plt.xlabel('Epoch')\n",
    "    plt.ylabel('Error')\n",
    "    plt.legend()\n",
    "    plt.grid(True)"
   ]
  },
  {
   "cell_type": "code",
   "execution_count": null,
   "metadata": {},
   "outputs": [],
   "source": [
    "plot_loss(history)"
   ]
  },
  {
   "cell_type": "markdown",
   "metadata": {},
   "source": [
    "##### TO DO:\n",
    "1. Feature selection\n",
    "2. Model evaluation (variance, loss)\n",
    "3. Choose"
   ]
  },
  {
   "cell_type": "markdown",
   "metadata": {},
   "source": [
    "# CLUSTERING"
   ]
  },
  {
   "cell_type": "markdown",
   "metadata": {},
   "source": [
    "## Method 1: "
   ]
  }
 ],
 "metadata": {
  "kernelspec": {
   "display_name": "env",
   "language": "python",
   "name": "env"
  },
  "language_info": {
   "codemirror_mode": {
    "name": "ipython",
    "version": 3
   },
   "file_extension": ".py",
   "mimetype": "text/x-python",
   "name": "python",
   "nbconvert_exporter": "python",
   "pygments_lexer": "ipython3",
   "version": "3.8.7"
  }
 },
 "nbformat": 4,
 "nbformat_minor": 4
}
