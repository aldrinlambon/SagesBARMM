{
 "cells": [
  {
   "cell_type": "code",
   "execution_count": 39,
   "metadata": {},
   "outputs": [],
   "source": [
    "import pandas as pd\n",
    "import numpy as np\n",
    "\n",
    "from keras.layers.experimental import preprocessing\n",
    "from keras.models import Sequential\n",
    "from keras.layers import Dense\n",
    "\n",
    "from sklearn.metrics import r2_score\n",
    "from sklearn.model_selection import train_test_split\n",
    "\n",
    "import matplotlib.pyplot as plt\n",
    "%matplotlib inline"
   ]
  },
  {
   "cell_type": "markdown",
   "metadata": {},
   "source": [
    "## 1. Import data"
   ]
  },
  {
   "cell_type": "code",
   "execution_count": 52,
   "metadata": {},
   "outputs": [
    {
     "data": {
      "text/html": [
       "<div>\n",
       "<style scoped>\n",
       "    .dataframe tbody tr th:only-of-type {\n",
       "        vertical-align: middle;\n",
       "    }\n",
       "\n",
       "    .dataframe tbody tr th {\n",
       "        vertical-align: top;\n",
       "    }\n",
       "\n",
       "    .dataframe thead th {\n",
       "        text-align: right;\n",
       "    }\n",
       "</style>\n",
       "<table border=\"1\" class=\"dataframe\">\n",
       "  <thead>\n",
       "    <tr style=\"text-align: right;\">\n",
       "      <th></th>\n",
       "      <th>PSGC_BRGY</th>\n",
       "      <th>both_age_0_to_4</th>\n",
       "      <th>male_age_0_to_4</th>\n",
       "      <th>female_age_0_to_4</th>\n",
       "      <th>both_age_5_to_9</th>\n",
       "      <th>male_age_5_to_9</th>\n",
       "      <th>female_age_5_to_9</th>\n",
       "      <th>both_age_10_to_14</th>\n",
       "      <th>male_age_10_to_14</th>\n",
       "      <th>female_age_10_to_14</th>\n",
       "      <th>...</th>\n",
       "      <th>male_age_80_to_84</th>\n",
       "      <th>female_age_80_to_84</th>\n",
       "      <th>No_of_Schools</th>\n",
       "      <th>Perc_Households_Electricity_Light</th>\n",
       "      <th>Perc_Households_Kerosene_Gass_Light</th>\n",
       "      <th>Perc_Households_Drinking_Owned_Faucet</th>\n",
       "      <th>Perc_Households_Drinking_Shared_Faucet</th>\n",
       "      <th>number_of_roads</th>\n",
       "      <th>Nearest_School</th>\n",
       "      <th>Nearest_School_Distance</th>\n",
       "    </tr>\n",
       "  </thead>\n",
       "  <tbody>\n",
       "    <tr>\n",
       "      <th>0</th>\n",
       "      <td>PH150702001</td>\n",
       "      <td>77.0</td>\n",
       "      <td>46.0</td>\n",
       "      <td>31.0</td>\n",
       "      <td>79.0</td>\n",
       "      <td>35.0</td>\n",
       "      <td>44.0</td>\n",
       "      <td>73.0</td>\n",
       "      <td>42.0</td>\n",
       "      <td>31.0</td>\n",
       "      <td>...</td>\n",
       "      <td>0.0</td>\n",
       "      <td>0.0</td>\n",
       "      <td>1.0</td>\n",
       "      <td>0.656250</td>\n",
       "      <td>0.343750</td>\n",
       "      <td>0.050000</td>\n",
       "      <td>0.418750</td>\n",
       "      <td>0</td>\n",
       "      <td>133005</td>\n",
       "      <td>0.018837</td>\n",
       "    </tr>\n",
       "    <tr>\n",
       "      <th>1</th>\n",
       "      <td>PH150702002</td>\n",
       "      <td>184.0</td>\n",
       "      <td>87.0</td>\n",
       "      <td>97.0</td>\n",
       "      <td>161.0</td>\n",
       "      <td>77.0</td>\n",
       "      <td>84.0</td>\n",
       "      <td>133.0</td>\n",
       "      <td>69.0</td>\n",
       "      <td>64.0</td>\n",
       "      <td>...</td>\n",
       "      <td>0.0</td>\n",
       "      <td>0.0</td>\n",
       "      <td>1.0</td>\n",
       "      <td>0.792208</td>\n",
       "      <td>0.207792</td>\n",
       "      <td>0.051948</td>\n",
       "      <td>0.008658</td>\n",
       "      <td>1</td>\n",
       "      <td>132981</td>\n",
       "      <td>0.006898</td>\n",
       "    </tr>\n",
       "    <tr>\n",
       "      <th>3</th>\n",
       "      <td>PH150702005</td>\n",
       "      <td>240.0</td>\n",
       "      <td>132.0</td>\n",
       "      <td>108.0</td>\n",
       "      <td>305.0</td>\n",
       "      <td>159.0</td>\n",
       "      <td>146.0</td>\n",
       "      <td>269.0</td>\n",
       "      <td>155.0</td>\n",
       "      <td>114.0</td>\n",
       "      <td>...</td>\n",
       "      <td>0.0</td>\n",
       "      <td>0.0</td>\n",
       "      <td>1.0</td>\n",
       "      <td>0.870968</td>\n",
       "      <td>0.126728</td>\n",
       "      <td>0.099078</td>\n",
       "      <td>0.730415</td>\n",
       "      <td>5</td>\n",
       "      <td>133006</td>\n",
       "      <td>0.013759</td>\n",
       "    </tr>\n",
       "    <tr>\n",
       "      <th>4</th>\n",
       "      <td>PH150702006</td>\n",
       "      <td>285.0</td>\n",
       "      <td>117.0</td>\n",
       "      <td>168.0</td>\n",
       "      <td>354.0</td>\n",
       "      <td>201.0</td>\n",
       "      <td>153.0</td>\n",
       "      <td>398.0</td>\n",
       "      <td>217.0</td>\n",
       "      <td>181.0</td>\n",
       "      <td>...</td>\n",
       "      <td>0.0</td>\n",
       "      <td>0.0</td>\n",
       "      <td>1.0</td>\n",
       "      <td>0.719780</td>\n",
       "      <td>0.236264</td>\n",
       "      <td>0.001832</td>\n",
       "      <td>0.012821</td>\n",
       "      <td>4</td>\n",
       "      <td>132992</td>\n",
       "      <td>0.010513</td>\n",
       "    </tr>\n",
       "    <tr>\n",
       "      <th>5</th>\n",
       "      <td>PH150702007</td>\n",
       "      <td>217.0</td>\n",
       "      <td>112.0</td>\n",
       "      <td>105.0</td>\n",
       "      <td>236.0</td>\n",
       "      <td>114.0</td>\n",
       "      <td>122.0</td>\n",
       "      <td>220.0</td>\n",
       "      <td>121.0</td>\n",
       "      <td>99.0</td>\n",
       "      <td>...</td>\n",
       "      <td>0.0</td>\n",
       "      <td>0.0</td>\n",
       "      <td>1.0</td>\n",
       "      <td>0.831050</td>\n",
       "      <td>0.157534</td>\n",
       "      <td>0.287671</td>\n",
       "      <td>0.321918</td>\n",
       "      <td>14</td>\n",
       "      <td>132991</td>\n",
       "      <td>0.012902</td>\n",
       "    </tr>\n",
       "  </tbody>\n",
       "</table>\n",
       "<p>5 rows × 60 columns</p>\n",
       "</div>"
      ],
      "text/plain": [
       "     PSGC_BRGY  both_age_0_to_4  male_age_0_to_4  female_age_0_to_4  \\\n",
       "0  PH150702001             77.0             46.0               31.0   \n",
       "1  PH150702002            184.0             87.0               97.0   \n",
       "3  PH150702005            240.0            132.0              108.0   \n",
       "4  PH150702006            285.0            117.0              168.0   \n",
       "5  PH150702007            217.0            112.0              105.0   \n",
       "\n",
       "   both_age_5_to_9  male_age_5_to_9  female_age_5_to_9  both_age_10_to_14  \\\n",
       "0             79.0             35.0               44.0               73.0   \n",
       "1            161.0             77.0               84.0              133.0   \n",
       "3            305.0            159.0              146.0              269.0   \n",
       "4            354.0            201.0              153.0              398.0   \n",
       "5            236.0            114.0              122.0              220.0   \n",
       "\n",
       "   male_age_10_to_14  female_age_10_to_14  ...  male_age_80_to_84  \\\n",
       "0               42.0                 31.0  ...                0.0   \n",
       "1               69.0                 64.0  ...                0.0   \n",
       "3              155.0                114.0  ...                0.0   \n",
       "4              217.0                181.0  ...                0.0   \n",
       "5              121.0                 99.0  ...                0.0   \n",
       "\n",
       "   female_age_80_to_84  No_of_Schools  Perc_Households_Electricity_Light  \\\n",
       "0                  0.0            1.0                           0.656250   \n",
       "1                  0.0            1.0                           0.792208   \n",
       "3                  0.0            1.0                           0.870968   \n",
       "4                  0.0            1.0                           0.719780   \n",
       "5                  0.0            1.0                           0.831050   \n",
       "\n",
       "   Perc_Households_Kerosene_Gass_Light  Perc_Households_Drinking_Owned_Faucet  \\\n",
       "0                             0.343750                               0.050000   \n",
       "1                             0.207792                               0.051948   \n",
       "3                             0.126728                               0.099078   \n",
       "4                             0.236264                               0.001832   \n",
       "5                             0.157534                               0.287671   \n",
       "\n",
       "   Perc_Households_Drinking_Shared_Faucet  number_of_roads  Nearest_School  \\\n",
       "0                                0.418750                0          133005   \n",
       "1                                0.008658                1          132981   \n",
       "3                                0.730415                5          133006   \n",
       "4                                0.012821                4          132992   \n",
       "5                                0.321918               14          132991   \n",
       "\n",
       "   Nearest_School_Distance  \n",
       "0                 0.018837  \n",
       "1                 0.006898  \n",
       "3                 0.013759  \n",
       "4                 0.010513  \n",
       "5                 0.012902  \n",
       "\n",
       "[5 rows x 60 columns]"
      ]
     },
     "execution_count": 52,
     "metadata": {},
     "output_type": "execute_result"
    }
   ],
   "source": [
    "FILE_PATH = './Data/output/'\n",
    "\n",
    "df = pd.read_csv(FILE_PATH + 'Population_Schools_SDGs_Clean.csv', index_col=0)\n",
    "df = df.dropna()\n",
    "df.head()"
   ]
  },
  {
   "cell_type": "code",
   "execution_count": 53,
   "metadata": {},
   "outputs": [],
   "source": [
    "dataset = df.copy()\n",
    "\n",
    "dataset = dataset[['No_of_Schools', 'both_age_5_to_9', 'male_age_5_to_9', 'female_age_5_to_9',\n",
    "                  'both_age_10_to_14', 'male_age_10_to_14', 'female_age_10_to_14',\n",
    "                  'both_age_15_to_19', 'male_age_15_to_19', 'female_age_15_to_19',\n",
    "                  'both_age_20_to_24', 'male_age_20_to_24', 'female_age_20_to_24',\n",
    "                  'Perc_Households_Electricity_Light', 'Perc_Households_Kerosene_Gass_Light',\n",
    "                  'Perc_Households_Drinking_Owned_Faucet', 'Perc_Households_Drinking_Shared_Faucet',\n",
    "                  'number_of_roads', ]]"
   ]
  },
  {
   "cell_type": "markdown",
   "metadata": {},
   "source": [
    "## 2. Explore data"
   ]
  },
  {
   "cell_type": "code",
   "execution_count": 54,
   "metadata": {},
   "outputs": [],
   "source": [
    "y = dataset['No_of_Schools']"
   ]
  },
  {
   "cell_type": "code",
   "execution_count": 55,
   "metadata": {},
   "outputs": [],
   "source": [
    "def subplot(x_list):\n",
    "    fig, ((ax1, ax2), (ax3, ax4)) = plt.subplots(2, 2)\n",
    "    axes = [ax1, ax2, ax3, ax4]\n",
    "    for i in range(len(x_list)):\n",
    "        axes[i].scatter(dataset[x_list[i]], y)\n",
    "        axes[i].set_title(x_list[i])\n",
    "    plt.tight_layout()"
   ]
  },
  {
   "cell_type": "code",
   "execution_count": 56,
   "metadata": {},
   "outputs": [
    {
     "data": {
      "image/png": "[encoded data removed]",
      "text/plain": [
       "<Figure size 432x288 with 4 Axes>"
      ]
     },
     "metadata": {
      "needs_background": "light"
     },
     "output_type": "display_data"
    }
   ],
   "source": [
    "x_both = ['both_age_5_to_9', 'both_age_10_to_14', 'both_age_15_to_19', 'both_age_20_to_24']\n",
    "subplot(x_both)"
   ]
  },
  {
   "cell_type": "code",
   "execution_count": 57,
   "metadata": {},
   "outputs": [
    {
     "data": {
      "image/png": "[encoded data removed]",
      "text/plain": [
       "<Figure size 432x288 with 4 Axes>"
      ]
     },
     "metadata": {
      "needs_background": "light"
     },
     "output_type": "display_data"
    }
   ],
   "source": [
    "x_male = ['male_age_5_to_9', 'male_age_10_to_14', 'male_age_15_to_19', 'male_age_20_to_24']\n",
    "subplot(x_male)"
   ]
  },
  {
   "cell_type": "code",
   "execution_count": 58,
   "metadata": {},
   "outputs": [
    {
     "data": {
      "image/png": "[encoded data removed]",
      "text/plain": [
       "<Figure size 432x288 with 4 Axes>"
      ]
     },
     "metadata": {
      "needs_background": "light"
     },
     "output_type": "display_data"
    }
   ],
   "source": [
    "x_female = ['female_age_5_to_9', 'female_age_10_to_14', 'female_age_15_to_19', 'female_age_20_to_24']\n",
    "subplot(x_female)"
   ]
  },
  {
   "cell_type": "code",
   "execution_count": 59,
   "metadata": {},
   "outputs": [
    {
     "data": {
      "image/png": "[encoded data removed]",
      "text/plain": [
       "<Figure size 432x288 with 4 Axes>"
      ]
     },
     "metadata": {
      "needs_background": "light"
     },
     "output_type": "display_data"
    }
   ],
   "source": [
    "x_sgd = ['Perc_Households_Electricity_Light', 'Perc_Households_Kerosene_Gass_Light', \n",
    "         'Perc_Households_Drinking_Owned_Faucet', 'Perc_Households_Drinking_Shared_Faucet']\n",
    "subplot(x_sgd)"
   ]
  },
  {
   "cell_type": "code",
   "execution_count": 60,
   "metadata": {},
   "outputs": [
    {
     "data": {
      "image/png": "[encoded data removed]",
      "text/plain": [
       "<Figure size 432x288 with 1 Axes>"
      ]
     },
     "metadata": {
      "needs_background": "light"
     },
     "output_type": "display_data"
    }
   ],
   "source": [
    "plt.scatter(dataset['number_of_roads'], y)\n",
    "plt.title('Number of roads')\n",
    "plt.show()"
   ]
  },
  {
   "cell_type": "markdown",
   "metadata": {},
   "source": [
    "## 3. Preprocess data"
   ]
  },
  {
   "cell_type": "markdown",
   "metadata": {},
   "source": [
    "### Train test split"
   ]
  },
  {
   "cell_type": "code",
   "execution_count": 61,
   "metadata": {},
   "outputs": [],
   "source": [
    "training_data, testing_data = train_test_split(dataset, test_size=0.2, random_state=42)"
   ]
  },
  {
   "cell_type": "code",
   "execution_count": 62,
   "metadata": {},
   "outputs": [],
   "source": [
    "X_train = training_data.drop(['No_of_Schools'], axis=1)\n",
    "y_train = training_data['No_of_Schools']\n",
    "\n",
    "X_test = testing_data.drop(['No_of_Schools'], axis=1)\n",
    "y_test = testing_data['No_of_Schools']"
   ]
  },
  {
   "cell_type": "markdown",
   "metadata": {},
   "source": [
    "### Normalization"
   ]
  },
  {
   "cell_type": "code",
   "execution_count": 63,
   "metadata": {},
   "outputs": [],
   "source": [
    "normalizer = preprocessing.Normalization()\n",
    "normalizer.adapt(np.array(X_train))"
   ]
  },
  {
   "cell_type": "markdown",
   "metadata": {},
   "source": [
    "### Modelling"
   ]
  },
  {
   "cell_type": "code",
   "execution_count": 64,
   "metadata": {},
   "outputs": [],
   "source": [
    "model = Sequential()\n",
    "model.add(normalizer)\n",
    "model.add(Dense(20, activation='tanh', input_dim=5, kernel_initializer='uniform'))\n",
    "model.add(Dense(1, activation='linear', kernel_initializer='uniform'))"
   ]
  },
  {
   "cell_type": "code",
   "execution_count": 69,
   "metadata": {},
   "outputs": [],
   "source": [
    "model.compile(loss='mse', optimizer='adam', metrics=['mse'])"
   ]
  },
  {
   "cell_type": "code",
   "execution_count": 71,
   "metadata": {},
   "outputs": [
    {
     "name": "stdout",
     "output_type": "stream",
     "text": [
      "Epoch 1/100\n",
      "101/101 [==============================] - 0s 3ms/step - loss: 1.3661 - mse: 1.3661 - val_loss: 2.2395 - val_mse: 2.2395\n",
      "Epoch 2/100\n",
      "101/101 [==============================] - 0s 1ms/step - loss: 1.3122 - mse: 1.3122 - val_loss: 2.2874 - val_mse: 2.2874\n",
      "Epoch 3/100\n",
      "101/101 [==============================] - 0s 1ms/step - loss: 1.3364 - mse: 1.3364 - val_loss: 2.2617 - val_mse: 2.2617\n",
      "Epoch 4/100\n",
      "101/101 [==============================] - 0s 1ms/step - loss: 1.3198 - mse: 1.3198 - val_loss: 2.2465 - val_mse: 2.2465\n",
      "Epoch 5/100\n",
      "101/101 [==============================] - 0s 1ms/step - loss: 1.3253 - mse: 1.3253 - val_loss: 2.2789 - val_mse: 2.2789\n",
      "Epoch 6/100\n",
      "101/101 [==============================] - 0s 1ms/step - loss: 1.3246 - mse: 1.3246 - val_loss: 2.2457 - val_mse: 2.2457\n",
      "Epoch 7/100\n",
      "101/101 [==============================] - 0s 1ms/step - loss: 1.3208 - mse: 1.3208 - val_loss: 2.2488 - val_mse: 2.2488\n",
      "Epoch 8/100\n",
      "101/101 [==============================] - 0s 1ms/step - loss: 1.3223 - mse: 1.3223 - val_loss: 2.2516 - val_mse: 2.2516\n",
      "Epoch 9/100\n",
      "101/101 [==============================] - 0s 1ms/step - loss: 1.3053 - mse: 1.3053 - val_loss: 2.2676 - val_mse: 2.2676\n",
      "Epoch 10/100\n",
      "101/101 [==============================] - 0s 1ms/step - loss: 1.3197 - mse: 1.3197 - val_loss: 2.2576 - val_mse: 2.2576\n",
      "Epoch 11/100\n",
      "101/101 [==============================] - 0s 1ms/step - loss: 1.2942 - mse: 1.2942 - val_loss: 2.2714 - val_mse: 2.2714\n",
      "Epoch 12/100\n",
      "101/101 [==============================] - 0s 1ms/step - loss: 1.3316 - mse: 1.3316 - val_loss: 2.2737 - val_mse: 2.2737\n",
      "Epoch 13/100\n",
      "101/101 [==============================] - 0s 1ms/step - loss: 1.3297 - mse: 1.3297 - val_loss: 2.3589 - val_mse: 2.3589\n",
      "Epoch 14/100\n",
      "101/101 [==============================] - 0s 1ms/step - loss: 1.3209 - mse: 1.3209 - val_loss: 2.3125 - val_mse: 2.3125\n",
      "Epoch 15/100\n",
      "101/101 [==============================] - 0s 1ms/step - loss: 1.3151 - mse: 1.3151 - val_loss: 2.2723 - val_mse: 2.2723\n",
      "Epoch 16/100\n",
      "101/101 [==============================] - 0s 1ms/step - loss: 1.3089 - mse: 1.3089 - val_loss: 2.2620 - val_mse: 2.2620\n",
      "Epoch 17/100\n",
      "101/101 [==============================] - 0s 1ms/step - loss: 1.3377 - mse: 1.3377 - val_loss: 2.2797 - val_mse: 2.2797\n",
      "Epoch 18/100\n",
      "101/101 [==============================] - 0s 1ms/step - loss: 1.3225 - mse: 1.3225 - val_loss: 2.3472 - val_mse: 2.3472\n",
      "Epoch 19/100\n",
      "101/101 [==============================] - 0s 1ms/step - loss: 1.3088 - mse: 1.3088 - val_loss: 2.2668 - val_mse: 2.2668\n",
      "Epoch 20/100\n",
      "101/101 [==============================] - 0s 1ms/step - loss: 1.3047 - mse: 1.3047 - val_loss: 2.2826 - val_mse: 2.2826\n",
      "Epoch 21/100\n",
      "101/101 [==============================] - 0s 1ms/step - loss: 1.3208 - mse: 1.3208 - val_loss: 2.2910 - val_mse: 2.2910\n",
      "Epoch 22/100\n",
      "101/101 [==============================] - 0s 1ms/step - loss: 1.3019 - mse: 1.3019 - val_loss: 2.2802 - val_mse: 2.2802\n",
      "Epoch 23/100\n",
      "101/101 [==============================] - 0s 1ms/step - loss: 1.2965 - mse: 1.2965 - val_loss: 2.2811 - val_mse: 2.2811\n",
      "Epoch 24/100\n",
      "101/101 [==============================] - 0s 1ms/step - loss: 1.3191 - mse: 1.3191 - val_loss: 2.2946 - val_mse: 2.2946\n",
      "Epoch 25/100\n",
      "101/101 [==============================] - 0s 1ms/step - loss: 1.3333 - mse: 1.3333 - val_loss: 2.2887 - val_mse: 2.2887\n",
      "Epoch 26/100\n",
      "101/101 [==============================] - 0s 1ms/step - loss: 1.3066 - mse: 1.3066 - val_loss: 2.2735 - val_mse: 2.2735\n",
      "Epoch 27/100\n",
      "101/101 [==============================] - 0s 1ms/step - loss: 1.3211 - mse: 1.3211 - val_loss: 2.2818 - val_mse: 2.2818\n",
      "Epoch 28/100\n",
      "101/101 [==============================] - 0s 1ms/step - loss: 1.3056 - mse: 1.3056 - val_loss: 2.2855 - val_mse: 2.2855\n",
      "Epoch 29/100\n",
      "101/101 [==============================] - 0s 1ms/step - loss: 1.3013 - mse: 1.3013 - val_loss: 2.2642 - val_mse: 2.2642\n",
      "Epoch 30/100\n",
      "101/101 [==============================] - 0s 1ms/step - loss: 1.3101 - mse: 1.3101 - val_loss: 2.3468 - val_mse: 2.3468\n",
      "Epoch 31/100\n",
      "101/101 [==============================] - 0s 1ms/step - loss: 1.3054 - mse: 1.3054 - val_loss: 2.2979 - val_mse: 2.2979\n",
      "Epoch 32/100\n",
      "101/101 [==============================] - 0s 1ms/step - loss: 1.2942 - mse: 1.2942 - val_loss: 2.2732 - val_mse: 2.2732\n",
      "Epoch 33/100\n",
      "101/101 [==============================] - 0s 1ms/step - loss: 1.3126 - mse: 1.3126 - val_loss: 2.2704 - val_mse: 2.2704\n",
      "Epoch 34/100\n",
      "101/101 [==============================] - 0s 1ms/step - loss: 1.2970 - mse: 1.2970 - val_loss: 2.2735 - val_mse: 2.2735\n",
      "Epoch 35/100\n",
      "101/101 [==============================] - 0s 1ms/step - loss: 1.2888 - mse: 1.2888 - val_loss: 2.2799 - val_mse: 2.2799\n",
      "Epoch 36/100\n",
      "101/101 [==============================] - 0s 1ms/step - loss: 1.3011 - mse: 1.3011 - val_loss: 2.2850 - val_mse: 2.2850\n",
      "Epoch 37/100\n",
      "101/101 [==============================] - 0s 1ms/step - loss: 1.3006 - mse: 1.3006 - val_loss: 2.2912 - val_mse: 2.2912\n",
      "Epoch 38/100\n",
      "101/101 [==============================] - 0s 1ms/step - loss: 1.2938 - mse: 1.2938 - val_loss: 2.2916 - val_mse: 2.2916\n",
      "Epoch 39/100\n",
      "101/101 [==============================] - 0s 1ms/step - loss: 1.3371 - mse: 1.3371 - val_loss: 2.2841 - val_mse: 2.2841\n",
      "Epoch 40/100\n",
      "101/101 [==============================] - 0s 1ms/step - loss: 1.3138 - mse: 1.3138 - val_loss: 2.2794 - val_mse: 2.2794\n",
      "Epoch 41/100\n",
      "101/101 [==============================] - 0s 1ms/step - loss: 1.2890 - mse: 1.2890 - val_loss: 2.3053 - val_mse: 2.3053\n",
      "Epoch 42/100\n",
      "101/101 [==============================] - 0s 1ms/step - loss: 1.2857 - mse: 1.2857 - val_loss: 2.2720 - val_mse: 2.2720\n",
      "Epoch 43/100\n",
      "101/101 [==============================] - 0s 1ms/step - loss: 1.3028 - mse: 1.3028 - val_loss: 2.3578 - val_mse: 2.3578\n",
      "Epoch 44/100\n",
      "101/101 [==============================] - 0s 1ms/step - loss: 1.3101 - mse: 1.3101 - val_loss: 2.2769 - val_mse: 2.2769\n",
      "Epoch 45/100\n",
      "101/101 [==============================] - 0s 1ms/step - loss: 1.2777 - mse: 1.2777 - val_loss: 2.2746 - val_mse: 2.2746\n",
      "Epoch 46/100\n",
      "101/101 [==============================] - 0s 1ms/step - loss: 1.2694 - mse: 1.2694 - val_loss: 2.2850 - val_mse: 2.2850\n",
      "Epoch 47/100\n",
      "101/101 [==============================] - 0s 1ms/step - loss: 1.2895 - mse: 1.2895 - val_loss: 2.2721 - val_mse: 2.2721\n",
      "Epoch 48/100\n",
      "101/101 [==============================] - 0s 1ms/step - loss: 1.2818 - mse: 1.2818 - val_loss: 2.2839 - val_mse: 2.2839\n",
      "Epoch 49/100\n",
      "101/101 [==============================] - 0s 1ms/step - loss: 1.2811 - mse: 1.2811 - val_loss: 2.2996 - val_mse: 2.2996\n",
      "Epoch 50/100\n",
      "101/101 [==============================] - 0s 1ms/step - loss: 1.2984 - mse: 1.2984 - val_loss: 2.2723 - val_mse: 2.2723\n",
      "Epoch 51/100\n",
      "101/101 [==============================] - 0s 1ms/step - loss: 1.2779 - mse: 1.2779 - val_loss: 2.2809 - val_mse: 2.2809\n",
      "Epoch 52/100\n",
      "101/101 [==============================] - 0s 1ms/step - loss: 1.2645 - mse: 1.2645 - val_loss: 2.2972 - val_mse: 2.2972\n",
      "Epoch 53/100\n",
      "101/101 [==============================] - 0s 1ms/step - loss: 1.2520 - mse: 1.2520 - val_loss: 2.2741 - val_mse: 2.2741\n",
      "Epoch 54/100\n",
      "101/101 [==============================] - 0s 1ms/step - loss: 1.2662 - mse: 1.2662 - val_loss: 2.2854 - val_mse: 2.2854\n",
      "Epoch 55/100\n",
      "101/101 [==============================] - 0s 1ms/step - loss: 1.2708 - mse: 1.2708 - val_loss: 2.3072 - val_mse: 2.3072\n",
      "Epoch 56/100\n",
      "101/101 [==============================] - 0s 1ms/step - loss: 1.2597 - mse: 1.2597 - val_loss: 2.2872 - val_mse: 2.2872\n",
      "Epoch 57/100\n",
      "101/101 [==============================] - 0s 1ms/step - loss: 1.2837 - mse: 1.2837 - val_loss: 2.2951 - val_mse: 2.2951\n",
      "Epoch 58/100\n",
      "101/101 [==============================] - 0s 1ms/step - loss: 1.2889 - mse: 1.2889 - val_loss: 2.2837 - val_mse: 2.2837\n",
      "Epoch 59/100\n",
      "101/101 [==============================] - 0s 1ms/step - loss: 1.2601 - mse: 1.2601 - val_loss: 2.2879 - val_mse: 2.2879\n",
      "Epoch 60/100\n",
      "101/101 [==============================] - 0s 1ms/step - loss: 1.2618 - mse: 1.2618 - val_loss: 2.2869 - val_mse: 2.2869\n",
      "Epoch 61/100\n",
      "101/101 [==============================] - 0s 1ms/step - loss: 1.2606 - mse: 1.2606 - val_loss: 2.2742 - val_mse: 2.2742\n",
      "Epoch 62/100\n"
     ]
    },
    {
     "name": "stdout",
     "output_type": "stream",
     "text": [
      "101/101 [==============================] - 0s 1ms/step - loss: 1.2768 - mse: 1.2768 - val_loss: 2.2980 - val_mse: 2.2980\n",
      "Epoch 63/100\n",
      "101/101 [==============================] - 0s 1ms/step - loss: 1.2625 - mse: 1.2625 - val_loss: 2.2703 - val_mse: 2.2703\n",
      "Epoch 64/100\n",
      "101/101 [==============================] - 0s 1ms/step - loss: 1.2630 - mse: 1.2630 - val_loss: 2.3591 - val_mse: 2.3591\n",
      "Epoch 65/100\n",
      "101/101 [==============================] - 0s 1ms/step - loss: 1.2889 - mse: 1.2889 - val_loss: 2.2812 - val_mse: 2.2812\n",
      "Epoch 66/100\n",
      "101/101 [==============================] - 0s 1ms/step - loss: 1.2478 - mse: 1.2478 - val_loss: 2.3297 - val_mse: 2.3297\n",
      "Epoch 67/100\n",
      "101/101 [==============================] - 0s 1ms/step - loss: 1.2545 - mse: 1.2545 - val_loss: 2.2813 - val_mse: 2.2813\n",
      "Epoch 68/100\n",
      "101/101 [==============================] - 0s 1ms/step - loss: 1.2563 - mse: 1.2563 - val_loss: 2.3566 - val_mse: 2.3566\n",
      "Epoch 69/100\n",
      "101/101 [==============================] - 0s 1ms/step - loss: 1.2684 - mse: 1.2684 - val_loss: 2.2689 - val_mse: 2.2689\n",
      "Epoch 70/100\n",
      "101/101 [==============================] - 0s 1ms/step - loss: 1.3158 - mse: 1.3158 - val_loss: 2.2650 - val_mse: 2.2650\n",
      "Epoch 71/100\n",
      "101/101 [==============================] - 0s 1ms/step - loss: 1.2539 - mse: 1.2539 - val_loss: 2.3106 - val_mse: 2.3106\n",
      "Epoch 72/100\n",
      "101/101 [==============================] - 0s 1ms/step - loss: 1.2558 - mse: 1.2558 - val_loss: 2.2905 - val_mse: 2.2905\n",
      "Epoch 73/100\n",
      "101/101 [==============================] - 0s 1ms/step - loss: 1.2665 - mse: 1.2665 - val_loss: 2.2630 - val_mse: 2.2630\n",
      "Epoch 74/100\n",
      "101/101 [==============================] - 0s 1ms/step - loss: 1.2502 - mse: 1.2502 - val_loss: 2.2640 - val_mse: 2.2640\n",
      "Epoch 75/100\n",
      "101/101 [==============================] - 0s 1ms/step - loss: 1.2428 - mse: 1.2428 - val_loss: 2.2850 - val_mse: 2.2850\n",
      "Epoch 76/100\n",
      "101/101 [==============================] - 0s 1ms/step - loss: 1.2710 - mse: 1.2710 - val_loss: 2.3105 - val_mse: 2.3105\n",
      "Epoch 77/100\n",
      "101/101 [==============================] - 0s 1ms/step - loss: 1.2357 - mse: 1.2357 - val_loss: 2.2890 - val_mse: 2.2890\n",
      "Epoch 78/100\n",
      "101/101 [==============================] - 0s 1ms/step - loss: 1.2438 - mse: 1.2438 - val_loss: 2.2961 - val_mse: 2.2961\n",
      "Epoch 79/100\n",
      "101/101 [==============================] - 0s 1ms/step - loss: 1.2650 - mse: 1.2650 - val_loss: 2.3040 - val_mse: 2.3040\n",
      "Epoch 80/100\n",
      "101/101 [==============================] - 0s 1ms/step - loss: 1.2557 - mse: 1.2557 - val_loss: 2.2560 - val_mse: 2.2560\n",
      "Epoch 81/100\n",
      "101/101 [==============================] - 0s 1ms/step - loss: 1.2312 - mse: 1.2312 - val_loss: 2.3047 - val_mse: 2.3047\n",
      "Epoch 82/100\n",
      "101/101 [==============================] - 0s 1ms/step - loss: 1.2296 - mse: 1.2296 - val_loss: 2.2609 - val_mse: 2.2609\n",
      "Epoch 83/100\n",
      "101/101 [==============================] - 0s 1ms/step - loss: 1.2504 - mse: 1.2504 - val_loss: 2.2822 - val_mse: 2.2822\n",
      "Epoch 84/100\n",
      "101/101 [==============================] - 0s 1ms/step - loss: 1.2424 - mse: 1.2424 - val_loss: 2.3278 - val_mse: 2.3278\n",
      "Epoch 85/100\n",
      "101/101 [==============================] - 0s 1ms/step - loss: 1.2446 - mse: 1.2446 - val_loss: 2.3067 - val_mse: 2.3067\n",
      "Epoch 86/100\n",
      "101/101 [==============================] - 0s 1ms/step - loss: 1.2353 - mse: 1.2353 - val_loss: 2.3040 - val_mse: 2.3040\n",
      "Epoch 87/100\n",
      "101/101 [==============================] - 0s 1ms/step - loss: 1.2342 - mse: 1.2342 - val_loss: 2.2863 - val_mse: 2.2863\n",
      "Epoch 88/100\n",
      "101/101 [==============================] - 0s 1ms/step - loss: 1.2310 - mse: 1.2310 - val_loss: 2.2797 - val_mse: 2.2797\n",
      "Epoch 89/100\n",
      "101/101 [==============================] - 0s 1ms/step - loss: 1.2288 - mse: 1.2288 - val_loss: 2.3032 - val_mse: 2.3032\n",
      "Epoch 90/100\n",
      "101/101 [==============================] - 0s 1ms/step - loss: 1.2274 - mse: 1.2274 - val_loss: 2.2716 - val_mse: 2.2716\n",
      "Epoch 91/100\n",
      "101/101 [==============================] - 0s 1ms/step - loss: 1.2304 - mse: 1.2304 - val_loss: 2.2637 - val_mse: 2.2637\n",
      "Epoch 92/100\n",
      "101/101 [==============================] - 0s 1ms/step - loss: 1.2370 - mse: 1.2370 - val_loss: 2.3130 - val_mse: 2.3130\n",
      "Epoch 93/100\n",
      "101/101 [==============================] - 0s 1ms/step - loss: 1.2210 - mse: 1.2210 - val_loss: 2.2762 - val_mse: 2.2762\n",
      "Epoch 94/100\n",
      "101/101 [==============================] - 0s 1ms/step - loss: 1.2347 - mse: 1.2347 - val_loss: 2.2871 - val_mse: 2.2871\n",
      "Epoch 95/100\n",
      "101/101 [==============================] - 0s 1ms/step - loss: 1.2042 - mse: 1.2042 - val_loss: 2.3429 - val_mse: 2.3429\n",
      "Epoch 96/100\n",
      "101/101 [==============================] - 0s 1ms/step - loss: 1.2301 - mse: 1.2301 - val_loss: 2.2942 - val_mse: 2.2942\n",
      "Epoch 97/100\n",
      "101/101 [==============================] - 0s 1ms/step - loss: 1.2356 - mse: 1.2356 - val_loss: 2.2767 - val_mse: 2.2767\n",
      "Epoch 98/100\n",
      "101/101 [==============================] - 0s 1ms/step - loss: 1.2260 - mse: 1.2260 - val_loss: 2.3137 - val_mse: 2.3137\n",
      "Epoch 99/100\n",
      "101/101 [==============================] - 0s 1ms/step - loss: 1.2215 - mse: 1.2215 - val_loss: 2.2865 - val_mse: 2.2865\n",
      "Epoch 100/100\n",
      "101/101 [==============================] - 0s 2ms/step - loss: 1.2118 - mse: 1.2118 - val_loss: 2.2887 - val_mse: 2.2887\n"
     ]
    }
   ],
   "source": [
    "EPOCHS = 100\n",
    "BATCH_SIZE = 10\n",
    "history = model.fit(X_train, \n",
    "                    y_train, \n",
    "                    epochs=EPOCHS, \n",
    "                    batch_size=BATCH_SIZE,\n",
    "                    validation_split=0.2)"
   ]
  },
  {
   "cell_type": "markdown",
   "metadata": {},
   "source": [
    "## 4. Model evaluation"
   ]
  },
  {
   "cell_type": "code",
   "execution_count": 72,
   "metadata": {},
   "outputs": [
    {
     "data": {
      "text/html": [
       "<div>\n",
       "<style scoped>\n",
       "    .dataframe tbody tr th:only-of-type {\n",
       "        vertical-align: middle;\n",
       "    }\n",
       "\n",
       "    .dataframe tbody tr th {\n",
       "        vertical-align: top;\n",
       "    }\n",
       "\n",
       "    .dataframe thead th {\n",
       "        text-align: right;\n",
       "    }\n",
       "</style>\n",
       "<table border=\"1\" class=\"dataframe\">\n",
       "  <thead>\n",
       "    <tr style=\"text-align: right;\">\n",
       "      <th></th>\n",
       "      <th>loss</th>\n",
       "      <th>mse</th>\n",
       "      <th>val_loss</th>\n",
       "      <th>val_mse</th>\n",
       "      <th>epoch</th>\n",
       "    </tr>\n",
       "  </thead>\n",
       "  <tbody>\n",
       "    <tr>\n",
       "      <th>95</th>\n",
       "      <td>1.230120</td>\n",
       "      <td>1.230120</td>\n",
       "      <td>2.294240</td>\n",
       "      <td>2.294240</td>\n",
       "      <td>95</td>\n",
       "    </tr>\n",
       "    <tr>\n",
       "      <th>96</th>\n",
       "      <td>1.235610</td>\n",
       "      <td>1.235610</td>\n",
       "      <td>2.276713</td>\n",
       "      <td>2.276713</td>\n",
       "      <td>96</td>\n",
       "    </tr>\n",
       "    <tr>\n",
       "      <th>97</th>\n",
       "      <td>1.225956</td>\n",
       "      <td>1.225956</td>\n",
       "      <td>2.313658</td>\n",
       "      <td>2.313658</td>\n",
       "      <td>97</td>\n",
       "    </tr>\n",
       "    <tr>\n",
       "      <th>98</th>\n",
       "      <td>1.221488</td>\n",
       "      <td>1.221488</td>\n",
       "      <td>2.286506</td>\n",
       "      <td>2.286506</td>\n",
       "      <td>98</td>\n",
       "    </tr>\n",
       "    <tr>\n",
       "      <th>99</th>\n",
       "      <td>1.211759</td>\n",
       "      <td>1.211759</td>\n",
       "      <td>2.288703</td>\n",
       "      <td>2.288703</td>\n",
       "      <td>99</td>\n",
       "    </tr>\n",
       "  </tbody>\n",
       "</table>\n",
       "</div>"
      ],
      "text/plain": [
       "        loss       mse  val_loss   val_mse  epoch\n",
       "95  1.230120  1.230120  2.294240  2.294240     95\n",
       "96  1.235610  1.235610  2.276713  2.276713     96\n",
       "97  1.225956  1.225956  2.313658  2.313658     97\n",
       "98  1.221488  1.221488  2.286506  2.286506     98\n",
       "99  1.211759  1.211759  2.288703  2.288703     99"
      ]
     },
     "execution_count": 72,
     "metadata": {},
     "output_type": "execute_result"
    }
   ],
   "source": [
    "hist = pd.DataFrame(history.history)\n",
    "hist['epoch'] = history.epoch\n",
    "hist.tail()"
   ]
  },
  {
   "cell_type": "code",
   "execution_count": 76,
   "metadata": {},
   "outputs": [],
   "source": [
    "def plot_loss(history):\n",
    "    plt.plot(history.history['loss'], label='loss')\n",
    "    plt.plot(history.history['val_loss'], label='val_loss')\n",
    "    plt.xlabel('Epoch')\n",
    "    plt.ylabel('Error')\n",
    "    plt.legend()\n",
    "    plt.grid(True)"
   ]
  },
  {
   "cell_type": "code",
   "execution_count": 77,
   "metadata": {},
   "outputs": [
    {
     "data": {
      "image/png": "[encoded data removed]",
      "text/plain": [
       "<Figure size 432x288 with 1 Axes>"
      ]
     },
     "metadata": {
      "needs_background": "light"
     },
     "output_type": "display_data"
    }
   ],
   "source": [
    "plot_loss(history)"
   ]
  },
  {
   "cell_type": "markdown",
   "metadata": {},
   "source": [
    "##### TO DO:\n",
    "1. Feature selection\n",
    "2. Model evaluation (variance, loss)\n",
    "3. Choose"
   ]
  },
  {
   "cell_type": "code",
   "execution_count": null,
   "metadata": {},
   "outputs": [],
   "source": []
  }
 ],
 "metadata": {
  "kernelspec": {
   "display_name": "env",
   "language": "python",
   "name": "env"
  },
  "language_info": {
   "codemirror_mode": {
    "name": "ipython",
    "version": 3
   },
   "file_extension": ".py",
   "mimetype": "text/x-python",
   "name": "python",
   "nbconvert_exporter": "python",
   "pygments_lexer": "ipython3",
   "version": "3.8.7"
  }
 },
 "nbformat": 4,
 "nbformat_minor": 4
}
