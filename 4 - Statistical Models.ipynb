{
 "cells": [
  {
   "cell_type": "code",
   "execution_count": 1,
   "metadata": {},
   "outputs": [],
   "source": [
    "import pandas as pd\n",
    "import numpy as np\n",
    "\n",
    "from keras.layers.experimental import preprocessing\n",
    "from keras.models import Sequential\n",
    "from keras.layers import Dense\n",
    "\n",
    "from sklearn.metrics import r2_score\n",
    "from sklearn.model_selection import train_test_split\n",
    "\n",
    "import matplotlib.pyplot as plt\n",
    "%matplotlib inline"
   ]
  },
  {
   "cell_type": "markdown",
   "metadata": {},
   "source": [
    "## 1. IMPORT DATA"
   ]
  },
  {
   "cell_type": "code",
   "execution_count": 2,
   "metadata": {},
   "outputs": [
    {
     "data": {
      "text/html": [
       "<div>\n",
       "<style scoped>\n",
       "    .dataframe tbody tr th:only-of-type {\n",
       "        vertical-align: middle;\n",
       "    }\n",
       "\n",
       "    .dataframe tbody tr th {\n",
       "        vertical-align: top;\n",
       "    }\n",
       "\n",
       "    .dataframe thead th {\n",
       "        text-align: right;\n",
       "    }\n",
       "</style>\n",
       "<table border=\"1\" class=\"dataframe\">\n",
       "  <thead>\n",
       "    <tr style=\"text-align: right;\">\n",
       "      <th></th>\n",
       "      <th>PSGC_BRGY</th>\n",
       "      <th>both_age_0_to_4</th>\n",
       "      <th>male_age_0_to_4</th>\n",
       "      <th>female_age_0_to_4</th>\n",
       "      <th>both_age_5_to_9</th>\n",
       "      <th>male_age_5_to_9</th>\n",
       "      <th>female_age_5_to_9</th>\n",
       "      <th>both_age_10_to_14</th>\n",
       "      <th>male_age_10_to_14</th>\n",
       "      <th>female_age_10_to_14</th>\n",
       "      <th>...</th>\n",
       "      <th>SCH_CAT_PJHS</th>\n",
       "      <th>SCH_CAT_PS</th>\n",
       "      <th>SCH_CAT_PSHS</th>\n",
       "      <th>SCH_CAT_SHS</th>\n",
       "      <th>SCH_CAT_SUC</th>\n",
       "      <th>Perc_Households_Electricity_Light</th>\n",
       "      <th>Perc_Households_Kerosene_Gass_Light</th>\n",
       "      <th>Perc_Households_Drinking_Owned_Faucet</th>\n",
       "      <th>Perc_Households_Drinking_Shared_Faucet</th>\n",
       "      <th>number_of_roads</th>\n",
       "    </tr>\n",
       "  </thead>\n",
       "  <tbody>\n",
       "    <tr>\n",
       "      <th>0</th>\n",
       "      <td>PH150702001</td>\n",
       "      <td>88.0</td>\n",
       "      <td>54.0</td>\n",
       "      <td>34.0</td>\n",
       "      <td>79.0</td>\n",
       "      <td>35.0</td>\n",
       "      <td>44.0</td>\n",
       "      <td>73.0</td>\n",
       "      <td>42.0</td>\n",
       "      <td>31.0</td>\n",
       "      <td>...</td>\n",
       "      <td>0.0</td>\n",
       "      <td>0.0</td>\n",
       "      <td>0.0</td>\n",
       "      <td>0.0</td>\n",
       "      <td>0.0</td>\n",
       "      <td>0.656250</td>\n",
       "      <td>0.343750</td>\n",
       "      <td>0.050000</td>\n",
       "      <td>0.418750</td>\n",
       "      <td>0</td>\n",
       "    </tr>\n",
       "    <tr>\n",
       "      <th>1</th>\n",
       "      <td>PH150702002</td>\n",
       "      <td>210.0</td>\n",
       "      <td>100.0</td>\n",
       "      <td>110.0</td>\n",
       "      <td>161.0</td>\n",
       "      <td>77.0</td>\n",
       "      <td>84.0</td>\n",
       "      <td>133.0</td>\n",
       "      <td>69.0</td>\n",
       "      <td>64.0</td>\n",
       "      <td>...</td>\n",
       "      <td>0.0</td>\n",
       "      <td>0.0</td>\n",
       "      <td>0.0</td>\n",
       "      <td>0.0</td>\n",
       "      <td>0.0</td>\n",
       "      <td>0.792208</td>\n",
       "      <td>0.207792</td>\n",
       "      <td>0.051948</td>\n",
       "      <td>0.008658</td>\n",
       "      <td>1</td>\n",
       "    </tr>\n",
       "    <tr>\n",
       "      <th>3</th>\n",
       "      <td>PH150702005</td>\n",
       "      <td>277.0</td>\n",
       "      <td>152.0</td>\n",
       "      <td>125.0</td>\n",
       "      <td>305.0</td>\n",
       "      <td>159.0</td>\n",
       "      <td>146.0</td>\n",
       "      <td>269.0</td>\n",
       "      <td>155.0</td>\n",
       "      <td>114.0</td>\n",
       "      <td>...</td>\n",
       "      <td>0.0</td>\n",
       "      <td>0.0</td>\n",
       "      <td>0.0</td>\n",
       "      <td>0.0</td>\n",
       "      <td>0.0</td>\n",
       "      <td>0.870968</td>\n",
       "      <td>0.126728</td>\n",
       "      <td>0.099078</td>\n",
       "      <td>0.730415</td>\n",
       "      <td>5</td>\n",
       "    </tr>\n",
       "    <tr>\n",
       "      <th>4</th>\n",
       "      <td>PH150702006</td>\n",
       "      <td>352.0</td>\n",
       "      <td>146.0</td>\n",
       "      <td>206.0</td>\n",
       "      <td>354.0</td>\n",
       "      <td>201.0</td>\n",
       "      <td>153.0</td>\n",
       "      <td>398.0</td>\n",
       "      <td>217.0</td>\n",
       "      <td>181.0</td>\n",
       "      <td>...</td>\n",
       "      <td>0.0</td>\n",
       "      <td>0.0</td>\n",
       "      <td>0.0</td>\n",
       "      <td>0.0</td>\n",
       "      <td>0.0</td>\n",
       "      <td>0.719780</td>\n",
       "      <td>0.236264</td>\n",
       "      <td>0.001832</td>\n",
       "      <td>0.012821</td>\n",
       "      <td>4</td>\n",
       "    </tr>\n",
       "    <tr>\n",
       "      <th>5</th>\n",
       "      <td>PH150702007</td>\n",
       "      <td>270.0</td>\n",
       "      <td>140.0</td>\n",
       "      <td>130.0</td>\n",
       "      <td>236.0</td>\n",
       "      <td>114.0</td>\n",
       "      <td>122.0</td>\n",
       "      <td>220.0</td>\n",
       "      <td>121.0</td>\n",
       "      <td>99.0</td>\n",
       "      <td>...</td>\n",
       "      <td>0.0</td>\n",
       "      <td>0.0</td>\n",
       "      <td>0.0</td>\n",
       "      <td>0.0</td>\n",
       "      <td>0.0</td>\n",
       "      <td>0.831050</td>\n",
       "      <td>0.157534</td>\n",
       "      <td>0.287671</td>\n",
       "      <td>0.321918</td>\n",
       "      <td>14</td>\n",
       "    </tr>\n",
       "  </tbody>\n",
       "</table>\n",
       "<p>5 rows × 83 columns</p>\n",
       "</div>"
      ],
      "text/plain": [
       "     PSGC_BRGY  both_age_0_to_4  male_age_0_to_4  female_age_0_to_4  \\\n",
       "0  PH150702001             88.0             54.0               34.0   \n",
       "1  PH150702002            210.0            100.0              110.0   \n",
       "3  PH150702005            277.0            152.0              125.0   \n",
       "4  PH150702006            352.0            146.0              206.0   \n",
       "5  PH150702007            270.0            140.0              130.0   \n",
       "\n",
       "   both_age_5_to_9  male_age_5_to_9  female_age_5_to_9  both_age_10_to_14  \\\n",
       "0             79.0             35.0               44.0               73.0   \n",
       "1            161.0             77.0               84.0              133.0   \n",
       "3            305.0            159.0              146.0              269.0   \n",
       "4            354.0            201.0              153.0              398.0   \n",
       "5            236.0            114.0              122.0              220.0   \n",
       "\n",
       "   male_age_10_to_14  female_age_10_to_14  ...  SCH_CAT_PJHS  SCH_CAT_PS  \\\n",
       "0               42.0                 31.0  ...           0.0         0.0   \n",
       "1               69.0                 64.0  ...           0.0         0.0   \n",
       "3              155.0                114.0  ...           0.0         0.0   \n",
       "4              217.0                181.0  ...           0.0         0.0   \n",
       "5              121.0                 99.0  ...           0.0         0.0   \n",
       "\n",
       "   SCH_CAT_PSHS  SCH_CAT_SHS  SCH_CAT_SUC  Perc_Households_Electricity_Light  \\\n",
       "0           0.0          0.0          0.0                           0.656250   \n",
       "1           0.0          0.0          0.0                           0.792208   \n",
       "3           0.0          0.0          0.0                           0.870968   \n",
       "4           0.0          0.0          0.0                           0.719780   \n",
       "5           0.0          0.0          0.0                           0.831050   \n",
       "\n",
       "   Perc_Households_Kerosene_Gass_Light  Perc_Households_Drinking_Owned_Faucet  \\\n",
       "0                             0.343750                               0.050000   \n",
       "1                             0.207792                               0.051948   \n",
       "3                             0.126728                               0.099078   \n",
       "4                             0.236264                               0.001832   \n",
       "5                             0.157534                               0.287671   \n",
       "\n",
       "   Perc_Households_Drinking_Shared_Faucet  number_of_roads  \n",
       "0                                0.418750                0  \n",
       "1                                0.008658                1  \n",
       "3                                0.730415                5  \n",
       "4                                0.012821                4  \n",
       "5                                0.321918               14  \n",
       "\n",
       "[5 rows x 83 columns]"
      ]
     },
     "execution_count": 2,
     "metadata": {},
     "output_type": "execute_result"
    }
   ],
   "source": [
    "FILE_PATH = './Data/output/'\n",
    "\n",
    "sgd_df = pd.read_csv(FILE_PATH + 'Population_Schools_SDGs_Clean.csv', index_col=0)\n",
    "sgd_df = sgd_df.dropna()\n",
    "sgd_df.head()"
   ]
  },
  {
   "cell_type": "code",
   "execution_count": 54,
   "metadata": {},
   "outputs": [
    {
     "data": {
      "text/html": [
       "<div>\n",
       "<style scoped>\n",
       "    .dataframe tbody tr th:only-of-type {\n",
       "        vertical-align: middle;\n",
       "    }\n",
       "\n",
       "    .dataframe tbody tr th {\n",
       "        vertical-align: top;\n",
       "    }\n",
       "\n",
       "    .dataframe thead th {\n",
       "        text-align: right;\n",
       "    }\n",
       "</style>\n",
       "<table border=\"1\" class=\"dataframe\">\n",
       "  <thead>\n",
       "    <tr style=\"text-align: right;\">\n",
       "      <th></th>\n",
       "      <th>province</th>\n",
       "      <th>municipality</th>\n",
       "      <th>school_name</th>\n",
       "      <th>year_level</th>\n",
       "      <th>gender</th>\n",
       "      <th>enrollment</th>\n",
       "      <th>PSGC_BRGY</th>\n",
       "    </tr>\n",
       "  </thead>\n",
       "  <tbody>\n",
       "    <tr>\n",
       "      <th>0</th>\n",
       "      <td>Basilan</td>\n",
       "      <td>City Of Lamitan</td>\n",
       "      <td>Baas ES</td>\n",
       "      <td>grade 1</td>\n",
       "      <td>male</td>\n",
       "      <td>25</td>\n",
       "      <td>PH150702002</td>\n",
       "    </tr>\n",
       "    <tr>\n",
       "      <th>1</th>\n",
       "      <td>Basilan</td>\n",
       "      <td>City Of Lamitan</td>\n",
       "      <td>Campo Uno ES</td>\n",
       "      <td>grade 1</td>\n",
       "      <td>male</td>\n",
       "      <td>48</td>\n",
       "      <td>PH150702018</td>\n",
       "    </tr>\n",
       "    <tr>\n",
       "      <th>2</th>\n",
       "      <td>Basilan</td>\n",
       "      <td>City Of Lamitan</td>\n",
       "      <td>Dangkalan ES</td>\n",
       "      <td>grade 1</td>\n",
       "      <td>male</td>\n",
       "      <td>40</td>\n",
       "      <td>PH150702025</td>\n",
       "    </tr>\n",
       "    <tr>\n",
       "      <th>3</th>\n",
       "      <td>Basilan</td>\n",
       "      <td>City Of Lamitan</td>\n",
       "      <td>Jose Rizal ES</td>\n",
       "      <td>grade 1</td>\n",
       "      <td>male</td>\n",
       "      <td>73</td>\n",
       "      <td>PH150702068</td>\n",
       "    </tr>\n",
       "    <tr>\n",
       "      <th>4</th>\n",
       "      <td>Basilan</td>\n",
       "      <td>City Of Lamitan</td>\n",
       "      <td>Lamitan CES</td>\n",
       "      <td>grade 1</td>\n",
       "      <td>male</td>\n",
       "      <td>189</td>\n",
       "      <td>PH150702064</td>\n",
       "    </tr>\n",
       "  </tbody>\n",
       "</table>\n",
       "</div>"
      ],
      "text/plain": [
       "  province     municipality    school_name year_level gender  enrollment  \\\n",
       "0  Basilan  City Of Lamitan        Baas ES    grade 1   male          25   \n",
       "1  Basilan  City Of Lamitan   Campo Uno ES    grade 1   male          48   \n",
       "2  Basilan  City Of Lamitan   Dangkalan ES    grade 1   male          40   \n",
       "3  Basilan  City Of Lamitan  Jose Rizal ES    grade 1   male          73   \n",
       "4  Basilan  City Of Lamitan    Lamitan CES    grade 1   male         189   \n",
       "\n",
       "     PSGC_BRGY  \n",
       "0  PH150702002  \n",
       "1  PH150702018  \n",
       "2  PH150702025  \n",
       "3  PH150702068  \n",
       "4  PH150702064  "
      ]
     },
     "execution_count": 54,
     "metadata": {},
     "output_type": "execute_result"
    }
   ],
   "source": [
    "enrollment_df = pd.read_csv(FILE_PATH + 'Enrollment_rate_elementary_2015.csv')\n",
    "enrollment_df.head()"
   ]
  },
  {
   "cell_type": "code",
   "execution_count": 55,
   "metadata": {},
   "outputs": [
    {
     "name": "stdout",
     "output_type": "stream",
     "text": [
      "Available population data: 1568\n",
      "Available enrollment data: 6768\n",
      "Enrollment data available on the following regions: ['Basilan', 'Lanao Del Sur']\n"
     ]
    }
   ],
   "source": [
    "print('Available population data:', len(sgd_df))\n",
    "print('Available enrollment data:', len(enrollment_df))\n",
    "print('Enrollment data available on the following regions:', list(enrollment_df['province'].unique()))"
   ]
  },
  {
   "cell_type": "code",
   "execution_count": 62,
   "metadata": {},
   "outputs": [
    {
     "data": {
      "text/html": [
       "<div>\n",
       "<style scoped>\n",
       "    .dataframe tbody tr th:only-of-type {\n",
       "        vertical-align: middle;\n",
       "    }\n",
       "\n",
       "    .dataframe tbody tr th {\n",
       "        vertical-align: top;\n",
       "    }\n",
       "\n",
       "    .dataframe thead th {\n",
       "        text-align: right;\n",
       "    }\n",
       "</style>\n",
       "<table border=\"1\" class=\"dataframe\">\n",
       "  <thead>\n",
       "    <tr style=\"text-align: right;\">\n",
       "      <th></th>\n",
       "      <th>PSGC_BRGY</th>\n",
       "      <th>enrollment</th>\n",
       "    </tr>\n",
       "  </thead>\n",
       "  <tbody>\n",
       "    <tr>\n",
       "      <th>0</th>\n",
       "      <td>PH150702001</td>\n",
       "      <td>166</td>\n",
       "    </tr>\n",
       "    <tr>\n",
       "      <th>1</th>\n",
       "      <td>PH150702002</td>\n",
       "      <td>295</td>\n",
       "    </tr>\n",
       "    <tr>\n",
       "      <th>2</th>\n",
       "      <td>PH150702005</td>\n",
       "      <td>378</td>\n",
       "    </tr>\n",
       "    <tr>\n",
       "      <th>3</th>\n",
       "      <td>PH150702006</td>\n",
       "      <td>638</td>\n",
       "    </tr>\n",
       "    <tr>\n",
       "      <th>4</th>\n",
       "      <td>PH150702007</td>\n",
       "      <td>229</td>\n",
       "    </tr>\n",
       "    <tr>\n",
       "      <th>...</th>\n",
       "      <td>...</td>\n",
       "      <td>...</td>\n",
       "    </tr>\n",
       "    <tr>\n",
       "      <th>391</th>\n",
       "      <td>PH153825010</td>\n",
       "      <td>186</td>\n",
       "    </tr>\n",
       "    <tr>\n",
       "      <th>392</th>\n",
       "      <td>PH153829004</td>\n",
       "      <td>259</td>\n",
       "    </tr>\n",
       "    <tr>\n",
       "      <th>393</th>\n",
       "      <td>PH156601003</td>\n",
       "      <td>513</td>\n",
       "    </tr>\n",
       "    <tr>\n",
       "      <th>394</th>\n",
       "      <td>PH157004006</td>\n",
       "      <td>358</td>\n",
       "    </tr>\n",
       "    <tr>\n",
       "      <th>395</th>\n",
       "      <td>PH157006008</td>\n",
       "      <td>108</td>\n",
       "    </tr>\n",
       "  </tbody>\n",
       "</table>\n",
       "<p>396 rows × 2 columns</p>\n",
       "</div>"
      ],
      "text/plain": [
       "       PSGC_BRGY  enrollment\n",
       "0    PH150702001         166\n",
       "1    PH150702002         295\n",
       "2    PH150702005         378\n",
       "3    PH150702006         638\n",
       "4    PH150702007         229\n",
       "..           ...         ...\n",
       "391  PH153825010         186\n",
       "392  PH153829004         259\n",
       "393  PH156601003         513\n",
       "394  PH157004006         358\n",
       "395  PH157006008         108\n",
       "\n",
       "[396 rows x 2 columns]"
      ]
     },
     "execution_count": 62,
     "metadata": {},
     "output_type": "execute_result"
    }
   ],
   "source": [
    "enrollment_brgy = enrollment_df.groupby(['PSGC_BRGY'], as_index=False).sum()\n",
    "enrollment_brgy"
   ]
  },
  {
   "cell_type": "code",
   "execution_count": 64,
   "metadata": {},
   "outputs": [],
   "source": [
    "data_elementary = sgd_df[['PSGC_BRGY', 'both_age_7_to_12', 'male_age_7_to_12', 'female_age_7_to_12', \n",
    "                          'SCH_CAT_CES', 'SCH_CAT_ES', 'SCH_CAT_PS',\n",
    "                          'Perc_Households_Electricity_Light', 'Perc_Households_Kerosene_Gass_Light',\n",
    "                          'Perc_Households_Drinking_Owned_Faucet', 'Perc_Households_Drinking_Shared_Faucet',\n",
    "                          'number_of_roads']]"
   ]
  },
  {
   "cell_type": "code",
   "execution_count": 66,
   "metadata": {},
   "outputs": [],
   "source": [
    "dataset = data_elementary.merge(enrollment_brgy[['PSGC_BRGY', 'enrollment']], on='PSGC_BRGY', how='left')"
   ]
  },
  {
   "cell_type": "code",
   "execution_count": 68,
   "metadata": {},
   "outputs": [
    {
     "data": {
      "text/html": [
       "<div>\n",
       "<style scoped>\n",
       "    .dataframe tbody tr th:only-of-type {\n",
       "        vertical-align: middle;\n",
       "    }\n",
       "\n",
       "    .dataframe tbody tr th {\n",
       "        vertical-align: top;\n",
       "    }\n",
       "\n",
       "    .dataframe thead th {\n",
       "        text-align: right;\n",
       "    }\n",
       "</style>\n",
       "<table border=\"1\" class=\"dataframe\">\n",
       "  <thead>\n",
       "    <tr style=\"text-align: right;\">\n",
       "      <th></th>\n",
       "      <th>PSGC_BRGY</th>\n",
       "      <th>both_age_7_to_12</th>\n",
       "      <th>male_age_7_to_12</th>\n",
       "      <th>female_age_7_to_12</th>\n",
       "      <th>SCH_CAT_CES</th>\n",
       "      <th>SCH_CAT_ES</th>\n",
       "      <th>SCH_CAT_PS</th>\n",
       "      <th>Perc_Households_Electricity_Light</th>\n",
       "      <th>Perc_Households_Kerosene_Gass_Light</th>\n",
       "      <th>Perc_Households_Drinking_Owned_Faucet</th>\n",
       "      <th>Perc_Households_Drinking_Shared_Faucet</th>\n",
       "      <th>number_of_roads</th>\n",
       "      <th>enrollment</th>\n",
       "    </tr>\n",
       "  </thead>\n",
       "  <tbody>\n",
       "    <tr>\n",
       "      <th>0</th>\n",
       "      <td>PH150702001</td>\n",
       "      <td>90.0</td>\n",
       "      <td>43.0</td>\n",
       "      <td>47.0</td>\n",
       "      <td>0.0</td>\n",
       "      <td>1.0</td>\n",
       "      <td>0.0</td>\n",
       "      <td>0.656250</td>\n",
       "      <td>0.343750</td>\n",
       "      <td>0.050000</td>\n",
       "      <td>0.418750</td>\n",
       "      <td>0</td>\n",
       "      <td>166.0</td>\n",
       "    </tr>\n",
       "    <tr>\n",
       "      <th>1</th>\n",
       "      <td>PH150702002</td>\n",
       "      <td>175.0</td>\n",
       "      <td>85.0</td>\n",
       "      <td>90.0</td>\n",
       "      <td>0.0</td>\n",
       "      <td>1.0</td>\n",
       "      <td>0.0</td>\n",
       "      <td>0.792208</td>\n",
       "      <td>0.207792</td>\n",
       "      <td>0.051948</td>\n",
       "      <td>0.008658</td>\n",
       "      <td>1</td>\n",
       "      <td>295.0</td>\n",
       "    </tr>\n",
       "    <tr>\n",
       "      <th>2</th>\n",
       "      <td>PH150702005</td>\n",
       "      <td>351.0</td>\n",
       "      <td>189.0</td>\n",
       "      <td>162.0</td>\n",
       "      <td>0.0</td>\n",
       "      <td>1.0</td>\n",
       "      <td>0.0</td>\n",
       "      <td>0.870968</td>\n",
       "      <td>0.126728</td>\n",
       "      <td>0.099078</td>\n",
       "      <td>0.730415</td>\n",
       "      <td>5</td>\n",
       "      <td>378.0</td>\n",
       "    </tr>\n",
       "    <tr>\n",
       "      <th>3</th>\n",
       "      <td>PH150702006</td>\n",
       "      <td>467.0</td>\n",
       "      <td>272.0</td>\n",
       "      <td>195.0</td>\n",
       "      <td>0.0</td>\n",
       "      <td>1.0</td>\n",
       "      <td>0.0</td>\n",
       "      <td>0.719780</td>\n",
       "      <td>0.236264</td>\n",
       "      <td>0.001832</td>\n",
       "      <td>0.012821</td>\n",
       "      <td>4</td>\n",
       "      <td>638.0</td>\n",
       "    </tr>\n",
       "    <tr>\n",
       "      <th>4</th>\n",
       "      <td>PH150702007</td>\n",
       "      <td>261.0</td>\n",
       "      <td>133.0</td>\n",
       "      <td>128.0</td>\n",
       "      <td>0.0</td>\n",
       "      <td>1.0</td>\n",
       "      <td>0.0</td>\n",
       "      <td>0.831050</td>\n",
       "      <td>0.157534</td>\n",
       "      <td>0.287671</td>\n",
       "      <td>0.321918</td>\n",
       "      <td>14</td>\n",
       "      <td>229.0</td>\n",
       "    </tr>\n",
       "  </tbody>\n",
       "</table>\n",
       "</div>"
      ],
      "text/plain": [
       "     PSGC_BRGY  both_age_7_to_12  male_age_7_to_12  female_age_7_to_12  \\\n",
       "0  PH150702001              90.0              43.0                47.0   \n",
       "1  PH150702002             175.0              85.0                90.0   \n",
       "2  PH150702005             351.0             189.0               162.0   \n",
       "3  PH150702006             467.0             272.0               195.0   \n",
       "4  PH150702007             261.0             133.0               128.0   \n",
       "\n",
       "   SCH_CAT_CES  SCH_CAT_ES  SCH_CAT_PS  Perc_Households_Electricity_Light  \\\n",
       "0          0.0         1.0         0.0                           0.656250   \n",
       "1          0.0         1.0         0.0                           0.792208   \n",
       "2          0.0         1.0         0.0                           0.870968   \n",
       "3          0.0         1.0         0.0                           0.719780   \n",
       "4          0.0         1.0         0.0                           0.831050   \n",
       "\n",
       "   Perc_Households_Kerosene_Gass_Light  Perc_Households_Drinking_Owned_Faucet  \\\n",
       "0                             0.343750                               0.050000   \n",
       "1                             0.207792                               0.051948   \n",
       "2                             0.126728                               0.099078   \n",
       "3                             0.236264                               0.001832   \n",
       "4                             0.157534                               0.287671   \n",
       "\n",
       "   Perc_Households_Drinking_Shared_Faucet  number_of_roads  enrollment  \n",
       "0                                0.418750                0       166.0  \n",
       "1                                0.008658                1       295.0  \n",
       "2                                0.730415                5       378.0  \n",
       "3                                0.012821                4       638.0  \n",
       "4                                0.321918               14       229.0  "
      ]
     },
     "execution_count": 68,
     "metadata": {},
     "output_type": "execute_result"
    }
   ],
   "source": [
    "dataset = dataset.dropna()\n",
    "dataset.head()"
   ]
  },
  {
   "cell_type": "code",
   "execution_count": 69,
   "metadata": {},
   "outputs": [
    {
     "name": "stdout",
     "output_type": "stream",
     "text": [
      "Length of data: 396\n"
     ]
    }
   ],
   "source": [
    "print('Length of data:', len(dataset))"
   ]
  },
  {
   "cell_type": "code",
   "execution_count": 70,
   "metadata": {},
   "outputs": [
    {
     "name": "stderr",
     "output_type": "stream",
     "text": [
      "<ipython-input-70-151a084ef04f>:1: SettingWithCopyWarning: \n",
      "A value is trying to be set on a copy of a slice from a DataFrame.\n",
      "Try using .loc[row_indexer,col_indexer] = value instead\n",
      "\n",
      "See the caveats in the documentation: https://pandas.pydata.org/pandas-docs/stable/user_guide/indexing.html#returning-a-view-versus-a-copy\n",
      "  dataset['ratio_enrollment_children'] = dataset['enrollment']/dataset['both_age_7_to_12']\n"
     ]
    }
   ],
   "source": [
    "dataset['ratio_enrollment_children'] = dataset['enrollment']/dataset['both_age_7_to_12']"
   ]
  },
  {
   "cell_type": "code",
   "execution_count": 73,
   "metadata": {},
   "outputs": [
    {
     "name": "stderr",
     "output_type": "stream",
     "text": [
      "<ipython-input-73-767bf4c5c5e1>:1: SettingWithCopyWarning: \n",
      "A value is trying to be set on a copy of a slice from a DataFrame.\n",
      "Try using .loc[row_indexer,col_indexer] = value instead\n",
      "\n",
      "See the caveats in the documentation: https://pandas.pydata.org/pandas-docs/stable/user_guide/indexing.html#returning-a-view-versus-a-copy\n",
      "  dataset['elem_school'] = dataset['SCH_CAT_CES'] + dataset['SCH_CAT_ES'] + dataset['SCH_CAT_PS']\n"
     ]
    }
   ],
   "source": [
    "dataset['elem_school'] = dataset['SCH_CAT_CES'] + dataset['SCH_CAT_ES'] + dataset['SCH_CAT_PS']"
   ]
  },
  {
   "cell_type": "code",
   "execution_count": 83,
   "metadata": {},
   "outputs": [
    {
     "name": "stdout",
     "output_type": "stream",
     "text": [
      "39.17857142857143\n"
     ]
    }
   ],
   "source": [
    "x = dataset['ratio_enrollment_children']\n",
    "y = dataset['Perc_Households_Kerosene_Gass_Light']\n",
    "\n",
    "print(max(x))\n",
    "dataset.to_csv('sample.csv', index=False)"
   ]
  },
  {
   "cell_type": "code",
   "execution_count": 84,
   "metadata": {},
   "outputs": [
    {
     "data": {
      "text/html": [
       "<div>\n",
       "<style scoped>\n",
       "    .dataframe tbody tr th:only-of-type {\n",
       "        vertical-align: middle;\n",
       "    }\n",
       "\n",
       "    .dataframe tbody tr th {\n",
       "        vertical-align: top;\n",
       "    }\n",
       "\n",
       "    .dataframe thead th {\n",
       "        text-align: right;\n",
       "    }\n",
       "</style>\n",
       "<table border=\"1\" class=\"dataframe\">\n",
       "  <thead>\n",
       "    <tr style=\"text-align: right;\">\n",
       "      <th></th>\n",
       "      <th>PSGC_BRGY</th>\n",
       "      <th>both_age_7_to_12</th>\n",
       "      <th>male_age_7_to_12</th>\n",
       "      <th>female_age_7_to_12</th>\n",
       "      <th>SCH_CAT_CES</th>\n",
       "      <th>SCH_CAT_ES</th>\n",
       "      <th>SCH_CAT_PS</th>\n",
       "      <th>Perc_Households_Electricity_Light</th>\n",
       "      <th>Perc_Households_Kerosene_Gass_Light</th>\n",
       "      <th>Perc_Households_Drinking_Owned_Faucet</th>\n",
       "      <th>Perc_Households_Drinking_Shared_Faucet</th>\n",
       "      <th>number_of_roads</th>\n",
       "      <th>enrollment</th>\n",
       "      <th>ratio_enrollment_children</th>\n",
       "      <th>elem_school</th>\n",
       "    </tr>\n",
       "  </thead>\n",
       "  <tbody>\n",
       "    <tr>\n",
       "      <th>0</th>\n",
       "      <td>PH150702001</td>\n",
       "      <td>90.0</td>\n",
       "      <td>43.0</td>\n",
       "      <td>47.0</td>\n",
       "      <td>0.0</td>\n",
       "      <td>1.0</td>\n",
       "      <td>0.0</td>\n",
       "      <td>0.656250</td>\n",
       "      <td>0.343750</td>\n",
       "      <td>0.050000</td>\n",
       "      <td>0.418750</td>\n",
       "      <td>0</td>\n",
       "      <td>166.0</td>\n",
       "      <td>1.844444</td>\n",
       "      <td>1.0</td>\n",
       "    </tr>\n",
       "    <tr>\n",
       "      <th>1</th>\n",
       "      <td>PH150702002</td>\n",
       "      <td>175.0</td>\n",
       "      <td>85.0</td>\n",
       "      <td>90.0</td>\n",
       "      <td>0.0</td>\n",
       "      <td>1.0</td>\n",
       "      <td>0.0</td>\n",
       "      <td>0.792208</td>\n",
       "      <td>0.207792</td>\n",
       "      <td>0.051948</td>\n",
       "      <td>0.008658</td>\n",
       "      <td>1</td>\n",
       "      <td>295.0</td>\n",
       "      <td>1.685714</td>\n",
       "      <td>1.0</td>\n",
       "    </tr>\n",
       "    <tr>\n",
       "      <th>2</th>\n",
       "      <td>PH150702005</td>\n",
       "      <td>351.0</td>\n",
       "      <td>189.0</td>\n",
       "      <td>162.0</td>\n",
       "      <td>0.0</td>\n",
       "      <td>1.0</td>\n",
       "      <td>0.0</td>\n",
       "      <td>0.870968</td>\n",
       "      <td>0.126728</td>\n",
       "      <td>0.099078</td>\n",
       "      <td>0.730415</td>\n",
       "      <td>5</td>\n",
       "      <td>378.0</td>\n",
       "      <td>1.076923</td>\n",
       "      <td>1.0</td>\n",
       "    </tr>\n",
       "    <tr>\n",
       "      <th>3</th>\n",
       "      <td>PH150702006</td>\n",
       "      <td>467.0</td>\n",
       "      <td>272.0</td>\n",
       "      <td>195.0</td>\n",
       "      <td>0.0</td>\n",
       "      <td>1.0</td>\n",
       "      <td>0.0</td>\n",
       "      <td>0.719780</td>\n",
       "      <td>0.236264</td>\n",
       "      <td>0.001832</td>\n",
       "      <td>0.012821</td>\n",
       "      <td>4</td>\n",
       "      <td>638.0</td>\n",
       "      <td>1.366167</td>\n",
       "      <td>1.0</td>\n",
       "    </tr>\n",
       "    <tr>\n",
       "      <th>4</th>\n",
       "      <td>PH150702007</td>\n",
       "      <td>261.0</td>\n",
       "      <td>133.0</td>\n",
       "      <td>128.0</td>\n",
       "      <td>0.0</td>\n",
       "      <td>1.0</td>\n",
       "      <td>0.0</td>\n",
       "      <td>0.831050</td>\n",
       "      <td>0.157534</td>\n",
       "      <td>0.287671</td>\n",
       "      <td>0.321918</td>\n",
       "      <td>14</td>\n",
       "      <td>229.0</td>\n",
       "      <td>0.877395</td>\n",
       "      <td>1.0</td>\n",
       "    </tr>\n",
       "  </tbody>\n",
       "</table>\n",
       "</div>"
      ],
      "text/plain": [
       "     PSGC_BRGY  both_age_7_to_12  male_age_7_to_12  female_age_7_to_12  \\\n",
       "0  PH150702001              90.0              43.0                47.0   \n",
       "1  PH150702002             175.0              85.0                90.0   \n",
       "2  PH150702005             351.0             189.0               162.0   \n",
       "3  PH150702006             467.0             272.0               195.0   \n",
       "4  PH150702007             261.0             133.0               128.0   \n",
       "\n",
       "   SCH_CAT_CES  SCH_CAT_ES  SCH_CAT_PS  Perc_Households_Electricity_Light  \\\n",
       "0          0.0         1.0         0.0                           0.656250   \n",
       "1          0.0         1.0         0.0                           0.792208   \n",
       "2          0.0         1.0         0.0                           0.870968   \n",
       "3          0.0         1.0         0.0                           0.719780   \n",
       "4          0.0         1.0         0.0                           0.831050   \n",
       "\n",
       "   Perc_Households_Kerosene_Gass_Light  Perc_Households_Drinking_Owned_Faucet  \\\n",
       "0                             0.343750                               0.050000   \n",
       "1                             0.207792                               0.051948   \n",
       "2                             0.126728                               0.099078   \n",
       "3                             0.236264                               0.001832   \n",
       "4                             0.157534                               0.287671   \n",
       "\n",
       "   Perc_Households_Drinking_Shared_Faucet  number_of_roads  enrollment  \\\n",
       "0                                0.418750                0       166.0   \n",
       "1                                0.008658                1       295.0   \n",
       "2                                0.730415                5       378.0   \n",
       "3                                0.012821                4       638.0   \n",
       "4                                0.321918               14       229.0   \n",
       "\n",
       "   ratio_enrollment_children  elem_school  \n",
       "0                   1.844444          1.0  \n",
       "1                   1.685714          1.0  \n",
       "2                   1.076923          1.0  \n",
       "3                   1.366167          1.0  \n",
       "4                   0.877395          1.0  "
      ]
     },
     "execution_count": 84,
     "metadata": {},
     "output_type": "execute_result"
    }
   ],
   "source": [
    "# plt.scatter(x,y)\n",
    "dataset.head()"
   ]
  },
  {
   "cell_type": "markdown",
   "metadata": {},
   "source": [
    "## 2. EXPLORE DATA"
   ]
  },
  {
   "cell_type": "code",
   "execution_count": 3,
   "metadata": {},
   "outputs": [],
   "source": [
    "def subplot(x_list, y, df):\n",
    "    fig, ((ax1, ax2), (ax3, ax4)) = plt.subplots(2, 2)\n",
    "    axes = [ax1, ax2, ax3, ax4]\n",
    "    for i in range(len(x_list)):\n",
    "        axes[i].scatter(df[x_list[i]], y)\n",
    "        axes[i].set_title(x_list[i])\n",
    "    plt.tight_layout()"
   ]
  },
  {
   "cell_type": "markdown",
   "metadata": {},
   "source": [
    "Plot school number vs ratio of age and population"
   ]
  },
  {
   "cell_type": "markdown",
   "metadata": {},
   "source": [
    "### A. BARANGAY LEVEL"
   ]
  },
  {
   "cell_type": "code",
   "execution_count": 4,
   "metadata": {},
   "outputs": [],
   "source": [
    "X_elem = ['both_age_7_to_12', 'male_age_7_to_12', 'female_age_7_to_12']\n",
    "X_jhs = ['both_age_13_to_16', 'male_age_13_to_16', 'female_age_13_to_16']\n",
    "X_shs = ['both_age_17_to_18', 'male_age_17_to_18', 'female_age_17_to_18']\n",
    "X_col = ['both_age_19_to_22', 'male_age_19_to_22', 'female_age_19_to_22']"
   ]
  },
  {
   "cell_type": "markdown",
   "metadata": {},
   "source": [
    "#### 1) ELEMENTARY SCHOOLS"
   ]
  },
  {
   "cell_type": "code",
   "execution_count": 5,
   "metadata": {},
   "outputs": [
    {
     "data": {
      "image/png": "[encoded data removed]",
      "text/plain": [
       "<Figure size 432x288 with 4 Axes>"
      ]
     },
     "metadata": {
      "needs_background": "light"
     },
     "output_type": "display_data"
    }
   ],
   "source": [
    "# Central Elementary School\n",
    "subplot(X_elem, sgd_df['SCH_CAT_CES'], sgd_df)"
   ]
  },
  {
   "cell_type": "code",
   "execution_count": 6,
   "metadata": {},
   "outputs": [
    {
     "data": {
      "image/png": "[encoded data removed]",
      "text/plain": [
       "<Figure size 432x288 with 4 Axes>"
      ]
     },
     "metadata": {
      "needs_background": "light"
     },
     "output_type": "display_data"
    }
   ],
   "source": [
    "# Elementary School\n",
    "subplot(X_elem, sgd_df['SCH_CAT_ES'], sgd_df)"
   ]
  },
  {
   "cell_type": "code",
   "execution_count": 7,
   "metadata": {},
   "outputs": [
    {
     "data": {
      "image/png": "[encoded data removed]",
      "text/plain": [
       "<Figure size 432x288 with 4 Axes>"
      ]
     },
     "metadata": {
      "needs_background": "light"
     },
     "output_type": "display_data"
    }
   ],
   "source": [
    "# Primary School\n",
    "subplot(X_elem, sgd_df['SCH_CAT_PS'], sgd_df)"
   ]
  },
  {
   "cell_type": "markdown",
   "metadata": {},
   "source": [
    "CES, ES, and PS are all Public Elementary Schools"
   ]
  },
  {
   "cell_type": "code",
   "execution_count": 8,
   "metadata": {},
   "outputs": [],
   "source": [
    "sgd_df['PUB_ELEM_SCH'] = sgd_df['SCH_CAT_CES'] + sgd_df['SCH_CAT_ES'] + sgd_df['SCH_CAT_PS']"
   ]
  },
  {
   "cell_type": "code",
   "execution_count": 9,
   "metadata": {},
   "outputs": [
    {
     "data": {
      "image/png": "[encoded data removed]",
      "text/plain": [
       "<Figure size 432x288 with 4 Axes>"
      ]
     },
     "metadata": {
      "needs_background": "light"
     },
     "output_type": "display_data"
    }
   ],
   "source": [
    "# All public schools\n",
    "subplot(X_elem, sgd_df['PUB_ELEM_SCH'], sgd_df)"
   ]
  },
  {
   "cell_type": "code",
   "execution_count": 10,
   "metadata": {},
   "outputs": [
    {
     "data": {
      "image/png": "[encoded data removed]",
      "text/plain": [
       "<Figure size 432x288 with 4 Axes>"
      ]
     },
     "metadata": {
      "needs_background": "light"
     },
     "output_type": "display_data"
    }
   ],
   "source": [
    "# Private Elementary School\n",
    "subplot(X_elem, sgd_df['SCH_CAT_PES'], sgd_df)"
   ]
  },
  {
   "cell_type": "code",
   "execution_count": 11,
   "metadata": {},
   "outputs": [],
   "source": [
    "sgd_df['ELEM_SCH'] = sgd_df['PUB_ELEM_SCH'] + sgd_df['SCH_CAT_PES']"
   ]
  },
  {
   "cell_type": "code",
   "execution_count": 12,
   "metadata": {},
   "outputs": [
    {
     "data": {
      "image/png": "[encoded data removed]",
      "text/plain": [
       "<Figure size 432x288 with 4 Axes>"
      ]
     },
     "metadata": {
      "needs_background": "light"
     },
     "output_type": "display_data"
    }
   ],
   "source": [
    "# All elementary schools\n",
    "subplot(X_elem, sgd_df['ELEM_SCH'], sgd_df)"
   ]
  },
  {
   "cell_type": "markdown",
   "metadata": {},
   "source": [
    "#### 2) JUNIOR HIGH SCHOOL"
   ]
  },
  {
   "cell_type": "code",
   "execution_count": 13,
   "metadata": {},
   "outputs": [
    {
     "data": {
      "image/png": "[encoded data removed]",
      "text/plain": [
       "<Figure size 432x288 with 4 Axes>"
      ]
     },
     "metadata": {
      "needs_background": "light"
     },
     "output_type": "display_data"
    }
   ],
   "source": [
    "# Public Junior High School\n",
    "subplot(X_jhs, sgd_df['SCH_CAT_JHS'], sgd_df)"
   ]
  },
  {
   "cell_type": "code",
   "execution_count": 14,
   "metadata": {},
   "outputs": [
    {
     "data": {
      "image/png": "[encoded data removed]",
      "text/plain": [
       "<Figure size 432x288 with 4 Axes>"
      ]
     },
     "metadata": {
      "needs_background": "light"
     },
     "output_type": "display_data"
    }
   ],
   "source": [
    "# Private Junior High School\n",
    "subplot(X_jhs, sgd_df['SCH_CAT_PJHS'], sgd_df)"
   ]
  },
  {
   "cell_type": "code",
   "execution_count": 15,
   "metadata": {},
   "outputs": [],
   "source": [
    "sgd_df['JHS_SCH'] = sgd_df['SCH_CAT_JHS'] + sgd_df['SCH_CAT_PJHS']"
   ]
  },
  {
   "cell_type": "code",
   "execution_count": 16,
   "metadata": {},
   "outputs": [
    {
     "data": {
      "image/png": "[encoded data removed]",
      "text/plain": [
       "<Figure size 432x288 with 4 Axes>"
      ]
     },
     "metadata": {
      "needs_background": "light"
     },
     "output_type": "display_data"
    }
   ],
   "source": [
    "# All JHS\n",
    "subplot(X_jhs, sgd_df['JHS_SCH'], sgd_df)"
   ]
  },
  {
   "cell_type": "markdown",
   "metadata": {},
   "source": [
    "#### 3) Senior High School"
   ]
  },
  {
   "cell_type": "code",
   "execution_count": 17,
   "metadata": {},
   "outputs": [
    {
     "data": {
      "image/png": "[encoded data removed]",
      "text/plain": [
       "<Figure size 432x288 with 4 Axes>"
      ]
     },
     "metadata": {
      "needs_background": "light"
     },
     "output_type": "display_data"
    }
   ],
   "source": [
    "# Public Senior High School\n",
    "subplot(X_shs, sgd_df['SCH_CAT_SHS'], sgd_df)"
   ]
  },
  {
   "cell_type": "code",
   "execution_count": 18,
   "metadata": {},
   "outputs": [
    {
     "data": {
      "image/png": "[encoded data removed]",
      "text/plain": [
       "<Figure size 432x288 with 4 Axes>"
      ]
     },
     "metadata": {
      "needs_background": "light"
     },
     "output_type": "display_data"
    }
   ],
   "source": [
    "# Private Senior High School\n",
    "subplot(X_shs, sgd_df['SCH_CAT_PSHS'], sgd_df)"
   ]
  },
  {
   "cell_type": "code",
   "execution_count": 19,
   "metadata": {},
   "outputs": [],
   "source": [
    "sgd_df['SHS_SCH'] = sgd_df['SCH_CAT_SHS'] + sgd_df['SCH_CAT_PSHS']"
   ]
  },
  {
   "cell_type": "code",
   "execution_count": 20,
   "metadata": {},
   "outputs": [
    {
     "data": {
      "image/png": "[encoded data removed]",
      "text/plain": [
       "<Figure size 432x288 with 4 Axes>"
      ]
     },
     "metadata": {
      "needs_background": "light"
     },
     "output_type": "display_data"
    }
   ],
   "source": [
    "# All SHS\n",
    "subplot(X_shs, sgd_df['SHS_SCH'], sgd_df)"
   ]
  },
  {
   "cell_type": "markdown",
   "metadata": {},
   "source": [
    "#### 4) SUC"
   ]
  },
  {
   "cell_type": "code",
   "execution_count": 21,
   "metadata": {},
   "outputs": [
    {
     "data": {
      "image/png": "[encoded data removed]",
      "text/plain": [
       "<Figure size 432x288 with 4 Axes>"
      ]
     },
     "metadata": {
      "needs_background": "light"
     },
     "output_type": "display_data"
    }
   ],
   "source": [
    "# SUC\n",
    "subplot(X_col, sgd_df['SCH_TYPE_SUC'], sgd_df)"
   ]
  },
  {
   "cell_type": "markdown",
   "metadata": {},
   "source": [
    "### B) MUNICIPAL LEVEL"
   ]
  },
  {
   "cell_type": "code",
   "execution_count": 22,
   "metadata": {},
   "outputs": [
    {
     "data": {
      "text/html": [
       "<div>\n",
       "<style scoped>\n",
       "    .dataframe tbody tr th:only-of-type {\n",
       "        vertical-align: middle;\n",
       "    }\n",
       "\n",
       "    .dataframe tbody tr th {\n",
       "        vertical-align: top;\n",
       "    }\n",
       "\n",
       "    .dataframe thead th {\n",
       "        text-align: right;\n",
       "    }\n",
       "</style>\n",
       "<table border=\"1\" class=\"dataframe\">\n",
       "  <thead>\n",
       "    <tr style=\"text-align: right;\">\n",
       "      <th></th>\n",
       "      <th>PROV</th>\n",
       "      <th>PSGC_PROV</th>\n",
       "      <th>CITY/MUNI</th>\n",
       "      <th>PSGC_CITY/MUNI</th>\n",
       "      <th>BRGY</th>\n",
       "      <th>PSGC_BRGY</th>\n",
       "      <th>Number of School</th>\n",
       "    </tr>\n",
       "  </thead>\n",
       "  <tbody>\n",
       "    <tr>\n",
       "      <th>0</th>\n",
       "      <td>BASILAN</td>\n",
       "      <td>PH150700000</td>\n",
       "      <td>CITY OF LAMITAN (Capital)</td>\n",
       "      <td>PH150702000</td>\n",
       "      <td>Arco</td>\n",
       "      <td>PH150702001</td>\n",
       "      <td>1</td>\n",
       "    </tr>\n",
       "    <tr>\n",
       "      <th>1</th>\n",
       "      <td>BASILAN</td>\n",
       "      <td>PH150700000</td>\n",
       "      <td>CITY OF LAMITAN (Capital)</td>\n",
       "      <td>PH150702000</td>\n",
       "      <td>Ba-as</td>\n",
       "      <td>PH150702002</td>\n",
       "      <td>1</td>\n",
       "    </tr>\n",
       "    <tr>\n",
       "      <th>2</th>\n",
       "      <td>BASILAN</td>\n",
       "      <td>PH150700000</td>\n",
       "      <td>CITY OF LAMITAN (Capital)</td>\n",
       "      <td>PH150702000</td>\n",
       "      <td>Balagtasan</td>\n",
       "      <td>PH150702005</td>\n",
       "      <td>1</td>\n",
       "    </tr>\n",
       "    <tr>\n",
       "      <th>3</th>\n",
       "      <td>BASILAN</td>\n",
       "      <td>PH150700000</td>\n",
       "      <td>CITY OF LAMITAN (Capital)</td>\n",
       "      <td>PH150702000</td>\n",
       "      <td>Balas</td>\n",
       "      <td>PH150702006</td>\n",
       "      <td>1</td>\n",
       "    </tr>\n",
       "    <tr>\n",
       "      <th>4</th>\n",
       "      <td>BASILAN</td>\n",
       "      <td>PH150700000</td>\n",
       "      <td>CITY OF LAMITAN (Capital)</td>\n",
       "      <td>PH150702000</td>\n",
       "      <td>Balobo</td>\n",
       "      <td>PH150702007</td>\n",
       "      <td>1</td>\n",
       "    </tr>\n",
       "  </tbody>\n",
       "</table>\n",
       "</div>"
      ],
      "text/plain": [
       "      PROV    PSGC_PROV                  CITY/MUNI PSGC_CITY/MUNI        BRGY  \\\n",
       "0  BASILAN  PH150700000  CITY OF LAMITAN (Capital)    PH150702000        Arco   \n",
       "1  BASILAN  PH150700000  CITY OF LAMITAN (Capital)    PH150702000       Ba-as   \n",
       "2  BASILAN  PH150700000  CITY OF LAMITAN (Capital)    PH150702000  Balagtasan   \n",
       "3  BASILAN  PH150700000  CITY OF LAMITAN (Capital)    PH150702000       Balas   \n",
       "4  BASILAN  PH150700000  CITY OF LAMITAN (Capital)    PH150702000      Balobo   \n",
       "\n",
       "     PSGC_BRGY  Number of School  \n",
       "0  PH150702001                 1  \n",
       "1  PH150702002                 1  \n",
       "2  PH150702005                 1  \n",
       "3  PH150702006                 1  \n",
       "4  PH150702007                 1  "
      ]
     },
     "execution_count": 22,
     "metadata": {},
     "output_type": "execute_result"
    }
   ],
   "source": [
    "df_muni = pd.read_excel('./Data/tabular/Number of schools per brgy.xlsx')\n",
    "df_muni.head()"
   ]
  },
  {
   "cell_type": "code",
   "execution_count": 23,
   "metadata": {},
   "outputs": [],
   "source": [
    "df_muni = df_muni.merge(sgd_df, on=['PSGC_BRGY'])"
   ]
  },
  {
   "cell_type": "code",
   "execution_count": 24,
   "metadata": {},
   "outputs": [],
   "source": [
    "df_muni = df_muni.groupby(['PSGC_CITY/MUNI']).agg('sum')"
   ]
  },
  {
   "cell_type": "code",
   "execution_count": 25,
   "metadata": {},
   "outputs": [
    {
     "data": {
      "image/png": "[encoded data removed]",
      "text/plain": [
       "<Figure size 432x288 with 4 Axes>"
      ]
     },
     "metadata": {
      "needs_background": "light"
     },
     "output_type": "display_data"
    }
   ],
   "source": [
    "#SUC\n",
    "subplot(X_col, df_muni['SCH_TYPE_SUC'], df_muni)"
   ]
  },
  {
   "cell_type": "code",
   "execution_count": 26,
   "metadata": {},
   "outputs": [
    {
     "data": {
      "image/png": "[encoded data removed]",
      "text/plain": [
       "<Figure size 432x288 with 4 Axes>"
      ]
     },
     "metadata": {
      "needs_background": "light"
     },
     "output_type": "display_data"
    }
   ],
   "source": [
    "subplot(X_col, sgd_df['SCH_TYPE_SUC'], sgd_df)"
   ]
  },
  {
   "cell_type": "code",
   "execution_count": 27,
   "metadata": {},
   "outputs": [],
   "source": [
    "dataset = sgd_df[['PUB_ELEM_SCH', 'both_age_7_to_12', 'number_of_roads']]"
   ]
  },
  {
   "cell_type": "markdown",
   "metadata": {},
   "source": [
    "### C) ROAD VS NUMBER OF SCHOOLS"
   ]
  },
  {
   "cell_type": "code",
   "execution_count": null,
   "metadata": {},
   "outputs": [],
   "source": []
  },
  {
   "cell_type": "code",
   "execution_count": null,
   "metadata": {},
   "outputs": [],
   "source": []
  },
  {
   "cell_type": "code",
   "execution_count": null,
   "metadata": {},
   "outputs": [],
   "source": []
  },
  {
   "cell_type": "markdown",
   "metadata": {},
   "source": [
    "## 3. Preprocess data"
   ]
  },
  {
   "cell_type": "markdown",
   "metadata": {},
   "source": [
    "### Train test split"
   ]
  },
  {
   "cell_type": "code",
   "execution_count": 28,
   "metadata": {},
   "outputs": [],
   "source": [
    "training_data, testing_data = train_test_split(dataset, test_size=0.2, random_state=42)"
   ]
  },
  {
   "cell_type": "code",
   "execution_count": 29,
   "metadata": {},
   "outputs": [],
   "source": [
    "X_train = training_data.drop(['PUB_ELEM_SCH'], axis=1)\n",
    "y_train = training_data['PUB_ELEM_SCH']\n",
    "\n",
    "X_test = testing_data.drop(['PUB_ELEM_SCH'], axis=1)\n",
    "y_test = testing_data['PUB_ELEM_SCH']"
   ]
  },
  {
   "cell_type": "markdown",
   "metadata": {},
   "source": [
    "### Normalization"
   ]
  },
  {
   "cell_type": "code",
   "execution_count": 30,
   "metadata": {},
   "outputs": [],
   "source": [
    "normalizer = preprocessing.Normalization()\n",
    "normalizer.adapt(np.array(X_train))"
   ]
  },
  {
   "cell_type": "markdown",
   "metadata": {},
   "source": [
    "### Feature Selection"
   ]
  },
  {
   "cell_type": "code",
   "execution_count": 31,
   "metadata": {},
   "outputs": [],
   "source": [
    "# min(df['elem_both_age'])"
   ]
  },
  {
   "cell_type": "code",
   "execution_count": null,
   "metadata": {},
   "outputs": [],
   "source": []
  },
  {
   "cell_type": "code",
   "execution_count": null,
   "metadata": {},
   "outputs": [],
   "source": []
  },
  {
   "cell_type": "code",
   "execution_count": null,
   "metadata": {},
   "outputs": [],
   "source": []
  },
  {
   "cell_type": "markdown",
   "metadata": {},
   "source": [
    "### Modelling"
   ]
  },
  {
   "cell_type": "code",
   "execution_count": 32,
   "metadata": {},
   "outputs": [],
   "source": [
    "model = Sequential()\n",
    "model.add(normalizer)\n",
    "model.add(Dense(20, activation='tanh', input_dim=5, kernel_initializer='uniform'))\n",
    "model.add(Dense(1, activation='linear', kernel_initializer='uniform'))"
   ]
  },
  {
   "cell_type": "code",
   "execution_count": 33,
   "metadata": {},
   "outputs": [],
   "source": [
    "model.compile(loss='mse', optimizer='adam', metrics=['mse'])"
   ]
  },
  {
   "cell_type": "code",
   "execution_count": 34,
   "metadata": {},
   "outputs": [
    {
     "name": "stdout",
     "output_type": "stream",
     "text": [
      "Epoch 1/100\n",
      "101/101 [==============================] - 5s 32ms/step - loss: 2.1724 - mse: 2.1724 - val_loss: 2.2729 - val_mse: 2.2729\n",
      "Epoch 2/100\n",
      "101/101 [==============================] - 0s 2ms/step - loss: 1.3908 - mse: 1.3908 - val_loss: 1.2937 - val_mse: 1.2937\n",
      "Epoch 3/100\n",
      "101/101 [==============================] - 0s 2ms/step - loss: 0.6978 - mse: 0.6978 - val_loss: 1.2171 - val_mse: 1.2171\n",
      "Epoch 4/100\n",
      "101/101 [==============================] - 0s 2ms/step - loss: 0.6958 - mse: 0.6958 - val_loss: 1.2029 - val_mse: 1.2029\n",
      "Epoch 5/100\n",
      "101/101 [==============================] - 0s 3ms/step - loss: 0.8748 - mse: 0.8748 - val_loss: 1.2133 - val_mse: 1.2133\n",
      "Epoch 6/100\n",
      "101/101 [==============================] - 0s 2ms/step - loss: 0.7808 - mse: 0.7808 - val_loss: 1.2149 - val_mse: 1.2149\n",
      "Epoch 7/100\n",
      "101/101 [==============================] - 0s 2ms/step - loss: 0.6272 - mse: 0.6272 - val_loss: 1.2092 - val_mse: 1.2092\n",
      "Epoch 8/100\n",
      "101/101 [==============================] - 0s 2ms/step - loss: 0.6801 - mse: 0.6801 - val_loss: 1.2064 - val_mse: 1.2064\n",
      "Epoch 9/100\n",
      "101/101 [==============================] - 0s 2ms/step - loss: 0.7118 - mse: 0.7118 - val_loss: 1.2274 - val_mse: 1.2274\n",
      "Epoch 10/100\n",
      "101/101 [==============================] - 0s 2ms/step - loss: 0.7019 - mse: 0.7019 - val_loss: 1.2268 - val_mse: 1.2268\n",
      "Epoch 11/100\n",
      "101/101 [==============================] - 0s 2ms/step - loss: 0.7718 - mse: 0.7718 - val_loss: 1.2252 - val_mse: 1.2252\n",
      "Epoch 12/100\n",
      "101/101 [==============================] - 0s 2ms/step - loss: 0.7222 - mse: 0.7222 - val_loss: 1.2111 - val_mse: 1.2111\n",
      "Epoch 13/100\n",
      "101/101 [==============================] - 0s 3ms/step - loss: 0.8217 - mse: 0.8217 - val_loss: 1.2123 - val_mse: 1.2123\n",
      "Epoch 14/100\n",
      "101/101 [==============================] - 0s 2ms/step - loss: 0.6467 - mse: 0.6467 - val_loss: 1.2092 - val_mse: 1.2092\n",
      "Epoch 15/100\n",
      "101/101 [==============================] - 0s 2ms/step - loss: 0.8192 - mse: 0.8192 - val_loss: 1.2217 - val_mse: 1.2217\n",
      "Epoch 16/100\n",
      "101/101 [==============================] - 0s 3ms/step - loss: 0.6586 - mse: 0.6586 - val_loss: 1.2114 - val_mse: 1.2114\n",
      "Epoch 17/100\n",
      "101/101 [==============================] - 0s 2ms/step - loss: 0.7049 - mse: 0.7049 - val_loss: 1.2029 - val_mse: 1.2029\n",
      "Epoch 18/100\n",
      "101/101 [==============================] - 0s 2ms/step - loss: 0.6674 - mse: 0.6674 - val_loss: 1.2026 - val_mse: 1.2026\n",
      "Epoch 19/100\n",
      "101/101 [==============================] - 0s 2ms/step - loss: 0.8621 - mse: 0.8621 - val_loss: 1.2205 - val_mse: 1.2205\n",
      "Epoch 20/100\n",
      "101/101 [==============================] - 0s 2ms/step - loss: 0.6095 - mse: 0.6095 - val_loss: 1.2151 - val_mse: 1.2151\n",
      "Epoch 21/100\n",
      "101/101 [==============================] - 0s 3ms/step - loss: 0.8106 - mse: 0.8106 - val_loss: 1.2174 - val_mse: 1.2174\n",
      "Epoch 22/100\n",
      "101/101 [==============================] - 0s 2ms/step - loss: 0.8587 - mse: 0.8587 - val_loss: 1.2122 - val_mse: 1.2122\n",
      "Epoch 23/100\n",
      "101/101 [==============================] - 0s 2ms/step - loss: 0.6184 - mse: 0.6184 - val_loss: 1.1991 - val_mse: 1.1991\n",
      "Epoch 24/100\n",
      "101/101 [==============================] - 0s 2ms/step - loss: 0.6223 - mse: 0.6223 - val_loss: 1.2040 - val_mse: 1.2040\n",
      "Epoch 25/100\n",
      "101/101 [==============================] - 0s 2ms/step - loss: 0.6981 - mse: 0.6981 - val_loss: 1.2084 - val_mse: 1.2084\n",
      "Epoch 26/100\n",
      "101/101 [==============================] - 0s 2ms/step - loss: 0.6623 - mse: 0.6623 - val_loss: 1.1976 - val_mse: 1.1976\n",
      "Epoch 27/100\n",
      "101/101 [==============================] - 0s 2ms/step - loss: 0.6808 - mse: 0.6808 - val_loss: 1.1978 - val_mse: 1.1978\n",
      "Epoch 28/100\n",
      "101/101 [==============================] - 0s 2ms/step - loss: 0.7878 - mse: 0.7878 - val_loss: 1.2229 - val_mse: 1.2229\n",
      "Epoch 29/100\n",
      "101/101 [==============================] - 0s 3ms/step - loss: 0.8330 - mse: 0.8330 - val_loss: 1.1957 - val_mse: 1.1957\n",
      "Epoch 30/100\n",
      "101/101 [==============================] - 0s 3ms/step - loss: 0.6249 - mse: 0.6249 - val_loss: 1.2039 - val_mse: 1.2039\n",
      "Epoch 31/100\n",
      "101/101 [==============================] - 0s 3ms/step - loss: 0.5391 - mse: 0.5391 - val_loss: 1.1968 - val_mse: 1.1968\n",
      "Epoch 32/100\n",
      "101/101 [==============================] - 0s 2ms/step - loss: 0.7269 - mse: 0.7269 - val_loss: 1.1995 - val_mse: 1.1995\n",
      "Epoch 33/100\n",
      "101/101 [==============================] - 0s 2ms/step - loss: 0.5832 - mse: 0.5832 - val_loss: 1.1936 - val_mse: 1.1936\n",
      "Epoch 34/100\n",
      "101/101 [==============================] - 0s 2ms/step - loss: 0.7414 - mse: 0.7414 - val_loss: 1.2011 - val_mse: 1.2011\n",
      "Epoch 35/100\n",
      "101/101 [==============================] - 0s 3ms/step - loss: 0.7296 - mse: 0.7296 - val_loss: 1.1908 - val_mse: 1.1908\n",
      "Epoch 36/100\n",
      "101/101 [==============================] - 0s 3ms/step - loss: 0.7227 - mse: 0.7227 - val_loss: 1.1929 - val_mse: 1.1929\n",
      "Epoch 37/100\n",
      "101/101 [==============================] - 0s 2ms/step - loss: 0.6777 - mse: 0.6777 - val_loss: 1.1957 - val_mse: 1.1957\n",
      "Epoch 38/100\n",
      "101/101 [==============================] - 0s 2ms/step - loss: 0.6617 - mse: 0.6617 - val_loss: 1.1946 - val_mse: 1.1946\n",
      "Epoch 39/100\n",
      "101/101 [==============================] - 0s 2ms/step - loss: 0.7122 - mse: 0.7122 - val_loss: 1.1986 - val_mse: 1.1986\n",
      "Epoch 40/100\n",
      "101/101 [==============================] - 0s 3ms/step - loss: 0.7562 - mse: 0.7562 - val_loss: 1.1929 - val_mse: 1.1929\n",
      "Epoch 41/100\n",
      "101/101 [==============================] - 0s 2ms/step - loss: 0.6059 - mse: 0.6059 - val_loss: 1.1886 - val_mse: 1.1886\n",
      "Epoch 42/100\n",
      "101/101 [==============================] - 0s 3ms/step - loss: 0.7252 - mse: 0.7252 - val_loss: 1.1998 - val_mse: 1.1998\n",
      "Epoch 43/100\n",
      "101/101 [==============================] - 0s 3ms/step - loss: 0.6947 - mse: 0.6947 - val_loss: 1.2044 - val_mse: 1.2044\n",
      "Epoch 44/100\n",
      "101/101 [==============================] - 0s 2ms/step - loss: 0.7421 - mse: 0.7421 - val_loss: 1.2002 - val_mse: 1.2002\n",
      "Epoch 45/100\n",
      "101/101 [==============================] - 0s 2ms/step - loss: 0.6504 - mse: 0.6504 - val_loss: 1.1856 - val_mse: 1.1856\n",
      "Epoch 46/100\n",
      "101/101 [==============================] - 0s 2ms/step - loss: 0.7592 - mse: 0.7592 - val_loss: 1.1891 - val_mse: 1.1891\n",
      "Epoch 47/100\n",
      "101/101 [==============================] - 0s 3ms/step - loss: 0.8411 - mse: 0.8411 - val_loss: 1.1948 - val_mse: 1.1948\n",
      "Epoch 48/100\n",
      "101/101 [==============================] - 0s 3ms/step - loss: 0.6584 - mse: 0.6584 - val_loss: 1.1960 - val_mse: 1.1960\n",
      "Epoch 49/100\n",
      "101/101 [==============================] - 0s 2ms/step - loss: 0.8358 - mse: 0.8358 - val_loss: 1.1982 - val_mse: 1.1982\n",
      "Epoch 50/100\n",
      "101/101 [==============================] - 0s 2ms/step - loss: 0.6258 - mse: 0.6258 - val_loss: 1.1889 - val_mse: 1.1889\n",
      "Epoch 51/100\n",
      "101/101 [==============================] - 0s 2ms/step - loss: 0.7336 - mse: 0.7336 - val_loss: 1.1869 - val_mse: 1.1869\n",
      "Epoch 52/100\n",
      "101/101 [==============================] - 0s 3ms/step - loss: 0.7076 - mse: 0.7076 - val_loss: 1.1842 - val_mse: 1.1842\n",
      "Epoch 53/100\n",
      "101/101 [==============================] - 0s 2ms/step - loss: 0.7001 - mse: 0.7001 - val_loss: 1.1883 - val_mse: 1.1883\n",
      "Epoch 54/100\n",
      "101/101 [==============================] - 0s 2ms/step - loss: 0.7161 - mse: 0.7161 - val_loss: 1.1980 - val_mse: 1.1980\n",
      "Epoch 55/100\n",
      "101/101 [==============================] - 0s 2ms/step - loss: 0.7684 - mse: 0.7684 - val_loss: 1.1905 - val_mse: 1.1905\n",
      "Epoch 56/100\n",
      "101/101 [==============================] - 0s 2ms/step - loss: 0.7542 - mse: 0.7542 - val_loss: 1.1828 - val_mse: 1.1828\n",
      "Epoch 57/100\n",
      "101/101 [==============================] - 0s 2ms/step - loss: 0.7181 - mse: 0.7181 - val_loss: 1.1877 - val_mse: 1.1877\n",
      "Epoch 58/100\n",
      "101/101 [==============================] - 0s 2ms/step - loss: 0.5892 - mse: 0.5892 - val_loss: 1.1860 - val_mse: 1.1860\n",
      "Epoch 59/100\n",
      "101/101 [==============================] - 0s 2ms/step - loss: 0.9056 - mse: 0.9056 - val_loss: 1.1933 - val_mse: 1.1933\n",
      "Epoch 60/100\n",
      "101/101 [==============================] - 0s 2ms/step - loss: 0.6998 - mse: 0.6998 - val_loss: 1.1924 - val_mse: 1.1924\n",
      "Epoch 61/100\n",
      "101/101 [==============================] - 0s 2ms/step - loss: 0.9721 - mse: 0.9721 - val_loss: 1.2043 - val_mse: 1.2043\n",
      "Epoch 62/100\n"
     ]
    },
    {
     "name": "stdout",
     "output_type": "stream",
     "text": [
      "101/101 [==============================] - 0s 4ms/step - loss: 0.6803 - mse: 0.6803 - val_loss: 1.1831 - val_mse: 1.1831\n",
      "Epoch 63/100\n",
      "101/101 [==============================] - 0s 4ms/step - loss: 0.7569 - mse: 0.7569 - val_loss: 1.1864 - val_mse: 1.1864\n",
      "Epoch 64/100\n",
      "101/101 [==============================] - 0s 2ms/step - loss: 0.6202 - mse: 0.6202 - val_loss: 1.1810 - val_mse: 1.1810\n",
      "Epoch 65/100\n",
      "101/101 [==============================] - 0s 2ms/step - loss: 0.7983 - mse: 0.7983 - val_loss: 1.1880 - val_mse: 1.1880\n",
      "Epoch 66/100\n",
      "101/101 [==============================] - 0s 2ms/step - loss: 0.7535 - mse: 0.7535 - val_loss: 1.1933 - val_mse: 1.1933\n",
      "Epoch 67/100\n",
      "101/101 [==============================] - 0s 2ms/step - loss: 0.7649 - mse: 0.7649 - val_loss: 1.1927 - val_mse: 1.1927\n",
      "Epoch 68/100\n",
      "101/101 [==============================] - 0s 2ms/step - loss: 0.6907 - mse: 0.6907 - val_loss: 1.1925 - val_mse: 1.1925\n",
      "Epoch 69/100\n",
      "101/101 [==============================] - 0s 2ms/step - loss: 0.7318 - mse: 0.7318 - val_loss: 1.1908 - val_mse: 1.1908\n",
      "Epoch 70/100\n",
      "101/101 [==============================] - 0s 2ms/step - loss: 0.6770 - mse: 0.6770 - val_loss: 1.1937 - val_mse: 1.1937\n",
      "Epoch 71/100\n",
      "101/101 [==============================] - 0s 3ms/step - loss: 0.7382 - mse: 0.7382 - val_loss: 1.1918 - val_mse: 1.1918\n",
      "Epoch 72/100\n",
      "101/101 [==============================] - 0s 2ms/step - loss: 0.7403 - mse: 0.7403 - val_loss: 1.1819 - val_mse: 1.1819\n",
      "Epoch 73/100\n",
      "101/101 [==============================] - 0s 2ms/step - loss: 0.8176 - mse: 0.8176 - val_loss: 1.2015 - val_mse: 1.2015\n",
      "Epoch 74/100\n",
      "101/101 [==============================] - 0s 4ms/step - loss: 0.6868 - mse: 0.6868 - val_loss: 1.1918 - val_mse: 1.1918\n",
      "Epoch 75/100\n",
      "101/101 [==============================] - 0s 2ms/step - loss: 0.7493 - mse: 0.7493 - val_loss: 1.1927 - val_mse: 1.1927\n",
      "Epoch 76/100\n",
      "101/101 [==============================] - 0s 2ms/step - loss: 0.7084 - mse: 0.7084 - val_loss: 1.1940 - val_mse: 1.1940\n",
      "Epoch 77/100\n",
      "101/101 [==============================] - 0s 2ms/step - loss: 0.8781 - mse: 0.8781 - val_loss: 1.2068 - val_mse: 1.2068\n",
      "Epoch 78/100\n",
      "101/101 [==============================] - 0s 2ms/step - loss: 0.6963 - mse: 0.6963 - val_loss: 1.1996 - val_mse: 1.1996\n",
      "Epoch 79/100\n",
      "101/101 [==============================] - 0s 3ms/step - loss: 0.6432 - mse: 0.6432 - val_loss: 1.1920 - val_mse: 1.1920\n",
      "Epoch 80/100\n",
      "101/101 [==============================] - 0s 2ms/step - loss: 0.6908 - mse: 0.6908 - val_loss: 1.1856 - val_mse: 1.1856\n",
      "Epoch 81/100\n",
      "101/101 [==============================] - 0s 2ms/step - loss: 0.6830 - mse: 0.6830 - val_loss: 1.1938 - val_mse: 1.1938\n",
      "Epoch 82/100\n",
      "101/101 [==============================] - 0s 2ms/step - loss: 0.5806 - mse: 0.5806 - val_loss: 1.1827 - val_mse: 1.1827\n",
      "Epoch 83/100\n",
      "101/101 [==============================] - 0s 3ms/step - loss: 0.6972 - mse: 0.6972 - val_loss: 1.1918 - val_mse: 1.1918\n",
      "Epoch 84/100\n",
      "101/101 [==============================] - 0s 2ms/step - loss: 0.9105 - mse: 0.9105 - val_loss: 1.1888 - val_mse: 1.1888\n",
      "Epoch 85/100\n",
      "101/101 [==============================] - 0s 2ms/step - loss: 0.6506 - mse: 0.6506 - val_loss: 1.1908 - val_mse: 1.1908\n",
      "Epoch 86/100\n",
      "101/101 [==============================] - 0s 2ms/step - loss: 0.6076 - mse: 0.6076 - val_loss: 1.1849 - val_mse: 1.1849\n",
      "Epoch 87/100\n",
      "101/101 [==============================] - 0s 2ms/step - loss: 0.7121 - mse: 0.7121 - val_loss: 1.1857 - val_mse: 1.1857\n",
      "Epoch 88/100\n",
      "101/101 [==============================] - 0s 2ms/step - loss: 0.7270 - mse: 0.7270 - val_loss: 1.1822 - val_mse: 1.1822\n",
      "Epoch 89/100\n",
      "101/101 [==============================] - 0s 2ms/step - loss: 0.9015 - mse: 0.9015 - val_loss: 1.1952 - val_mse: 1.1952\n",
      "Epoch 90/100\n",
      "101/101 [==============================] - 0s 2ms/step - loss: 0.6500 - mse: 0.6500 - val_loss: 1.1852 - val_mse: 1.1852\n",
      "Epoch 91/100\n",
      "101/101 [==============================] - 0s 3ms/step - loss: 0.6829 - mse: 0.6829 - val_loss: 1.1937 - val_mse: 1.1937\n",
      "Epoch 92/100\n",
      "101/101 [==============================] - 0s 2ms/step - loss: 0.8384 - mse: 0.8384 - val_loss: 1.1957 - val_mse: 1.1957\n",
      "Epoch 93/100\n",
      "101/101 [==============================] - 0s 2ms/step - loss: 0.8571 - mse: 0.8571 - val_loss: 1.1928 - val_mse: 1.1928\n",
      "Epoch 94/100\n",
      "101/101 [==============================] - 0s 2ms/step - loss: 0.7889 - mse: 0.7889 - val_loss: 1.1917 - val_mse: 1.1917\n",
      "Epoch 95/100\n",
      "101/101 [==============================] - 0s 2ms/step - loss: 0.8359 - mse: 0.8359 - val_loss: 1.1981 - val_mse: 1.1981\n",
      "Epoch 96/100\n",
      "101/101 [==============================] - 0s 2ms/step - loss: 0.6544 - mse: 0.6544 - val_loss: 1.1921 - val_mse: 1.1921\n",
      "Epoch 97/100\n",
      "101/101 [==============================] - 0s 2ms/step - loss: 0.7552 - mse: 0.7552 - val_loss: 1.1956 - val_mse: 1.1956\n",
      "Epoch 98/100\n",
      "101/101 [==============================] - 0s 2ms/step - loss: 0.7550 - mse: 0.7550 - val_loss: 1.2043 - val_mse: 1.2043\n",
      "Epoch 99/100\n",
      "101/101 [==============================] - 0s 2ms/step - loss: 0.7574 - mse: 0.7574 - val_loss: 1.1996 - val_mse: 1.1996\n",
      "Epoch 100/100\n",
      "101/101 [==============================] - 0s 2ms/step - loss: 0.6835 - mse: 0.6835 - val_loss: 1.1896 - val_mse: 1.1896\n"
     ]
    }
   ],
   "source": [
    "EPOCHS = 100\n",
    "BATCH_SIZE = 10\n",
    "history = model.fit(X_train, \n",
    "                    y_train, \n",
    "                    epochs=EPOCHS, \n",
    "                    batch_size=BATCH_SIZE,\n",
    "                    validation_split=0.2)"
   ]
  },
  {
   "cell_type": "markdown",
   "metadata": {},
   "source": [
    "## 4. Model evaluation"
   ]
  },
  {
   "cell_type": "code",
   "execution_count": 35,
   "metadata": {},
   "outputs": [
    {
     "data": {
      "text/html": [
       "<div>\n",
       "<style scoped>\n",
       "    .dataframe tbody tr th:only-of-type {\n",
       "        vertical-align: middle;\n",
       "    }\n",
       "\n",
       "    .dataframe tbody tr th {\n",
       "        vertical-align: top;\n",
       "    }\n",
       "\n",
       "    .dataframe thead th {\n",
       "        text-align: right;\n",
       "    }\n",
       "</style>\n",
       "<table border=\"1\" class=\"dataframe\">\n",
       "  <thead>\n",
       "    <tr style=\"text-align: right;\">\n",
       "      <th></th>\n",
       "      <th>loss</th>\n",
       "      <th>mse</th>\n",
       "      <th>val_loss</th>\n",
       "      <th>val_mse</th>\n",
       "      <th>epoch</th>\n",
       "    </tr>\n",
       "  </thead>\n",
       "  <tbody>\n",
       "    <tr>\n",
       "      <th>95</th>\n",
       "      <td>0.725118</td>\n",
       "      <td>0.725118</td>\n",
       "      <td>1.192057</td>\n",
       "      <td>1.192057</td>\n",
       "      <td>95</td>\n",
       "    </tr>\n",
       "    <tr>\n",
       "      <th>96</th>\n",
       "      <td>0.724712</td>\n",
       "      <td>0.724712</td>\n",
       "      <td>1.195630</td>\n",
       "      <td>1.195630</td>\n",
       "      <td>96</td>\n",
       "    </tr>\n",
       "    <tr>\n",
       "      <th>97</th>\n",
       "      <td>0.724572</td>\n",
       "      <td>0.724572</td>\n",
       "      <td>1.204307</td>\n",
       "      <td>1.204307</td>\n",
       "      <td>97</td>\n",
       "    </tr>\n",
       "    <tr>\n",
       "      <th>98</th>\n",
       "      <td>0.725121</td>\n",
       "      <td>0.725121</td>\n",
       "      <td>1.199611</td>\n",
       "      <td>1.199611</td>\n",
       "      <td>98</td>\n",
       "    </tr>\n",
       "    <tr>\n",
       "      <th>99</th>\n",
       "      <td>0.724460</td>\n",
       "      <td>0.724460</td>\n",
       "      <td>1.189583</td>\n",
       "      <td>1.189583</td>\n",
       "      <td>99</td>\n",
       "    </tr>\n",
       "  </tbody>\n",
       "</table>\n",
       "</div>"
      ],
      "text/plain": [
       "        loss       mse  val_loss   val_mse  epoch\n",
       "95  0.725118  0.725118  1.192057  1.192057     95\n",
       "96  0.724712  0.724712  1.195630  1.195630     96\n",
       "97  0.724572  0.724572  1.204307  1.204307     97\n",
       "98  0.725121  0.725121  1.199611  1.199611     98\n",
       "99  0.724460  0.724460  1.189583  1.189583     99"
      ]
     },
     "execution_count": 35,
     "metadata": {},
     "output_type": "execute_result"
    }
   ],
   "source": [
    "hist = pd.DataFrame(history.history)\n",
    "hist['epoch'] = history.epoch\n",
    "hist.tail()"
   ]
  },
  {
   "cell_type": "code",
   "execution_count": 36,
   "metadata": {},
   "outputs": [],
   "source": [
    "def plot_loss(history):\n",
    "    plt.plot(history.history['loss'], label='loss')\n",
    "    plt.plot(history.history['val_loss'], label='val_loss')\n",
    "    plt.xlabel('Epoch')\n",
    "    plt.ylabel('Error')\n",
    "    plt.legend()\n",
    "    plt.grid(True)"
   ]
  },
  {
   "cell_type": "code",
   "execution_count": 37,
   "metadata": {},
   "outputs": [
    {
     "data": {
      "image/png": "[encoded data removed]",
      "text/plain": [
       "<Figure size 432x288 with 1 Axes>"
      ]
     },
     "metadata": {
      "needs_background": "light"
     },
     "output_type": "display_data"
    }
   ],
   "source": [
    "plot_loss(history)"
   ]
  },
  {
   "cell_type": "markdown",
   "metadata": {},
   "source": [
    "##### TO DO:\n",
    "1. Feature selection\n",
    "2. Model evaluation (variance, loss)\n",
    "3. Choose"
   ]
  },
  {
   "cell_type": "markdown",
   "metadata": {},
   "source": [
    "# CLUSTERING"
   ]
  },
  {
   "cell_type": "markdown",
   "metadata": {},
   "source": [
    "## Method 1: KMeans"
   ]
  },
  {
   "cell_type": "code",
   "execution_count": 38,
   "metadata": {},
   "outputs": [
    {
     "data": {
      "text/html": [
       "<div>\n",
       "<style scoped>\n",
       "    .dataframe tbody tr th:only-of-type {\n",
       "        vertical-align: middle;\n",
       "    }\n",
       "\n",
       "    .dataframe tbody tr th {\n",
       "        vertical-align: top;\n",
       "    }\n",
       "\n",
       "    .dataframe thead th {\n",
       "        text-align: right;\n",
       "    }\n",
       "</style>\n",
       "<table border=\"1\" class=\"dataframe\">\n",
       "  <thead>\n",
       "    <tr style=\"text-align: right;\">\n",
       "      <th></th>\n",
       "      <th>ELEM_SCH</th>\n",
       "      <th>both_age_7_to_12</th>\n",
       "      <th>Perc_Households_Electricity_Light</th>\n",
       "      <th>Perc_Households_Kerosene_Gass_Light</th>\n",
       "      <th>Perc_Households_Drinking_Owned_Faucet</th>\n",
       "      <th>Perc_Households_Drinking_Shared_Faucet</th>\n",
       "      <th>number_of_roads</th>\n",
       "    </tr>\n",
       "  </thead>\n",
       "  <tbody>\n",
       "    <tr>\n",
       "      <th>0</th>\n",
       "      <td>1.0</td>\n",
       "      <td>90.0</td>\n",
       "      <td>0.656250</td>\n",
       "      <td>0.343750</td>\n",
       "      <td>0.050000</td>\n",
       "      <td>0.418750</td>\n",
       "      <td>0</td>\n",
       "    </tr>\n",
       "    <tr>\n",
       "      <th>1</th>\n",
       "      <td>1.0</td>\n",
       "      <td>175.0</td>\n",
       "      <td>0.792208</td>\n",
       "      <td>0.207792</td>\n",
       "      <td>0.051948</td>\n",
       "      <td>0.008658</td>\n",
       "      <td>1</td>\n",
       "    </tr>\n",
       "    <tr>\n",
       "      <th>3</th>\n",
       "      <td>1.0</td>\n",
       "      <td>351.0</td>\n",
       "      <td>0.870968</td>\n",
       "      <td>0.126728</td>\n",
       "      <td>0.099078</td>\n",
       "      <td>0.730415</td>\n",
       "      <td>5</td>\n",
       "    </tr>\n",
       "    <tr>\n",
       "      <th>4</th>\n",
       "      <td>1.0</td>\n",
       "      <td>467.0</td>\n",
       "      <td>0.719780</td>\n",
       "      <td>0.236264</td>\n",
       "      <td>0.001832</td>\n",
       "      <td>0.012821</td>\n",
       "      <td>4</td>\n",
       "    </tr>\n",
       "    <tr>\n",
       "      <th>5</th>\n",
       "      <td>1.0</td>\n",
       "      <td>261.0</td>\n",
       "      <td>0.831050</td>\n",
       "      <td>0.157534</td>\n",
       "      <td>0.287671</td>\n",
       "      <td>0.321918</td>\n",
       "      <td>14</td>\n",
       "    </tr>\n",
       "    <tr>\n",
       "      <th>...</th>\n",
       "      <td>...</td>\n",
       "      <td>...</td>\n",
       "      <td>...</td>\n",
       "      <td>...</td>\n",
       "      <td>...</td>\n",
       "      <td>...</td>\n",
       "      <td>...</td>\n",
       "    </tr>\n",
       "    <tr>\n",
       "      <th>2476</th>\n",
       "      <td>1.0</td>\n",
       "      <td>200.0</td>\n",
       "      <td>0.951662</td>\n",
       "      <td>0.048338</td>\n",
       "      <td>0.003021</td>\n",
       "      <td>0.012085</td>\n",
       "      <td>2</td>\n",
       "    </tr>\n",
       "    <tr>\n",
       "      <th>2477</th>\n",
       "      <td>1.0</td>\n",
       "      <td>451.0</td>\n",
       "      <td>0.970822</td>\n",
       "      <td>0.015915</td>\n",
       "      <td>0.000000</td>\n",
       "      <td>0.323607</td>\n",
       "      <td>1</td>\n",
       "    </tr>\n",
       "    <tr>\n",
       "      <th>2478</th>\n",
       "      <td>1.0</td>\n",
       "      <td>385.0</td>\n",
       "      <td>0.877119</td>\n",
       "      <td>0.097458</td>\n",
       "      <td>0.002119</td>\n",
       "      <td>0.830508</td>\n",
       "      <td>1</td>\n",
       "    </tr>\n",
       "    <tr>\n",
       "      <th>2479</th>\n",
       "      <td>1.0</td>\n",
       "      <td>232.0</td>\n",
       "      <td>0.930693</td>\n",
       "      <td>0.023102</td>\n",
       "      <td>0.323432</td>\n",
       "      <td>0.000000</td>\n",
       "      <td>1</td>\n",
       "    </tr>\n",
       "    <tr>\n",
       "      <th>2480</th>\n",
       "      <td>1.0</td>\n",
       "      <td>337.0</td>\n",
       "      <td>0.897516</td>\n",
       "      <td>0.043478</td>\n",
       "      <td>0.136646</td>\n",
       "      <td>0.034161</td>\n",
       "      <td>3</td>\n",
       "    </tr>\n",
       "  </tbody>\n",
       "</table>\n",
       "<p>1568 rows × 7 columns</p>\n",
       "</div>"
      ],
      "text/plain": [
       "      ELEM_SCH  both_age_7_to_12  Perc_Households_Electricity_Light  \\\n",
       "0          1.0              90.0                           0.656250   \n",
       "1          1.0             175.0                           0.792208   \n",
       "3          1.0             351.0                           0.870968   \n",
       "4          1.0             467.0                           0.719780   \n",
       "5          1.0             261.0                           0.831050   \n",
       "...        ...               ...                                ...   \n",
       "2476       1.0             200.0                           0.951662   \n",
       "2477       1.0             451.0                           0.970822   \n",
       "2478       1.0             385.0                           0.877119   \n",
       "2479       1.0             232.0                           0.930693   \n",
       "2480       1.0             337.0                           0.897516   \n",
       "\n",
       "      Perc_Households_Kerosene_Gass_Light  \\\n",
       "0                                0.343750   \n",
       "1                                0.207792   \n",
       "3                                0.126728   \n",
       "4                                0.236264   \n",
       "5                                0.157534   \n",
       "...                                   ...   \n",
       "2476                             0.048338   \n",
       "2477                             0.015915   \n",
       "2478                             0.097458   \n",
       "2479                             0.023102   \n",
       "2480                             0.043478   \n",
       "\n",
       "      Perc_Households_Drinking_Owned_Faucet  \\\n",
       "0                                  0.050000   \n",
       "1                                  0.051948   \n",
       "3                                  0.099078   \n",
       "4                                  0.001832   \n",
       "5                                  0.287671   \n",
       "...                                     ...   \n",
       "2476                               0.003021   \n",
       "2477                               0.000000   \n",
       "2478                               0.002119   \n",
       "2479                               0.323432   \n",
       "2480                               0.136646   \n",
       "\n",
       "      Perc_Households_Drinking_Shared_Faucet  number_of_roads  \n",
       "0                                   0.418750                0  \n",
       "1                                   0.008658                1  \n",
       "3                                   0.730415                5  \n",
       "4                                   0.012821                4  \n",
       "5                                   0.321918               14  \n",
       "...                                      ...              ...  \n",
       "2476                                0.012085                2  \n",
       "2477                                0.323607                1  \n",
       "2478                                0.830508                1  \n",
       "2479                                0.000000                1  \n",
       "2480                                0.034161                3  \n",
       "\n",
       "[1568 rows x 7 columns]"
      ]
     },
     "execution_count": 38,
     "metadata": {},
     "output_type": "execute_result"
    }
   ],
   "source": [
    "kmeans_data = sgd_df[['ELEM_SCH', 'both_age_7_to_12', 'Perc_Households_Electricity_Light', \n",
    "                      'Perc_Households_Kerosene_Gass_Light', 'Perc_Households_Drinking_Owned_Faucet',\n",
    "                     'Perc_Households_Drinking_Shared_Faucet', 'number_of_roads']]\n",
    "kmeans_data"
   ]
  },
  {
   "cell_type": "markdown",
   "metadata": {},
   "source": [
    "### Standardization"
   ]
  },
  {
   "cell_type": "code",
   "execution_count": 39,
   "metadata": {},
   "outputs": [],
   "source": [
    "from sklearn.preprocessing import StandardScaler"
   ]
  },
  {
   "cell_type": "code",
   "execution_count": 40,
   "metadata": {},
   "outputs": [],
   "source": [
    "scaler = StandardScaler()\n",
    "scaled_features = scaler.fit_transform(kmeans_data)"
   ]
  },
  {
   "cell_type": "markdown",
   "metadata": {},
   "source": [
    "### PCA"
   ]
  },
  {
   "cell_type": "code",
   "execution_count": 41,
   "metadata": {},
   "outputs": [],
   "source": [
    "from sklearn.decomposition import PCA"
   ]
  },
  {
   "cell_type": "code",
   "execution_count": 42,
   "metadata": {},
   "outputs": [],
   "source": [
    "pca = PCA(n_components=7)\n",
    "principal_components = pca.fit_transform(scaled_features)"
   ]
  },
  {
   "cell_type": "code",
   "execution_count": 43,
   "metadata": {},
   "outputs": [
    {
     "data": {
      "image/png": "[encoded data removed]",
      "text/plain": [
       "<Figure size 432x288 with 1 Axes>"
      ]
     },
     "metadata": {
      "needs_background": "light"
     },
     "output_type": "display_data"
    }
   ],
   "source": [
    "# Plot explained variances\n",
    "features = range(pca.n_components_)\n",
    "plt.bar(features, pca.explained_variance_ratio_, color='black')\n",
    "plt.xlabel('PCA features')\n",
    "plt.ylabel('variance %')\n",
    "plt.xticks(features)\n",
    "plt.show()"
   ]
  },
  {
   "cell_type": "code",
   "execution_count": 44,
   "metadata": {},
   "outputs": [
    {
     "data": {
      "text/plain": [
       "Text(0, 0.5, 'PCA 2')"
      ]
     },
     "execution_count": 44,
     "metadata": {},
     "output_type": "execute_result"
    },
    {
     "data": {
      "image/png": "[encoded data removed]",
      "text/plain": [
       "<Figure size 432x288 with 1 Axes>"
      ]
     },
     "metadata": {
      "needs_background": "light"
     },
     "output_type": "display_data"
    }
   ],
   "source": [
    "PCA_components = pd.DataFrame(principal_components)\n",
    "\n",
    "plt.scatter(PCA_components[0], PCA_components[1], alpha=.1, color='black')\n",
    "plt.xlabel('PCA 1')\n",
    "plt.ylabel('PCA 2')"
   ]
  },
  {
   "cell_type": "markdown",
   "metadata": {},
   "source": [
    "### Clustering"
   ]
  },
  {
   "cell_type": "code",
   "execution_count": 45,
   "metadata": {},
   "outputs": [],
   "source": [
    "from sklearn.cluster import KMeans\n",
    "import matplotlib.pyplot as plt"
   ]
  },
  {
   "cell_type": "code",
   "execution_count": 46,
   "metadata": {},
   "outputs": [],
   "source": [
    "sse = []\n",
    "for i in range(1, 21):\n",
    "    kmeans = KMeans(n_clusters=i)\n",
    "    kmeans.fit(scaled_features)\n",
    "    sse.append(kmeans.inertia_)"
   ]
  },
  {
   "cell_type": "code",
   "execution_count": 47,
   "metadata": {},
   "outputs": [
    {
     "data": {
      "image/png": "[encoded data removed]",
      "text/plain": [
       "<Figure size 432x288 with 1 Axes>"
      ]
     },
     "metadata": {
      "needs_background": "light"
     },
     "output_type": "display_data"
    }
   ],
   "source": [
    "plt.plot(range(1,21), sse)\n",
    "plt.xticks(range(1,21))\n",
    "plt.xlabel('Number of Clusters')\n",
    "plt.ylabel('SSE')\n",
    "plt.show()"
   ]
  },
  {
   "cell_type": "code",
   "execution_count": 48,
   "metadata": {},
   "outputs": [],
   "source": [
    "clusters = 10"
   ]
  },
  {
   "cell_type": "code",
   "execution_count": 49,
   "metadata": {},
   "outputs": [],
   "source": [
    "kmeans = KMeans(n_clusters=clusters)\n",
    "predicted = kmeans.fit_predict(scaled_features)"
   ]
  },
  {
   "cell_type": "code",
   "execution_count": 50,
   "metadata": {},
   "outputs": [
    {
     "name": "stderr",
     "output_type": "stream",
     "text": [
      "<ipython-input-50-8e73074ba877>:1: SettingWithCopyWarning: \n",
      "A value is trying to be set on a copy of a slice from a DataFrame.\n",
      "Try using .loc[row_indexer,col_indexer] = value instead\n",
      "\n",
      "See the caveats in the documentation: https://pandas.pydata.org/pandas-docs/stable/user_guide/indexing.html#returning-a-view-versus-a-copy\n",
      "  kmeans_data['clusters'] = predicted\n"
     ]
    }
   ],
   "source": [
    "kmeans_data['clusters'] = predicted"
   ]
  },
  {
   "cell_type": "code",
   "execution_count": 51,
   "metadata": {},
   "outputs": [
    {
     "name": "stderr",
     "output_type": "stream",
     "text": [
      "<ipython-input-51-db6d6191f186>:1: SettingWithCopyWarning: \n",
      "A value is trying to be set on a copy of a slice from a DataFrame.\n",
      "Try using .loc[row_indexer,col_indexer] = value instead\n",
      "\n",
      "See the caveats in the documentation: https://pandas.pydata.org/pandas-docs/stable/user_guide/indexing.html#returning-a-view-versus-a-copy\n",
      "  kmeans_data['Brgy'] = sgd_df['PSGC_BRGY']\n"
     ]
    }
   ],
   "source": [
    "kmeans_data['Brgy'] = sgd_df['PSGC_BRGY']"
   ]
  },
  {
   "cell_type": "code",
   "execution_count": 52,
   "metadata": {},
   "outputs": [],
   "source": [
    "kmeans_data.to_csv('./Data/output/cluster_output.csv', index=False)"
   ]
  },
  {
   "cell_type": "code",
   "execution_count": null,
   "metadata": {},
   "outputs": [],
   "source": []
  }
 ],
 "metadata": {
  "kernelspec": {
   "display_name": "env",
   "language": "python",
   "name": "env"
  },
  "language_info": {
   "codemirror_mode": {
    "name": "ipython",
    "version": 3
   },
   "file_extension": ".py",
   "mimetype": "text/x-python",
   "name": "python",
   "nbconvert_exporter": "python",
   "pygments_lexer": "ipython3",
   "version": "3.8.7"
  }
 },
 "nbformat": 4,
 "nbformat_minor": 4
}
