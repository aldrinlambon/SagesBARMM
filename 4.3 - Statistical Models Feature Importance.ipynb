{
 "cells": [
  {
   "cell_type": "code",
   "execution_count": 1,
   "id": "developed-anthropology",
   "metadata": {},
   "outputs": [],
   "source": [
    "import pandas as pd\n",
    "import numpy as np\n",
    "import matplotlib.pyplot as plt\n",
    "from sklearn.model_selection import train_test_split\n",
    "\n",
    "from sklearn.ensemble import RandomForestRegressor\n",
    "from sklearn.preprocessing import normalize, StandardScaler"
   ]
  },
  {
   "cell_type": "code",
   "execution_count": 2,
   "id": "hundred-divide",
   "metadata": {},
   "outputs": [],
   "source": [
    "OUTPUT_PATH = './Data/output/'"
   ]
  },
  {
   "cell_type": "code",
   "execution_count": 3,
   "id": "relative-lotus",
   "metadata": {},
   "outputs": [],
   "source": [
    "data_merged = pd.read_csv(OUTPUT_PATH + 'CleanData_clustering.csv')\n",
    "data_merged = data_merged.dropna()"
   ]
  },
  {
   "cell_type": "code",
   "execution_count": 4,
   "id": "armed-counter",
   "metadata": {},
   "outputs": [],
   "source": [
    "training_data, testing_data = train_test_split(data_merged, test_size=0.2, random_state=42)"
   ]
  },
  {
   "cell_type": "code",
   "execution_count": 5,
   "id": "educated-wilson",
   "metadata": {},
   "outputs": [],
   "source": [
    "X_train = training_data.drop(['NUM_SCHOOLS'], axis=1)\n",
    "y_train = training_data['NUM_SCHOOLS']\n",
    "\n",
    "X_test = testing_data.drop(['NUM_SCHOOLS'], axis=1)\n",
    "y_test = testing_data['NUM_SCHOOLS']"
   ]
  },
  {
   "cell_type": "code",
   "execution_count": null,
   "id": "floral-extraction",
   "metadata": {},
   "outputs": [],
   "source": [
    "scaler = StandardScaler()\n",
    "X_scaled = scaler.fit_transform(X_train)"
   ]
  },
  {
   "cell_type": "code",
   "execution_count": 6,
   "id": "rubber-demographic",
   "metadata": {},
   "outputs": [
    {
     "data": {
      "text/plain": [
       "RandomForestRegressor()"
      ]
     },
     "execution_count": 6,
     "metadata": {},
     "output_type": "execute_result"
    }
   ],
   "source": [
    "rf = RandomForestRegressor(n_estimators=100)\n",
    "rf.fit(X_scaled, y_train)"
   ]
  },
  {
   "cell_type": "code",
   "execution_count": 8,
   "id": "federal-watts",
   "metadata": {},
   "outputs": [
    {
     "data": {
      "text/plain": [
       "<BarContainer object of 19 artists>"
      ]
     },
     "execution_count": 8,
     "metadata": {},
     "output_type": "execute_result"
    },
    {
     "data": {
      "image/png": "[encoded data removed]",
      "text/plain": [
       "<Figure size 432x288 with 1 Axes>"
      ]
     },
     "metadata": {
      "needs_background": "light"
     },
     "output_type": "display_data"
    }
   ],
   "source": [
    "sorted_idx = rf.feature_importances_.argsort()\n",
    "plt.barh(X_train.columns[sorted_idx], rf.feature_importances_[sorted_idx])"
   ]
  },
  {
   "cell_type": "code",
   "execution_count": 18,
   "id": "ethical-keeping",
   "metadata": {},
   "outputs": [],
   "source": [
    "df = pd.DataFrame(list(zip(list(X_train.columns[sorted_idx]), list(rf.feature_importances_[sorted_idx]))), \n",
    "                 columns = ['Feature name', 'Weight'])\n",
    "df = df.sort_values(by=['Weight'], ascending=Fals)"
   ]
  },
  {
   "cell_type": "code",
   "execution_count": 14,
   "id": "certain-incident",
   "metadata": {},
   "outputs": [],
   "source": [
    "df.to_csv(OUTPUT_PATH + 'Model_Top_features.csv', index=False)"
   ]
  },
  {
   "cell_type": "code",
   "execution_count": 19,
   "id": "modified-valuation",
   "metadata": {},
   "outputs": [
    {
     "data": {
      "text/html": [
       "<div>\n",
       "<style scoped>\n",
       "    .dataframe tbody tr th:only-of-type {\n",
       "        vertical-align: middle;\n",
       "    }\n",
       "\n",
       "    .dataframe tbody tr th {\n",
       "        vertical-align: top;\n",
       "    }\n",
       "\n",
       "    .dataframe thead th {\n",
       "        text-align: right;\n",
       "    }\n",
       "</style>\n",
       "<table border=\"1\" class=\"dataframe\">\n",
       "  <thead>\n",
       "    <tr style=\"text-align: right;\">\n",
       "      <th></th>\n",
       "      <th>Feature name</th>\n",
       "      <th>Weight</th>\n",
       "    </tr>\n",
       "  </thead>\n",
       "  <tbody>\n",
       "    <tr>\n",
       "      <th>0</th>\n",
       "      <td>SDG_Households_Drinking_Owned_Faucet_Pct</td>\n",
       "      <td>0.021776</td>\n",
       "    </tr>\n",
       "    <tr>\n",
       "      <th>1</th>\n",
       "      <td>SDG_Households_Drinking_Shared_Faucet_Pct</td>\n",
       "      <td>0.021818</td>\n",
       "    </tr>\n",
       "    <tr>\n",
       "      <th>2</th>\n",
       "      <td>SDG_Type_Worker_Cle</td>\n",
       "      <td>0.027599</td>\n",
       "    </tr>\n",
       "    <tr>\n",
       "      <th>3</th>\n",
       "      <td>SDG_less_than_54_sqft</td>\n",
       "      <td>0.027748</td>\n",
       "    </tr>\n",
       "    <tr>\n",
       "      <th>4</th>\n",
       "      <td>SDG_Building_Tenure_Type_Owned_Pct</td>\n",
       "      <td>0.031752</td>\n",
       "    </tr>\n",
       "    <tr>\n",
       "      <th>5</th>\n",
       "      <td>SDG_Households_Construction_Material_Concrete_Pct</td>\n",
       "      <td>0.032558</td>\n",
       "    </tr>\n",
       "    <tr>\n",
       "      <th>6</th>\n",
       "      <td>SDG_Households_Electricity_Light_Pct</td>\n",
       "      <td>0.034429</td>\n",
       "    </tr>\n",
       "    <tr>\n",
       "      <th>7</th>\n",
       "      <td>SDG_Type_Worker_Pla</td>\n",
       "      <td>0.034688</td>\n",
       "    </tr>\n",
       "    <tr>\n",
       "      <th>8</th>\n",
       "      <td>SDG_Type_Worker_Ele</td>\n",
       "      <td>0.036700</td>\n",
       "    </tr>\n",
       "    <tr>\n",
       "      <th>9</th>\n",
       "      <td>SDG_Type_Worker_Cra</td>\n",
       "      <td>0.037446</td>\n",
       "    </tr>\n",
       "    <tr>\n",
       "      <th>10</th>\n",
       "      <td>SDG_Type_Building_Single_Pct</td>\n",
       "      <td>0.038869</td>\n",
       "    </tr>\n",
       "    <tr>\n",
       "      <th>11</th>\n",
       "      <td>SDG_Households_Kerosene_Gass_Light_Pct</td>\n",
       "      <td>0.044133</td>\n",
       "    </tr>\n",
       "    <tr>\n",
       "      <th>12</th>\n",
       "      <td>SDG_Type_Worker_Arm</td>\n",
       "      <td>0.045482</td>\n",
       "    </tr>\n",
       "    <tr>\n",
       "      <th>13</th>\n",
       "      <td>SDG_Type_Worker_Ser</td>\n",
       "      <td>0.051122</td>\n",
       "    </tr>\n",
       "    <tr>\n",
       "      <th>14</th>\n",
       "      <td>SDG_Type_Worker_Ski</td>\n",
       "      <td>0.053064</td>\n",
       "    </tr>\n",
       "    <tr>\n",
       "      <th>15</th>\n",
       "      <td>SDG_Type_Worker_Man</td>\n",
       "      <td>0.055519</td>\n",
       "    </tr>\n",
       "    <tr>\n",
       "      <th>16</th>\n",
       "      <td>SDG_Type_Worker_Pro</td>\n",
       "      <td>0.058993</td>\n",
       "    </tr>\n",
       "    <tr>\n",
       "      <th>17</th>\n",
       "      <td>SDG_Type_Worker_Tec</td>\n",
       "      <td>0.077149</td>\n",
       "    </tr>\n",
       "    <tr>\n",
       "      <th>18</th>\n",
       "      <td>STUD_POPN</td>\n",
       "      <td>0.269155</td>\n",
       "    </tr>\n",
       "  </tbody>\n",
       "</table>\n",
       "</div>"
      ],
      "text/plain": [
       "                                         Feature name    Weight\n",
       "0            SDG_Households_Drinking_Owned_Faucet_Pct  0.021776\n",
       "1           SDG_Households_Drinking_Shared_Faucet_Pct  0.021818\n",
       "2                                 SDG_Type_Worker_Cle  0.027599\n",
       "3                               SDG_less_than_54_sqft  0.027748\n",
       "4                  SDG_Building_Tenure_Type_Owned_Pct  0.031752\n",
       "5   SDG_Households_Construction_Material_Concrete_Pct  0.032558\n",
       "6                SDG_Households_Electricity_Light_Pct  0.034429\n",
       "7                                 SDG_Type_Worker_Pla  0.034688\n",
       "8                                 SDG_Type_Worker_Ele  0.036700\n",
       "9                                 SDG_Type_Worker_Cra  0.037446\n",
       "10                       SDG_Type_Building_Single_Pct  0.038869\n",
       "11             SDG_Households_Kerosene_Gass_Light_Pct  0.044133\n",
       "12                                SDG_Type_Worker_Arm  0.045482\n",
       "13                                SDG_Type_Worker_Ser  0.051122\n",
       "14                                SDG_Type_Worker_Ski  0.053064\n",
       "15                                SDG_Type_Worker_Man  0.055519\n",
       "16                                SDG_Type_Worker_Pro  0.058993\n",
       "17                                SDG_Type_Worker_Tec  0.077149\n",
       "18                                          STUD_POPN  0.269155"
      ]
     },
     "execution_count": 19,
     "metadata": {},
     "output_type": "execute_result"
    }
   ],
   "source": [
    "df"
   ]
  },
  {
   "cell_type": "code",
   "execution_count": null,
   "id": "burning-motor",
   "metadata": {},
   "outputs": [],
   "source": []
  }
 ],
 "metadata": {
  "kernelspec": {
   "display_name": "Python 3",
   "language": "python",
   "name": "python3"
  },
  "language_info": {
   "codemirror_mode": {
    "name": "ipython",
    "version": 3
   },
   "file_extension": ".py",
   "mimetype": "text/x-python",
   "name": "python",
   "nbconvert_exporter": "python",
   "pygments_lexer": "ipython3",
   "version": "3.8.7"
  }
 },
 "nbformat": 4,
 "nbformat_minor": 5
}
